{
 "cells": [
  {
   "cell_type": "markdown",
   "id": "c962fc16-feda-418c-8c20-a72ff87f68a5",
   "metadata": {},
   "source": [
    "# Level 1"
   ]
  },
  {
   "cell_type": "code",
   "execution_count": 69,
   "id": "36ed1db2-f293-47d9-8af9-b8db3b13652d",
   "metadata": {},
   "outputs": [],
   "source": [
    "import pandas as pd\n",
    "import numpy as np\n",
    "import matplotlib.pyplot as plt\n",
    "from scipy.stats import chi2_contingency\n",
    "\n",
    "import folium\n",
    "from sklearn.cluster import KMeans\n",
    "from nltk.corpus import stopwords\n",
    "from nltk.tokenize import word_tokenize\n",
    "from nltk.sentiment import SentimentIntensityAnalyzer\n",
    "from collections import Counter\n",
    "import string\n",
    "import nltk\n"
   ]
  },
  {
   "cell_type": "code",
   "execution_count": 70,
   "id": "4c2631f7-822d-48c2-ae7e-b4ffb935fd1b",
   "metadata": {
    "scrolled": true
   },
   "outputs": [
    {
     "data": {
      "text/html": [
       "<div>\n",
       "<style scoped>\n",
       "    .dataframe tbody tr th:only-of-type {\n",
       "        vertical-align: middle;\n",
       "    }\n",
       "\n",
       "    .dataframe tbody tr th {\n",
       "        vertical-align: top;\n",
       "    }\n",
       "\n",
       "    .dataframe thead th {\n",
       "        text-align: right;\n",
       "    }\n",
       "</style>\n",
       "<table border=\"1\" class=\"dataframe\">\n",
       "  <thead>\n",
       "    <tr style=\"text-align: right;\">\n",
       "      <th></th>\n",
       "      <th>Restaurant ID</th>\n",
       "      <th>Restaurant Name</th>\n",
       "      <th>Country Code</th>\n",
       "      <th>City</th>\n",
       "      <th>Address</th>\n",
       "      <th>Locality</th>\n",
       "      <th>Locality Verbose</th>\n",
       "      <th>Longitude</th>\n",
       "      <th>Latitude</th>\n",
       "      <th>Cuisines</th>\n",
       "      <th>...</th>\n",
       "      <th>Currency</th>\n",
       "      <th>Has Table booking</th>\n",
       "      <th>Has Online delivery</th>\n",
       "      <th>Is delivering now</th>\n",
       "      <th>Switch to order menu</th>\n",
       "      <th>Price range</th>\n",
       "      <th>Aggregate rating</th>\n",
       "      <th>Rating color</th>\n",
       "      <th>Rating text</th>\n",
       "      <th>Votes</th>\n",
       "    </tr>\n",
       "  </thead>\n",
       "  <tbody>\n",
       "    <tr>\n",
       "      <th>0</th>\n",
       "      <td>6317637</td>\n",
       "      <td>Le Petit Souffle</td>\n",
       "      <td>162</td>\n",
       "      <td>Makati City</td>\n",
       "      <td>Third Floor, Century City Mall, Kalayaan Avenu...</td>\n",
       "      <td>Century City Mall, Poblacion, Makati City</td>\n",
       "      <td>Century City Mall, Poblacion, Makati City, Mak...</td>\n",
       "      <td>121.027535</td>\n",
       "      <td>14.565443</td>\n",
       "      <td>French, Japanese, Desserts</td>\n",
       "      <td>...</td>\n",
       "      <td>Botswana Pula(P)</td>\n",
       "      <td>Yes</td>\n",
       "      <td>No</td>\n",
       "      <td>No</td>\n",
       "      <td>No</td>\n",
       "      <td>3</td>\n",
       "      <td>4.8</td>\n",
       "      <td>Dark Green</td>\n",
       "      <td>Excellent</td>\n",
       "      <td>314</td>\n",
       "    </tr>\n",
       "    <tr>\n",
       "      <th>1</th>\n",
       "      <td>6304287</td>\n",
       "      <td>Izakaya Kikufuji</td>\n",
       "      <td>162</td>\n",
       "      <td>Makati City</td>\n",
       "      <td>Little Tokyo, 2277 Chino Roces Avenue, Legaspi...</td>\n",
       "      <td>Little Tokyo, Legaspi Village, Makati City</td>\n",
       "      <td>Little Tokyo, Legaspi Village, Makati City, Ma...</td>\n",
       "      <td>121.014101</td>\n",
       "      <td>14.553708</td>\n",
       "      <td>Japanese</td>\n",
       "      <td>...</td>\n",
       "      <td>Botswana Pula(P)</td>\n",
       "      <td>Yes</td>\n",
       "      <td>No</td>\n",
       "      <td>No</td>\n",
       "      <td>No</td>\n",
       "      <td>3</td>\n",
       "      <td>4.5</td>\n",
       "      <td>Dark Green</td>\n",
       "      <td>Excellent</td>\n",
       "      <td>591</td>\n",
       "    </tr>\n",
       "    <tr>\n",
       "      <th>2</th>\n",
       "      <td>6300002</td>\n",
       "      <td>Heat - Edsa Shangri-La</td>\n",
       "      <td>162</td>\n",
       "      <td>Mandaluyong City</td>\n",
       "      <td>Edsa Shangri-La, 1 Garden Way, Ortigas, Mandal...</td>\n",
       "      <td>Edsa Shangri-La, Ortigas, Mandaluyong City</td>\n",
       "      <td>Edsa Shangri-La, Ortigas, Mandaluyong City, Ma...</td>\n",
       "      <td>121.056831</td>\n",
       "      <td>14.581404</td>\n",
       "      <td>Seafood, Asian, Filipino, Indian</td>\n",
       "      <td>...</td>\n",
       "      <td>Botswana Pula(P)</td>\n",
       "      <td>Yes</td>\n",
       "      <td>No</td>\n",
       "      <td>No</td>\n",
       "      <td>No</td>\n",
       "      <td>4</td>\n",
       "      <td>4.4</td>\n",
       "      <td>Green</td>\n",
       "      <td>Very Good</td>\n",
       "      <td>270</td>\n",
       "    </tr>\n",
       "    <tr>\n",
       "      <th>3</th>\n",
       "      <td>6318506</td>\n",
       "      <td>Ooma</td>\n",
       "      <td>162</td>\n",
       "      <td>Mandaluyong City</td>\n",
       "      <td>Third Floor, Mega Fashion Hall, SM Megamall, O...</td>\n",
       "      <td>SM Megamall, Ortigas, Mandaluyong City</td>\n",
       "      <td>SM Megamall, Ortigas, Mandaluyong City, Mandal...</td>\n",
       "      <td>121.056475</td>\n",
       "      <td>14.585318</td>\n",
       "      <td>Japanese, Sushi</td>\n",
       "      <td>...</td>\n",
       "      <td>Botswana Pula(P)</td>\n",
       "      <td>No</td>\n",
       "      <td>No</td>\n",
       "      <td>No</td>\n",
       "      <td>No</td>\n",
       "      <td>4</td>\n",
       "      <td>4.9</td>\n",
       "      <td>Dark Green</td>\n",
       "      <td>Excellent</td>\n",
       "      <td>365</td>\n",
       "    </tr>\n",
       "    <tr>\n",
       "      <th>4</th>\n",
       "      <td>6314302</td>\n",
       "      <td>Sambo Kojin</td>\n",
       "      <td>162</td>\n",
       "      <td>Mandaluyong City</td>\n",
       "      <td>Third Floor, Mega Atrium, SM Megamall, Ortigas...</td>\n",
       "      <td>SM Megamall, Ortigas, Mandaluyong City</td>\n",
       "      <td>SM Megamall, Ortigas, Mandaluyong City, Mandal...</td>\n",
       "      <td>121.057508</td>\n",
       "      <td>14.584450</td>\n",
       "      <td>Japanese, Korean</td>\n",
       "      <td>...</td>\n",
       "      <td>Botswana Pula(P)</td>\n",
       "      <td>Yes</td>\n",
       "      <td>No</td>\n",
       "      <td>No</td>\n",
       "      <td>No</td>\n",
       "      <td>4</td>\n",
       "      <td>4.8</td>\n",
       "      <td>Dark Green</td>\n",
       "      <td>Excellent</td>\n",
       "      <td>229</td>\n",
       "    </tr>\n",
       "  </tbody>\n",
       "</table>\n",
       "<p>5 rows × 21 columns</p>\n",
       "</div>"
      ],
      "text/plain": [
       "   Restaurant ID         Restaurant Name  Country Code              City  \\\n",
       "0        6317637        Le Petit Souffle           162       Makati City   \n",
       "1        6304287        Izakaya Kikufuji           162       Makati City   \n",
       "2        6300002  Heat - Edsa Shangri-La           162  Mandaluyong City   \n",
       "3        6318506                    Ooma           162  Mandaluyong City   \n",
       "4        6314302             Sambo Kojin           162  Mandaluyong City   \n",
       "\n",
       "                                             Address  \\\n",
       "0  Third Floor, Century City Mall, Kalayaan Avenu...   \n",
       "1  Little Tokyo, 2277 Chino Roces Avenue, Legaspi...   \n",
       "2  Edsa Shangri-La, 1 Garden Way, Ortigas, Mandal...   \n",
       "3  Third Floor, Mega Fashion Hall, SM Megamall, O...   \n",
       "4  Third Floor, Mega Atrium, SM Megamall, Ortigas...   \n",
       "\n",
       "                                     Locality  \\\n",
       "0   Century City Mall, Poblacion, Makati City   \n",
       "1  Little Tokyo, Legaspi Village, Makati City   \n",
       "2  Edsa Shangri-La, Ortigas, Mandaluyong City   \n",
       "3      SM Megamall, Ortigas, Mandaluyong City   \n",
       "4      SM Megamall, Ortigas, Mandaluyong City   \n",
       "\n",
       "                                    Locality Verbose   Longitude   Latitude  \\\n",
       "0  Century City Mall, Poblacion, Makati City, Mak...  121.027535  14.565443   \n",
       "1  Little Tokyo, Legaspi Village, Makati City, Ma...  121.014101  14.553708   \n",
       "2  Edsa Shangri-La, Ortigas, Mandaluyong City, Ma...  121.056831  14.581404   \n",
       "3  SM Megamall, Ortigas, Mandaluyong City, Mandal...  121.056475  14.585318   \n",
       "4  SM Megamall, Ortigas, Mandaluyong City, Mandal...  121.057508  14.584450   \n",
       "\n",
       "                           Cuisines  ...          Currency Has Table booking  \\\n",
       "0        French, Japanese, Desserts  ...  Botswana Pula(P)               Yes   \n",
       "1                          Japanese  ...  Botswana Pula(P)               Yes   \n",
       "2  Seafood, Asian, Filipino, Indian  ...  Botswana Pula(P)               Yes   \n",
       "3                   Japanese, Sushi  ...  Botswana Pula(P)                No   \n",
       "4                  Japanese, Korean  ...  Botswana Pula(P)               Yes   \n",
       "\n",
       "  Has Online delivery Is delivering now Switch to order menu Price range  \\\n",
       "0                  No                No                   No           3   \n",
       "1                  No                No                   No           3   \n",
       "2                  No                No                   No           4   \n",
       "3                  No                No                   No           4   \n",
       "4                  No                No                   No           4   \n",
       "\n",
       "   Aggregate rating  Rating color Rating text Votes  \n",
       "0               4.8    Dark Green   Excellent   314  \n",
       "1               4.5    Dark Green   Excellent   591  \n",
       "2               4.4         Green   Very Good   270  \n",
       "3               4.9    Dark Green   Excellent   365  \n",
       "4               4.8    Dark Green   Excellent   229  \n",
       "\n",
       "[5 rows x 21 columns]"
      ]
     },
     "execution_count": 70,
     "metadata": {},
     "output_type": "execute_result"
    }
   ],
   "source": [
    "data=pd.read_csv(r\"C:\\Users\\USER\\Downloads\\Dataset  (1).csv\")\n",
    "data.head()"
   ]
  },
  {
   "cell_type": "code",
   "execution_count": 71,
   "id": "607eb1ce-71d7-444a-9690-45e4405a854f",
   "metadata": {},
   "outputs": [
    {
     "data": {
      "text/plain": [
       "Index(['Restaurant ID', 'Restaurant Name', 'Country Code', 'City', 'Address',\n",
       "       'Locality', 'Locality Verbose', 'Longitude', 'Latitude', 'Cuisines',\n",
       "       'Average Cost for two', 'Currency', 'Has Table booking',\n",
       "       'Has Online delivery', 'Is delivering now', 'Switch to order menu',\n",
       "       'Price range', 'Aggregate rating', 'Rating color', 'Rating text',\n",
       "       'Votes'],\n",
       "      dtype='object')"
      ]
     },
     "execution_count": 71,
     "metadata": {},
     "output_type": "execute_result"
    }
   ],
   "source": [
    "data.columns"
   ]
  },
  {
   "cell_type": "code",
   "execution_count": 46,
   "id": "626c89ef-2105-4b64-b107-37be4bb2cf8d",
   "metadata": {},
   "outputs": [
    {
     "data": {
      "text/html": [
       "<div>\n",
       "<style scoped>\n",
       "    .dataframe tbody tr th:only-of-type {\n",
       "        vertical-align: middle;\n",
       "    }\n",
       "\n",
       "    .dataframe tbody tr th {\n",
       "        vertical-align: top;\n",
       "    }\n",
       "\n",
       "    .dataframe thead th {\n",
       "        text-align: right;\n",
       "    }\n",
       "</style>\n",
       "<table border=\"1\" class=\"dataframe\">\n",
       "  <thead>\n",
       "    <tr style=\"text-align: right;\">\n",
       "      <th></th>\n",
       "      <th>Restaurant ID</th>\n",
       "      <th>Country Code</th>\n",
       "      <th>Longitude</th>\n",
       "      <th>Latitude</th>\n",
       "      <th>Average Cost for two</th>\n",
       "      <th>Price range</th>\n",
       "      <th>Aggregate rating</th>\n",
       "      <th>Votes</th>\n",
       "      <th>Review Length</th>\n",
       "      <th>Restaurant Name_#45</th>\n",
       "      <th>...</th>\n",
       "      <th>Rating color_Orange</th>\n",
       "      <th>Rating color_Red</th>\n",
       "      <th>Rating color_White</th>\n",
       "      <th>Rating color_Yellow</th>\n",
       "      <th>Rating text_Average</th>\n",
       "      <th>Rating text_Excellent</th>\n",
       "      <th>Rating text_Good</th>\n",
       "      <th>Rating text_Not rated</th>\n",
       "      <th>Rating text_Poor</th>\n",
       "      <th>Rating text_Very Good</th>\n",
       "    </tr>\n",
       "  </thead>\n",
       "  <tbody>\n",
       "    <tr>\n",
       "      <th>0</th>\n",
       "      <td>6317637</td>\n",
       "      <td>162</td>\n",
       "      <td>121.027535</td>\n",
       "      <td>14.565443</td>\n",
       "      <td>1100</td>\n",
       "      <td>3</td>\n",
       "      <td>4.8</td>\n",
       "      <td>314</td>\n",
       "      <td>9</td>\n",
       "      <td>False</td>\n",
       "      <td>...</td>\n",
       "      <td>False</td>\n",
       "      <td>False</td>\n",
       "      <td>False</td>\n",
       "      <td>False</td>\n",
       "      <td>False</td>\n",
       "      <td>True</td>\n",
       "      <td>False</td>\n",
       "      <td>False</td>\n",
       "      <td>False</td>\n",
       "      <td>False</td>\n",
       "    </tr>\n",
       "    <tr>\n",
       "      <th>1</th>\n",
       "      <td>6304287</td>\n",
       "      <td>162</td>\n",
       "      <td>121.014101</td>\n",
       "      <td>14.553708</td>\n",
       "      <td>1200</td>\n",
       "      <td>3</td>\n",
       "      <td>4.5</td>\n",
       "      <td>591</td>\n",
       "      <td>9</td>\n",
       "      <td>False</td>\n",
       "      <td>...</td>\n",
       "      <td>False</td>\n",
       "      <td>False</td>\n",
       "      <td>False</td>\n",
       "      <td>False</td>\n",
       "      <td>False</td>\n",
       "      <td>True</td>\n",
       "      <td>False</td>\n",
       "      <td>False</td>\n",
       "      <td>False</td>\n",
       "      <td>False</td>\n",
       "    </tr>\n",
       "    <tr>\n",
       "      <th>2</th>\n",
       "      <td>6300002</td>\n",
       "      <td>162</td>\n",
       "      <td>121.056831</td>\n",
       "      <td>14.581404</td>\n",
       "      <td>4000</td>\n",
       "      <td>4</td>\n",
       "      <td>4.4</td>\n",
       "      <td>270</td>\n",
       "      <td>9</td>\n",
       "      <td>False</td>\n",
       "      <td>...</td>\n",
       "      <td>False</td>\n",
       "      <td>False</td>\n",
       "      <td>False</td>\n",
       "      <td>False</td>\n",
       "      <td>False</td>\n",
       "      <td>False</td>\n",
       "      <td>False</td>\n",
       "      <td>False</td>\n",
       "      <td>False</td>\n",
       "      <td>True</td>\n",
       "    </tr>\n",
       "    <tr>\n",
       "      <th>3</th>\n",
       "      <td>6318506</td>\n",
       "      <td>162</td>\n",
       "      <td>121.056475</td>\n",
       "      <td>14.585318</td>\n",
       "      <td>1500</td>\n",
       "      <td>4</td>\n",
       "      <td>4.9</td>\n",
       "      <td>365</td>\n",
       "      <td>9</td>\n",
       "      <td>False</td>\n",
       "      <td>...</td>\n",
       "      <td>False</td>\n",
       "      <td>False</td>\n",
       "      <td>False</td>\n",
       "      <td>False</td>\n",
       "      <td>False</td>\n",
       "      <td>True</td>\n",
       "      <td>False</td>\n",
       "      <td>False</td>\n",
       "      <td>False</td>\n",
       "      <td>False</td>\n",
       "    </tr>\n",
       "    <tr>\n",
       "      <th>4</th>\n",
       "      <td>6314302</td>\n",
       "      <td>162</td>\n",
       "      <td>121.057508</td>\n",
       "      <td>14.584450</td>\n",
       "      <td>1500</td>\n",
       "      <td>4</td>\n",
       "      <td>4.8</td>\n",
       "      <td>229</td>\n",
       "      <td>9</td>\n",
       "      <td>False</td>\n",
       "      <td>...</td>\n",
       "      <td>False</td>\n",
       "      <td>False</td>\n",
       "      <td>False</td>\n",
       "      <td>False</td>\n",
       "      <td>False</td>\n",
       "      <td>True</td>\n",
       "      <td>False</td>\n",
       "      <td>False</td>\n",
       "      <td>False</td>\n",
       "      <td>False</td>\n",
       "    </tr>\n",
       "  </tbody>\n",
       "</table>\n",
       "<p>5 rows × 20843 columns</p>\n",
       "</div>"
      ],
      "text/plain": [
       "   Restaurant ID  Country Code   Longitude   Latitude  Average Cost for two  \\\n",
       "0        6317637           162  121.027535  14.565443                  1100   \n",
       "1        6304287           162  121.014101  14.553708                  1200   \n",
       "2        6300002           162  121.056831  14.581404                  4000   \n",
       "3        6318506           162  121.056475  14.585318                  1500   \n",
       "4        6314302           162  121.057508  14.584450                  1500   \n",
       "\n",
       "   Price range  Aggregate rating  Votes  Review Length  Restaurant Name_#45  \\\n",
       "0            3               4.8    314              9                False   \n",
       "1            3               4.5    591              9                False   \n",
       "2            4               4.4    270              9                False   \n",
       "3            4               4.9    365              9                False   \n",
       "4            4               4.8    229              9                False   \n",
       "\n",
       "   ...  Rating color_Orange  Rating color_Red  Rating color_White  \\\n",
       "0  ...                False             False               False   \n",
       "1  ...                False             False               False   \n",
       "2  ...                False             False               False   \n",
       "3  ...                False             False               False   \n",
       "4  ...                False             False               False   \n",
       "\n",
       "   Rating color_Yellow  Rating text_Average  Rating text_Excellent  \\\n",
       "0                False                False                   True   \n",
       "1                False                False                   True   \n",
       "2                False                False                  False   \n",
       "3                False                False                   True   \n",
       "4                False                False                   True   \n",
       "\n",
       "   Rating text_Good  Rating text_Not rated  Rating text_Poor  \\\n",
       "0             False                  False             False   \n",
       "1             False                  False             False   \n",
       "2             False                  False             False   \n",
       "3             False                  False             False   \n",
       "4             False                  False             False   \n",
       "\n",
       "   Rating text_Very Good  \n",
       "0                  False  \n",
       "1                  False  \n",
       "2                   True  \n",
       "3                  False  \n",
       "4                  False  \n",
       "\n",
       "[5 rows x 20843 columns]"
      ]
     },
     "execution_count": 46,
     "metadata": {},
     "output_type": "execute_result"
    }
   ],
   "source": [
    "df = pd.get_dummies(data)\n",
    "df.head()"
   ]
  },
  {
   "cell_type": "markdown",
   "id": "d3887bff-7593-4345-8474-121bc00145ef",
   "metadata": {},
   "source": [
    "## Level 1\n",
    "Task 1"
   ]
  },
  {
   "cell_type": "code",
   "execution_count": 4,
   "id": "948260bd-8ca5-4cd6-8360-6e982141552b",
   "metadata": {},
   "outputs": [
    {
     "name": "stdout",
     "output_type": "stream",
     "text": [
      "Top Three Most Common Cuisines\n",
      "Cuisines\n",
      "North Indian             936\n",
      "North Indian, Chinese    511\n",
      "Chinese                  354\n",
      "Name: count, dtype: int64\n"
     ]
    }
   ],
   "source": [
    "top_cuisines = data[ 'Cuisines'].value_counts().head(3)\n",
    "print(\"Top Three Most Common Cuisines\")\n",
    "print(top_cuisines)"
   ]
  },
  {
   "cell_type": "code",
   "execution_count": 19,
   "id": "a8446c22-5635-477e-932f-e7e16a607754",
   "metadata": {},
   "outputs": [
    {
     "name": "stdout",
     "output_type": "stream",
     "text": [
      "Percentage of Restaurants Serving Each of the Top Cuisines:\n",
      "North Indian: 9.80%\n",
      "North Indian, Chinese: 5.35%\n",
      "Chinese: 3.71%\n"
     ]
    }
   ],
   "source": [
    "top_cuisines = data['Cuisines'].value_counts().head(3)\n",
    "\n",
    "total_restaurants = len(data)\n",
    "\n",
    "print(\"Percentage of Restaurants Serving Each of the Top Cuisines:\")\n",
    "for cuisine, count in top_cuisines.items():\n",
    "    percentage = (count / total_restaurants) * 100\n",
    "    print(f\"{cuisine}: {percentage:.2f}%\")"
   ]
  },
  {
   "cell_type": "markdown",
   "id": "b2b12ec5-80ec-4a37-82d7-29b2b9829fb7",
   "metadata": {},
   "source": [
    "## task 2"
   ]
  },
  {
   "cell_type": "code",
   "execution_count": 6,
   "id": "0eda8531-0df5-4790-91bd-35bc58e8052e",
   "metadata": {},
   "outputs": [
    {
     "name": "stdout",
     "output_type": "stream",
     "text": [
      "The city with the highest number of restaurants is New Delhi with 5473 restaurants.\n"
     ]
    }
   ],
   "source": [
    "city_counts = data['City'].value_counts()\n",
    "\n",
    "city_with_most_restaurants = city_counts.idxmax()\n",
    "max_restaurants_count = city_counts.max()\n",
    "\n",
    "print(f\"The city with the highest number of restaurants is {city_with_most_restaurants} with {max_restaurants_count} restaurants.\")"
   ]
  },
  {
   "cell_type": "code",
   "execution_count": 7,
   "id": "b2887aaf-efe3-43b6-b71e-b69ce3f9ee59",
   "metadata": {},
   "outputs": [
    {
     "data": {
      "text/plain": [
       "array(['Excellent', 'Very Good', 'Good', 'Average', 'Not rated', 'Poor'],\n",
       "      dtype=object)"
      ]
     },
     "execution_count": 7,
     "metadata": {},
     "output_type": "execute_result"
    }
   ],
   "source": [
    "data['Rating text'].unique()"
   ]
  },
  {
   "cell_type": "code",
   "execution_count": 21,
   "id": "f154f2fa-3caa-419d-9310-a9adebcba752",
   "metadata": {},
   "outputs": [],
   "source": [
    "data=data.replace({\n",
    "    'Rating text':{'Excellent':5, 'Very Good':4, 'Good':3, 'Average':2, 'Not rated':0, 'Poor':1} \n",
    "})"
   ]
  },
  {
   "cell_type": "code",
   "execution_count": 27,
   "id": "c5c68ed9-a6db-4357-a5e3-96663b1f57f3",
   "metadata": {},
   "outputs": [
    {
     "name": "stdout",
     "output_type": "stream",
     "text": [
      "Average Rating for Restaurants in Each City:\n",
      "City\n",
      "Abu Dhabi          4.300000\n",
      "Agra               3.965000\n",
      "Ahmedabad          4.161905\n",
      "Albany             3.555000\n",
      "Allahabad          3.395000\n",
      "                     ...   \n",
      "Weirton            3.900000\n",
      "Wellington City    4.250000\n",
      "Winchester Bay     3.200000\n",
      "Yorkton            3.300000\n",
      "��stanbul          4.292857\n",
      "Name: Aggregate rating, Length: 141, dtype: float64\n",
      "\n",
      "City with maximum averae restaurant rating is :\n",
      "Inner City\n"
     ]
    }
   ],
   "source": [
    "average_rating_by_city = data.groupby('City')['Aggregate rating'].mean()\n",
    "max = average_rating_by_city.idxmax()\n",
    "print(\"Average Rating for Restaurants in Each City:\")\n",
    "print(average_rating_by_city)\n",
    "print(\"\\nCity with maximum averae restaurant rating is :\")\n",
    "print(max)"
   ]
  },
  {
   "cell_type": "markdown",
   "id": "7fd751ab-6937-4acf-a2f6-cfa67e06edfe",
   "metadata": {},
   "source": [
    "### Task 3"
   ]
  },
  {
   "cell_type": "code",
   "execution_count": 10,
   "id": "6c149715-5ffd-4768-8a10-0f959e4a80ec",
   "metadata": {},
   "outputs": [
    {
     "data": {
      "text/plain": [
       "Price range\n",
       "1    4444\n",
       "2    3113\n",
       "3    1408\n",
       "4     586\n",
       "Name: count, dtype: int64"
      ]
     },
     "execution_count": 10,
     "metadata": {},
     "output_type": "execute_result"
    }
   ],
   "source": [
    "count_result = data[ 'Price range'].value_counts()\n",
    "count_result\n"
   ]
  },
  {
   "cell_type": "code",
   "execution_count": 29,
   "id": "bbcbd2a5-c536-48ff-8bb6-4d3538bc7e2f",
   "metadata": {},
   "outputs": [
    {
     "data": {
      "image/png": "[encoded data removed]",
      "text/plain": [
       "<Figure size 640x480 with 1 Axes>"
      ]
     },
     "metadata": {},
     "output_type": "display_data"
    }
   ],
   "source": [
    "lab=[\"1\",\"2\",\"3\",\"4\"]\n",
    "plt.bar(lab,height=count_result)\n",
    "\n",
    "plt.show()"
   ]
  },
  {
   "cell_type": "code",
   "execution_count": 30,
   "id": "399335c1-7523-4be1-955d-db603d0674ca",
   "metadata": {},
   "outputs": [
    {
     "name": "stdout",
     "output_type": "stream",
     "text": [
      "Percentage of restaurants in each price range category:\n",
      "Price range\n",
      "1    46.529159\n",
      "2    32.593446\n",
      "3    14.741912\n",
      "4     6.135483\n",
      "Name: count, dtype: float64\n"
     ]
    }
   ],
   "source": [
    "price_range_counts = data['Price range'].value_counts()\n",
    "total_restaurants = len(data)\n",
    "percentage_per_category = (price_range_counts / total_restaurants) * 100\n",
    "\n",
    "print(\"Percentage of restaurants in each price range category:\")\n",
    "print(percentage_per_category)"
   ]
  },
  {
   "cell_type": "code",
   "execution_count": 33,
   "id": "aabc3e6f-9125-482f-96f3-3cefd9ff579f",
   "metadata": {},
   "outputs": [
    {
     "name": "stdout",
     "output_type": "stream",
     "text": [
      "Percentage of Restaurants Serving Each of the Top Cuisines:\n",
      "1: 46.53%\n",
      "2: 32.59%\n",
      "3: 14.74%\n"
     ]
    }
   ],
   "source": [
    "top_cuisines = data['Price range'].value_counts().head(3)\n",
    "total_restaurants = len(data)\n",
    "print(\"Percentage of Restaurants Serving Each of the Top Cuisines:\")\n",
    "for cuisine, count in top_cuisines.items():\n",
    "    percentage = (count / total_restaurants) * 100\n",
    "    print(f\"{cuisine}: {percentage:.2f}%\")"
   ]
  },
  {
   "cell_type": "code",
   "execution_count": 62,
   "id": "9edfcc63-86b8-474c-8c38-8f63ce50e42d",
   "metadata": {},
   "outputs": [
    {
     "data": {
      "image/png": "[encoded data removed]",
      "text/plain": [
       "<Figure size 640x480 with 1 Axes>"
      ]
     },
     "metadata": {},
     "output_type": "display_data"
    }
   ],
   "source": [
    "price_range_counts = data['Price range'].value_counts()\n",
    "price_range_counts.plot(kind='bar', color='skyblue')\n",
    "plt.title('Distribution of Price Ranges Among Restaurants')\n",
    "plt.xlabel('Price Range')\n",
    "plt.ylabel('Count')\n",
    "plt.xticks(rotation=0)\n",
    "plt.show()  # Ensure"
   ]
  },
  {
   "cell_type": "markdown",
   "id": "9860ef7f-1680-4715-812d-e038c93aa493",
   "metadata": {},
   "source": [
    "### Task 4"
   ]
  },
  {
   "cell_type": "code",
   "execution_count": 38,
   "id": "1f32c745-1de7-4448-9cc8-8d60f385f898",
   "metadata": {},
   "outputs": [
    {
     "name": "stdout",
     "output_type": "stream",
     "text": [
      "Percentage of Restaurants Serving Each of the Top Cuisines:\n",
      "No: 74.34%\n",
      "Yes: 25.66%\n"
     ]
    }
   ],
   "source": [
    "top_cuisines = data['Has Online delivery'].value_counts().head(3)\n",
    "\n",
    "total_restaurants = len(data)\n",
    "\n",
    "print(\"Percentage of Restaurants Serving Each of the Top Cuisines:\")\n",
    "for cuisine, count in top_cuisines.items():\n",
    "    percentage = (count / total_restaurants) * 100\n",
    "    print(f\"{cuisine}: {percentage:.2f}%\")"
   ]
  },
  {
   "cell_type": "code",
   "execution_count": 7,
   "id": "ea73502b-d51a-440f-a716-59afc17f9544",
   "metadata": {},
   "outputs": [
    {
     "data": {
      "image/png": "[encoded data removed]",
      "text/plain": [
       "<Figure size 640x480 with 1 Axes>"
      ]
     },
     "metadata": {},
     "output_type": "display_data"
    },
    {
     "name": "stdout",
     "output_type": "stream",
     "text": [
      "The most common rating is: 0.0\n"
     ]
    }
   ],
   "source": [
    "plt.hist(data['Aggregate rating'], bins=10, edgecolor='black')  \n",
    "plt.xlabel('Ratings')\n",
    "plt.ylabel('Frequency')\n",
    "plt.title('Distribution of Aggregate Ratings')\n",
    "plt.grid(True)\n",
    "plt.show()\n",
    "\n",
    "\n",
    "rating_counts =data ['Aggregate rating'].value_counts()\n",
    "most_common_rating = rating_counts.idxmax()\n",
    "print(\"The most common rating is:\", most_common_rating)"
   ]
  },
  {
   "cell_type": "code",
   "execution_count": 8,
   "id": "f1862863-6915-433f-83cb-0a286430de82",
   "metadata": {},
   "outputs": [
    {
     "name": "stdout",
     "output_type": "stream",
     "text": [
      "The average number of votes received by restaurants is: 156.909747670401\n"
     ]
    }
   ],
   "source": [
    "average_votes = data['Votes'].mean()\n",
    "\n",
    "print(\"The average number of votes received by restaurants is:\", average_votes)"
   ]
  },
  {
   "cell_type": "code",
   "execution_count": 13,
   "id": "4b3f9fa7-34de-498d-a4a7-622fcc31c439",
   "metadata": {},
   "outputs": [
    {
     "name": "stdout",
     "output_type": "stream",
     "text": [
      "Top 5 most common combinations of cuisines:\n",
      "cuisines_str\n",
      "    9551\n",
      "Name: count, dtype: int64\n"
     ]
    }
   ],
   "source": [
    "data['cuisines_str'] = data['Cuisines'].apply(lambda x: ', '.join(sorted(x)) if isinstance(x, list) else '')\n",
    "cuisine_counts = data['cuisines_str'].value_counts()\n",
    "\n",
    "top_combinations = cuisine_counts.head(5)\n",
    "print(\"Top 5 most common combinations of cuisines:\")\n",
    "print(top_combinations)"
   ]
  },
  {
   "cell_type": "code",
   "execution_count": 17,
   "id": "4c0de26b-12f9-425b-9212-f19cf0877793",
   "metadata": {},
   "outputs": [
    {
     "name": "stdout",
     "output_type": "stream",
     "text": [
      "Average ratings for each combination of cuisines:\n",
      "cuisines_str\n",
      "    2.66637\n",
      "Name: Aggregate rating, dtype: float64\n"
     ]
    }
   ],
   "source": [
    "average_ratings = data.groupby('cuisines_str')['Aggregate rating'].mean()\n",
    "\n",
    "# Display the average ratings for each combination of cuisines\n",
    "print(\"Average ratings for each combination of cuisines:\")\n",
    "print(average_ratings)"
   ]
  },
  {
   "cell_type": "markdown",
   "id": "bd4a8d91-acf4-450d-90d6-9b0c43cebbf0",
   "metadata": {},
   "source": [
    "# task 3"
   ]
  },
  {
   "cell_type": "code",
   "execution_count": 74,
   "id": "4845cbc8-3e6f-47dc-9550-36b4d1e026fa",
   "metadata": {},
   "outputs": [],
   "source": [
    "map_center = [data['Latitude'].mean(), data['Longitude'].mean()]\n",
    "mymap = folium.Map(location=map_center, zoom_start=5)\n",
    "folium.Marker(location=[row['Latitude'], row['Longitude']], popup=row['Restaurant Name']).add_to(mymap)\n",
    "mymap.save(\"restaurants_map.html\")"
   ]
  },
  {
   "cell_type": "code",
   "execution_count": 75,
   "id": "1470a741-3a5a-4270-8244-5bd4210c4eb8",
   "metadata": {},
   "outputs": [
    {
     "data": {
      "text/html": [
       "\n",
       "        <iframe\n",
       "            width=\"800\"\n",
       "            height=\"600\"\n",
       "            src=\"restaurants_map.html\"\n",
       "            frameborder=\"0\"\n",
       "            allowfullscreen\n",
       "            \n",
       "        ></iframe>\n",
       "        "
      ],
      "text/plain": [
       "<IPython.lib.display.IFrame at 0x26fd2549700>"
      ]
     },
     "execution_count": 75,
     "metadata": {},
     "output_type": "execute_result"
    }
   ],
   "source": [
    "from IPython.display import IFrame\n",
    "\n",
    "IFrame(src=\"restaurants_map.html\", width=800, height=600)\n"
   ]
  },
  {
   "cell_type": "code",
   "execution_count": 30,
   "id": "3cb9833c-ff0d-4b13-bd3a-d87ae487a247",
   "metadata": {},
   "outputs": [],
   "source": [
    "kmeans = KMeans(n_clusters=3, random_state=0).fit(data[['Latitude', 'Longitude']])\n",
    "data['Cluster'] = kmeans.labels_\n",
    "map_center = [data['Latitude'].mean(), data['Longitude'].mean()]\n",
    "mymap = folium.Map(location=map_center, zoom_start=5)\n",
    "colors = ['red', 'blue', 'green']\n",
    "for i, row in data.iterrows():\n",
    "    folium.Marker(location=[row['Latitude'], row['Longitude']], popup=row[ 'Restaurant Name'], \n",
    "                  icon=folium.Icon(color=colors[row['Cluster']])).add_to(mymap)\n",
    "\n",
    "mymap.save(\"clustered_restaurants_map.html\")"
   ]
  },
  {
   "cell_type": "code",
   "execution_count": 76,
   "id": "1b41be99-ea35-4331-b6df-523e2e3fd052",
   "metadata": {},
   "outputs": [
    {
     "data": {
      "text/html": [
       "\n",
       "        <iframe\n",
       "            width=\"800\"\n",
       "            height=\"600\"\n",
       "            src=\"clustered_restaurants_map.html\"\n",
       "            frameborder=\"0\"\n",
       "            allowfullscreen\n",
       "            \n",
       "        ></iframe>\n",
       "        "
      ],
      "text/plain": [
       "<IPython.lib.display.IFrame at 0x26fd254bad0>"
      ]
     },
     "execution_count": 76,
     "metadata": {},
     "output_type": "execute_result"
    }
   ],
   "source": [
    "from IPython.display import IFrame\n",
    "\n",
    "IFrame(src=\"clustered_restaurants_map.html\", width=800, height=600)"
   ]
  },
  {
   "cell_type": "markdown",
   "id": "66457735-1baa-42bf-b928-8859b76a2dba",
   "metadata": {},
   "source": [
    "# task 4"
   ]
  },
  {
   "cell_type": "code",
   "execution_count": 6,
   "id": "e5d1416c-4cd5-4e69-9637-3c0ae62931d8",
   "metadata": {},
   "outputs": [
    {
     "name": "stdout",
     "output_type": "stream",
     "text": [
      "Restaurant chains present in the dataset:\n",
      "Restaurant Name\n",
      "Cafe Coffee Day       83\n",
      "Domino's Pizza        79\n",
      "Subway                63\n",
      "Green Chick Chop      51\n",
      "McDonald's            48\n",
      "                      ..\n",
      "Town Hall              2\n",
      "Halki Aanch            2\n",
      "Snack Junction         2\n",
      "Delhi Biryani Hut      2\n",
      "Beliram Degchiwala     2\n",
      "Name: count, Length: 734, dtype: int64\n"
     ]
    }
   ],
   "source": [
    "restaurant_counts = data['Restaurant Name'].value_counts()\n",
    "restaurant_chains = restaurant_counts[restaurant_counts > 1]\n",
    "\n",
    "if len(restaurant_chains) > 0:\n",
    "    print(\"Restaurant chains present in the dataset:\")\n",
    "    print(restaurant_chains)\n",
    "else:\n",
    "    print(\"No restaurant chains found in the dataset.\")"
   ]
  },
  {
   "cell_type": "code",
   "execution_count": 25,
   "id": "2e377df9-8f1e-4e41-91bc-6e72c6e8ca20",
   "metadata": {},
   "outputs": [
    {
     "name": "stdout",
     "output_type": "stream",
     "text": [
      "Analysis of ratings and popularity of different restaurant chains:\n",
      "                         Chain  Avg Rating  Total Votes\n",
      "0             Le Petit Souffle         4.0          314\n",
      "4960   Dinesh Ka Mithila Dhaba         4.0            0\n",
      "4972                  Momozone         4.0            0\n",
      "4971        KGN Chicken Corner         4.0            1\n",
      "4970   Kayasthas Food Junction         4.0            1\n",
      "...                        ...         ...          ...\n",
      "2477          Super Restaurant         4.0            5\n",
      "2476           Soni Bhojnalaya         4.0            4\n",
      "2475            Sindhi Chicken         4.0            7\n",
      "2474         Shri Hari Sharnam         4.0           14\n",
      "7445  Walter's Coffee Roastery         4.0          591\n",
      "\n",
      "[7446 rows x 3 columns]\n"
     ]
    }
   ],
   "source": [
    "restaurant_chains = data['Restaurant Name'].unique()\n",
    "chain_aggregates = []\n",
    "for chain in restaurant_chains:\n",
    "    chain_data = data[data[ 'Restaurant Name'] == chain]\n",
    "\n",
    "    chain_votes_sum = chain_data['Votes'].sum()\n",
    "    chain_aggregates.append({'Chain': chain, 'Avg Rating': chain_ratings_mean, 'Total Votes': chain_votes_sum})\n",
    "\n",
    "chain_aggregates_df = pd.DataFrame(chain_aggregates)\n",
    "chain_aggregates_df = chain_aggregates_df.sort_values(by='Avg Rating', ascending=False)\n",
    "print(\"Analysis of ratings and popularity of different restaurant chains:\")\n",
    "print(chain_aggregates_df)"
   ]
  },
  {
   "cell_type": "markdown",
   "id": "f7ade739-43ad-4198-8aea-ccaca66767a8",
   "metadata": {},
   "source": [
    "# Level 3\n",
    "Task 1"
   ]
  },
  {
   "cell_type": "code",
   "execution_count": 33,
   "id": "420bab79-355b-4dbe-99ea-b96165013513",
   "metadata": {},
   "outputs": [
    {
     "name": "stdout",
     "output_type": "stream",
     "text": [
      "Most common positive keywords:\n",
      "[('good', 3179), ('excellent', 301)]\n",
      "\n",
      "Most common negative keywords:\n",
      "[('poor', 186)]\n"
     ]
    }
   ],
   "source": [
    "stop_words = set(stopwords.words('english'))\n",
    "sid = SentimentIntensityAnalyzer()\n",
    "\n",
    "def preprocess_text(text):\n",
    "    text = text.lower()  # Convert text to lowercase\n",
    "    text = text.translate(str.maketrans('', '', string.punctuation))  # Remove punctuation\n",
    "    tokens = word_tokenize(text)  # Tokenize the text into words\n",
    "    filtered_tokens = [word for word in tokens if word not in stop_words]  # Remove stopwords\n",
    "    return filtered_tokens\n",
    "positive_keywords = Counter()\n",
    "negative_keywords = Counter()\n",
    "\n",
    "for index, row in data.iterrows():\n",
    "    tokens = preprocess_text(row['Rating text'])\n",
    "    sentiment_score = sid.polarity_scores(row['Rating text'])['compound']\n",
    "    if sentiment_score >= 0.1:\n",
    "        positive_keywords.update(tokens)\n",
    "    elif sentiment_score <= -0.1:\n",
    "        negative_keywords.update(tokens)\n",
    "print(\"Most common positive keywords:\")\n",
    "print(positive_keywords.most_common(5))\n",
    "\n",
    "print(\"\\nMost common negative keywords:\")\n",
    "print(negative_keywords.most_common(5))"
   ]
  },
  {
   "cell_type": "code",
   "execution_count": 34,
   "id": "62036f48-ecfb-4880-818f-3ad507cf5436",
   "metadata": {},
   "outputs": [
    {
     "name": "stdout",
     "output_type": "stream",
     "text": [
      "Average review length: 7.02 characters\n",
      "\n",
      "Average review length by rating:\n",
      "Aggregate rating\n",
      "0.0    9.0\n",
      "1.8    4.0\n",
      "1.9    4.0\n",
      "2.0    4.0\n",
      "2.1    4.0\n",
      "2.2    4.0\n",
      "2.3    4.0\n",
      "2.4    4.0\n",
      "2.5    7.0\n",
      "2.6    7.0\n",
      "2.7    7.0\n",
      "2.8    7.0\n",
      "2.9    7.0\n",
      "3.0    7.0\n",
      "3.1    7.0\n",
      "3.2    7.0\n",
      "3.3    7.0\n",
      "3.4    7.0\n",
      "3.5    4.0\n",
      "3.6    4.0\n",
      "3.7    4.0\n",
      "3.8    4.0\n",
      "3.9    4.0\n",
      "4.0    9.0\n",
      "4.1    9.0\n",
      "4.2    9.0\n",
      "4.3    9.0\n",
      "4.4    9.0\n",
      "4.5    9.0\n",
      "4.6    9.0\n",
      "4.7    9.0\n",
      "4.8    9.0\n",
      "4.9    9.0\n",
      "Name: Review Length, dtype: float64\n"
     ]
    },
    {
     "data": {
      "image/png": "[encoded data removed]",
      "text/plain": [
       "<Figure size 800x600 with 1 Axes>"
      ]
     },
     "metadata": {},
     "output_type": "display_data"
    }
   ],
   "source": [
    "data['Review Length'] = data['Rating text'].apply(len)\n",
    "average_review_length = data['Review Length'].mean()\n",
    "print(f\"Average review length: {average_review_length:.2f} characters\")\n",
    "average_length_by_rating = data.groupby('Aggregate rating')['Review Length'].mean()\n",
    "print(\"\\nAverage review length by rating:\")\n",
    "print(average_length_by_rating)\n",
    "import matplotlib.pyplot as plt\n",
    "\n",
    "plt.figure(figsize=(8, 6))\n",
    "plt.scatter(data['Aggregate rating'], data['Review Length'], alpha=0.5)\n",
    "plt.title('Relationship between Review Length and Rating')\n",
    "plt.xlabel('Aggregate rating')\n",
    "plt.ylabel('Review Length')\n",
    "plt.grid(True)\n",
    "plt.show()"
   ]
  },
  {
   "cell_type": "markdown",
   "id": "ebcac6e5-9be7-4e7e-9c80-112be3634cbf",
   "metadata": {},
   "source": [
    "## task 2"
   ]
  },
  {
   "cell_type": "code",
   "execution_count": 37,
   "id": "a145d6fe-f9e4-4771-a165-38c80376c3c7",
   "metadata": {},
   "outputs": [
    {
     "name": "stdout",
     "output_type": "stream",
     "text": [
      "Restaurant with the highest number of votes:\n",
      "Restaurant ID                                                       51705\n",
      "Restaurant Name                                                      Toit\n",
      "Country Code                                                            1\n",
      "City                                                            Bangalore\n",
      "Address                 298, Namma Metro Pillar 62, 100 Feet Road, Ind...\n",
      "Locality                                                      Indiranagar\n",
      "Locality Verbose                                   Indiranagar, Bangalore\n",
      "Longitude                                                       77.640709\n",
      "Latitude                                                        12.979166\n",
      "Cuisines                                         Italian, American, Pizza\n",
      "Average Cost for two                                                 2000\n",
      "Currency                                               Indian Rupees(Rs.)\n",
      "Has Table booking                                                      No\n",
      "Has Online delivery                                                    No\n",
      "Is delivering now                                                      No\n",
      "Switch to order menu                                                   No\n",
      "Price range                                                             4\n",
      "Aggregate rating                                                      4.8\n",
      "Rating color                                                   Dark Green\n",
      "Rating text                                                     Excellent\n",
      "Votes                                                               10934\n",
      "Review Length                                                           9\n",
      "Name: 728, dtype: object\n",
      "\n",
      "Restaurant with the lowest number of votes:\n",
      "Restaurant ID                                                     6710645\n",
      "Restaurant Name                                          Cantinho da Gula\n",
      "Country Code                                                           30\n",
      "City                                                           S��o Paulo\n",
      "Address                 Rua Pedroso Alvarenga, 522, Itaim Bibi, S��o P...\n",
      "Locality                                                       Itaim Bibi\n",
      "Locality Verbose                                   Itaim Bibi, S��o Paulo\n",
      "Longitude                                                      -46.675667\n",
      "Latitude                                                          -23.581\n",
      "Cuisines                                                        Brazilian\n",
      "Average Cost for two                                                   55\n",
      "Currency                                               Brazilian Real(R$)\n",
      "Has Table booking                                                      No\n",
      "Has Online delivery                                                    No\n",
      "Is delivering now                                                      No\n",
      "Switch to order menu                                                   No\n",
      "Price range                                                             2\n",
      "Aggregate rating                                                      0.0\n",
      "Rating color                                                        White\n",
      "Rating text                                                     Not rated\n",
      "Votes                                                                   0\n",
      "Review Length                                                           9\n",
      "Name: 69, dtype: object\n"
     ]
    }
   ],
   "source": [
    "restaurant_highest_votes = data.loc[data['Votes'].idxmax()]\n",
    "\n",
    "# Identify the restaurant with the lowest number of votes\n",
    "restaurant_lowest_votes = data.loc[data['Votes'].idxmin()]\n",
    "\n",
    "print(\"Restaurant with the highest number of votes:\")\n",
    "print(restaurant_highest_votes)\n",
    "\n",
    "print(\"\\nRestaurant with the lowest number of votes:\")\n",
    "print(restaurant_lowest_votes)"
   ]
  },
  {
   "cell_type": "code",
   "execution_count": 39,
   "id": "daed55f7-ad3c-4efe-9ab3-2ec69b9ce0f8",
   "metadata": {},
   "outputs": [
    {
     "name": "stdout",
     "output_type": "stream",
     "text": [
      "Correlation coefficient between number of votes and rating: 0.31369058419541146\n"
     ]
    }
   ],
   "source": [
    "correlation_coefficient = data['Votes'].corr(data['Aggregate rating'])\n",
    "\n",
    "print(\"Correlation coefficient between number of votes and rating:\", correlation_coefficient)"
   ]
  },
  {
   "cell_type": "markdown",
   "id": "66605b26-27a2-448b-bb69-3240c413342e",
   "metadata": {},
   "source": [
    "# Task 3"
   ]
  },
  {
   "cell_type": "code",
   "execution_count": 52,
   "id": "50e061d7-04fb-4a79-9390-623711526778",
   "metadata": {},
   "outputs": [
    {
     "data": {
      "text/html": [
       "<div>\n",
       "<style scoped>\n",
       "    .dataframe tbody tr th:only-of-type {\n",
       "        vertical-align: middle;\n",
       "    }\n",
       "\n",
       "    .dataframe tbody tr th {\n",
       "        vertical-align: top;\n",
       "    }\n",
       "\n",
       "    .dataframe thead tr th {\n",
       "        text-align: left;\n",
       "    }\n",
       "\n",
       "    .dataframe thead tr:last-of-type th {\n",
       "        text-align: right;\n",
       "    }\n",
       "</style>\n",
       "<table border=\"1\" class=\"dataframe\">\n",
       "  <thead>\n",
       "    <tr>\n",
       "      <th>Has Online delivery</th>\n",
       "      <th colspan=\"2\" halign=\"left\">No</th>\n",
       "      <th colspan=\"2\" halign=\"left\">Yes</th>\n",
       "    </tr>\n",
       "    <tr>\n",
       "      <th>Has Table booking</th>\n",
       "      <th>No</th>\n",
       "      <th>Yes</th>\n",
       "      <th>No</th>\n",
       "      <th>Yes</th>\n",
       "    </tr>\n",
       "    <tr>\n",
       "      <th>Price range</th>\n",
       "      <th></th>\n",
       "      <th></th>\n",
       "      <th></th>\n",
       "      <th></th>\n",
       "    </tr>\n",
       "  </thead>\n",
       "  <tbody>\n",
       "    <tr>\n",
       "      <th>1</th>\n",
       "      <td>3743</td>\n",
       "      <td>0</td>\n",
       "      <td>700</td>\n",
       "      <td>1</td>\n",
       "    </tr>\n",
       "    <tr>\n",
       "      <th>2</th>\n",
       "      <td>1711</td>\n",
       "      <td>116</td>\n",
       "      <td>1163</td>\n",
       "      <td>123</td>\n",
       "    </tr>\n",
       "    <tr>\n",
       "      <th>3</th>\n",
       "      <td>624</td>\n",
       "      <td>373</td>\n",
       "      <td>140</td>\n",
       "      <td>271</td>\n",
       "    </tr>\n",
       "    <tr>\n",
       "      <th>4</th>\n",
       "      <td>299</td>\n",
       "      <td>234</td>\n",
       "      <td>13</td>\n",
       "      <td>40</td>\n",
       "    </tr>\n",
       "  </tbody>\n",
       "</table>\n",
       "</div>"
      ],
      "text/plain": [
       "Has Online delivery    No        Yes     \n",
       "Has Table booking      No  Yes    No  Yes\n",
       "Price range                              \n",
       "1                    3743    0   700    1\n",
       "2                    1711  116  1163  123\n",
       "3                     624  373   140  271\n",
       "4                     299  234    13   40"
      ]
     },
     "execution_count": 52,
     "metadata": {},
     "output_type": "execute_result"
    }
   ],
   "source": [
    "contingency_table = pd.crosstab(data['Price range'], [data['Has Online delivery'], data['Has Table booking']])\n",
    "contingency_table\n",
    "\n",
    "\n"
   ]
  },
  {
   "cell_type": "code",
   "execution_count": 53,
   "id": "c16ee908-25f3-4845-b571-42d62641aebe",
   "metadata": {},
   "outputs": [
    {
     "name": "stdout",
     "output_type": "stream",
     "text": [
      "Chi-square statistic: 3778.7126357124143\n",
      "P-value: 0.0\n"
     ]
    }
   ],
   "source": [
    "chi2, p, dof, expected = chi2_contingency(contingency_table)\n",
    "\n",
    "print(\"Chi-square statistic:\", chi2)\n",
    "print(\"P-value:\", p)"
   ]
  },
  {
   "cell_type": "code",
   "execution_count": 56,
   "id": "fe468ca0-5993-4e46-a21e-7c8dff765c6f",
   "metadata": {},
   "outputs": [
    {
     "name": "stdout",
     "output_type": "stream",
     "text": [
      "             online_delivery_proportion  table_booking_proportion\n",
      "Price range                                                      \n",
      "1                              0.157741                  0.000225\n",
      "2                              0.413106                  0.076775\n",
      "3                              0.291903                  0.457386\n",
      "4                              0.090444                  0.467577\n"
     ]
    }
   ],
   "source": [
    "services_proportion = data.groupby('Price range').apply(lambda x: pd.Series({\n",
    "    'online_delivery_proportion': (x['Has Online delivery'] == 'Yes').mean(),\n",
    "    'table_booking_proportion': (x['Has Table booking'] == 'Yes').mean()\n",
    "}))\n",
    "\n",
    "print(services_proportion)"
   ]
  },
  {
   "cell_type": "code",
   "execution_count": 2,
   "id": "58c39cf6-9d62-4f0b-af6e-a2ee41d77019",
   "metadata": {},
   "outputs": [
    {
     "name": "stdout",
     "output_type": "stream",
     "text": [
      "Acess granted\n"
     ]
    }
   ],
   "source": [
    "name='Chris'\n",
    "if name=='Bob'or'tom'or'Mike':\n",
    "   print('Acess granted')\n",
    "else:\n",
    "    print('Acess denied')\n"
   ]
  },
  {
   "cell_type": "code",
   "execution_count": null,
   "id": "a0d00fdb-434f-4dc2-86f3-1d972a4a3362",
   "metadata": {},
   "outputs": [],
   "source": [
    "! pip install pywhatkit "
   ]
  },
  {
   "cell_type": "code",
   "execution_count": null,
   "id": "3dba05c1-bfee-4e65-ac90-2e3295b02a57",
   "metadata": {},
   "outputs": [],
   "source": [
    "import pywhatkit as kit\n",
    "number=\n",
    "kit.sendwhatmsg(\n",
    "    \"Hiii \",11,2\n",
    ")"
   ]
  },
  {
   "cell_type": "code",
   "execution_count": null,
   "id": "1155e691-ba51-4d7a-ab14-3771924a4319",
   "metadata": {},
   "outputs": [],
   "source": []
  }
 ],
 "metadata": {
  "kernelspec": {
   "display_name": "Python 3 (ipykernel)",
   "language": "python",
   "name": "python3"
  },
  "language_info": {
   "codemirror_mode": {
    "name": "ipython",
    "version": 3
   },
   "file_extension": ".py",
   "mimetype": "text/x-python",
   "name": "python",
   "nbconvert_exporter": "python",
   "pygments_lexer": "ipython3",
   "version": "3.12.0"
  },
  "widgets": {
   "application/vnd.jupyter.widget-state+json": {
    "state": {},
    "version_major": 2,
    "version_minor": 0
   }
  }
 },
 "nbformat": 4,
 "nbformat_minor": 5
}
