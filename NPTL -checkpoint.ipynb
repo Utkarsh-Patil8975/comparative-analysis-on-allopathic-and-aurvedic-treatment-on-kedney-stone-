{
 "cells": [
  {
   "cell_type": "code",
   "execution_count": 56,
   "id": "2b7348da-7fe6-4b03-8233-e5e16e88c087",
   "metadata": {},
   "outputs": [],
   "source": [
    "import scipy \n",
    "import numpy as np\n",
    "from scipy.stats import binom\n",
    "from scipy.stats import poisson \n",
    "from scipy.stats import uniform\n",
    "from scipy.stats import norm\n",
    "from scipy.stats import expon"
   ]
  },
  {
   "cell_type": "code",
   "execution_count": 18,
   "id": "7215205d-a131-4b67-ab8c-9271748fbaf5",
   "metadata": {},
   "outputs": [
    {
     "data": {
      "text/plain": [
       "0.18044704431548356"
      ]
     },
     "execution_count": 18,
     "metadata": {},
     "output_type": "execute_result"
    }
   ],
   "source": [
    "poisson.pmf(3,2)"
   ]
  },
  {
   "cell_type": "code",
   "execution_count": 5,
   "id": "44ffce73-d9a3-4eef-86b9-64ce616d94e5",
   "metadata": {},
   "outputs": [
    {
     "data": {
      "text/plain": [
       "0.22404180765538775"
      ]
     },
     "execution_count": 5,
     "metadata": {},
     "output_type": "execute_result"
    }
   ],
   "source": [
    "poisson.pmf(5,3,2)"
   ]
  },
  {
   "cell_type": "code",
   "execution_count": 7,
   "id": "7d8f8ba2-ee09-45e2-9b53-c9cd6488b09f",
   "metadata": {},
   "outputs": [],
   "source": [
    "prob=poisson.cdf(7,3.2)"
   ]
  },
  {
   "cell_type": "code",
   "execution_count": 8,
   "id": "7607761c-cd70-4bac-9174-88da900f6028",
   "metadata": {},
   "outputs": [
    {
     "data": {
      "text/plain": [
       "0.01682984174895752"
      ]
     },
     "execution_count": 8,
     "metadata": {},
     "output_type": "execute_result"
    }
   ],
   "source": [
    "prob_more_than_7=1-prob\n",
    "prob_more_than_7"
   ]
  },
  {
   "cell_type": "code",
   "execution_count": 11,
   "id": "6b74a728-822d-4d10-82a9-011fb7ce20e6",
   "metadata": {},
   "outputs": [
    {
     "data": {
      "text/plain": [
       "0.052790043854115495"
      ]
     },
     "execution_count": 11,
     "metadata": {},
     "output_type": "execute_result"
    }
   ],
   "source": [
    "poisson.pmf(10,6.4)"
   ]
  },
  {
   "cell_type": "markdown",
   "id": "f5a3aeec-1c8d-4132-b0f3-46e0de0f3b58",
   "metadata": {},
   "source": [
    "# uniform "
   ]
  },
  {
   "cell_type": "code",
   "execution_count": 16,
   "id": "6c2f8ea7-48b5-4640-b43e-0b25b5643b4c",
   "metadata": {},
   "outputs": [
    {
     "data": {
      "text/plain": [
       "array([25, 26, 27, 28, 29, 30, 31, 32, 33, 34, 35, 36, 37, 38, 39, 40, 41,\n",
       "       42, 43, 44, 45, 46, 47, 48, 49])"
      ]
     },
     "execution_count": 16,
     "metadata": {},
     "output_type": "execute_result"
    }
   ],
   "source": [
    "u=np.arange(25,50,1)\n",
    "u"
   ]
  },
  {
   "cell_type": "code",
   "execution_count": null,
   "id": "dd9aa789-565b-4e75-b50d-6ba05d052840",
   "metadata": {},
   "outputs": [],
   "source": []
  },
  {
   "cell_type": "code",
   "execution_count": 29,
   "id": "027a891c-6fdf-4e00-b11a-820bf792e250",
   "metadata": {},
   "outputs": [
    {
     "data": {
      "text/plain": [
       "32.0"
      ]
     },
     "execution_count": 29,
     "metadata": {},
     "output_type": "execute_result"
    }
   ],
   "source": [
    "uniform.mean(loc=25,scale=14)"
   ]
  },
  {
   "cell_type": "code",
   "execution_count": 34,
   "id": "8ec85be2-fb53-4d7a-92d2-050f3ffbdedc",
   "metadata": {},
   "outputs": [
    {
     "data": {
      "text/plain": [
       "array([0.35714286, 0.42857143, 0.5       , 0.57142857, 0.64285714,\n",
       "       0.71428571])"
      ]
     },
     "execution_count": 34,
     "metadata": {},
     "output_type": "execute_result"
    }
   ],
   "source": [
    "uniform.cdf(np.arange(30,36,1), loc=25,scale=14)"
   ]
  },
  {
   "cell_type": "code",
   "execution_count": 38,
   "id": "d8bfeef8-c549-4f4f-a21c-0d2329837eec",
   "metadata": {},
   "outputs": [
    {
     "data": {
      "text/plain": [
       "0.35714284999999996"
      ]
     },
     "execution_count": 38,
     "metadata": {},
     "output_type": "execute_result"
    }
   ],
   "source": [
    "prob=0.71428571-0.35714286\n",
    "prob"
   ]
  },
  {
   "cell_type": "markdown",
   "id": "6aa56f63-116a-4449-95b1-fd87dc12f9b3",
   "metadata": {},
   "source": [
    "### $ 400  to  $1380"
   ]
  },
  {
   "cell_type": "code",
   "execution_count": 40,
   "id": "a9f00015-52f6-457e-8ddc-7fe721ac90b1",
   "metadata": {},
   "outputs": [
    {
     "data": {
      "text/plain": [
       "890.0"
      ]
     },
     "execution_count": 40,
     "metadata": {},
     "output_type": "execute_result"
    }
   ],
   "source": [
    "uniform.mean(loc=400,scale=980)\n"
   ]
  },
  {
   "cell_type": "code",
   "execution_count": 41,
   "id": "3d06cd63-84de-4a36-808c-bb437db96a7e",
   "metadata": {},
   "outputs": [
    {
     "data": {
      "text/plain": [
       "282.9016319029166"
      ]
     },
     "execution_count": 41,
     "metadata": {},
     "output_type": "execute_result"
    }
   ],
   "source": [
    "uniform.std(loc=400,scale=980)"
   ]
  },
  {
   "cell_type": "code",
   "execution_count": 46,
   "id": "15bad120-edec-4667-9fcf-82a7c1a0c26c",
   "metadata": {},
   "outputs": [
    {
     "name": "stderr",
     "output_type": "stream",
     "text": [
      "'[]' is not recognized as an internal or external command,\n",
      "operable program or batch file.\n"
     ]
    }
   ],
   "source": [
    "![](https://ds055uzetaobb.cloudfront.net/brioche/uploads/enBFdM8LyU-basic-normal-distribution.png?width=1200)"
   ]
  },
  {
   "cell_type": "code",
   "execution_count": 50,
   "id": "7cdae9b7-9ec7-468e-8243-3ea0940db87c",
   "metadata": {},
   "outputs": [],
   "source": [
    "val,m,s=68,65.2,3.5"
   ]
  },
  {
   "cell_type": "code",
   "execution_count": 51,
   "id": "471d37df-02ca-44a8-be88-0e39d339869b",
   "metadata": {},
   "outputs": [
    {
     "name": "stdout",
     "output_type": "stream",
     "text": [
      "0.788144601416603\n"
     ]
    }
   ],
   "source": [
    "print(norm.cdf(val,m,s))"
   ]
  },
  {
   "cell_type": "code",
   "execution_count": 52,
   "id": "cf9a9198-1168-4208-a15a-651b47d6c609",
   "metadata": {},
   "outputs": [],
   "source": [
    "## exponential dis"
   ]
  },
  {
   "cell_type": "code",
   "execution_count": 54,
   "id": "36a08a70-1a37-4dd7-88ae-3f18f3d709c3",
   "metadata": {},
   "outputs": [
    {
     "data": {
      "text/plain": [
       "0.7246376811594204"
      ]
     },
     "execution_count": 54,
     "metadata": {},
     "output_type": "execute_result"
    }
   ],
   "source": [
    "mul=1/1.38\n",
    "mul"
   ]
  },
  {
   "cell_type": "code",
   "execution_count": 58,
   "id": "193220c2-6994-42eb-a7ac-0da24291756a",
   "metadata": {},
   "outputs": [
    {
     "data": {
      "text/plain": [
       "0.6447736190750485"
      ]
     },
     "execution_count": 58,
     "metadata": {},
     "output_type": "execute_result"
    }
   ],
   "source": [
    "expon.cdf(0.75,0,(1/1.38))  ## 15/20=0.75 "
   ]
  },
  {
   "cell_type": "code",
   "execution_count": null,
   "id": "b047c3d6-66df-498f-9ab5-cc88250a1648",
   "metadata": {},
   "outputs": [],
   "source": [
    "    "
   ]
  }
 ],
 "metadata": {
  "kernelspec": {
   "display_name": "Python 3 (ipykernel)",
   "language": "python",
   "name": "python3"
  },
  "language_info": {
   "codemirror_mode": {
    "name": "ipython",
    "version": 3
   },
   "file_extension": ".py",
   "mimetype": "text/x-python",
   "name": "python",
   "nbconvert_exporter": "python",
   "pygments_lexer": "ipython3",
   "version": "3.12.0"
  },
  "widgets": {
   "application/vnd.jupyter.widget-state+json": {
    "state": {},
    "version_major": 2,
    "version_minor": 0
   }
  }
 },
 "nbformat": 4,
 "nbformat_minor": 5
}
