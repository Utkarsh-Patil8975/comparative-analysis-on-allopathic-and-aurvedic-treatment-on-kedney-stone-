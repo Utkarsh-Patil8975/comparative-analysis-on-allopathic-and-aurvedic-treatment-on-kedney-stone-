{
 "cells": [
  {
   "cell_type": "code",
   "execution_count": 1,
   "id": "6bbfe4af-1ebf-4fd1-835b-875d7e2fb0f4",
   "metadata": {},
   "outputs": [],
   "source": [
    "a= \"Utkarsh\""
   ]
  },
  {
   "cell_type": "code",
   "execution_count": 2,
   "id": "49a1dc8f-d807-4445-8dd1-81bd7d9b84cf",
   "metadata": {},
   "outputs": [
    {
     "data": {
      "text/plain": [
       "'Ut'"
      ]
     },
     "execution_count": 2,
     "metadata": {},
     "output_type": "execute_result"
    }
   ],
   "source": [
    "a[:2]"
   ]
  },
  {
   "cell_type": "code",
   "execution_count": 3,
   "id": "fb1328f5-0a8f-4533-a36e-562e30b81dc6",
   "metadata": {},
   "outputs": [
    {
     "data": {
      "text/plain": [
       "'sh'"
      ]
     },
     "execution_count": 3,
     "metadata": {},
     "output_type": "execute_result"
    }
   ],
   "source": [
    "a[-2:]"
   ]
  },
  {
   "cell_type": "code",
   "execution_count": 5,
   "id": "4aef6f84-d47d-44d9-a2de-5f0d0d468a84",
   "metadata": {},
   "outputs": [
    {
     "data": {
      "text/plain": [
       "'k'"
      ]
     },
     "execution_count": 5,
     "metadata": {},
     "output_type": "execute_result"
    }
   ],
   "source": [
    "a[2:3]"
   ]
  },
  {
   "cell_type": "code",
   "execution_count": 6,
   "id": "46070fe2-de01-494b-8432-ed9af9efed47",
   "metadata": {},
   "outputs": [
    {
     "data": {
      "text/plain": [
       "'hsraktU'"
      ]
     },
     "execution_count": 6,
     "metadata": {},
     "output_type": "execute_result"
    }
   ],
   "source": [
    "a[::-1]"
   ]
  },
  {
   "cell_type": "code",
   "execution_count": 8,
   "id": "02f0a553-5fed-4e84-a31b-c80f5cf2b4d0",
   "metadata": {},
   "outputs": [
    {
     "name": "stdout",
     "output_type": "stream",
     "text": [
      "['welcome', 'to', 'python']\n"
     ]
    }
   ],
   "source": [
    "x='welcome to python '\n",
    "y=x.split()\n",
    "print(y)"
   ]
  },
  {
   "cell_type": "code",
   "execution_count": 10,
   "id": "71f0693f-1a07-459b-a9fd-b23ad9c3c62d",
   "metadata": {},
   "outputs": [
    {
     "data": {
      "text/plain": [
       "['welcome']"
      ]
     },
     "execution_count": 10,
     "metadata": {},
     "output_type": "execute_result"
    }
   ],
   "source": [
    "x.split()[:1]"
   ]
  },
  {
   "cell_type": "code",
   "execution_count": 12,
   "id": "c7ba7949-994a-40fe-9fd0-7292fb545081",
   "metadata": {},
   "outputs": [
    {
     "data": {
      "text/plain": [
       "['python']"
      ]
     },
     "execution_count": 12,
     "metadata": {},
     "output_type": "execute_result"
    }
   ],
   "source": [
    "x.split()[-1:]"
   ]
  },
  {
   "cell_type": "code",
   "execution_count": null,
   "id": "7a9be7f4-752e-431f-b088-0e1b7a5a7e94",
   "metadata": {},
   "outputs": [],
   "source": [
    "\n"
   ]
  },
  {
   "cell_type": "code",
   "execution_count": 8,
   "id": "70a897cd-4fd6-49cb-8b52-c639d5559bec",
   "metadata": {},
   "outputs": [],
   "source": [
    "##Operation and exression\n",
    "  1) arithmetic operators"
   ]
  },
  {
   "cell_type": "code",
   "execution_count": 6,
   "id": "aa45aeac-271f-495e-8a43-20c4bdc3524a",
   "metadata": {},
   "outputs": [
    {
     "name": "stdout",
     "output_type": "stream",
     "text": [
      "45\n",
      "15\n",
      "450\n",
      "2.0\n"
     ]
    }
   ],
   "source": [
    "a= 30\n",
    "b= 15\n",
    "add= a+b\n",
    "sub= a-b\n",
    "mult=a*b\n",
    "div=a/b\n",
    "\n",
    "\n",
    "print(add)\n",
    "print(sub)\n",
    "print(mult)\n",
    "print(div)"
   ]
  },
  {
   "cell_type": "code",
   "execution_count": 12,
   "id": "e459adaf-8f32-4d51-b874-6e10e073709a",
   "metadata": {},
   "outputs": [],
   "source": [
    "##2) modulas operators"
   ]
  },
  {
   "cell_type": "code",
   "execution_count": 13,
   "id": "e2bfaf0e-e34d-43ea-9626-e01cc5c97a78",
   "metadata": {},
   "outputs": [
    {
     "name": "stdout",
     "output_type": "stream",
     "text": [
      "1\n"
     ]
    }
   ],
   "source": [
    "a=7\n",
    "b=3\n",
    "print(a%b)"
   ]
  },
  {
   "cell_type": "code",
   "execution_count": null,
   "id": "49fe1ff1-53b4-4bda-b3f2-78599cb83ae8",
   "metadata": {},
   "outputs": [],
   "source": [
    "## pracical 3\n",
    " List"
   ]
  },
  {
   "cell_type": "code",
   "execution_count": 14,
   "id": "467f4dae-fe6e-40f0-b430-70d843e579ad",
   "metadata": {},
   "outputs": [
    {
     "name": "stdout",
     "output_type": "stream",
     "text": [
      "['cherry', 'apple', 'banana', 'apple', 'cherry']\n"
     ]
    }
   ],
   "source": [
    "x=[\"cherry\",\"apple\",\"banana\",\"apple\",\"cherry\"]\n",
    "print(x)"
   ]
  },
  {
   "cell_type": "code",
   "execution_count": 17,
   "id": "c63174d7-918b-48cf-bc2a-763c028e45ee",
   "metadata": {},
   "outputs": [
    {
     "name": "stdout",
     "output_type": "stream",
     "text": [
      "['cherry', 1, 2.5, 3.8, True, False]\n"
     ]
    }
   ],
   "source": [
    "list1=[\"cherry\",1,2.5,3.8,True,False]\n",
    "print(list1)\n"
   ]
  },
  {
   "cell_type": "code",
   "execution_count": 4,
   "id": "293f9d10-70a5-4471-8be9-a01a69b7c772",
   "metadata": {},
   "outputs": [
    {
     "name": "stdout",
     "output_type": "stream",
     "text": [
      "cherry\n",
      "apple\n"
     ]
    }
   ],
   "source": [
    "x=[\"banana\",\"cherry\",\"apple\"]\n",
    "print(x[1])\n",
    "print(x[-1])"
   ]
  },
  {
   "cell_type": "code",
   "execution_count": 7,
   "id": "51670e5c-0679-4039-b8de-cd7ea55e759f",
   "metadata": {},
   "outputs": [
    {
     "name": "stdout",
     "output_type": "stream",
     "text": [
      "['cherry', 'mangoes', 'orange']\n",
      "['apple', 'banana', 'cherry', 'mangoes']\n",
      "['cherry', 'mangoes', 'orange', 'melon', 'kiwi']\n"
     ]
    }
   ],
   "source": [
    "y=[\"apple\",\"banana\",\"cherry\",\"mangoes\",\"orange\",\"melon\",\"kiwi\"]\n",
    "print(y[2:5])\n",
    "print(y[:4])\n",
    "print(y[2:])"
   ]
  },
  {
   "cell_type": "code",
   "execution_count": 9,
   "id": "f78b0eae-3069-4c31-b642-60ade638cbd9",
   "metadata": {},
   "outputs": [
    {
     "name": "stdout",
     "output_type": "stream",
     "text": [
      "Yes, 'apple' is in the fruits list\n"
     ]
    }
   ],
   "source": [
    "y= [\"apple\", \"banana\", \"cherry\"]\n",
    "if \"apple\" in y:\n",
    "  print(\"Yes, 'apple' is in the fruits list\")\n"
   ]
  },
  {
   "cell_type": "code",
   "execution_count": 11,
   "id": "b3dc88bb-84fa-4ded-b4f1-639664972ef2",
   "metadata": {},
   "outputs": [
    {
     "name": "stdout",
     "output_type": "stream",
     "text": [
      "['apple', 'blackwater', 'cherry']\n"
     ]
    }
   ],
   "source": [
    "x = [\"apple\", \"banana\", \"cherry\"]\n",
    "x[1] = \"blackwater\"\n",
    "print(x)\n",
    "\n"
   ]
  },
  {
   "cell_type": "code",
   "execution_count": 14,
   "id": "8a28a42b-cbef-41b7-ab17-94e811eae5c9",
   "metadata": {},
   "outputs": [
    {
     "name": "stdout",
     "output_type": "stream",
     "text": [
      "['apple', 'blackwater', 'watermelon', 'cherry']\n"
     ]
    }
   ],
   "source": [
    "a= [\"apple\", \"banana\", \"cherry\"]\n",
    "a[1:2] = [\"blackwater\", \"watermelon\"]\n",
    "print(a)\n"
   ]
  },
  {
   "cell_type": "code",
   "execution_count": null,
   "id": "44440873-10b9-4ba2-b2c0-7078898875cc",
   "metadata": {},
   "outputs": [],
   "source": []
  },
  {
   "cell_type": "code",
   "execution_count": 15,
   "id": "7a4d137b-97db-4db9-bd80-aa9064bd1752",
   "metadata": {},
   "outputs": [
    {
     "name": "stdout",
     "output_type": "stream",
     "text": [
      "['apple', 'banana', 'cherry', 'orange']\n"
     ]
    }
   ],
   "source": [
    "x = [\"apple\", \"banana\", \"cherry\"]\n",
    "x.append(\"orange\")\n",
    "print(x)\n"
   ]
  },
  {
   "cell_type": "code",
   "execution_count": null,
   "id": "4a32ecda-2502-4417-b04c-ec3dec0cf14c",
   "metadata": {},
   "outputs": [],
   "source": [
    "## practical 4\n",
    " Tuple"
   ]
  },
  {
   "cell_type": "code",
   "execution_count": 17,
   "id": "dd1c883d-0176-4dfe-8586-460a4bebbf54",
   "metadata": {},
   "outputs": [
    {
     "name": "stdout",
     "output_type": "stream",
     "text": [
      "('apple', 'cherry', 'banana', 'orange')\n"
     ]
    }
   ],
   "source": [
    "data=(\"apple\",\"cherry\",\"banana\",\"orange\")\n",
    "print(data)"
   ]
  },
  {
   "cell_type": "code",
   "execution_count": 20,
   "id": "1e4b7865-73c1-4a3b-a63b-c55466060713",
   "metadata": {},
   "outputs": [
    {
     "name": "stdout",
     "output_type": "stream",
     "text": [
      "('utkarsh', 50, 43, True, 'male')\n"
     ]
    }
   ],
   "source": [
    "x=(\"utkarsh\",50,43,True,\"male\")\n",
    "print(x)"
   ]
  },
  {
   "cell_type": "code",
   "execution_count": 21,
   "id": "ded8601f-786c-409a-8b95-72528cfd8ddd",
   "metadata": {},
   "outputs": [
    {
     "name": "stdout",
     "output_type": "stream",
     "text": [
      "<class 'tuple'>\n"
     ]
    }
   ],
   "source": [
    "x=(\"banana\",\"cherry\",\"orange\")\n",
    "print(type(x))"
   ]
  },
  {
   "cell_type": "code",
   "execution_count": 2,
   "id": "05ff0923-1945-46b1-a762-01d8dc8095ac",
   "metadata": {},
   "outputs": [
    {
     "name": "stdout",
     "output_type": "stream",
     "text": [
      "orange\n"
     ]
    }
   ],
   "source": [
    "x=(\"banana\",\"chery\",\"orange\")\n",
    "print(x[-1])"
   ]
  },
  {
   "cell_type": "code",
   "execution_count": 6,
   "id": "badcacc7-2ec2-431f-b128-13a003c03d5d",
   "metadata": {},
   "outputs": [
    {
     "name": "stdout",
     "output_type": "stream",
     "text": [
      "('orange', 'apple', 'watermilen')\n"
     ]
    }
   ],
   "source": [
    "x=(\"banana\",\"cherry\",\"orange\",\"apple\",\"watermilen\",\"kiwi\",\"mangos\")\n",
    "print(x[2:5])"
   ]
  },
  {
   "cell_type": "code",
   "execution_count": 7,
   "id": "cef94b79-c649-46c3-9510-6238cf04c5e5",
   "metadata": {},
   "outputs": [
    {
     "name": "stdout",
     "output_type": "stream",
     "text": [
      "('banana', 'cherry', 'orange', 'apple', 'watermilen')\n"
     ]
    }
   ],
   "source": [
    "x=(\"banana\",\"cherry\",\"orange\",\"apple\",\"watermilen\",\"kiwi\",\"mangos\")\n",
    "print(x[:5])"
   ]
  },
  {
   "cell_type": "code",
   "execution_count": 9,
   "id": "f31ee38f-334b-484a-821a-7012dd49e01f",
   "metadata": {},
   "outputs": [
    {
     "name": "stdout",
     "output_type": "stream",
     "text": [
      "('apple', 'watermilen', 'kiwi')\n"
     ]
    }
   ],
   "source": [
    "x=(\"banana\",\"cherry\",\"orange\",\"apple\",\"watermilen\",\"kiwi\",\"mangos\")\n",
    "print(x[-4:-1])"
   ]
  },
  {
   "cell_type": "code",
   "execution_count": 21,
   "id": "44efb513-a0cd-44a2-abab-4cec58727bf8",
   "metadata": {},
   "outputs": [
    {
     "name": "stdout",
     "output_type": "stream",
     "text": [
      "Yes,'apple'is in the fruits tuple\n"
     ]
    }
   ],
   "source": [
    "x=(\"apple\",\"banana\",\"cherry\")\n",
    "if\"apple\" in x:\n",
    "    print(\"Yes,'apple'is in the fruits tuple\")"
   ]
  },
  {
   "cell_type": "code",
   "execution_count": 23,
   "id": "2171122a-7d00-4d12-90ad-fc1ae2a3f8b6",
   "metadata": {},
   "outputs": [
    {
     "name": "stdout",
     "output_type": "stream",
     "text": [
      "Yes, 'apple' is in the fruits tuple\n"
     ]
    }
   ],
   "source": [
    "x = (\"apple\", \"banana\", \"cherry\")\n",
    "if \"apple\" in x:\n",
    "    print(\"Yes, 'apple' is in the fruits tuple\")\n"
   ]
  },
  {
   "cell_type": "code",
   "execution_count": null,
   "id": "c268e23b-2d21-48b8-b81b-142867b48265",
   "metadata": {},
   "outputs": [],
   "source": [
    "##Dictionary"
   ]
  },
  {
   "cell_type": "code",
   "execution_count": 9,
   "id": "4284e21c-fc5e-4e1f-b259-0ee4aed3b800",
   "metadata": {},
   "outputs": [
    {
     "name": "stdout",
     "output_type": "stream",
     "text": [
      "{'brand': 'Ford', 'model': 'Mustang', 'year': 1964}\n"
     ]
    }
   ],
   "source": [
    "xdict=   {\n",
    "    \"brand\": \"Ford\",\n",
    "    \"model\": \"Mustang\",\n",
    "    \"year\":1964\n",
    "}\n",
    "print(xdict)\n",
    "\n"
   ]
  },
  {
   "cell_type": "code",
   "execution_count": 11,
   "id": "bb7f2dd3-be64-41e3-91e9-7a1a15956117",
   "metadata": {},
   "outputs": [
    {
     "name": "stdout",
     "output_type": "stream",
     "text": [
      "Mustang\n"
     ]
    }
   ],
   "source": [
    "xdict={\n",
    "    \"brand\":\"Ford\",\n",
    "    \"model\":\"Mustang\",\n",
    "    \"year\":1965\n",
    "}\n",
    "print(xdict[\"model\"])"
   ]
  },
  {
   "cell_type": "code",
   "execution_count": 12,
   "id": "a5db732a-2756-4564-a345-20222b6bca42",
   "metadata": {},
   "outputs": [
    {
     "name": "stdout",
     "output_type": "stream",
     "text": [
      "{'brand': 'Ford', 'model': 'Mustang', 'year': 2020}\n"
     ]
    }
   ],
   "source": [
    "xdict={\n",
    "    \"brand\":\"Ford\",\n",
    "    \"model\":\"Mustang\",\n",
    "    \"year\":1965\n",
    "}\n",
    "xdict[\"year\"]=2020\n",
    "print(xdict)"
   ]
  },
  {
   "cell_type": "code",
   "execution_count": 15,
   "id": "e0448263-d0ce-4089-929b-43cbb9c44210",
   "metadata": {},
   "outputs": [
    {
     "name": "stdout",
     "output_type": "stream",
     "text": [
      "brand\n",
      "model\n",
      "year\n"
     ]
    }
   ],
   "source": [
    "xdict={\n",
    "    \"brand\":\"Ford\",\n",
    "    \"model\":\"Mustang\",\n",
    "    \"year\":1965\n",
    "}\n",
    "for x in xdict:\n",
    "  print(x)"
   ]
  },
  {
   "cell_type": "code",
   "execution_count": 16,
   "id": "4667031d-f8ba-4670-b3f2-992f65598379",
   "metadata": {},
   "outputs": [
    {
     "name": "stdout",
     "output_type": "stream",
     "text": [
      "Ford\n",
      "Mustang\n",
      "1965\n"
     ]
    }
   ],
   "source": [
    "xdict={\n",
    "    \"brand\":\"Ford\",\n",
    "    \"model\":\"Mustang\",\n",
    "    \"year\":1965\n",
    "}\n",
    "for x in xdict:\n",
    "    print(xdict[x])"
   ]
  },
  {
   "cell_type": "code",
   "execution_count": 17,
   "id": "4fe70342-695f-405e-84bc-ffffaba0efa2",
   "metadata": {},
   "outputs": [
    {
     "name": "stdout",
     "output_type": "stream",
     "text": [
      "Yes,'brand'is one of the key in the xdict dictionary\n"
     ]
    }
   ],
   "source": [
    "xdict={\n",
    "    \"brand\":\"Ford\",\n",
    "    \"model\":\"Mustang\",\n",
    "    \"year\":1965\n",
    "}\n",
    "if \"brand\" in xdict:\n",
    "    print(\"Yes,'brand'is one of the key in the xdict dictionary\")\n",
    "\n"
   ]
  },
  {
   "cell_type": "code",
   "execution_count": 19,
   "id": "33bbd998-0f0d-4fc2-8a0e-9e954f663667",
   "metadata": {},
   "outputs": [
    {
     "name": "stdout",
     "output_type": "stream",
     "text": [
      "3\n"
     ]
    }
   ],
   "source": [
    "xdict={\n",
    "    \"brand\":\"Ford\",\n",
    "    \"model\":\"Mustang\",\n",
    "    \"year\":1965\n",
    "}\n",
    "print(len(xdict))"
   ]
  },
  {
   "cell_type": "code",
   "execution_count": 22,
   "id": "c45435cc-89a5-4859-ac68-58e96a7ddd05",
   "metadata": {},
   "outputs": [
    {
     "name": "stdout",
     "output_type": "stream",
     "text": [
      "{'brand': 'Ford', 'model': 'Mustang', 'year': 1965, 'fruit': 'Apple'}\n"
     ]
    }
   ],
   "source": [
    "xdict={\n",
    "    \"brand\":\"Ford\",\n",
    "    \"model\":\"Mustang\",\n",
    "    \"year\":1965\n",
    "}\n",
    "xdict[\"fruit\"]=\"Apple\"\n",
    "print(xdict)"
   ]
  },
  {
   "cell_type": "code",
   "execution_count": 23,
   "id": "d3ff1e55-8368-4d91-a9c6-99d2a63f8044",
   "metadata": {},
   "outputs": [
    {
     "name": "stdout",
     "output_type": "stream",
     "text": [
      "{'brand': 'Ford', 'year': 1965}\n"
     ]
    }
   ],
   "source": [
    "xdict={\n",
    "    \"brand\":\"Ford\",\n",
    "    \"model\":\"Mustang\",\n",
    "    \"year\":1965\n",
    "}\n",
    "xdict.pop(\"model\")\n",
    "print(xdict)"
   ]
  },
  {
   "cell_type": "code",
   "execution_count": 5,
   "id": "02d3b92e-79ff-4951-b81e-b610f1dcbbac",
   "metadata": {},
   "outputs": [
    {
     "name": "stdout",
     "output_type": "stream",
     "text": [
      "{'brand': 'Ford', 'model': 'Mustang', 'year': 1965}\n"
     ]
    }
   ],
   "source": [
    "thedic=dict(brand=\"Ford\",model=\"Mustang\",year=1965)\n",
    "print(thedic)"
   ]
  },
  {
   "cell_type": "code",
   "execution_count": null,
   "id": "12ccb81b-faf0-4acc-be40-153954adf018",
   "metadata": {},
   "outputs": [],
   "source": [
    "## pratical 6\n",
    "Set"
   ]
  },
  {
   "cell_type": "code",
   "execution_count": 6,
   "id": "326060b2-fb41-4fbf-acbf-351c150bf33a",
   "metadata": {},
   "outputs": [
    {
     "name": "stdout",
     "output_type": "stream",
     "text": [
      "{'banana', 'cherry', 'apple'}\n"
     ]
    }
   ],
   "source": [
    "x={\"banana\",\"apple\",\"cherry\",\"banana\",\"cherry\"}\n",
    "print(x)\n"
   ]
  },
  {
   "cell_type": "code",
   "execution_count": 7,
   "id": "5de7700c-1380-4ae4-b2a5-ea82713bb5c2",
   "metadata": {},
   "outputs": [
    {
     "name": "stdout",
     "output_type": "stream",
     "text": [
      "3\n"
     ]
    }
   ],
   "source": [
    "x={\"banana\",\"apple\",\"cherry\",\"banana\",\"cherry\"}\n",
    "print(len(x))"
   ]
  },
  {
   "cell_type": "code",
   "execution_count": 11,
   "id": "df1df68e-a7a4-4ae8-8f9b-9ab939282b22",
   "metadata": {},
   "outputs": [
    {
     "name": "stdout",
     "output_type": "stream",
     "text": [
      "{False, 98, 'bat', 'fox', 56, 89}\n"
     ]
    }
   ],
   "source": [
    "x={\"fox\",56,98,False,\"bat\",56,89}\n",
    "print(x)"
   ]
  },
  {
   "cell_type": "code",
   "execution_count": 13,
   "id": "dae2b206-3cf4-49e2-9a18-88dcd8220ce1",
   "metadata": {},
   "outputs": [
    {
     "name": "stdout",
     "output_type": "stream",
     "text": [
      "<class 'set'>\n"
     ]
    }
   ],
   "source": [
    "x={\"ford\",\"banana\"}\n",
    "print(type(x))"
   ]
  },
  {
   "cell_type": "code",
   "execution_count": 14,
   "id": "14385dff-030d-4c36-9ead-b922979ab069",
   "metadata": {},
   "outputs": [
    {
     "name": "stdout",
     "output_type": "stream",
     "text": [
      "{'orange', 'banana', 'cherry'}\n"
     ]
    }
   ],
   "source": [
    "x=set((\"banana\",\"cherry\",\"orange\"))\n",
    "print(x)"
   ]
  },
  {
   "cell_type": "code",
   "execution_count": 16,
   "id": "bcbfc435-5ac2-47e6-aead-780c14e63ef0",
   "metadata": {},
   "outputs": [
    {
     "name": "stdout",
     "output_type": "stream",
     "text": [
      "True\n"
     ]
    }
   ],
   "source": [
    "x={\"banana\",\"cherry\",\"apple\"}\n",
    "print(\"banana\" in x)"
   ]
  },
  {
   "cell_type": "code",
   "execution_count": 17,
   "id": "0b1728ff-84b5-40dc-8b6e-24a4e1c7d671",
   "metadata": {},
   "outputs": [
    {
     "name": "stdout",
     "output_type": "stream",
     "text": [
      "{'banana', 'kiwi', 'cherry', 'apple'}\n"
     ]
    }
   ],
   "source": [
    "x={\"banana\",\"cherry\",\"apple\"}\n",
    "x.add(\"kiwi\")\n",
    "print(x)"
   ]
  },
  {
   "cell_type": "code",
   "execution_count": 18,
   "id": "d1dde3c2-d889-4b0c-abe4-9792029a0bbb",
   "metadata": {},
   "outputs": [
    {
     "name": "stdout",
     "output_type": "stream",
     "text": [
      "{'ford', 'banana', 'mustang'}\n"
     ]
    }
   ],
   "source": [
    "x={\"ford\",\"mustang\",\"banana\",\"apple\"}\n",
    "x.remove(\"apple\")\n",
    "print(x)"
   ]
  },
  {
   "cell_type": "code",
   "execution_count": 25,
   "id": "912c8f68-e3eb-407f-97dc-dd073afd2345",
   "metadata": {},
   "outputs": [
    {
     "name": "stdout",
     "output_type": "stream",
     "text": [
      "{'mustang', 'cherry'}\n",
      "banana\n"
     ]
    }
   ],
   "source": [
    "x={\"mustang\",\"banana\",\"cherry\"}\n",
    "y=x.pop()\n",
    "print(x)#remove item\n",
    "print(y)#the set after removel"
   ]
  },
  {
   "cell_type": "code",
   "execution_count": 26,
   "id": "c6dc97f2-9d50-4caa-888a-5395622c3c03",
   "metadata": {},
   "outputs": [
    {
     "name": "stdout",
     "output_type": "stream",
     "text": [
      "{'cherry', 'apple'}\n"
     ]
    }
   ],
   "source": [
    "thisset = {\"apple\", \"banana\", \"cherry\"}\n",
    "thisset.remove(\"banana\")\n",
    "print(thisset)\n"
   ]
  },
  {
   "cell_type": "code",
   "execution_count": null,
   "id": "02b60a10-ce58-49e9-a2da-95757353cdf1",
   "metadata": {},
   "outputs": [],
   "source": [
    "## practical no 7\n",
    " #If and if else loop"
   ]
  },
  {
   "cell_type": "code",
   "execution_count": 35,
   "id": "9e95fe11-6e49-432f-95a6-080a96ddcaa0",
   "metadata": {},
   "outputs": [
    {
     "name": "stdout",
     "output_type": "stream",
     "text": [
      "b is greter than a\n"
     ]
    }
   ],
   "source": [
    "a=20\n",
    "b=60\n",
    "if b>a:\n",
    " print(\"b is greter than a\")"
   ]
  },
  {
   "cell_type": "code",
   "execution_count": 36,
   "id": "db026bd1-aa15-4038-bbbc-318e6eafea14",
   "metadata": {},
   "outputs": [
    {
     "name": "stdout",
     "output_type": "stream",
     "text": [
      "a is greter than b\n"
     ]
    }
   ],
   "source": [
    "a=600\n",
    "b=50\n",
    "if b>a:\n",
    "    print(\"b is greter than a\")\n",
    "elif a==b:\n",
    "    print(\"a and b are equal\")\n",
    "else:\n",
    "    print(\"a is greter than b\")"
   ]
  },
  {
   "cell_type": "code",
   "execution_count": 40,
   "id": "419c1380-bf6c-4739-a30d-0f25f05260f5",
   "metadata": {},
   "outputs": [
    {
     "name": "stdout",
     "output_type": "stream",
     "text": [
      "b is greter than a\n"
     ]
    }
   ],
   "source": [
    "a=90\n",
    "b=102\n",
    "if b>a:\n",
    " print(\"b is greter than a\")\n",
    "elif a==b:\n",
    " print(\"a and b are equal\")\n",
    "else:\n",
    " print(\"a is greter than b\")"
   ]
  },
  {
   "cell_type": "code",
   "execution_count": 1,
   "id": "c6e60d1b-7ae6-4add-a04f-be1d440a6835",
   "metadata": {},
   "outputs": [
    {
     "name": "stdout",
     "output_type": "stream",
     "text": [
      "b is greter than a\n"
     ]
    }
   ],
   "source": [
    "a=30\n",
    "b=60\n",
    "if b>a:\n",
    "    print(\"b is greter than a\")\n",
    "elif a==b:\n",
    "    print(\" a and b are equal\")\n",
    "else:\n",
    "    print(\"a is greter than b\")"
   ]
  },
  {
   "cell_type": "code",
   "execution_count": 3,
   "id": "3dc24e85-32d0-455f-964f-82603a458330",
   "metadata": {},
   "outputs": [
    {
     "name": "stdout",
     "output_type": "stream",
     "text": [
      "Positive number\n"
     ]
    }
   ],
   "source": [
    "num=20\n",
    "if num>=0:\n",
    "    if num==0:\n",
    "        print(\"zero\")\n",
    "    else:\n",
    "        print(\"Positive number\")\n",
    "else:\n",
    "    print(\"Negative number\")"
   ]
  },
  {
   "cell_type": "code",
   "execution_count": 4,
   "id": "14eb186a-26f7-4036-81cf-79a0cf2069dd",
   "metadata": {},
   "outputs": [
    {
     "name": "stdout",
     "output_type": "stream",
     "text": [
      "Negative number\n"
     ]
    }
   ],
   "source": [
    "A=-15\n",
    "if A>=0:\n",
    "    if A==0:\n",
    "        print(\"zero\")\n",
    "    else:\n",
    "        print(\"Positive number\")\n",
    "else:\n",
    "    print(\"Negative number\")"
   ]
  },
  {
   "cell_type": "code",
   "execution_count": 17,
   "id": "630dffce-544e-4a67-a388-a9ff88f3f302",
   "metadata": {},
   "outputs": [
    {
     "ename": "IndentationError",
     "evalue": "expected an indented block after 'if' statement on line 5 (2888824627.py, line 6)",
     "output_type": "error",
     "traceback": [
      "\u001b[1;36m  Cell \u001b[1;32mIn[17], line 6\u001b[1;36m\u001b[0m\n\u001b[1;33m    print(\"x is greater\")\u001b[0m\n\u001b[1;37m    ^\u001b[0m\n\u001b[1;31mIndentationError\u001b[0m\u001b[1;31m:\u001b[0m expected an indented block after 'if' statement on line 5\n"
     ]
    }
   ],
   "source": [
    "x=44\n",
    "y=55\n",
    "z=50\n",
    "if(x>y):\n",
    "    if(x>z):\n",
    "    print(\"x is greater\")\n",
    "if(y>x):\n",
    "    if(y>z):\n",
    "    print(\"y is greatest\")\n",
    "if(z>x):\n",
    "    if (z>y):\n",
    "    print(\"z is greatest\")"
   ]
  },
  {
   "cell_type": "code",
   "execution_count": 19,
   "id": "59e6d7d7-7b71-4f9b-a198-3b2382b8853c",
   "metadata": {},
   "outputs": [
    {
     "ename": "IndentationError",
     "evalue": "expected an indented block after 'if' statement on line 5 (2089634109.py, line 6)",
     "output_type": "error",
     "traceback": [
      "\u001b[1;36m  Cell \u001b[1;32mIn[19], line 6\u001b[1;36m\u001b[0m\n\u001b[1;33m    print(\"a is greater\")\u001b[0m\n\u001b[1;37m    ^\u001b[0m\n\u001b[1;31mIndentationError\u001b[0m\u001b[1;31m:\u001b[0m expected an indented block after 'if' statement on line 5\n"
     ]
    }
   ],
   "source": [
    "a = 40\n",
    "b = 80\n",
    "c = 70\n",
    "if(a>b):\n",
    "    if(a>c):\n",
    "    print(\"a is greater\")\n",
    "if(b>a):\n",
    "    if(b>c):\n",
    "    print(\"b is greatest\")\n",
    "           if(c>a):\n",
    "if(c>b):\n",
    "    print(\"c is greatest\")\n",
    "\n"
   ]
  },
  {
   "cell_type": "code",
   "execution_count": null,
   "id": "4f028483-5bad-4e7c-8a5b-000a6c6aa986",
   "metadata": {},
   "outputs": [],
   "source": [
    "## practical 8\n",
    " For Loop"
   ]
  },
  {
   "cell_type": "code",
   "execution_count": 24,
   "id": "0eb0d59b-20ad-4e39-b4a1-883f65f8d5ab",
   "metadata": {},
   "outputs": [
    {
     "name": "stdout",
     "output_type": "stream",
     "text": [
      "1\n",
      "3\n",
      "5\n",
      "7\n",
      "9\n"
     ]
    }
   ],
   "source": [
    "for i in range (1,10,2):\n",
    "    print (i)"
   ]
  },
  {
   "cell_type": "code",
   "execution_count": 29,
   "id": "15f09c20-4f57-4b78-b6f9-d81b9206f89e",
   "metadata": {},
   "outputs": [
    {
     "name": "stdout",
     "output_type": "stream",
     "text": [
      "1\n",
      "4\n",
      "7\n",
      "10\n",
      "13\n",
      "16\n",
      "19\n"
     ]
    }
   ],
   "source": [
    "for i in range (1,20,3):\n",
    "    print(i)"
   ]
  },
  {
   "cell_type": "markdown",
   "id": "b588153f-5779-4b36-b2a4-0e6710239cac",
   "metadata": {},
   "source": []
  },
  {
   "cell_type": "code",
   "execution_count": 32,
   "id": "7d15245b-ca4e-403a-a7fe-1e49a337aa0d",
   "metadata": {},
   "outputs": [
    {
     "name": "stdout",
     "output_type": "stream",
     "text": [
      "20\n",
      "50\n",
      "40\n",
      "6\n",
      "280\n",
      "50\n",
      "65\n"
     ]
    }
   ],
   "source": [
    " utkarsh=[20,50,40,6,280,50,65]\n",
    " for i in utkarsh:\n",
    "     print(i)"
   ]
  },
  {
   "cell_type": "code",
   "execution_count": null,
   "id": "35f57655-dfbc-4696-90e7-78e2a1b44f01",
   "metadata": {},
   "outputs": [],
   "source": [
    "for i in utkarsh[::3]:\n",
    "    print(i)"
   ]
  },
  {
   "cell_type": "code",
   "execution_count": null,
   "id": "1e40d662-81d8-46cd-97ea-24e6138060b9",
   "metadata": {},
   "outputs": [],
   "source": [
    "## practical 9\n",
    " While Loop"
   ]
  },
  {
   "cell_type": "code",
   "execution_count": null,
   "id": "2a8b71d4-2b70-4c0a-989a-2c70cde540b1",
   "metadata": {},
   "outputs": [],
   "source": [
    "count=0\n",
    "while(count<3):\n",
    "    count=count=1\n",
    "    print(\"Hello\")"
   ]
  },
  {
   "cell_type": "code",
   "execution_count": null,
   "id": "6c6606b0-355c-4352-852b-ec4fd308b16a",
   "metadata": {},
   "outputs": [],
   "source": [
    "count = 0\n",
    "while (count < 3):\n",
    "\tcount = count + 1\n",
    "\tprint(\"Hello\")\n"
   ]
  },
  {
   "cell_type": "code",
   "execution_count": null,
   "id": "ed1287cb-3736-435e-a01c-9fa166435370",
   "metadata": {},
   "outputs": [],
   "source": []
  }
 ],
 "metadata": {
  "kernelspec": {
   "display_name": "Python 3 (ipykernel)",
   "language": "python",
   "name": "python3"
  },
  "language_info": {
   "codemirror_mode": {
    "name": "ipython",
    "version": 3
   },
   "file_extension": ".py",
   "mimetype": "text/x-python",
   "name": "python",
   "nbconvert_exporter": "python",
   "pygments_lexer": "ipython3",
   "version": "3.12.0"
  },
  "widgets": {
   "application/vnd.jupyter.widget-state+json": {
    "state": {},
    "version_major": 2,
    "version_minor": 0
   }
  }
 },
 "nbformat": 4,
 "nbformat_minor": 5
}
