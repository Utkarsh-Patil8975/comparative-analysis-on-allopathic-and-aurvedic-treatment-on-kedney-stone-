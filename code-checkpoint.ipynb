{
 "cells": [
  {
   "cell_type": "code",
   "execution_count": null,
   "id": "a0c907d5-7b81-47dc-8503-abfb7b128771",
   "metadata": {},
   "outputs": [],
   "source": [
    "## check normality (shapiro )\n",
    "column_data = data['Do you exercise']\n",
    "stat, p_value = stats.shapiro(column_data)\n",
    "print(f'Statistic: {stat}, p-value: {p_value}')\n",
    "alpha = 0.05\n",
    "if p_value < alpha:\n",
    "    print(\"Reject the null hypothesis (not normal)\")\n",
    "else:\n",
    "    print(\"Fail to reject the null hypothesis (normal)\")\n",
    "\n"
   ]
  },
  {
   "cell_type": "code",
   "execution_count": null,
   "id": "cc749e81-ecd4-40b9-947d-e2608e5a575f",
   "metadata": {},
   "outputs": [],
   "source": [
    "##chi square test\n",
    "contingency_table=pd.crosstab(data['Gender :'],data['Where do you live ?'])\n",
    "contingency_table\n",
    "\n",
    "chi2_stat,p_value,dof,expected= chi2_contingency(contingency_table)\n",
    "print(f\"Chi2 Stat: {chi2_stat}\")\n",
    "print(f\"P-value: {p_value}\")\n",
    "print(f\"Degrees of freedom: {dof}\")\n",
    "print(f\"Expected frequencies table:\")\n",
    "print(expected)"
   ]
  },
  {
   "cell_type": "code",
   "execution_count": null,
   "id": "67a2b276-07cf-4c6e-a647-55d123789b77",
   "metadata": {},
   "outputs": [],
   "source": [
    "#sacked bar percentage \n",
    "categories = ['Category A', 'Category B', 'Category C', 'Category D']\n",
    "percentages = [20, 35, 15, 30]  # Replace these values with your data\n",
    "\n",
    "# Plotting the bar chart\n",
    "plt.bar(categories, percentages, color='blue')\n",
    "\n",
    "# Adding labels and title\n",
    "plt.xlabel('Categories')\n",
    "plt.ylabel('Percentage')\n",
    "plt.title('Sacked Bar Percentage')\n",
    "\n",
    "# Display the plot\n",
    "plt.show()"
   ]
  },
  {
   "cell_type": "code",
   "execution_count": null,
   "id": "43dd9b20-e8b2-4bde-ab67-1ff2efd9be13",
   "metadata": {},
   "outputs": [],
   "source": [
    "##bar diagram\n",
    "categories=['yes','no']\n",
    "values1=[108,44]\n",
    "values2=[104,22]\n",
    "plt.bar(categories,values1,label='male')\n",
    "plt.bar(categories,values2,bottom=values1,label='female')\n",
    "plt.xlabel('categories')\n",
    "plt.ylabel('values')\n",
    "plt.legend()\n",
    "plt.show\n"
   ]
  },
  {
   "cell_type": "code",
   "execution_count": null,
   "id": "fe1f0392-5672-4eb9-b654-e27f49f73d0c",
   "metadata": {},
   "outputs": [],
   "source": [
    "##histogram\n",
    "d=[138,70,46,24]\n",
    "x=[\"Spend time in nature\",\"Try to  relax and reduce stress\",\"Connect with other\",\"Improve your sleep\"]\n",
    "plt.barh(x,d)\n",
    "plt.xlabel('values')\n",
    "plt.ylabel('frequency')\n",
    "plt.title('Histogram')         \n",
    "plt.show()"
   ]
  },
  {
   "cell_type": "code",
   "execution_count": null,
   "id": "041f4ef7-79d4-42aa-8600-9fa501cbc02b",
   "metadata": {},
   "outputs": [],
   "source": [
    "## percentage( without for loop)\n",
    "price_range_counts = data['Price range'].value_counts()\n",
    "total_restaurants = len(data)\n",
    "percentage_per_category = (price_range_counts / total_restaurants) * 100\n",
    "\n",
    "print(\"Percentage of restaurants in each price range category:\")\n",
    "print(percentage_per_category)"
   ]
  },
  {
   "cell_type": "code",
   "execution_count": 1,
   "id": "624bafe1-7cc5-42cc-9e7c-ff540fcdab35",
   "metadata": {},
   "outputs": [
    {
     "ename": "NameError",
     "evalue": "name 'data' is not defined",
     "output_type": "error",
     "traceback": [
      "\u001b[1;31m---------------------------------------------------------------------------\u001b[0m",
      "\u001b[1;31mNameError\u001b[0m                                 Traceback (most recent call last)",
      "Cell \u001b[1;32mIn[1], line 2\u001b[0m\n\u001b[0;32m      1\u001b[0m \u001b[38;5;66;03m##precentage\u001b[39;00m\n\u001b[1;32m----> 2\u001b[0m top_cuisines \u001b[38;5;241m=\u001b[39m \u001b[43mdata\u001b[49m[\u001b[38;5;124m'\u001b[39m\u001b[38;5;124mPrice range\u001b[39m\u001b[38;5;124m'\u001b[39m]\u001b[38;5;241m.\u001b[39mvalue_counts()\u001b[38;5;241m.\u001b[39mhead(\u001b[38;5;241m3\u001b[39m)\n\u001b[0;32m      3\u001b[0m total_restaurants \u001b[38;5;241m=\u001b[39m \u001b[38;5;28mlen\u001b[39m(data)\n\u001b[0;32m      4\u001b[0m \u001b[38;5;28mprint\u001b[39m(\u001b[38;5;124m\"\u001b[39m\u001b[38;5;124mPercentage of Restaurants Serving Each of the Top Cuisines:\u001b[39m\u001b[38;5;124m\"\u001b[39m)\n",
      "\u001b[1;31mNameError\u001b[0m: name 'data' is not defined"
     ]
    }
   ],
   "source": [
    "##precentage\n",
    "top_cuisines = data['Price range'].value_counts().head(3)\n",
    "total_restaurants = len(data)\n",
    "print(\"Percentage of Restaurants Serving Each of the Top Cuisines:\")\n",
    "for cuisine, count in top_cuisines.items():\n",
    "    percentage = (count / total_restaurants) * 100\n",
    "    print(f\"{cuisine}: {percentage:.2f}%\")"
   ]
  },
  {
   "cell_type": "markdown",
   "id": "96717b63-4c3b-4b36-92d6-40e50f51a707",
   "metadata": {},
   "source": [
    "# kruskal wallis test\n"
   ]
  },
  {
   "cell_type": "code",
   "execution_count": null,
   "id": "d67809db-f47d-4e4c-a8e0-135b1e0276db",
   "metadata": {},
   "outputs": [],
   "source": [
    "# K W test\n",
    "groups = [data[data['Duration of treatment'] == group]['How satisfied are you with the overall treatment?'] for group in data['Duration of treatment'].unique()]\n",
    "\n",
    "# Performing Kruskal-Wallis test\n",
    "h_statistic, p_value = stats.kruskal(*groups)\n",
    "\n",
    "# Printing the results\n",
    "print(\"H-Statistic:\", h_statistic)\n",
    "print(\"P-Value:\", p_value)\n",
    "\n",
    "# Checking significance\n",
    "alpha = 0.05\n",
    "if p_value < alpha:\n",
    "    print(\"Reject null hypothesis: There is significant evidence that at least one group median is different.\")\n",
    "else:\n",
    "    print(\"Fail to reject null hypothesis: There is no significant evidence that the group medians are different.\")"
   ]
  },
  {
   "cell_type": "markdown",
   "id": "b32ea2b6-22d3-49fb-b1d4-1fafef60037d",
   "metadata": {},
   "source": [
    "# Mann whitney U test"
   ]
  },
  {
   "cell_type": "code",
   "execution_count": null,
   "id": "bb297562-8f44-4dc0-a5ff-22f7cc6747ef",
   "metadata": {},
   "outputs": [],
   "source": [
    "sample1 = data['How would you rate your overall well-being before the treatment?']\n",
    "sample2 = data['How would you rate your overall well-being after the treatment?']\n",
    "\n",
    "u_statistic, p_value = mannwhitneyu(sample1, sample2)\n",
    "\n",
    "# Print the results\n",
    "print(\"Mann-Whitney U statistic:\", u_statistic)\n",
    "print(\"P-value:\", p_value)\n",
    "\n",
    "# Interpret the results\n",
    "alpha = 0.05  # significance level\n",
    "if p_value < alpha:\n",
    "    print(\"Reject the null hypothesis. There is a significant difference between the two samples.\")\n",
    "else:\n",
    "    print(\"Fail to reject the null hypothesis. There is no significant difference between the two samples.\")"
   ]
  },
  {
   "cell_type": "markdown",
   "id": "31a9e20c-dd39-4185-a110-03c1c068067e",
   "metadata": {},
   "source": [
    "# wilcoxon sign rank test"
   ]
  },
  {
   "cell_type": "code",
   "execution_count": null,
   "id": "b5cb6089-ca0e-4ff0-b5bc-e233533b4569",
   "metadata": {},
   "outputs": [],
   "source": [
    "before= data['How would you rate your overall well-being before the treatment?']\n",
    "after= data['How would you rate your overall well-being after the treatment?']\n",
    "statistic, p_value = wilcoxon(before, after)\n",
    "\n",
    "# Print the test statistic and p-value\n",
    "print(\"Test Statistic:\", statistic)\n",
    "print(\"p-value:\", p_value)"
   ]
  }
 ],
 "metadata": {
  "kernelspec": {
   "display_name": "Python 3 (ipykernel)",
   "language": "python",
   "name": "python3"
  },
  "language_info": {
   "codemirror_mode": {
    "name": "ipython",
    "version": 3
   },
   "file_extension": ".py",
   "mimetype": "text/x-python",
   "name": "python",
   "nbconvert_exporter": "python",
   "pygments_lexer": "ipython3",
   "version": "3.12.0"
  },
  "widgets": {
   "application/vnd.jupyter.widget-state+json": {
    "state": {},
    "version_major": 2,
    "version_minor": 0
   }
  }
 },
 "nbformat": 4,
 "nbformat_minor": 5
}
