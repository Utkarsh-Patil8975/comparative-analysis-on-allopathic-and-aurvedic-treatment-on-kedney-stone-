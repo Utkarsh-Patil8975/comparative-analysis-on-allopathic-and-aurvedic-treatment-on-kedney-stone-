{
 "cells": [
  {
   "cell_type": "code",
   "execution_count": 5,
   "id": "455a712a-30b1-4bec-8fed-e0b8b3e90858",
   "metadata": {},
   "outputs": [],
   "source": [
    "import pandas as pd\n",
    "import matplotlib.pyplot as plt\n",
    "from scipy.stats import chi2_contingency\n",
    "import numpy as np\n"
   ]
  },
  {
   "cell_type": "code",
   "execution_count": 6,
   "id": "ab0f55b4-2f5e-4048-9ee7-71335e21333e",
   "metadata": {},
   "outputs": [],
   "source": [
    "data=pd.read_excel(r\"C:\\Users\\USER\\Desktop\\Activity 2023-24\\To study the impact of exercise on student mental health.csv\\project edited data.xlsx\")"
   ]
  },
  {
   "cell_type": "code",
   "execution_count": 7,
   "id": "2d8bb386-c4e8-4b86-a7bb-afc9e53e35b3",
   "metadata": {},
   "outputs": [
    {
     "data": {
      "text/html": [
       "<div>\n",
       "<style scoped>\n",
       "    .dataframe tbody tr th:only-of-type {\n",
       "        vertical-align: middle;\n",
       "    }\n",
       "\n",
       "    .dataframe tbody tr th {\n",
       "        vertical-align: top;\n",
       "    }\n",
       "\n",
       "    .dataframe thead th {\n",
       "        text-align: right;\n",
       "    }\n",
       "</style>\n",
       "<table border=\"1\" class=\"dataframe\">\n",
       "  <thead>\n",
       "    <tr style=\"text-align: right;\">\n",
       "      <th></th>\n",
       "      <th>Age :</th>\n",
       "      <th>Gender :</th>\n",
       "      <th>Class :</th>\n",
       "      <th>Height ()</th>\n",
       "      <th>Weight</th>\n",
       "      <th>BMI</th>\n",
       "      <th>Where do you live ?</th>\n",
       "      <th>Do you exercise</th>\n",
       "      <th>What kind of exercise  you do regularly ?</th>\n",
       "      <th>How often do you engage in physical exercise  ?</th>\n",
       "      <th>...</th>\n",
       "      <th>Daily use of mobile (hours)</th>\n",
       "      <th>\\nHow many hours do you sleep per day?</th>\n",
       "      <th>Have you ever experience stress, anxiety or depression.</th>\n",
       "      <th>How would you rate your overall mental well being ?</th>\n",
       "      <th>How to improve your mental well being ?</th>\n",
       "      <th>How you ever sought support or counselling for mental health issues?</th>\n",
       "      <th>Have you experienced a significant improvement in your mental health after engaging a physical activity?</th>\n",
       "      <th>How often do you feel positive about your life in a day?</th>\n",
       "      <th>Do you think regular exercise will be effected in long term mental health ?</th>\n",
       "      <th>How can institute better support students in incorporating exercise into their routine ?</th>\n",
       "    </tr>\n",
       "  </thead>\n",
       "  <tbody>\n",
       "    <tr>\n",
       "      <th>0</th>\n",
       "      <td>22</td>\n",
       "      <td>Male</td>\n",
       "      <td>M.Sc.-II</td>\n",
       "      <td>168</td>\n",
       "      <td>50</td>\n",
       "      <td>17.715420</td>\n",
       "      <td>Rent Room</td>\n",
       "      <td>1</td>\n",
       "      <td>Walking</td>\n",
       "      <td>Daily</td>\n",
       "      <td>...</td>\n",
       "      <td>above 4</td>\n",
       "      <td>6 to 8</td>\n",
       "      <td>1</td>\n",
       "      <td>Average</td>\n",
       "      <td>Connect with other</td>\n",
       "      <td>1</td>\n",
       "      <td>1</td>\n",
       "      <td>About half time</td>\n",
       "      <td>1</td>\n",
       "      <td>Outdoor activities</td>\n",
       "    </tr>\n",
       "    <tr>\n",
       "      <th>1</th>\n",
       "      <td>21</td>\n",
       "      <td>Female</td>\n",
       "      <td>M.Sc.- I</td>\n",
       "      <td>154</td>\n",
       "      <td>40</td>\n",
       "      <td>16.866251</td>\n",
       "      <td>Self Home</td>\n",
       "      <td>0</td>\n",
       "      <td>NaN</td>\n",
       "      <td>NaN</td>\n",
       "      <td>...</td>\n",
       "      <td>above 4</td>\n",
       "      <td>6 to 8</td>\n",
       "      <td>0</td>\n",
       "      <td>Good</td>\n",
       "      <td>Connect with other</td>\n",
       "      <td>0</td>\n",
       "      <td>0</td>\n",
       "      <td>Never</td>\n",
       "      <td>1</td>\n",
       "      <td>Activity breaks</td>\n",
       "    </tr>\n",
       "    <tr>\n",
       "      <th>2</th>\n",
       "      <td>22</td>\n",
       "      <td>Male</td>\n",
       "      <td>M.Sc.-II</td>\n",
       "      <td>170</td>\n",
       "      <td>50</td>\n",
       "      <td>17.301038</td>\n",
       "      <td>Rent Room</td>\n",
       "      <td>1</td>\n",
       "      <td>Walking</td>\n",
       "      <td>Daily</td>\n",
       "      <td>...</td>\n",
       "      <td>2 to 3</td>\n",
       "      <td>6 to 8</td>\n",
       "      <td>1</td>\n",
       "      <td>Fair</td>\n",
       "      <td>Improve your sleep</td>\n",
       "      <td>1</td>\n",
       "      <td>1</td>\n",
       "      <td>One in while</td>\n",
       "      <td>1</td>\n",
       "      <td>Activity breaks</td>\n",
       "    </tr>\n",
       "    <tr>\n",
       "      <th>3</th>\n",
       "      <td>21</td>\n",
       "      <td>Female</td>\n",
       "      <td>M.Sc.- I</td>\n",
       "      <td>160</td>\n",
       "      <td>47</td>\n",
       "      <td>18.359375</td>\n",
       "      <td>Hostel</td>\n",
       "      <td>0</td>\n",
       "      <td>NaN</td>\n",
       "      <td>NaN</td>\n",
       "      <td>...</td>\n",
       "      <td>1 to 2</td>\n",
       "      <td>6 to 8</td>\n",
       "      <td>1</td>\n",
       "      <td>Good</td>\n",
       "      <td>Spend time in nature</td>\n",
       "      <td>0</td>\n",
       "      <td>1</td>\n",
       "      <td>Most of the time</td>\n",
       "      <td>1</td>\n",
       "      <td>Outdoor activities</td>\n",
       "    </tr>\n",
       "    <tr>\n",
       "      <th>4</th>\n",
       "      <td>21</td>\n",
       "      <td>Male</td>\n",
       "      <td>M.Sc.- I</td>\n",
       "      <td>174</td>\n",
       "      <td>58</td>\n",
       "      <td>19.157088</td>\n",
       "      <td>Self Home</td>\n",
       "      <td>1</td>\n",
       "      <td>Running</td>\n",
       "      <td>Daily</td>\n",
       "      <td>...</td>\n",
       "      <td>2 to 3</td>\n",
       "      <td>6 to 8</td>\n",
       "      <td>0</td>\n",
       "      <td>Average</td>\n",
       "      <td>Connect with other</td>\n",
       "      <td>0</td>\n",
       "      <td>1</td>\n",
       "      <td>Most of the time</td>\n",
       "      <td>1</td>\n",
       "      <td>Fitness challenges</td>\n",
       "    </tr>\n",
       "  </tbody>\n",
       "</table>\n",
       "<p>5 rows × 25 columns</p>\n",
       "</div>"
      ],
      "text/plain": [
       "   Age : Gender :   Class :  Height ()  Weight        BMI Where do you live ?  \\\n",
       "0     22     Male  M.Sc.-II        168      50  17.715420           Rent Room   \n",
       "1     21   Female  M.Sc.- I        154      40  16.866251           Self Home   \n",
       "2     22     Male  M.Sc.-II        170      50  17.301038           Rent Room   \n",
       "3     21   Female  M.Sc.- I        160      47  18.359375              Hostel   \n",
       "4     21     Male  M.Sc.- I        174      58  19.157088           Self Home   \n",
       "\n",
       "   Do you exercise What kind of exercise  you do regularly ?   \\\n",
       "0                1                                    Walking   \n",
       "1                0                                        NaN   \n",
       "2                1                                    Walking   \n",
       "3                0                                        NaN   \n",
       "4                1                                    Running   \n",
       "\n",
       "  How often do you engage in physical exercise  ?  ...  \\\n",
       "0                                           Daily  ...   \n",
       "1                                             NaN  ...   \n",
       "2                                           Daily  ...   \n",
       "3                                             NaN  ...   \n",
       "4                                           Daily  ...   \n",
       "\n",
       "   Daily use of mobile (hours)  \\nHow many hours do you sleep per day?  \\\n",
       "0                      above 4                                  6 to 8   \n",
       "1                      above 4                                  6 to 8   \n",
       "2                       2 to 3                                  6 to 8   \n",
       "3                       1 to 2                                  6 to 8   \n",
       "4                       2 to 3                                  6 to 8   \n",
       "\n",
       "  Have you ever experience stress, anxiety or depression.  \\\n",
       "0                                                  1        \n",
       "1                                                  0        \n",
       "2                                                  1        \n",
       "3                                                  1        \n",
       "4                                                  0        \n",
       "\n",
       "   How would you rate your overall mental well being ?  \\\n",
       "0                                            Average     \n",
       "1                                               Good     \n",
       "2                                               Fair     \n",
       "3                                               Good     \n",
       "4                                            Average     \n",
       "\n",
       "   How to improve your mental well being ?  \\\n",
       "0                       Connect with other   \n",
       "1                       Connect with other   \n",
       "2                       Improve your sleep   \n",
       "3                     Spend time in nature   \n",
       "4                       Connect with other   \n",
       "\n",
       "  How you ever sought support or counselling for mental health issues?  \\\n",
       "0                                                  1                     \n",
       "1                                                  0                     \n",
       "2                                                  1                     \n",
       "3                                                  0                     \n",
       "4                                                  0                     \n",
       "\n",
       "  Have you experienced a significant improvement in your mental health after engaging a physical activity?  \\\n",
       "0                                                  1                                                         \n",
       "1                                                  0                                                         \n",
       "2                                                  1                                                         \n",
       "3                                                  1                                                         \n",
       "4                                                  1                                                         \n",
       "\n",
       "   How often do you feel positive about your life in a day?  \\\n",
       "0                                    About half time          \n",
       "1                                              Never          \n",
       "2                                       One in while          \n",
       "3                                   Most of the time          \n",
       "4                                   Most of the time          \n",
       "\n",
       "  Do you think regular exercise will be effected in long term mental health ?  \\\n",
       "0                                                  1                            \n",
       "1                                                  1                            \n",
       "2                                                  1                            \n",
       "3                                                  1                            \n",
       "4                                                  1                            \n",
       "\n",
       "  How can institute better support students in incorporating exercise into their routine ?  \n",
       "0                                 Outdoor activities                                        \n",
       "1                                    Activity breaks                                        \n",
       "2                                    Activity breaks                                        \n",
       "3                                 Outdoor activities                                        \n",
       "4                                 Fitness challenges                                        \n",
       "\n",
       "[5 rows x 25 columns]"
      ]
     },
     "execution_count": 7,
     "metadata": {},
     "output_type": "execute_result"
    }
   ],
   "source": [
    "data.head()"
   ]
  },
  {
   "cell_type": "code",
   "execution_count": 9,
   "id": "8e87a0e6-7689-4a44-89ab-c8cca1d1d918",
   "metadata": {},
   "outputs": [
    {
     "data": {
      "text/plain": [
       "Index(['Age :', 'Gender :', 'Class :', 'Height ()', 'Weight', 'BMI',\n",
       "       'Where do you live ?', 'Do you exercise',\n",
       "       'What kind of exercise  you do regularly ? ',\n",
       "       'How often do you engage in physical exercise  ?',\n",
       "       'Do you have special diet plans ? ',\n",
       "       'Do you take any proteins, supplements?',\n",
       "       'Overall how would you rate your physical health?',\n",
       "       'Do you actively participate in group sport or activities?',\n",
       "       'Do you think that exercise helps your academic performance ?',\n",
       "       'Daily use of mobile (hours)', '\\nHow many hours do you sleep per day?',\n",
       "       'Have you ever experience stress, anxiety or depression.',\n",
       "       'How would you rate your overall mental well being ?',\n",
       "       'How to improve your mental well being ?',\n",
       "       'How you ever sought support or counselling for mental health issues?',\n",
       "       'Have you experienced a significant improvement in your mental health after engaging a physical activity?',\n",
       "       'How often do you feel positive about your life in a day?',\n",
       "       'Do you think regular exercise will be effected in long term mental health ?',\n",
       "       'How can institute better support students in incorporating exercise into their routine ?'],\n",
       "      dtype='object')"
      ]
     },
     "execution_count": 9,
     "metadata": {},
     "output_type": "execute_result"
    }
   ],
   "source": [
    "data.columns"
   ]
  },
  {
   "cell_type": "code",
   "execution_count": 10,
   "id": "88230003-a5f2-433b-aed5-c44463b0deda",
   "metadata": {},
   "outputs": [],
   "source": [
    "count_result=data['Do you exercise'].value_counts()"
   ]
  },
  {
   "cell_type": "code",
   "execution_count": 11,
   "id": "2313032a-796a-42de-b49b-f06133b31feb",
   "metadata": {},
   "outputs": [
    {
     "name": "stdout",
     "output_type": "stream",
     "text": [
      "Do you exercise\n",
      "1    212\n",
      "0     66\n",
      "Name: count, dtype: int64\n"
     ]
    }
   ],
   "source": [
    "print(count_result)"
   ]
  },
  {
   "cell_type": "code",
   "execution_count": 17,
   "id": "e4ef4d91-8793-4ada-bc08-db7a2a0860d9",
   "metadata": {},
   "outputs": [
    {
     "data": {
      "image/png": "[encoded data removed]",
      "text/plain": [
       "<Figure size 640x480 with 1 Axes>"
      ]
     },
     "metadata": {},
     "output_type": "display_data"
    }
   ],
   "source": [
    "lab=[\"yes\",\"no\"]\n",
    "plt.pie(count_result,labels=lab,autopct=\"%1.1f%%\")\n",
    "plt.legend(lab)\n",
    "plt.show()"
   ]
  },
  {
   "cell_type": "code",
   "execution_count": 7,
   "id": "22476c7c-8417-419e-a2a7-e83367ee59c6",
   "metadata": {},
   "outputs": [
    {
     "data": {
      "text/plain": [
       "Do you think regular exercise will be effected in long term mental health ?\n",
       "1    256\n",
       "0     22\n",
       "Name: count, dtype: int64"
      ]
     },
     "execution_count": 7,
     "metadata": {},
     "output_type": "execute_result"
    }
   ],
   "source": [
    "count_result=data['Do you think regular exercise will be effected in long term mental health ?'].value_counts()\n",
    "count_result"
   ]
  },
  {
   "cell_type": "code",
   "execution_count": 12,
   "id": "b87c2cc7-cc0b-491a-9a1c-e1c3c4f89b96",
   "metadata": {},
   "outputs": [],
   "source": [
    "count_result=data['How often do you feel positive about your life in a day?'].value_counts()"
   ]
  },
  {
   "cell_type": "code",
   "execution_count": 13,
   "id": "49a1eb47-72e7-4b5d-b4b2-8f7b047b3112",
   "metadata": {},
   "outputs": [
    {
     "name": "stdout",
     "output_type": "stream",
     "text": [
      "How often do you feel positive about your life in a day?\n",
      "Most of the time    120\n",
      "Every time           72\n",
      "About half time      56\n",
      "One in while         24\n",
      "Never                 6\n",
      "Name: count, dtype: int64\n"
     ]
    }
   ],
   "source": [
    "print(count_result)"
   ]
  },
  {
   "cell_type": "code",
   "execution_count": 19,
   "id": "650d6dcc-9df2-419d-acc9-090002df8989",
   "metadata": {},
   "outputs": [
    {
     "data": {
      "image/png": "[encoded data removed]",
      "text/plain": [
       "<Figure size 640x480 with 1 Axes>"
      ]
     },
     "metadata": {},
     "output_type": "display_data"
    }
   ],
   "source": [
    "\n",
    "lab=[\"Most of the time \",\"Every time\",\"About half time\",\"One in while\",\"Never\"]\n",
    "plt.pie(count_result,labels=lab,autopct=\"%1.1f%%\")\n",
    "plt.legend(loc=\"upper left\")\n",
    "plt.title('pie chart')\n",
    "plt.show()"
   ]
  },
  {
   "cell_type": "code",
   "execution_count": 21,
   "id": "c80be08c-6ace-44ae-b484-9b84afa08912",
   "metadata": {},
   "outputs": [
    {
     "data": {
      "text/plain": [
       "How to improve your mental well being ?\n",
       "Spend time in nature               138\n",
       "Try to  relax and reduce stress     70\n",
       "Connect with other                  46\n",
       "Improve your sleep                  24\n",
       "Name: count, dtype: int64"
      ]
     },
     "execution_count": 21,
     "metadata": {},
     "output_type": "execute_result"
    }
   ],
   "source": [
    "count_result = data['How to improve your mental well being ?'].value_counts()\n",
    "count_result"
   ]
  },
  {
   "cell_type": "code",
   "execution_count": 22,
   "id": "6fe58225-6ca5-4f23-ac12-7b74a27e0af3",
   "metadata": {},
   "outputs": [
    {
     "data": {
      "image/png": "[encoded data removed]",
      "text/plain": [
       "<Figure size 640x480 with 1 Axes>"
      ]
     },
     "metadata": {},
     "output_type": "display_data"
    }
   ],
   "source": [
    "lab=[\"Spend time in nature\",\"Try to  relax and reduce stress \",\"Connect with other\",\"Improve your sleep\"]\n",
    "plt.barh(lab,width=count_result)\n",
    "for index,values in enumerate (count_result):\n",
    "    plt.text(values,index,str(values))\n",
    "plt.show()"
   ]
  },
  {
   "cell_type": "code",
   "execution_count": null,
   "id": "615ccd03-1104-469d-8b7a-438ba937f5aa",
   "metadata": {},
   "outputs": [],
   "source": []
  },
  {
   "cell_type": "code",
   "execution_count": 9,
   "id": "cb57a5b3-a9b8-4aae-9ede-52e20678d7fe",
   "metadata": {},
   "outputs": [],
   "source": [
    "BMIdata=data['BMI']"
   ]
  },
  {
   "cell_type": "code",
   "execution_count": 10,
   "id": "fc6ca063-0e3c-4b0f-b357-d35be9e78c59",
   "metadata": {},
   "outputs": [
    {
     "data": {
      "image/png": "[encoded data removed]",
      "text/plain": [
       "<Figure size 640x480 with 1 Axes>"
      ]
     },
     "metadata": {},
     "output_type": "display_data"
    }
   ],
   "source": [
    "plt.boxplot(BMIdata)\n",
    "plt.show()"
   ]
  },
  {
   "cell_type": "code",
   "execution_count": 22,
   "id": "ae0035ad-8a81-48b1-89a9-e406f1aad957",
   "metadata": {},
   "outputs": [
    {
     "data": {
      "text/html": [
       "<div>\n",
       "<style scoped>\n",
       "    .dataframe tbody tr th:only-of-type {\n",
       "        vertical-align: middle;\n",
       "    }\n",
       "\n",
       "    .dataframe tbody tr th {\n",
       "        vertical-align: top;\n",
       "    }\n",
       "\n",
       "    .dataframe thead th {\n",
       "        text-align: right;\n",
       "    }\n",
       "</style>\n",
       "<table border=\"1\" class=\"dataframe\">\n",
       "  <thead>\n",
       "    <tr style=\"text-align: right;\">\n",
       "      <th>How would you rate your overall mental well being ?</th>\n",
       "      <th>Average</th>\n",
       "      <th>Excellent</th>\n",
       "      <th>Fair</th>\n",
       "      <th>Good</th>\n",
       "      <th>Poor</th>\n",
       "    </tr>\n",
       "    <tr>\n",
       "      <th>Gender :</th>\n",
       "      <th></th>\n",
       "      <th></th>\n",
       "      <th></th>\n",
       "      <th></th>\n",
       "      <th></th>\n",
       "    </tr>\n",
       "  </thead>\n",
       "  <tbody>\n",
       "    <tr>\n",
       "      <th>Female</th>\n",
       "      <td>42</td>\n",
       "      <td>6</td>\n",
       "      <td>6</td>\n",
       "      <td>90</td>\n",
       "      <td>8</td>\n",
       "    </tr>\n",
       "    <tr>\n",
       "      <th>Male</th>\n",
       "      <td>40</td>\n",
       "      <td>20</td>\n",
       "      <td>6</td>\n",
       "      <td>53</td>\n",
       "      <td>7</td>\n",
       "    </tr>\n",
       "  </tbody>\n",
       "</table>\n",
       "</div>"
      ],
      "text/plain": [
       "How would you rate your overall mental well being ?  Average  Excellent  Fair  \\\n",
       "Gender :                                                                        \n",
       "Female                                                    42          6     6   \n",
       "Male                                                      40         20     6   \n",
       "\n",
       "How would you rate your overall mental well being ?  Good  Poor  \n",
       "Gender :                                                         \n",
       "Female                                                 90     8  \n",
       "Male                                                   53     7  "
      ]
     },
     "execution_count": 22,
     "metadata": {},
     "output_type": "execute_result"
    }
   ],
   "source": [
    "contingency_table=pd.crosstab(data['Gender :'],data['How would you rate your overall mental well being ?'])\n",
    "contingency_table\n"
   ]
  },
  {
   "cell_type": "code",
   "execution_count": 27,
   "id": "2cfc411e-5a78-4a37-b72a-401b1c7db6fc",
   "metadata": {},
   "outputs": [
    {
     "name": "stdout",
     "output_type": "stream",
     "text": [
      "Chi2 Stat: 14.926239801657003\n",
      "P-value: 0.004856671206938263\n",
      "Degrees of freedom: 4\n",
      "Expected frequencies table:\n",
      "[[44.83453237 14.21582734  6.56115108 78.18705036  8.20143885]\n",
      " [37.16546763 11.78417266  5.43884892 64.81294964  6.79856115]]\n"
     ]
    }
   ],
   "source": [
    "chi2_stat,p_value,dof,expected= chi2_contingency(contingency_table)\n",
    "print(f\"Chi2 Stat: {chi2_stat}\")\n",
    "print(f\"P-value: {p_value}\")\n",
    "print(f\"Degrees of freedom: {dof}\")\n",
    "print(f\"Expected frequencies table:\")\n",
    "print(expected)"
   ]
  },
  {
   "cell_type": "code",
   "execution_count": 5,
   "id": "87dca3ee-530a-4c5f-8f0d-061e32ef20eb",
   "metadata": {},
   "outputs": [
    {
     "data": {
      "text/html": [
       "<div>\n",
       "<style scoped>\n",
       "    .dataframe tbody tr th:only-of-type {\n",
       "        vertical-align: middle;\n",
       "    }\n",
       "\n",
       "    .dataframe tbody tr th {\n",
       "        vertical-align: top;\n",
       "    }\n",
       "\n",
       "    .dataframe thead th {\n",
       "        text-align: right;\n",
       "    }\n",
       "</style>\n",
       "<table border=\"1\" class=\"dataframe\">\n",
       "  <thead>\n",
       "    <tr style=\"text-align: right;\">\n",
       "      <th>Daily use of mobile (hours)</th>\n",
       "      <th>1 to 2</th>\n",
       "      <th>2 to 3</th>\n",
       "      <th>Less than1</th>\n",
       "      <th>above 4</th>\n",
       "    </tr>\n",
       "    <tr>\n",
       "      <th>Gender :</th>\n",
       "      <th></th>\n",
       "      <th></th>\n",
       "      <th></th>\n",
       "      <th></th>\n",
       "    </tr>\n",
       "  </thead>\n",
       "  <tbody>\n",
       "    <tr>\n",
       "      <th>Female</th>\n",
       "      <td>66</td>\n",
       "      <td>56</td>\n",
       "      <td>12</td>\n",
       "      <td>18</td>\n",
       "    </tr>\n",
       "    <tr>\n",
       "      <th>Male</th>\n",
       "      <td>26</td>\n",
       "      <td>50</td>\n",
       "      <td>10</td>\n",
       "      <td>40</td>\n",
       "    </tr>\n",
       "  </tbody>\n",
       "</table>\n",
       "</div>"
      ],
      "text/plain": [
       "Daily use of mobile (hours)  1 to 2  2 to 3  Less than1  above 4\n",
       "Gender :                                                        \n",
       "Female                           66      56          12       18\n",
       "Male                             26      50          10       40"
      ]
     },
     "execution_count": 5,
     "metadata": {},
     "output_type": "execute_result"
    }
   ],
   "source": [
    "contingency_table=pd.crosstab(data['Gender :'],data['Daily use of mobile (hours)'])\n",
    "contingency_table"
   ]
  },
  {
   "cell_type": "code",
   "execution_count": 8,
   "id": "8fea0fce-e820-4840-a5ec-6c4782a78fe3",
   "metadata": {},
   "outputs": [
    {
     "name": "stdout",
     "output_type": "stream",
     "text": [
      "Chi2 Stat: 24.036161405856518\n",
      "P-value: 2.4549480875442417e-05\n",
      "Degrees of freedom: 3\n",
      "Expected frequencies table:\n",
      "[[50.30215827 57.95683453 12.02877698 31.71223022]\n",
      " [41.69784173 48.04316547  9.97122302 26.28776978]]\n"
     ]
    }
   ],
   "source": [
    "chi2_stat,p_value,dof,expected= chi2_contingency(contingency_table)\n",
    "print(f\"Chi2 Stat: {chi2_stat}\")\n",
    "print(f\"P-value: {p_value}\")\n",
    "print(f\"Degrees of freedom: {dof}\")\n",
    "print(f\"Expected frequencies table:\")\n",
    "print(expected)"
   ]
  },
  {
   "cell_type": "code",
   "execution_count": 9,
   "id": "5a5b5085-aad6-4993-8c9f-a9fcd49e9e3b",
   "metadata": {},
   "outputs": [
    {
     "data": {
      "text/html": [
       "<div>\n",
       "<style scoped>\n",
       "    .dataframe tbody tr th:only-of-type {\n",
       "        vertical-align: middle;\n",
       "    }\n",
       "\n",
       "    .dataframe tbody tr th {\n",
       "        vertical-align: top;\n",
       "    }\n",
       "\n",
       "    .dataframe thead th {\n",
       "        text-align: right;\n",
       "    }\n",
       "</style>\n",
       "<table border=\"1\" class=\"dataframe\">\n",
       "  <thead>\n",
       "    <tr style=\"text-align: right;\">\n",
       "      <th>Where do you live ?</th>\n",
       "      <th>Hostel</th>\n",
       "      <th>Rent Room</th>\n",
       "      <th>Self Home</th>\n",
       "    </tr>\n",
       "    <tr>\n",
       "      <th>Gender :</th>\n",
       "      <th></th>\n",
       "      <th></th>\n",
       "      <th></th>\n",
       "    </tr>\n",
       "  </thead>\n",
       "  <tbody>\n",
       "    <tr>\n",
       "      <th>Female</th>\n",
       "      <td>32</td>\n",
       "      <td>40</td>\n",
       "      <td>80</td>\n",
       "    </tr>\n",
       "    <tr>\n",
       "      <th>Male</th>\n",
       "      <td>12</td>\n",
       "      <td>66</td>\n",
       "      <td>48</td>\n",
       "    </tr>\n",
       "  </tbody>\n",
       "</table>\n",
       "</div>"
      ],
      "text/plain": [
       "Where do you live ?  Hostel  Rent Room  Self Home\n",
       "Gender :                                         \n",
       "Female                   32         40         80\n",
       "Male                     12         66         48"
      ]
     },
     "execution_count": 9,
     "metadata": {},
     "output_type": "execute_result"
    }
   ],
   "source": [
    "contingency_table=pd.crosstab(data['Gender :'],data['Where do you live ?'])\n",
    "contingency_table"
   ]
  },
  {
   "cell_type": "code",
   "execution_count": 10,
   "id": "54d75b23-c33f-4cc2-a646-e9d3e280d2b5",
   "metadata": {},
   "outputs": [
    {
     "name": "stdout",
     "output_type": "stream",
     "text": [
      "Chi2 Stat: 21.222243000296626\n",
      "P-value: 2.464044153182773e-05\n",
      "Degrees of freedom: 2\n",
      "Expected frequencies table:\n",
      "[[24.05755396 57.95683453 69.98561151]\n",
      " [19.94244604 48.04316547 58.01438849]]\n"
     ]
    }
   ],
   "source": [
    "chi2_stat,p_value,dof,expected= chi2_contingency(contingency_table)\n",
    "print(f\"Chi2 Stat: {chi2_stat}\")\n",
    "print(f\"P-value: {p_value}\")\n",
    "print(f\"Degrees of freedom: {dof}\")\n",
    "print(f\"Expected frequencies table:\")\n",
    "print(expected)"
   ]
  },
  {
   "cell_type": "code",
   "execution_count": 7,
   "id": "54acd0c5-c3a7-4975-aa00-47f201794b9b",
   "metadata": {},
   "outputs": [
    {
     "name": "stdout",
     "output_type": "stream",
     "text": [
      "Do you exercise   0    1\n",
      "Gender :                \n",
      "Female           44  108\n",
      "Male             22  104\n",
      "Chi2 Stat: 4.4066326703336385\n",
      "P-value: 0.03579944128472663\n",
      "Degrees of freedom: 1\n",
      "Expected frequencies table:\n",
      "[[ 36.08633094 115.91366906]\n",
      " [ 29.91366906  96.08633094]]\n"
     ]
    }
   ],
   "source": [
    "contingency_table=pd.crosstab(data['Gender :'],data['Do you exercise'])\n",
    "print (contingency_table)\n",
    "chi2_stat,p_value,dof,expected= chi2_contingency(contingency_table)\n",
    "print(f\"Chi2 Stat: {chi2_stat}\")\n",
    "print(f\"P-value: {p_value}\")\n",
    "print(f\"Degrees of freedom: {dof}\")\n",
    "print(f\"Expected frequencies table:\")\n",
    "print(expected)"
   ]
  },
  {
   "cell_type": "code",
   "execution_count": null,
   "id": "2b56a2a0-726d-4c97-b562-54ca98e0d115",
   "metadata": {},
   "outputs": [],
   "source": []
  },
  {
   "cell_type": "code",
   "execution_count": 5,
   "id": "eaec49f0-dd37-45b4-ad11-073a56e9b720",
   "metadata": {
    "scrolled": true
   },
   "outputs": [
    {
     "data": {
      "image/png": "[encoded data removed]",
      "text/plain": [
       "<Figure size 640x480 with 1 Axes>"
      ]
     },
     "metadata": {},
     "output_type": "display_data"
    }
   ],
   "source": [
    "categories = np.array(['Yes', 'No'])\n",
    "percentages = np.array([[50.94,66.67],[49.06,33.33]])\n",
    "categories = categories.tolist()\n",
    "percentages = percentages.tolist()\n",
    "plt.bar(categories, percentages[0], color='blue', label='female')\n",
    "plt.bar(categories, percentages[1], color='orange', bottom=percentages[0], label='male')\n",
    "plt.xlabel('Categories')\n",
    "plt.ylabel('Percentage')\n",
    "plt.title('Sacked Bar Percentage')\n",
    "plt.legend()\n",
    "plt.show()"
   ]
  },
  {
   "cell_type": "code",
   "execution_count": 8,
   "id": "9441e432-ebf3-484e-b5f5-03abeed73ab2",
   "metadata": {
    "scrolled": true
   },
   "outputs": [
    {
     "name": "stdout",
     "output_type": "stream",
     "text": [
      "How would you rate your overall mental well being ?  Average  Excellent  Fair  \\\n",
      "Do you exercise                                                                 \n",
      "0                                                         23          7     1   \n",
      "1                                                         59         19    11   \n",
      "\n",
      "How would you rate your overall mental well being ?  Good  Poor  \n",
      "Do you exercise                                                  \n",
      "0                                                      32     3  \n",
      "1                                                     111    12  \n"
     ]
    }
   ],
   "source": [
    "contingency_table=pd.crosstab(data['Do you exercise'],data['How would you rate your overall mental well being ?'])\n",
    "print (contingency_table)\n"
   ]
  },
  {
   "cell_type": "code",
   "execution_count": 18,
   "id": "b8f5347e-4117-4cf1-af53-1eb11222694d",
   "metadata": {},
   "outputs": [
    {
     "name": "stdout",
     "output_type": "stream",
     "text": [
      "How to improve your mental well being ?\n",
      "Spend time in nature               138\n",
      "Try to  relax and reduce stress     70\n",
      "Connect with other                  46\n",
      "Improve your sleep                  24\n",
      "Name: count, dtype: int64\n"
     ]
    }
   ],
   "source": [
    "count_result=data['How to improve your mental well being ?'].value_counts()\n",
    "print(count_result)"
   ]
  },
  {
   "cell_type": "code",
   "execution_count": 20,
   "id": "ca4d443f-39ca-432b-bc6e-341f349d9c6d",
   "metadata": {},
   "outputs": [
    {
     "data": {
      "image/png": "[encoded data removed]",
      "text/plain": [
       "<Figure size 640x480 with 1 Axes>"
      ]
     },
     "metadata": {},
     "output_type": "display_data"
    }
   ],
   "source": [
    "x=[1,1,1,1]\n",
    "y=[10,10.5,11,11.5]\n",
    "sizes=[138,70,46,24]\n",
    "l=[\"A\",\"B\",\"C\",\"D\"]\n",
    "plt.scatter(x,y,s=sizes)\n",
    "plt.title('Bubble chart using matplotlib')\n",
    "plt.xlabel('X-axis')\n",
    "plt.ylabel('Y-axis')\n",
    "plt.legend(l)\n",
    "plt.show()"
   ]
  },
  {
   "cell_type": "code",
   "execution_count": 24,
   "id": "5e521955-8df0-42f9-a5a7-6091e749ebf1",
   "metadata": {},
   "outputs": [
    {
     "name": "stdout",
     "output_type": "stream",
     "text": [
      "What kind of exercise  you do regularly ?   Aerobic exercise  Meditation  \\\n",
      "Gender :                                                                   \n",
      "Female                                                     4           4   \n",
      "Male                                                       4           8   \n",
      "\n",
      "What kind of exercise  you do regularly ?   Running  Stretching  Walking  Yoga  \n",
      "Gender :                                                                        \n",
      "Female                                           10           6       60    24  \n",
      "Male                                             54           8       28     2  \n"
     ]
    }
   ],
   "source": [
    "contingency_table=pd.crosstab(data['Gender :'],data['What kind of exercise  you do regularly ? '])\n",
    "print (contingency_table)\n"
   ]
  },
  {
   "cell_type": "code",
   "execution_count": null,
   "id": "9bbe82f5-ec59-4cad-a8b5-5c7c64269367",
   "metadata": {},
   "outputs": [],
   "source": []
  }
 ],
 "metadata": {
  "kernelspec": {
   "display_name": "Python 3 (ipykernel)",
   "language": "python",
   "name": "python3"
  },
  "language_info": {
   "codemirror_mode": {
    "name": "ipython",
    "version": 3
   },
   "file_extension": ".py",
   "mimetype": "text/x-python",
   "name": "python",
   "nbconvert_exporter": "python",
   "pygments_lexer": "ipython3",
   "version": "3.12.0"
  },
  "widgets": {
   "application/vnd.jupyter.widget-state+json": {
    "state": {},
    "version_major": 2,
    "version_minor": 0
   }
  }
 },
 "nbformat": 4,
 "nbformat_minor": 5
}
