{
 "cells": [
  {
   "cell_type": "code",
   "execution_count": 1,
   "id": "6aeb503e-508c-4af5-8dcc-1795c424ac43",
   "metadata": {},
   "outputs": [],
   "source": [
    "import pandas as pd\n",
    "import numpy as np\n",
    "from scipy import stats\n",
    "from scipy.stats import chi2_contingency\n",
    "import scipy.stats as stats\n",
    "from scipy.stats import kruskal\n",
    "import matplotlib.pyplot as plt\n",
    "from scipy.stats import mannwhitneyu\n",
    "from scipy.stats import wilcoxon\n",
    "import seaborn as sns"
   ]
  },
  {
   "cell_type": "code",
   "execution_count": 2,
   "id": "291812c2-ebf2-4dfa-93bd-dd69de9b3034",
   "metadata": {},
   "outputs": [
    {
     "data": {
      "text/html": [
       "<div>\n",
       "<style scoped>\n",
       "    .dataframe tbody tr th:only-of-type {\n",
       "        vertical-align: middle;\n",
       "    }\n",
       "\n",
       "    .dataframe tbody tr th {\n",
       "        vertical-align: top;\n",
       "    }\n",
       "\n",
       "    .dataframe thead th {\n",
       "        text-align: right;\n",
       "    }\n",
       "</style>\n",
       "<table border=\"1\" class=\"dataframe\">\n",
       "  <thead>\n",
       "    <tr style=\"text-align: right;\">\n",
       "      <th></th>\n",
       "      <th>Gender</th>\n",
       "      <th>Age</th>\n",
       "      <th>Occupation</th>\n",
       "      <th>Duration of treatment</th>\n",
       "      <th>Any side effect of treatment</th>\n",
       "      <th>How effective was the treatment in alleviating your symptoms?</th>\n",
       "      <th>How satisfied are you with the overall treatment?</th>\n",
       "      <th>Are you satisfied with the time it took for the treatment to show results?</th>\n",
       "      <th>Did the treatment successfully eliminate your kidney stones?</th>\n",
       "      <th>Do you follow a specific diet or lifestyle recommended by your treatment provider?</th>\n",
       "      <th>Any symptoms</th>\n",
       "      <th>How would you rate your overall well-being before the treatment?</th>\n",
       "      <th>How would you rate your overall well-being after the treatment?</th>\n",
       "      <th>How would you describe the intensity of the pain caused by kidney stones?</th>\n",
       "      <th>How much did it cost  in treatment</th>\n",
       "      <th>What measures did you take to manage the pain during a kidney stone ?</th>\n",
       "      <th>Who you recommend for the treatment</th>\n",
       "      <th>Have you received allopathic treatment for kidney stones?</th>\n",
       "      <th>Would you recommend your chosen treatment to others?</th>\n",
       "    </tr>\n",
       "  </thead>\n",
       "  <tbody>\n",
       "    <tr>\n",
       "      <th>0</th>\n",
       "      <td>Male</td>\n",
       "      <td>31-45</td>\n",
       "      <td>Service/ Job</td>\n",
       "      <td>1 month</td>\n",
       "      <td>No</td>\n",
       "      <td>Very effective</td>\n",
       "      <td>Neutral</td>\n",
       "      <td>Yes</td>\n",
       "      <td>Yes</td>\n",
       "      <td>No</td>\n",
       "      <td>Back pain, Lower abdominal pain</td>\n",
       "      <td>2</td>\n",
       "      <td>4</td>\n",
       "      <td>Mild</td>\n",
       "      <td>200 Below</td>\n",
       "      <td>Drinking water</td>\n",
       "      <td>Family</td>\n",
       "      <td>No</td>\n",
       "      <td>Yes</td>\n",
       "    </tr>\n",
       "    <tr>\n",
       "      <th>1</th>\n",
       "      <td>Male</td>\n",
       "      <td>Below 18</td>\n",
       "      <td>Student</td>\n",
       "      <td>6 months above</td>\n",
       "      <td>No</td>\n",
       "      <td>Somewhat effective</td>\n",
       "      <td>Satisfied</td>\n",
       "      <td>Yes</td>\n",
       "      <td>Yes</td>\n",
       "      <td>No</td>\n",
       "      <td>Back pain, Lower abdominal pain, Side (flank) ...</td>\n",
       "      <td>2</td>\n",
       "      <td>4</td>\n",
       "      <td>Mild</td>\n",
       "      <td>200 Below</td>\n",
       "      <td>Drinking water</td>\n",
       "      <td>Family</td>\n",
       "      <td>No</td>\n",
       "      <td>Yes</td>\n",
       "    </tr>\n",
       "    <tr>\n",
       "      <th>2</th>\n",
       "      <td>Female</td>\n",
       "      <td>31-45</td>\n",
       "      <td>Farmer</td>\n",
       "      <td>2-3 months</td>\n",
       "      <td>No</td>\n",
       "      <td>Somewhat effective</td>\n",
       "      <td>Neutral</td>\n",
       "      <td>Yes</td>\n",
       "      <td>Yes</td>\n",
       "      <td>No</td>\n",
       "      <td>Back pain, Lower abdominal pain, Blood in urine</td>\n",
       "      <td>1</td>\n",
       "      <td>4</td>\n",
       "      <td>Moderate</td>\n",
       "      <td>200 Below</td>\n",
       "      <td>Drinking water</td>\n",
       "      <td>Family</td>\n",
       "      <td>No</td>\n",
       "      <td>Yes</td>\n",
       "    </tr>\n",
       "    <tr>\n",
       "      <th>3</th>\n",
       "      <td>Female</td>\n",
       "      <td>45-60</td>\n",
       "      <td>Farmer</td>\n",
       "      <td>6 months above</td>\n",
       "      <td>No</td>\n",
       "      <td>Somewhat effective</td>\n",
       "      <td>Satisfied</td>\n",
       "      <td>Yes</td>\n",
       "      <td>Yes</td>\n",
       "      <td>No</td>\n",
       "      <td>Side (flank) pain, Painful urination, Nausea o...</td>\n",
       "      <td>1</td>\n",
       "      <td>5</td>\n",
       "      <td>Severe</td>\n",
       "      <td>500-1500</td>\n",
       "      <td>Medications</td>\n",
       "      <td>Others</td>\n",
       "      <td>No</td>\n",
       "      <td>Yes</td>\n",
       "    </tr>\n",
       "    <tr>\n",
       "      <th>4</th>\n",
       "      <td>Male</td>\n",
       "      <td>31-45</td>\n",
       "      <td>Service/ Job</td>\n",
       "      <td>2-3 months</td>\n",
       "      <td>No</td>\n",
       "      <td>Very effective</td>\n",
       "      <td>Satisfied</td>\n",
       "      <td>Yes</td>\n",
       "      <td>Yes</td>\n",
       "      <td>Yes</td>\n",
       "      <td>Lower abdominal pain, Side (flank) pain</td>\n",
       "      <td>2</td>\n",
       "      <td>5</td>\n",
       "      <td>Moderate</td>\n",
       "      <td>200 Below</td>\n",
       "      <td>Hot compress</td>\n",
       "      <td>Family</td>\n",
       "      <td>No</td>\n",
       "      <td>Yes</td>\n",
       "    </tr>\n",
       "  </tbody>\n",
       "</table>\n",
       "</div>"
      ],
      "text/plain": [
       "    Gender       Age   Occupation  Duration of treatment   \\\n",
       "0    Male      31-45  Service/ Job                1 month   \n",
       "1    Male   Below 18       Student         6 months above   \n",
       "2  Female      31-45       Farmer              2-3 months   \n",
       "3  Female      45-60       Farmer          6 months above   \n",
       "4    Male      31-45  Service/ Job             2-3 months   \n",
       "\n",
       "  Any side effect of treatment  \\\n",
       "0                           No   \n",
       "1                           No   \n",
       "2                           No   \n",
       "3                           No   \n",
       "4                           No   \n",
       "\n",
       "  How effective was the treatment in alleviating your symptoms?  \\\n",
       "0                                     Very effective              \n",
       "1                                 Somewhat effective              \n",
       "2                                 Somewhat effective              \n",
       "3                                 Somewhat effective              \n",
       "4                                     Very effective              \n",
       "\n",
       "  How satisfied are you with the overall treatment?  \\\n",
       "0                                          Neutral    \n",
       "1                                        Satisfied    \n",
       "2                                          Neutral    \n",
       "3                                        Satisfied    \n",
       "4                                        Satisfied    \n",
       "\n",
       "  Are you satisfied with the time it took for the treatment to show results?  \\\n",
       "0                                                Yes                           \n",
       "1                                                Yes                           \n",
       "2                                                Yes                           \n",
       "3                                                Yes                           \n",
       "4                                                Yes                           \n",
       "\n",
       "  Did the treatment successfully eliminate your kidney stones?  \\\n",
       "0                                                Yes             \n",
       "1                                                Yes             \n",
       "2                                                Yes             \n",
       "3                                                Yes             \n",
       "4                                                Yes             \n",
       "\n",
       "  Do you follow a specific diet or lifestyle recommended by your treatment provider?  \\\n",
       "0                                                 No                                   \n",
       "1                                                 No                                   \n",
       "2                                                 No                                   \n",
       "3                                                 No                                   \n",
       "4                                                Yes                                   \n",
       "\n",
       "                                        Any symptoms  \\\n",
       "0                    Back pain, Lower abdominal pain   \n",
       "1  Back pain, Lower abdominal pain, Side (flank) ...   \n",
       "2    Back pain, Lower abdominal pain, Blood in urine   \n",
       "3  Side (flank) pain, Painful urination, Nausea o...   \n",
       "4            Lower abdominal pain, Side (flank) pain   \n",
       "\n",
       "   How would you rate your overall well-being before the treatment?  \\\n",
       "0                                                  2                  \n",
       "1                                                  2                  \n",
       "2                                                  1                  \n",
       "3                                                  1                  \n",
       "4                                                  2                  \n",
       "\n",
       "   How would you rate your overall well-being after the treatment?  \\\n",
       "0                                                  4                 \n",
       "1                                                  4                 \n",
       "2                                                  4                 \n",
       "3                                                  5                 \n",
       "4                                                  5                 \n",
       "\n",
       "  How would you describe the intensity of the pain caused by kidney stones?  \\\n",
       "0                                               Mild                          \n",
       "1                                               Mild                          \n",
       "2                                           Moderate                          \n",
       "3                                             Severe                          \n",
       "4                                           Moderate                          \n",
       "\n",
       "  How much did it cost  in treatment    \\\n",
       "0                            200 Below   \n",
       "1                            200 Below   \n",
       "2                            200 Below   \n",
       "3                             500-1500   \n",
       "4                            200 Below   \n",
       "\n",
       "  What measures did you take to manage the pain during a kidney stone ?   \\\n",
       "0                                    Drinking water                        \n",
       "1                                    Drinking water                        \n",
       "2                                    Drinking water                        \n",
       "3                                        Medications                       \n",
       "4                                       Hot compress                       \n",
       "\n",
       "  Who you recommend for the treatment  \\\n",
       "0                              Family   \n",
       "1                              Family   \n",
       "2                              Family   \n",
       "3                              Others   \n",
       "4                              Family   \n",
       "\n",
       "  Have you received allopathic treatment for kidney stones?  \\\n",
       "0                                                 No          \n",
       "1                                                 No          \n",
       "2                                                 No          \n",
       "3                                                 No          \n",
       "4                                                 No          \n",
       "\n",
       "  Would you recommend your chosen treatment to others?  \n",
       "0                                                Yes    \n",
       "1                                                Yes    \n",
       "2                                                Yes    \n",
       "3                                                Yes    \n",
       "4                                                Yes    "
      ]
     },
     "execution_count": 2,
     "metadata": {},
     "output_type": "execute_result"
    }
   ],
   "source": [
    "data=pd.read_csv(r\"C:\\Users\\USER\\Desktop\\Activity 2023-24\\Research Methodology (project)\\(Sorted data)Statistical Analysis of Local Ayurvedic treatment on kidney stone  (Responses) -.csv\")\n",
    "data.head()"
   ]
  },
  {
   "cell_type": "code",
   "execution_count": 3,
   "id": "bfecb929-46d5-42fa-b234-233ed1744fec",
   "metadata": {},
   "outputs": [
    {
     "data": {
      "text/plain": [
       "Index(['Gender', 'Age', 'Occupation ', 'Duration of treatment ',\n",
       "       'Any side effect of treatment',\n",
       "       'How effective was the treatment in alleviating your symptoms?',\n",
       "       'How satisfied are you with the overall treatment?',\n",
       "       'Are you satisfied with the time it took for the treatment to show results?',\n",
       "       'Did the treatment successfully eliminate your kidney stones?',\n",
       "       'Do you follow a specific diet or lifestyle recommended by your treatment provider?',\n",
       "       'Any symptoms',\n",
       "       'How would you rate your overall well-being before the treatment?',\n",
       "       'How would you rate your overall well-being after the treatment?',\n",
       "       'How would you describe the intensity of the pain caused by kidney stones?',\n",
       "       'How much did it cost  in treatment  ',\n",
       "       'What measures did you take to manage the pain during a kidney stone ? ',\n",
       "       'Who you recommend for the treatment',\n",
       "       'Have you received allopathic treatment for kidney stones?',\n",
       "       'Would you recommend your chosen treatment to others?'],\n",
       "      dtype='object')"
      ]
     },
     "execution_count": 3,
     "metadata": {},
     "output_type": "execute_result"
    }
   ],
   "source": [
    "data.columns"
   ]
  },
  {
   "cell_type": "code",
   "execution_count": 4,
   "id": "81a36ca1-2366-4096-a308-b2516a3fbf14",
   "metadata": {},
   "outputs": [
    {
     "data": {
      "text/html": [
       "<div>\n",
       "<style scoped>\n",
       "    .dataframe tbody tr th:only-of-type {\n",
       "        vertical-align: middle;\n",
       "    }\n",
       "\n",
       "    .dataframe tbody tr th {\n",
       "        vertical-align: top;\n",
       "    }\n",
       "\n",
       "    .dataframe thead th {\n",
       "        text-align: right;\n",
       "    }\n",
       "</style>\n",
       "<table border=\"1\" class=\"dataframe\">\n",
       "  <thead>\n",
       "    <tr style=\"text-align: right;\">\n",
       "      <th></th>\n",
       "      <th>How would you rate your overall well-being before the treatment?</th>\n",
       "      <th>How would you rate your overall well-being after the treatment?</th>\n",
       "    </tr>\n",
       "  </thead>\n",
       "  <tbody>\n",
       "    <tr>\n",
       "      <th>count</th>\n",
       "      <td>183.000000</td>\n",
       "      <td>183.000000</td>\n",
       "    </tr>\n",
       "    <tr>\n",
       "      <th>mean</th>\n",
       "      <td>1.803279</td>\n",
       "      <td>4.213115</td>\n",
       "    </tr>\n",
       "    <tr>\n",
       "      <th>std</th>\n",
       "      <td>0.606367</td>\n",
       "      <td>0.758427</td>\n",
       "    </tr>\n",
       "    <tr>\n",
       "      <th>min</th>\n",
       "      <td>1.000000</td>\n",
       "      <td>2.000000</td>\n",
       "    </tr>\n",
       "    <tr>\n",
       "      <th>25%</th>\n",
       "      <td>1.000000</td>\n",
       "      <td>4.000000</td>\n",
       "    </tr>\n",
       "    <tr>\n",
       "      <th>50%</th>\n",
       "      <td>2.000000</td>\n",
       "      <td>4.000000</td>\n",
       "    </tr>\n",
       "    <tr>\n",
       "      <th>75%</th>\n",
       "      <td>2.000000</td>\n",
       "      <td>5.000000</td>\n",
       "    </tr>\n",
       "    <tr>\n",
       "      <th>max</th>\n",
       "      <td>3.000000</td>\n",
       "      <td>5.000000</td>\n",
       "    </tr>\n",
       "  </tbody>\n",
       "</table>\n",
       "</div>"
      ],
      "text/plain": [
       "       How would you rate your overall well-being before the treatment?  \\\n",
       "count                                         183.000000                  \n",
       "mean                                            1.803279                  \n",
       "std                                             0.606367                  \n",
       "min                                             1.000000                  \n",
       "25%                                             1.000000                  \n",
       "50%                                             2.000000                  \n",
       "75%                                             2.000000                  \n",
       "max                                             3.000000                  \n",
       "\n",
       "       How would you rate your overall well-being after the treatment?  \n",
       "count                                         183.000000                \n",
       "mean                                            4.213115                \n",
       "std                                             0.758427                \n",
       "min                                             2.000000                \n",
       "25%                                             4.000000                \n",
       "50%                                             4.000000                \n",
       "75%                                             5.000000                \n",
       "max                                             5.000000                "
      ]
     },
     "execution_count": 4,
     "metadata": {},
     "output_type": "execute_result"
    }
   ],
   "source": [
    "data.describe()"
   ]
  },
  {
   "cell_type": "markdown",
   "id": "7c831463-9c67-4faa-aaee-1aa450ca0dad",
   "metadata": {},
   "source": [
    "# Mann whitney u test "
   ]
  },
  {
   "cell_type": "code",
   "execution_count": 5,
   "id": "4fa4dbc1-028f-4f2b-9be9-8736f644b01e",
   "metadata": {},
   "outputs": [
    {
     "name": "stdout",
     "output_type": "stream",
     "text": [
      "Mann-Whitney U statistic: 801.5\n",
      "P-value: 1.2423436306969152e-59\n",
      "Reject the null hypothesis. There is a significant difference between the two samples.\n"
     ]
    }
   ],
   "source": [
    "sample1 = data['How would you rate your overall well-being before the treatment?']\n",
    "sample2 = data['How would you rate your overall well-being after the treatment?']\n",
    "\n",
    "u_statistic, p_value = mannwhitneyu(sample1, sample2)\n",
    "\n",
    "# Print the results\n",
    "print(\"Mann-Whitney U statistic:\", u_statistic)\n",
    "print(\"P-value:\", p_value)\n",
    "\n",
    "# Interpret the results\n",
    "alpha = 0.05  # significance level\n",
    "if p_value < alpha:\n",
    "    print(\"Reject the null hypothesis. There is a significant difference between the two samples.\")\n",
    "else:\n",
    "    print(\"Fail to reject the null hypothesis. There is no significant difference between the two samples.\")"
   ]
  },
  {
   "cell_type": "code",
   "execution_count": 6,
   "id": "976fd286-dc00-4bf6-8b0c-d237fd478389",
   "metadata": {},
   "outputs": [
    {
     "name": "stdout",
     "output_type": "stream",
     "text": [
      "Test Statistic: 0.0\n",
      "p-value: 2.4459712271019606e-32\n"
     ]
    }
   ],
   "source": [
    "before= data['How would you rate your overall well-being before the treatment?']\n",
    "after= data['How would you rate your overall well-being after the treatment?']\n",
    "statistic, p_value = wilcoxon(before, after)\n",
    "\n",
    "# Print the test statistic and p-value\n",
    "print(\"Test Statistic:\", statistic)\n",
    "print(\"p-value:\", p_value)"
   ]
  },
  {
   "cell_type": "code",
   "execution_count": 7,
   "id": "55f3423a-2a46-4851-ad08-d4d46a6b5025",
   "metadata": {},
   "outputs": [
    {
     "data": {
      "text/html": [
       "<div>\n",
       "<style scoped>\n",
       "    .dataframe tbody tr th:only-of-type {\n",
       "        vertical-align: middle;\n",
       "    }\n",
       "\n",
       "    .dataframe tbody tr th {\n",
       "        vertical-align: top;\n",
       "    }\n",
       "\n",
       "    .dataframe thead th {\n",
       "        text-align: right;\n",
       "    }\n",
       "</style>\n",
       "<table border=\"1\" class=\"dataframe\">\n",
       "  <thead>\n",
       "    <tr style=\"text-align: right;\">\n",
       "      <th>Any side effect of treatment</th>\n",
       "      <th>No</th>\n",
       "      <th>Yes</th>\n",
       "    </tr>\n",
       "    <tr>\n",
       "      <th>Gender</th>\n",
       "      <th></th>\n",
       "      <th></th>\n",
       "    </tr>\n",
       "  </thead>\n",
       "  <tbody>\n",
       "    <tr>\n",
       "      <th>Female</th>\n",
       "      <td>49</td>\n",
       "      <td>19</td>\n",
       "    </tr>\n",
       "    <tr>\n",
       "      <th>Male</th>\n",
       "      <td>105</td>\n",
       "      <td>10</td>\n",
       "    </tr>\n",
       "  </tbody>\n",
       "</table>\n",
       "</div>"
      ],
      "text/plain": [
       "Any side effect of treatment   No  Yes\n",
       "Gender                                \n",
       "Female                         49   19\n",
       "Male                          105   10"
      ]
     },
     "execution_count": 7,
     "metadata": {},
     "output_type": "execute_result"
    }
   ],
   "source": [
    "## Chi square test\n",
    "contingency_table=pd.crosstab(data['Gender'],data['Any side effect of treatment'])\n",
    "contingency_table"
   ]
  },
  {
   "cell_type": "code",
   "execution_count": 8,
   "id": "d59da1f2-7003-44ad-bbb6-c3da4b5c4e11",
   "metadata": {},
   "outputs": [
    {
     "name": "stdout",
     "output_type": "stream",
     "text": [
      "Chi2 Stat: 10.469290328575209\n",
      "P-value: 0.0012137533580412025\n",
      "Degrees of freedom: 1\n",
      "Expected frequencies table:\n",
      "[[57.22404372 10.77595628]\n",
      " [96.77595628 18.22404372]]\n"
     ]
    }
   ],
   "source": [
    "chi2_stat,p_value,dof,expected= chi2_contingency(contingency_table)\n",
    "print(f\"Chi2 Stat: {chi2_stat}\")\n",
    "print(f\"P-value: {p_value}\")\n",
    "print(f\"Degrees of freedom: {dof}\")\n",
    "print(f\"Expected frequencies table:\")\n",
    "print(expected)"
   ]
  },
  {
   "cell_type": "code",
   "execution_count": 9,
   "id": "b0ae8d1f-3f01-4d06-ac91-4673976b4ee4",
   "metadata": {},
   "outputs": [
    {
     "data": {
      "text/html": [
       "<div>\n",
       "<style scoped>\n",
       "    .dataframe tbody tr th:only-of-type {\n",
       "        vertical-align: middle;\n",
       "    }\n",
       "\n",
       "    .dataframe tbody tr th {\n",
       "        vertical-align: top;\n",
       "    }\n",
       "\n",
       "    .dataframe thead th {\n",
       "        text-align: right;\n",
       "    }\n",
       "</style>\n",
       "<table border=\"1\" class=\"dataframe\">\n",
       "  <thead>\n",
       "    <tr style=\"text-align: right;\">\n",
       "      <th>How would you rate your overall well-being after the treatment?</th>\n",
       "      <th>2</th>\n",
       "      <th>3</th>\n",
       "      <th>4</th>\n",
       "      <th>5</th>\n",
       "    </tr>\n",
       "    <tr>\n",
       "      <th>Duration of treatment</th>\n",
       "      <th></th>\n",
       "      <th></th>\n",
       "      <th></th>\n",
       "      <th></th>\n",
       "    </tr>\n",
       "  </thead>\n",
       "  <tbody>\n",
       "    <tr>\n",
       "      <th>1 month</th>\n",
       "      <td>0</td>\n",
       "      <td>0</td>\n",
       "      <td>17</td>\n",
       "      <td>4</td>\n",
       "    </tr>\n",
       "    <tr>\n",
       "      <th>2-3 months</th>\n",
       "      <td>0</td>\n",
       "      <td>0</td>\n",
       "      <td>16</td>\n",
       "      <td>27</td>\n",
       "    </tr>\n",
       "    <tr>\n",
       "      <th>4-6 months</th>\n",
       "      <td>5</td>\n",
       "      <td>7</td>\n",
       "      <td>46</td>\n",
       "      <td>22</td>\n",
       "    </tr>\n",
       "    <tr>\n",
       "      <th>6 months above</th>\n",
       "      <td>5</td>\n",
       "      <td>0</td>\n",
       "      <td>21</td>\n",
       "      <td>13</td>\n",
       "    </tr>\n",
       "  </tbody>\n",
       "</table>\n",
       "</div>"
      ],
      "text/plain": [
       "How would you rate your overall well-being after the treatment?  2  3   4   5\n",
       "Duration of treatment                                                        \n",
       "1 month                                                          0  0  17   4\n",
       "2-3 months                                                       0  0  16  27\n",
       "4-6 months                                                       5  7  46  22\n",
       "6 months above                                                   5  0  21  13"
      ]
     },
     "execution_count": 9,
     "metadata": {},
     "output_type": "execute_result"
    }
   ],
   "source": [
    "contingency_table=pd.crosstab(data[ 'Duration of treatment '],data['How would you rate your overall well-being after the treatment?'])\n",
    "contingency_table\n"
   ]
  },
  {
   "cell_type": "code",
   "execution_count": 10,
   "id": "e89a1878-e52c-499b-93b5-88aa1de93e76",
   "metadata": {},
   "outputs": [
    {
     "name": "stdout",
     "output_type": "stream",
     "text": [
      "Chi-square statistic: 44.09552821817433\n",
      "p-value: 5.45794583715696e-07\n",
      "Degrees of freedom: 8\n",
      "Expected frequencies: [[51.33333333 79.44444444 51.33333333 50.11111111 18.94444444 43.38888889\n",
      "  25.05555556 45.83333333 52.55555556]\n",
      " [32.66666667 50.55555556 32.66666667 31.88888889 12.05555556 27.61111111\n",
      "  15.94444444 29.16666667 33.44444444]]\n"
     ]
    }
   ],
   "source": [
    " ## Chi-Square test\n",
    "##Adjusted contingency table with the same number of symptoms for both male and female\n",
    "contingency_table = [\n",
    "    [55,77,50,63,7,39,19,59,49],  # Male\n",
    "    [29,53,34,19,24,32,22,16,37]  # Female\n",
    "]\n",
    "\n",
    "# Perform chi-square test\n",
    "chi2, p, dof, expected = chi2_contingency(contingency_table)\n",
    "\n",
    "# Print the results\n",
    "print(\"Chi-square statistic:\", chi2)\n",
    "print(\"p-value:\", p)\n",
    "print(\"Degrees of freedom:\", dof)\n",
    "print(\"Expected frequencies:\", expected)\n",
    "\n",
    "\n"
   ]
  },
  {
   "cell_type": "code",
   "execution_count": 11,
   "id": "319066ec-e532-45d1-90bc-b42d74894952",
   "metadata": {},
   "outputs": [
    {
     "name": "stdout",
     "output_type": "stream",
     "text": [
      "Chi-square statistic: 8.71452487778745\n",
      "p-value: 0.03333737840255089\n",
      "Degrees of freedom: 3\n",
      "Expected frequencies: [[21.  54.5 68.5 39. ]\n",
      " [21.  54.5 68.5 39. ]]\n"
     ]
    }
   ],
   "source": [
    "## Chi-Square test\n",
    "##Adjusted contingency table Duration of treatment both Allopathic and ayurvedic\n",
    "contingency_table = [\n",
    "    [21,43,80,39],  # Allopathic \n",
    "    [21,66,57,39]  # Ayurvedic\n",
    "]\n",
    "\n",
    "# Perform chi-square test\n",
    "chi2, p, dof, expected = chi2_contingency(contingency_table)\n",
    "\n",
    "# Print the results\n",
    "print(\"Chi-square statistic:\", chi2)\n",
    "print(\"p-value:\", p)\n",
    "print(\"Degrees of freedom:\", dof)\n",
    "print(\"Expected frequencies:\", expected)"
   ]
  },
  {
   "cell_type": "code",
   "execution_count": 12,
   "id": "1943e231-5689-4e51-aa93-c9f621d91829",
   "metadata": {},
   "outputs": [
    {
     "name": "stdout",
     "output_type": "stream",
     "text": [
      "H-Statistic: 12.912179347441931\n",
      "P-Value: 0.004830423331163858\n",
      "Reject null hypothesis: There is significant evidence that at least one group median is different.\n"
     ]
    }
   ],
   "source": [
    "# K W test\n",
    "groups = [data[data['Duration of treatment '] == group]['How satisfied are you with the overall treatment?'] for group in data['Duration of treatment '].unique()]\n",
    "\n",
    "# Performing Kruskal-Wallis test\n",
    "h_statistic, p_value = stats.kruskal(*groups)\n",
    "\n",
    "# Printing the results\n",
    "print(\"H-Statistic:\", h_statistic)\n",
    "print(\"P-Value:\", p_value)\n",
    "\n",
    "# Checking significance\n",
    "alpha = 0.05\n",
    "if p_value < alpha:\n",
    "    print(\"Reject null hypothesis: There is significant evidence that at least one group median is different.\")\n",
    "else:\n",
    "    print(\"Fail to reject null hypothesis: There is no significant evidence that the group medians are different.\")"
   ]
  },
  {
   "cell_type": "code",
   "execution_count": 13,
   "id": "8a1c57b5-d667-478b-a7a7-33bf76edc958",
   "metadata": {},
   "outputs": [
    {
     "name": "stdout",
     "output_type": "stream",
     "text": [
      "H-Statistic: 19.69645296361268\n",
      "P-Value: 0.0001961898369403198\n",
      "Reject null hypothesis: There is significant evidence that at least one group median is different.\n"
     ]
    }
   ],
   "source": [
    "groups = [data[data['Duration of treatment '] == group][ 'How would you rate your overall well-being after the treatment?'] for group in data['Duration of treatment '].unique()]\n",
    "\n",
    "# Performing Kruskal-Wallis test\n",
    "h_statistic, p_value = stats.kruskal(*groups)\n",
    "\n",
    "# Printing the results\n",
    "print(\"H-Statistic:\", h_statistic)\n",
    "print(\"P-Value:\", p_value)\n",
    "\n",
    "# Checking significance\n",
    "alpha = 0.05\n",
    "if p_value < alpha:\n",
    "    print(\"Reject null hypothesis: There is significant evidence that at least one group median is different.\")\n",
    "else:\n",
    "    print(\"Fail to reject null hypothesis: There is no significant evidence that the group medians are different.\")"
   ]
  },
  {
   "cell_type": "markdown",
   "id": "c95fe52e-a4a4-4c3b-b133-26b1707de392",
   "metadata": {},
   "source": [
    "### GRAPHICAL representation"
   ]
  },
  {
   "cell_type": "code",
   "execution_count": 14,
   "id": "b9063b16-c16a-46cc-9ddc-486af045f64d",
   "metadata": {},
   "outputs": [
    {
     "data": {
      "text/plain": [
       "How much did it cost  in treatment  \n",
       "200-500       70\n",
       "500-1500      55\n",
       "200 Below     46\n",
       "Above 1500    12\n",
       "Name: count, dtype: int64"
      ]
     },
     "execution_count": 14,
     "metadata": {},
     "output_type": "execute_result"
    }
   ],
   "source": [
    "count_result = data['How much did it cost  in treatment  '].value_counts()\n",
    "count_result"
   ]
  },
  {
   "cell_type": "code",
   "execution_count": 15,
   "id": "8e3a3b71-3921-4dbd-bfc2-1d5347a1e21f",
   "metadata": {},
   "outputs": [
    {
     "data": {
      "image/png": "[encoded data removed]",
      "text/plain": [
       "<Figure size 640x480 with 1 Axes>"
      ]
     },
     "metadata": {},
     "output_type": "display_data"
    }
   ],
   "source": [
    "lab=[\"200 Below\",\"200-500\",\"500-1500\",\"Above 1500\"]\n",
    "plt.barh(lab,width=count_result)\n",
    "for index,values in enumerate (count_result):\n",
    "    plt.text(values,index,str(values))\n",
    "plt.show()"
   ]
  },
  {
   "cell_type": "code",
   "execution_count": 16,
   "id": "3ed35097-6c6a-4909-9042-c7d15775a682",
   "metadata": {},
   "outputs": [
    {
     "data": {
      "image/png": "[encoded data removed]",
      "text/plain": [
       "<Figure size 640x480 with 1 Axes>"
      ]
     },
     "metadata": {},
     "output_type": "display_data"
    }
   ],
   "source": [
    "lab=[\"200 Below\",\"200-500\",\"500-1500\",\"Above 1500\"]\n",
    "plt.pie(count_result,labels=lab,autopct=\"%1.1f%%\")\n",
    "plt.legend(loc=\"upper left\")\n",
    "plt.title('pie chart')\n",
    "plt.show()"
   ]
  },
  {
   "cell_type": "code",
   "execution_count": null,
   "id": "ebc33a3a-fdbe-4c9c-bc7b-4f44d20cc121",
   "metadata": {},
   "outputs": [],
   "source": []
  },
  {
   "cell_type": "code",
   "execution_count": 17,
   "id": "dcabea6f-70bb-4a5c-9b88-cd5bb684f685",
   "metadata": {},
   "outputs": [
    {
     "data": {
      "image/png": "[encoded data removed]",
      "text/plain": [
       "<Figure size 640x480 with 1 Axes>"
      ]
     },
     "metadata": {},
     "output_type": "display_data"
    }
   ],
   "source": [
    "measures = data['What measures did you take to manage the pain during a kidney stone ? '].str.get_dummies(sep=', ')\n",
    "\n",
    "# Add the binary columns to the original DataFrame\n",
    "data = pd.concat([data, measures], axis=1)\n",
    "\n",
    "# Calculate the frequency of each measure\n",
    "measure_freq = measures.sum()\n",
    "\n",
    "# Visualize the frequency of each measure\n",
    "import matplotlib.pyplot as plt\n",
    "\n",
    "plt.bar(measure_freq.index, measure_freq.values)\n",
    "plt.xlabel('Measures to Manage Pain')\n",
    "plt.ylabel('Frequency')\n",
    "plt.title('Frequency of Measures to Manage Pain')\n",
    "plt.xticks(rotation=45)\n",
    "plt.show()"
   ]
  },
  {
   "cell_type": "code",
   "execution_count": 18,
   "id": "80f10234-a3d3-4ee3-a3d3-f99b2b0b7899",
   "metadata": {},
   "outputs": [
    {
     "data": {
      "image/png": "[encoded data removed]",
      "text/plain": [
       "<Figure size 600x800 with 1 Axes>"
      ]
     },
     "metadata": {},
     "output_type": "display_data"
    }
   ],
   "source": [
    "options = data['What measures did you take to manage the pain during a kidney stone ? '].str.split(', ', expand=True)\n",
    "option_counts = options.apply(pd.Series.value_counts).sum(axis=1)\n",
    "plt.figure(figsize=(6, 8))\n",
    "plt.pie(option_counts, labels=option_counts.index, autopct='%1.1f%%', startangle=80)\n",
    "plt.title('Measures to Manage Pain during Kidney Stones')\n",
    "plt.legend(loc=\"upper right\")\n",
    "plt.axis('equal')  # Equal aspect ratio ensures that pie is drawn as a circle.\n",
    "plt.show()"
   ]
  },
  {
   "cell_type": "code",
   "execution_count": 19,
   "id": "102170c4-7ddd-48c5-892a-542a1540484f",
   "metadata": {},
   "outputs": [
    {
     "data": {
      "image/png": "[encoded data removed]",
      "text/plain": [
       "<Figure size 640x480 with 1 Axes>"
      ]
     },
     "metadata": {},
     "output_type": "display_data"
    }
   ],
   "source": [
    "fx=sns.boxplot(x= 'Duration of treatment ',y= 'How would you rate your overall well-being after the treatment?' ,data=data)\n",
    "plt.show()\n"
   ]
  },
  {
   "cell_type": "code",
   "execution_count": null,
   "id": "886f8c00-5582-4213-ad3f-76c9b5c5941c",
   "metadata": {},
   "outputs": [],
   "source": []
  },
  {
   "cell_type": "code",
   "execution_count": null,
   "id": "13587535-1bfa-47c3-9162-85b278cb11eb",
   "metadata": {},
   "outputs": [],
   "source": []
  },
  {
   "cell_type": "code",
   "execution_count": null,
   "id": "2df7a3c6-299b-413e-a275-6005dcfac8d4",
   "metadata": {},
   "outputs": [],
   "source": []
  },
  {
   "cell_type": "code",
   "execution_count": null,
   "id": "875dfe79-0672-420f-846c-4026c3d923b1",
   "metadata": {},
   "outputs": [],
   "source": []
  },
  {
   "cell_type": "code",
   "execution_count": 20,
   "id": "d4c53d2c-f226-43d3-bf81-b8427efcc1a6",
   "metadata": {},
   "outputs": [
    {
     "ename": "NameError",
     "evalue": "name 'symptom_counts' is not defined",
     "output_type": "error",
     "traceback": [
      "\u001b[1;31m---------------------------------------------------------------------------\u001b[0m",
      "\u001b[1;31mNameError\u001b[0m                                 Traceback (most recent call last)",
      "Cell \u001b[1;32mIn[20], line 4\u001b[0m\n\u001b[0;32m      1\u001b[0m \u001b[38;5;28;01mimport\u001b[39;00m \u001b[38;5;21;01mmatplotlib\u001b[39;00m\u001b[38;5;21;01m.\u001b[39;00m\u001b[38;5;21;01mpyplot\u001b[39;00m \u001b[38;5;28;01mas\u001b[39;00m \u001b[38;5;21;01mplt\u001b[39;00m\n\u001b[0;32m      3\u001b[0m \u001b[38;5;66;03m# Convert symptom_counts to a dictionary for plotting\u001b[39;00m\n\u001b[1;32m----> 4\u001b[0m symptom_dict \u001b[38;5;241m=\u001b[39m \u001b[38;5;28mdict\u001b[39m(\u001b[43msymptom_counts\u001b[49m)\n",
      "\u001b[1;31mNameError\u001b[0m: name 'symptom_counts' is not defined"
     ]
    }
   ],
   "source": [
    "import matplotlib.pyplot as plt\n",
    "\n",
    "# Convert symptom_counts to a dictionary for plotting\n",
    "symptom_dict = dict(symptom_counts)"
   ]
  },
  {
   "cell_type": "markdown",
   "id": "e4460139-cf0d-473c-be63-fcbe4159d7e5",
   "metadata": {},
   "source": [
    "## Logestic regression "
   ]
  },
  {
   "cell_type": "code",
   "execution_count": null,
   "id": "f1c50580-0510-4b52-82bc-0bd49840c553",
   "metadata": {},
   "outputs": [],
   "source": []
  },
  {
   "cell_type": "markdown",
   "id": "4783aa08-4cb8-4d3d-ae99-22075fded54c",
   "metadata": {},
   "source": [
    "# Logistic"
   ]
  },
  {
   "cell_type": "code",
   "execution_count": 21,
   "id": "171655eb-67a1-434c-b7bd-3943b9ccbd92",
   "metadata": {},
   "outputs": [],
   "source": [
    "from statsmodels import *"
   ]
  },
  {
   "cell_type": "code",
   "execution_count": 22,
   "id": "39b4f6e9-3b0d-4baf-8cbe-8903aa69badc",
   "metadata": {},
   "outputs": [
    {
     "name": "stdout",
     "output_type": "stream",
     "text": [
      "['How would you rate your overall well-being before the treatment?'\n",
      " 'How would you rate your overall well-being after the treatment?'\n",
      " 'Cold compress' 'Drinking water ' 'Hot compress' 'Medications' 'Rest ']\n",
      "['Gender' 'Age' 'Occupation ' 'Duration of treatment '\n",
      " 'Any side effect of treatment'\n",
      " 'How effective was the treatment in alleviating your symptoms?'\n",
      " 'How satisfied are you with the overall treatment?'\n",
      " 'Are you satisfied with the time it took for the treatment to show results?'\n",
      " 'Did the treatment successfully eliminate your kidney stones?'\n",
      " 'Do you follow a specific diet or lifestyle recommended by your treatment provider?'\n",
      " 'Any symptoms'\n",
      " 'How would you describe the intensity of the pain caused by kidney stones?'\n",
      " 'How much did it cost  in treatment  '\n",
      " 'What measures did you take to manage the pain during a kidney stone ? '\n",
      " 'Who you recommend for the treatment'\n",
      " 'Have you received allopathic treatment for kidney stones?'\n",
      " 'Would you recommend your chosen treatment to others?']\n"
     ]
    }
   ],
   "source": [
    "numeric_features = data.select_dtypes(include=['float64', 'int64']).columns.values\n",
    "print(numeric_features)\n",
    "category_features = data.select_dtypes(include=['object', 'bool']).columns.values\n",
    "#category_features = category_features[category_features != 'y']\n",
    "print(category_features)"
   ]
  },
  {
   "cell_type": "code",
   "execution_count": 23,
   "id": "e14dfe99-27fc-4575-91e4-6e8c00a881e2",
   "metadata": {},
   "outputs": [],
   "source": [
    "# Import necessary libraries\n",
    "import pandas as pd\n",
    "from sklearn.model_selection import train_test_split\n",
    "from sklearn.linear_model import LogisticRegression\n",
    "from sklearn.metrics import accuracy_score, classification_report, confusion_matrix, roc_auc_score"
   ]
  },
  {
   "cell_type": "code",
   "execution_count": 24,
   "id": "45194d77-e0a8-4078-8e9f-5e26909fb887",
   "metadata": {},
   "outputs": [],
   "source": [
    "\n",
    "\n",
    "\n",
    "# Assuming you have a DataFrame 'df' with your data\n",
    "# Example data preparation (replace with your actual column names)\n",
    "X = data[['Gender','Age' ,'Occupation ','Duration of treatment ','Any side effect of treatment']]\n",
    "y = data[ 'Did the treatment successfully eliminate your kidney stones?']\n",
    "\n",
    "##Create dummy variables for categorical variable 'Gender'\n",
    "X = pd.get_dummies(X, columns=['Gender','Age' ,'Occupation ','Duration of treatment ','Any side effect of treatment'], drop_first=True)\n"
   ]
  },
  {
   "cell_type": "code",
   "execution_count": 25,
   "id": "dd267a3a-1e1c-46c0-bd57-d5778ccc3510",
   "metadata": {},
   "outputs": [
    {
     "name": "stdout",
     "output_type": "stream",
     "text": [
      "['Yes' 'Yes' 'No' 'Yes' 'Yes' 'Yes' 'Yes' 'Yes' 'Yes' 'Yes' 'Yes' 'Yes'\n",
      " 'Yes' 'Yes' 'Yes' 'Yes' 'No' 'Yes' 'Yes' 'Yes' 'Yes' 'Yes' 'Yes' 'Yes'\n",
      " 'Yes' 'Yes' 'Yes' 'Yes' 'Yes' 'Yes' 'Yes' 'Yes' 'No' 'Yes' 'Yes' 'No'\n",
      " 'Yes' 'No' 'No' 'Yes' 'Yes' 'Yes' 'Yes' 'Yes' 'Yes' 'Yes' 'Yes' 'Yes'\n",
      " 'Yes' 'No' 'Yes' 'Yes' 'Yes' 'Yes' 'Yes' 'Yes' 'Yes' 'No' 'Yes' 'Yes'\n",
      " 'Yes' 'No' 'No' 'Yes' 'Yes' 'Yes' 'Yes' 'Yes' 'Yes' 'No' 'Yes' 'No' 'Yes'\n",
      " 'Yes' 'Yes' 'No' 'Yes' 'Yes' 'No' 'Yes' 'Yes' 'Yes' 'Yes' 'Yes' 'Yes'\n",
      " 'Yes' 'Yes' 'Yes' 'Yes' 'Yes' 'No' 'Yes' 'Yes' 'Yes' 'Yes' 'No' 'No'\n",
      " 'Yes' 'Yes' 'Yes' 'No' 'No' 'No' 'Yes' 'Yes' 'Yes' 'Yes' 'Yes' 'Yes'\n",
      " 'Yes' 'Yes' 'No' 'Yes' 'Yes' 'No' 'Yes' 'Yes' 'Yes' 'Yes' 'No' 'Yes'\n",
      " 'Yes' 'No' 'No' 'No' 'Yes' 'Yes' 'Yes' 'No' 'Yes' 'Yes' 'No' 'Yes' 'No'\n",
      " 'Yes' 'Yes' 'Yes' 'Yes' 'Yes' 'Yes' 'Yes' 'No' 'Yes' 'Yes' 'No' 'No']\n",
      "Accuracy: 0.8082191780821918\n",
      "Classification Report:\n",
      "               precision    recall  f1-score   support\n",
      "\n",
      "          No       0.81      0.54      0.65        48\n",
      "         Yes       0.81      0.94      0.87        98\n",
      "\n",
      "    accuracy                           0.81       146\n",
      "   macro avg       0.81      0.74      0.76       146\n",
      "weighted avg       0.81      0.81      0.80       146\n",
      "\n",
      "Confusion Matrix:\n",
      " [[26 22]\n",
      " [ 6 92]]\n",
      "ROC AUC Score: 0.7727272727272728\n"
     ]
    }
   ],
   "source": [
    "# Split the data into training and testing sets\n",
    "X_train, X_test, y_train, y_test = train_test_split(X, y, test_size=0.2, random_state=42)\n",
    "\n",
    "# Create and fit the logistic regression model\n",
    "model = LogisticRegression()\n",
    "model.fit(X_train, y_train)\n",
    "\n",
    "# Make predictions on the test set\n",
    "y_pred = model.predict(X_train)\n",
    "print(y_pred)\n",
    "# Evaluate performance\n",
    "print(\"Accuracy:\", accuracy_score(y_train, y_pred))\n",
    "print(\"Classification Report:\\n\", classification_report(y_train, y_pred))\n",
    "print(\"Confusion Matrix:\\n\", confusion_matrix(y_train, y_pred))\n",
    "print(\"ROC AUC Score:\", roc_auc_score(y_test, model.predict_proba(X_test)[:, 1]))"
   ]
  },
  {
   "cell_type": "code",
   "execution_count": 34,
   "id": "36641ab0-7086-4f9e-8c80-d4576632f272",
   "metadata": {},
   "outputs": [
    {
     "name": "stdout",
     "output_type": "stream",
     "text": [
      "0.7027027027027027\n",
      "              precision    recall  f1-score   support\n",
      "\n",
      "          No       0.50      0.82      0.62        11\n",
      "         Yes       0.89      0.65      0.76        26\n",
      "\n",
      "    accuracy                           0.70        37\n",
      "   macro avg       0.70      0.74      0.69        37\n",
      "weighted avg       0.78      0.70      0.72        37\n",
      "\n",
      "[[ 9  2]\n",
      " [ 9 17]]\n"
     ]
    }
   ],
   "source": [
    "y_predtest = model.predict(X_test) \n",
    "acctest = accuracy_score(y_test, y_predtest)\n",
    "classtest = classification_report(y_test, y_predtest)\n",
    "contst = confusion_matrix(y_test, y_predtest)\n",
    "print(acctest)\n",
    "print(classtest)\n",
    "print(contst)"
   ]
  },
  {
   "cell_type": "code",
   "execution_count": 26,
   "id": "cd321320-6826-4e12-a8d7-5689ebf2874b",
   "metadata": {},
   "outputs": [
    {
     "data": {
      "text/html": [
       "<style>#sk-container-id-1 {\n",
       "  /* Definition of color scheme common for light and dark mode */\n",
       "  --sklearn-color-text: black;\n",
       "  --sklearn-color-line: gray;\n",
       "  /* Definition of color scheme for unfitted estimators */\n",
       "  --sklearn-color-unfitted-level-0: #fff5e6;\n",
       "  --sklearn-color-unfitted-level-1: #f6e4d2;\n",
       "  --sklearn-color-unfitted-level-2: #ffe0b3;\n",
       "  --sklearn-color-unfitted-level-3: chocolate;\n",
       "  /* Definition of color scheme for fitted estimators */\n",
       "  --sklearn-color-fitted-level-0: #f0f8ff;\n",
       "  --sklearn-color-fitted-level-1: #d4ebff;\n",
       "  --sklearn-color-fitted-level-2: #b3dbfd;\n",
       "  --sklearn-color-fitted-level-3: cornflowerblue;\n",
       "\n",
       "  /* Specific color for light theme */\n",
       "  --sklearn-color-text-on-default-background: var(--sg-text-color, var(--theme-code-foreground, var(--jp-content-font-color1, black)));\n",
       "  --sklearn-color-background: var(--sg-background-color, var(--theme-background, var(--jp-layout-color0, white)));\n",
       "  --sklearn-color-border-box: var(--sg-text-color, var(--theme-code-foreground, var(--jp-content-font-color1, black)));\n",
       "  --sklearn-color-icon: #696969;\n",
       "\n",
       "  @media (prefers-color-scheme: dark) {\n",
       "    /* Redefinition of color scheme for dark theme */\n",
       "    --sklearn-color-text-on-default-background: var(--sg-text-color, var(--theme-code-foreground, var(--jp-content-font-color1, white)));\n",
       "    --sklearn-color-background: var(--sg-background-color, var(--theme-background, var(--jp-layout-color0, #111)));\n",
       "    --sklearn-color-border-box: var(--sg-text-color, var(--theme-code-foreground, var(--jp-content-font-color1, white)));\n",
       "    --sklearn-color-icon: #878787;\n",
       "  }\n",
       "}\n",
       "\n",
       "#sk-container-id-1 {\n",
       "  color: var(--sklearn-color-text);\n",
       "}\n",
       "\n",
       "#sk-container-id-1 pre {\n",
       "  padding: 0;\n",
       "}\n",
       "\n",
       "#sk-container-id-1 input.sk-hidden--visually {\n",
       "  border: 0;\n",
       "  clip: rect(1px 1px 1px 1px);\n",
       "  clip: rect(1px, 1px, 1px, 1px);\n",
       "  height: 1px;\n",
       "  margin: -1px;\n",
       "  overflow: hidden;\n",
       "  padding: 0;\n",
       "  position: absolute;\n",
       "  width: 1px;\n",
       "}\n",
       "\n",
       "#sk-container-id-1 div.sk-dashed-wrapped {\n",
       "  border: 1px dashed var(--sklearn-color-line);\n",
       "  margin: 0 0.4em 0.5em 0.4em;\n",
       "  box-sizing: border-box;\n",
       "  padding-bottom: 0.4em;\n",
       "  background-color: var(--sklearn-color-background);\n",
       "}\n",
       "\n",
       "#sk-container-id-1 div.sk-container {\n",
       "  /* jupyter's `normalize.less` sets `[hidden] { display: none; }`\n",
       "     but bootstrap.min.css set `[hidden] { display: none !important; }`\n",
       "     so we also need the `!important` here to be able to override the\n",
       "     default hidden behavior on the sphinx rendered scikit-learn.org.\n",
       "     See: https://github.com/scikit-learn/scikit-learn/issues/21755 */\n",
       "  display: inline-block !important;\n",
       "  position: relative;\n",
       "}\n",
       "\n",
       "#sk-container-id-1 div.sk-text-repr-fallback {\n",
       "  display: none;\n",
       "}\n",
       "\n",
       "div.sk-parallel-item,\n",
       "div.sk-serial,\n",
       "div.sk-item {\n",
       "  /* draw centered vertical line to link estimators */\n",
       "  background-image: linear-gradient(var(--sklearn-color-text-on-default-background), var(--sklearn-color-text-on-default-background));\n",
       "  background-size: 2px 100%;\n",
       "  background-repeat: no-repeat;\n",
       "  background-position: center center;\n",
       "}\n",
       "\n",
       "/* Parallel-specific style estimator block */\n",
       "\n",
       "#sk-container-id-1 div.sk-parallel-item::after {\n",
       "  content: \"\";\n",
       "  width: 100%;\n",
       "  border-bottom: 2px solid var(--sklearn-color-text-on-default-background);\n",
       "  flex-grow: 1;\n",
       "}\n",
       "\n",
       "#sk-container-id-1 div.sk-parallel {\n",
       "  display: flex;\n",
       "  align-items: stretch;\n",
       "  justify-content: center;\n",
       "  background-color: var(--sklearn-color-background);\n",
       "  position: relative;\n",
       "}\n",
       "\n",
       "#sk-container-id-1 div.sk-parallel-item {\n",
       "  display: flex;\n",
       "  flex-direction: column;\n",
       "}\n",
       "\n",
       "#sk-container-id-1 div.sk-parallel-item:first-child::after {\n",
       "  align-self: flex-end;\n",
       "  width: 50%;\n",
       "}\n",
       "\n",
       "#sk-container-id-1 div.sk-parallel-item:last-child::after {\n",
       "  align-self: flex-start;\n",
       "  width: 50%;\n",
       "}\n",
       "\n",
       "#sk-container-id-1 div.sk-parallel-item:only-child::after {\n",
       "  width: 0;\n",
       "}\n",
       "\n",
       "/* Serial-specific style estimator block */\n",
       "\n",
       "#sk-container-id-1 div.sk-serial {\n",
       "  display: flex;\n",
       "  flex-direction: column;\n",
       "  align-items: center;\n",
       "  background-color: var(--sklearn-color-background);\n",
       "  padding-right: 1em;\n",
       "  padding-left: 1em;\n",
       "}\n",
       "\n",
       "\n",
       "/* Toggleable style: style used for estimator/Pipeline/ColumnTransformer box that is\n",
       "clickable and can be expanded/collapsed.\n",
       "- Pipeline and ColumnTransformer use this feature and define the default style\n",
       "- Estimators will overwrite some part of the style using the `sk-estimator` class\n",
       "*/\n",
       "\n",
       "/* Pipeline and ColumnTransformer style (default) */\n",
       "\n",
       "#sk-container-id-1 div.sk-toggleable {\n",
       "  /* Default theme specific background. It is overwritten whether we have a\n",
       "  specific estimator or a Pipeline/ColumnTransformer */\n",
       "  background-color: var(--sklearn-color-background);\n",
       "}\n",
       "\n",
       "/* Toggleable label */\n",
       "#sk-container-id-1 label.sk-toggleable__label {\n",
       "  cursor: pointer;\n",
       "  display: block;\n",
       "  width: 100%;\n",
       "  margin-bottom: 0;\n",
       "  padding: 0.5em;\n",
       "  box-sizing: border-box;\n",
       "  text-align: center;\n",
       "}\n",
       "\n",
       "#sk-container-id-1 label.sk-toggleable__label-arrow:before {\n",
       "  /* Arrow on the left of the label */\n",
       "  content: \"▸\";\n",
       "  float: left;\n",
       "  margin-right: 0.25em;\n",
       "  color: var(--sklearn-color-icon);\n",
       "}\n",
       "\n",
       "#sk-container-id-1 label.sk-toggleable__label-arrow:hover:before {\n",
       "  color: var(--sklearn-color-text);\n",
       "}\n",
       "\n",
       "/* Toggleable content - dropdown */\n",
       "\n",
       "#sk-container-id-1 div.sk-toggleable__content {\n",
       "  max-height: 0;\n",
       "  max-width: 0;\n",
       "  overflow: hidden;\n",
       "  text-align: left;\n",
       "  /* unfitted */\n",
       "  background-color: var(--sklearn-color-unfitted-level-0);\n",
       "}\n",
       "\n",
       "#sk-container-id-1 div.sk-toggleable__content.fitted {\n",
       "  /* fitted */\n",
       "  background-color: var(--sklearn-color-fitted-level-0);\n",
       "}\n",
       "\n",
       "#sk-container-id-1 div.sk-toggleable__content pre {\n",
       "  margin: 0.2em;\n",
       "  border-radius: 0.25em;\n",
       "  color: var(--sklearn-color-text);\n",
       "  /* unfitted */\n",
       "  background-color: var(--sklearn-color-unfitted-level-0);\n",
       "}\n",
       "\n",
       "#sk-container-id-1 div.sk-toggleable__content.fitted pre {\n",
       "  /* unfitted */\n",
       "  background-color: var(--sklearn-color-fitted-level-0);\n",
       "}\n",
       "\n",
       "#sk-container-id-1 input.sk-toggleable__control:checked~div.sk-toggleable__content {\n",
       "  /* Expand drop-down */\n",
       "  max-height: 200px;\n",
       "  max-width: 100%;\n",
       "  overflow: auto;\n",
       "}\n",
       "\n",
       "#sk-container-id-1 input.sk-toggleable__control:checked~label.sk-toggleable__label-arrow:before {\n",
       "  content: \"▾\";\n",
       "}\n",
       "\n",
       "/* Pipeline/ColumnTransformer-specific style */\n",
       "\n",
       "#sk-container-id-1 div.sk-label input.sk-toggleable__control:checked~label.sk-toggleable__label {\n",
       "  color: var(--sklearn-color-text);\n",
       "  background-color: var(--sklearn-color-unfitted-level-2);\n",
       "}\n",
       "\n",
       "#sk-container-id-1 div.sk-label.fitted input.sk-toggleable__control:checked~label.sk-toggleable__label {\n",
       "  background-color: var(--sklearn-color-fitted-level-2);\n",
       "}\n",
       "\n",
       "/* Estimator-specific style */\n",
       "\n",
       "/* Colorize estimator box */\n",
       "#sk-container-id-1 div.sk-estimator input.sk-toggleable__control:checked~label.sk-toggleable__label {\n",
       "  /* unfitted */\n",
       "  background-color: var(--sklearn-color-unfitted-level-2);\n",
       "}\n",
       "\n",
       "#sk-container-id-1 div.sk-estimator.fitted input.sk-toggleable__control:checked~label.sk-toggleable__label {\n",
       "  /* fitted */\n",
       "  background-color: var(--sklearn-color-fitted-level-2);\n",
       "}\n",
       "\n",
       "#sk-container-id-1 div.sk-label label.sk-toggleable__label,\n",
       "#sk-container-id-1 div.sk-label label {\n",
       "  /* The background is the default theme color */\n",
       "  color: var(--sklearn-color-text-on-default-background);\n",
       "}\n",
       "\n",
       "/* On hover, darken the color of the background */\n",
       "#sk-container-id-1 div.sk-label:hover label.sk-toggleable__label {\n",
       "  color: var(--sklearn-color-text);\n",
       "  background-color: var(--sklearn-color-unfitted-level-2);\n",
       "}\n",
       "\n",
       "/* Label box, darken color on hover, fitted */\n",
       "#sk-container-id-1 div.sk-label.fitted:hover label.sk-toggleable__label.fitted {\n",
       "  color: var(--sklearn-color-text);\n",
       "  background-color: var(--sklearn-color-fitted-level-2);\n",
       "}\n",
       "\n",
       "/* Estimator label */\n",
       "\n",
       "#sk-container-id-1 div.sk-label label {\n",
       "  font-family: monospace;\n",
       "  font-weight: bold;\n",
       "  display: inline-block;\n",
       "  line-height: 1.2em;\n",
       "}\n",
       "\n",
       "#sk-container-id-1 div.sk-label-container {\n",
       "  text-align: center;\n",
       "}\n",
       "\n",
       "/* Estimator-specific */\n",
       "#sk-container-id-1 div.sk-estimator {\n",
       "  font-family: monospace;\n",
       "  border: 1px dotted var(--sklearn-color-border-box);\n",
       "  border-radius: 0.25em;\n",
       "  box-sizing: border-box;\n",
       "  margin-bottom: 0.5em;\n",
       "  /* unfitted */\n",
       "  background-color: var(--sklearn-color-unfitted-level-0);\n",
       "}\n",
       "\n",
       "#sk-container-id-1 div.sk-estimator.fitted {\n",
       "  /* fitted */\n",
       "  background-color: var(--sklearn-color-fitted-level-0);\n",
       "}\n",
       "\n",
       "/* on hover */\n",
       "#sk-container-id-1 div.sk-estimator:hover {\n",
       "  /* unfitted */\n",
       "  background-color: var(--sklearn-color-unfitted-level-2);\n",
       "}\n",
       "\n",
       "#sk-container-id-1 div.sk-estimator.fitted:hover {\n",
       "  /* fitted */\n",
       "  background-color: var(--sklearn-color-fitted-level-2);\n",
       "}\n",
       "\n",
       "/* Specification for estimator info (e.g. \"i\" and \"?\") */\n",
       "\n",
       "/* Common style for \"i\" and \"?\" */\n",
       "\n",
       ".sk-estimator-doc-link,\n",
       "a:link.sk-estimator-doc-link,\n",
       "a:visited.sk-estimator-doc-link {\n",
       "  float: right;\n",
       "  font-size: smaller;\n",
       "  line-height: 1em;\n",
       "  font-family: monospace;\n",
       "  background-color: var(--sklearn-color-background);\n",
       "  border-radius: 1em;\n",
       "  height: 1em;\n",
       "  width: 1em;\n",
       "  text-decoration: none !important;\n",
       "  margin-left: 1ex;\n",
       "  /* unfitted */\n",
       "  border: var(--sklearn-color-unfitted-level-1) 1pt solid;\n",
       "  color: var(--sklearn-color-unfitted-level-1);\n",
       "}\n",
       "\n",
       ".sk-estimator-doc-link.fitted,\n",
       "a:link.sk-estimator-doc-link.fitted,\n",
       "a:visited.sk-estimator-doc-link.fitted {\n",
       "  /* fitted */\n",
       "  border: var(--sklearn-color-fitted-level-1) 1pt solid;\n",
       "  color: var(--sklearn-color-fitted-level-1);\n",
       "}\n",
       "\n",
       "/* On hover */\n",
       "div.sk-estimator:hover .sk-estimator-doc-link:hover,\n",
       ".sk-estimator-doc-link:hover,\n",
       "div.sk-label-container:hover .sk-estimator-doc-link:hover,\n",
       ".sk-estimator-doc-link:hover {\n",
       "  /* unfitted */\n",
       "  background-color: var(--sklearn-color-unfitted-level-3);\n",
       "  color: var(--sklearn-color-background);\n",
       "  text-decoration: none;\n",
       "}\n",
       "\n",
       "div.sk-estimator.fitted:hover .sk-estimator-doc-link.fitted:hover,\n",
       ".sk-estimator-doc-link.fitted:hover,\n",
       "div.sk-label-container:hover .sk-estimator-doc-link.fitted:hover,\n",
       ".sk-estimator-doc-link.fitted:hover {\n",
       "  /* fitted */\n",
       "  background-color: var(--sklearn-color-fitted-level-3);\n",
       "  color: var(--sklearn-color-background);\n",
       "  text-decoration: none;\n",
       "}\n",
       "\n",
       "/* Span, style for the box shown on hovering the info icon */\n",
       ".sk-estimator-doc-link span {\n",
       "  display: none;\n",
       "  z-index: 9999;\n",
       "  position: relative;\n",
       "  font-weight: normal;\n",
       "  right: .2ex;\n",
       "  padding: .5ex;\n",
       "  margin: .5ex;\n",
       "  width: min-content;\n",
       "  min-width: 20ex;\n",
       "  max-width: 50ex;\n",
       "  color: var(--sklearn-color-text);\n",
       "  box-shadow: 2pt 2pt 4pt #999;\n",
       "  /* unfitted */\n",
       "  background: var(--sklearn-color-unfitted-level-0);\n",
       "  border: .5pt solid var(--sklearn-color-unfitted-level-3);\n",
       "}\n",
       "\n",
       ".sk-estimator-doc-link.fitted span {\n",
       "  /* fitted */\n",
       "  background: var(--sklearn-color-fitted-level-0);\n",
       "  border: var(--sklearn-color-fitted-level-3);\n",
       "}\n",
       "\n",
       ".sk-estimator-doc-link:hover span {\n",
       "  display: block;\n",
       "}\n",
       "\n",
       "/* \"?\"-specific style due to the `<a>` HTML tag */\n",
       "\n",
       "#sk-container-id-1 a.estimator_doc_link {\n",
       "  float: right;\n",
       "  font-size: 1rem;\n",
       "  line-height: 1em;\n",
       "  font-family: monospace;\n",
       "  background-color: var(--sklearn-color-background);\n",
       "  border-radius: 1rem;\n",
       "  height: 1rem;\n",
       "  width: 1rem;\n",
       "  text-decoration: none;\n",
       "  /* unfitted */\n",
       "  color: var(--sklearn-color-unfitted-level-1);\n",
       "  border: var(--sklearn-color-unfitted-level-1) 1pt solid;\n",
       "}\n",
       "\n",
       "#sk-container-id-1 a.estimator_doc_link.fitted {\n",
       "  /* fitted */\n",
       "  border: var(--sklearn-color-fitted-level-1) 1pt solid;\n",
       "  color: var(--sklearn-color-fitted-level-1);\n",
       "}\n",
       "\n",
       "/* On hover */\n",
       "#sk-container-id-1 a.estimator_doc_link:hover {\n",
       "  /* unfitted */\n",
       "  background-color: var(--sklearn-color-unfitted-level-3);\n",
       "  color: var(--sklearn-color-background);\n",
       "  text-decoration: none;\n",
       "}\n",
       "\n",
       "#sk-container-id-1 a.estimator_doc_link.fitted:hover {\n",
       "  /* fitted */\n",
       "  background-color: var(--sklearn-color-fitted-level-3);\n",
       "}\n",
       "</style><div id=\"sk-container-id-1\" class=\"sk-top-container\"><div class=\"sk-text-repr-fallback\"><pre>LogisticRegression()</pre><b>In a Jupyter environment, please rerun this cell to show the HTML representation or trust the notebook. <br />On GitHub, the HTML representation is unable to render, please try loading this page with nbviewer.org.</b></div><div class=\"sk-container\" hidden><div class=\"sk-item\"><div class=\"sk-estimator fitted sk-toggleable\"><input class=\"sk-toggleable__control sk-hidden--visually\" id=\"sk-estimator-id-1\" type=\"checkbox\" checked><label for=\"sk-estimator-id-1\" class=\"sk-toggleable__label fitted sk-toggleable__label-arrow fitted\">&nbsp;&nbsp;LogisticRegression<a class=\"sk-estimator-doc-link fitted\" rel=\"noreferrer\" target=\"_blank\" href=\"https://scikit-learn.org/1.4/modules/generated/sklearn.linear_model.LogisticRegression.html\">?<span>Documentation for LogisticRegression</span></a><span class=\"sk-estimator-doc-link fitted\">i<span>Fitted</span></span></label><div class=\"sk-toggleable__content fitted\"><pre>LogisticRegression()</pre></div> </div></div></div></div>"
      ],
      "text/plain": [
       "LogisticRegression()"
      ]
     },
     "execution_count": 26,
     "metadata": {},
     "output_type": "execute_result"
    }
   ],
   "source": [
    "from sklearn.linear_model import LogisticRegression\n",
    "from sklearn import metrics\n",
    "logreg = LogisticRegression()\n",
    "logreg.fit(X_train, y_train)"
   ]
  },
  {
   "cell_type": "code",
   "execution_count": 27,
   "id": "3dba63c0-27ec-4781-9c23-3688759d1a94",
   "metadata": {},
   "outputs": [
    {
     "name": "stdout",
     "output_type": "stream",
     "text": [
      "Accuracy of logistic regression classifier on test set: 0.70\n"
     ]
    }
   ],
   "source": [
    "y_pred = logreg.predict(X_test)\n",
    "print('Accuracy of logistic regression classifier on test set: {:.2f}'.format(logreg.score(X_test, y_test)))"
   ]
  },
  {
   "cell_type": "code",
   "execution_count": 28,
   "id": "40a1d28b-e369-4c76-a13d-ecc28ee1eb28",
   "metadata": {},
   "outputs": [
    {
     "name": "stdout",
     "output_type": "stream",
     "text": [
      "10-fold cross validation average accuracy: 0.766\n"
     ]
    }
   ],
   "source": [
    "#Cross validation \n",
    "from sklearn import model_selection\n",
    "from sklearn.model_selection import cross_val_score\n",
    "kfold = model_selection.KFold(n_splits=10, random_state=7,shuffle=True)\n",
    "modelCV = LogisticRegression()\n",
    "scoring = 'accuracy'\n",
    "results = model_selection.cross_val_score(modelCV, X_train, y_train, cv=kfold, scoring=scoring)\n",
    "print(\"10-fold cross validation average accuracy: %.3f\" % (results.mean()))"
   ]
  },
  {
   "cell_type": "code",
   "execution_count": 29,
   "id": "2aa1ce0c-d43a-4218-8b45-4aa03ecb1095",
   "metadata": {},
   "outputs": [
    {
     "data": {
      "image/png": "[encoded data removed]",
      "text/plain": [
       "<Figure size 800x600 with 1 Axes>"
      ]
     },
     "metadata": {},
     "output_type": "display_data"
    }
   ],
   "source": [
    "from sklearn.metrics import roc_auc_score, roc_curve\n",
    "import matplotlib.pyplot as plt\n",
    "import numpy as np\n",
    "from sklearn.preprocessing import LabelEncoder\n",
    "\n",
    "\n",
    "# Assuming you already have the model trained (replace 'model' with your actual model)\n",
    "# model = LogisticRegression()\n",
    "# model.fit(X_train, y_train)\n",
    "# Convert 'No' to 0 and 'Yes' to 1 in the target variable\n",
    "le = LabelEncoder()\n",
    "y_test_numeric = le.fit_transform(y_test)\n",
    "\n",
    "# Calculate ROC AUC score using predicted probabilities\n",
    "logit_roc_auc = roc_auc_score(y_test_numeric, model.predict_proba(X_test)[:, 1])\n",
    "fpr, tpr, thresholds = roc_curve(y_test_numeric, model.predict_proba(X_test)[:, 1])\n",
    "# Plot the ROC curve\n",
    "plt.figure(figsize=(8, 6))\n",
    "plt.plot(fpr, tpr, label='Logistic Regression (AUC = %0.2f)' % logit_roc_auc)\n",
    "plt.plot([0, 1], [0, 1], 'r--')\n",
    "plt.xlim([0.0, 1.0])\n",
    "plt.ylim([0.0, 1.05])\n",
    "plt.xlabel('False Positive Rate')\n",
    "plt.ylabel('True Positive Rate')\n",
    "plt.title('Receiver Operating Characteristic (ROC) Curve')\n",
    "plt.legend(loc='lower right')\n",
    "plt.show()"
   ]
  },
  {
   "cell_type": "code",
   "execution_count": 30,
   "id": "13d1a013-f6b0-4cd9-aa83-f622c4ccf5c9",
   "metadata": {},
   "outputs": [],
   "source": [
    "import statsmodels.api as sm"
   ]
  },
  {
   "cell_type": "code",
   "execution_count": null,
   "id": "3d74974c-21bb-460b-8213-b1669e1e6edb",
   "metadata": {},
   "outputs": [],
   "source": []
  },
  {
   "cell_type": "code",
   "execution_count": 31,
   "id": "57bf62af-579e-4e43-842b-a684062239ec",
   "metadata": {},
   "outputs": [],
   "source": [
    "y_train = y_train.replace({\"Yes\": 1, \"No\": 0})\n",
    "\n",
    "# Convert 'y_train' to numeric data type\n",
    "y_train = pd.to_numeric(y_train)"
   ]
  },
  {
   "cell_type": "code",
   "execution_count": 32,
   "id": "2e6c0d52-34d5-4034-8fd0-535694d979ec",
   "metadata": {},
   "outputs": [],
   "source": [
    "####import pandas as pd\n",
    "\n",
    "# Convert 'X_train' to numeric data type\n",
    "X_train = X_train.astype(float)\n",
    "\n",
    "# Convert 'y_train' to numeric data type if it's not already\n",
    "####if y_train.dtype == 'object':\n",
    "y_train = pd.to_numeric(y_train)"
   ]
  },
  {
   "cell_type": "code",
   "execution_count": 33,
   "id": "86ebc34e-3cac-4efe-80ff-7869b2338fb6",
   "metadata": {},
   "outputs": [
    {
     "ename": "SyntaxError",
     "evalue": "invalid syntax (1939213590.py, line 15)",
     "output_type": "error",
     "traceback": [
      "\u001b[1;36m  Cell \u001b[1;32mIn[33], line 15\u001b[1;36m\u001b[0m\n\u001b[1;33m    odds_ratios = np.exp(log_reg..params)\u001b[0m\n\u001b[1;37m                                 ^\u001b[0m\n\u001b[1;31mSyntaxError\u001b[0m\u001b[1;31m:\u001b[0m invalid syntax\n"
     ]
    }
   ],
   "source": [
    "X_train_with_intercept = sm.add_constant(X_train)\n",
    "print(X.columns)\n",
    "\n",
    "print(X.columns)\n",
    "##class_weights = {df['category'].unique()[0]: 1,  # Weight for baseline (less important)\n",
    "  #               df['category'].unique()[1]: 2}  # Weight for non-baseline (more important)\n",
    "\n",
    "# Create the logistic regression model, specifying class weights\n",
    "#model = LogisticRegression(class_weight=class_weights)\n",
    "\n",
    "\n",
    "# Fit logistic regression model with intercept\n",
    "log_reg = sm.Logit(y_train, X_train_with_intercept).fit()\n",
    "\n",
    "odds_ratios = np.exp(log_reg..params)\n",
    "conf_int = np.exp(log_reg.conf_int())\n",
    "\n",
    "print(\"Odds Ratios:\")\n",
    "print(odds_ratios)\n",
    "print(\"\\nConfidence Intervals:\")\n",
    "print(conf_int)\n",
    "# Print summary\n",
    "print(log_regsummary())"
   ]
  },
  {
   "cell_type": "code",
   "execution_count": null,
   "id": "83e48f6a-20c7-4502-9d79-e3b2310fc332",
   "metadata": {},
   "outputs": [],
   "source": [
    "import statsmodels.api as sm \n",
    "import pandas as pd  \n",
    "  \n",
    "   \n",
    "# building the model and fitting the data \n",
    "log_reg = sm.Logit(y_train, X_train).fit() "
   ]
  },
  {
   "cell_type": "code",
   "execution_count": null,
   "id": "96743b93-14b5-4ee3-8211-988aedc8eabc",
   "metadata": {},
   "outputs": [],
   "source": [
    "print(log_reg.summary()) "
   ]
  },
  {
   "cell_type": "code",
   "execution_count": null,
   "id": "9cd8a44c-9e5d-406c-9885-547721eda561",
   "metadata": {},
   "outputs": [],
   "source": []
  },
  {
   "cell_type": "code",
   "execution_count": null,
   "id": "684d8058-fb47-4030-9c59-84475d1bb070",
   "metadata": {},
   "outputs": [],
   "source": []
  },
  {
   "cell_type": "code",
   "execution_count": null,
   "id": "c08f6957-ba0e-4149-a73f-6cfe14384c79",
   "metadata": {},
   "outputs": [],
   "source": []
  },
  {
   "cell_type": "code",
   "execution_count": null,
   "id": "c760f224-831e-4ffd-b2a0-8df6f05a6d48",
   "metadata": {},
   "outputs": [],
   "source": []
  },
  {
   "cell_type": "code",
   "execution_count": null,
   "id": "d53df8fd-9919-4a33-ac7f-26374a91252a",
   "metadata": {},
   "outputs": [],
   "source": []
  }
 ],
 "metadata": {
  "kernelspec": {
   "display_name": "Python 3 (ipykernel)",
   "language": "python",
   "name": "python3"
  },
  "language_info": {
   "codemirror_mode": {
    "name": "ipython",
    "version": 3
   },
   "file_extension": ".py",
   "mimetype": "text/x-python",
   "name": "python",
   "nbconvert_exporter": "python",
   "pygments_lexer": "ipython3",
   "version": "3.12.0"
  },
  "widgets": {
   "application/vnd.jupyter.widget-state+json": {
    "state": {},
    "version_major": 2,
    "version_minor": 0
   }
  }
 },
 "nbformat": 4,
 "nbformat_minor": 5
}
