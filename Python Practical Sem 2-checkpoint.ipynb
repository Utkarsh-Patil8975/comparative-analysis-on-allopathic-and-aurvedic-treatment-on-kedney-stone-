{
 "cells": [
  {
   "cell_type": "markdown",
   "id": "a23ba70a-e8fa-47fe-bdf0-1b525b6fb1f3",
   "metadata": {},
   "source": [
    "Practical No 1\n"
   ]
  },
  {
   "cell_type": "code",
   "execution_count": 2,
   "id": "44a38cdb-4232-4e38-88f1-64921ad6f67d",
   "metadata": {},
   "outputs": [],
   "source": [
    "import pandas as pd\n",
    "import matplotlib.pyplot as plt\n",
    "import seaborn as sns"
   ]
  },
  {
   "cell_type": "code",
   "execution_count": 2,
   "id": "99a44432-045a-4f51-bd33-0a717ad304ed",
   "metadata": {},
   "outputs": [
    {
     "data": {
      "text/html": [
       "<div>\n",
       "<style scoped>\n",
       "    .dataframe tbody tr th:only-of-type {\n",
       "        vertical-align: middle;\n",
       "    }\n",
       "\n",
       "    .dataframe tbody tr th {\n",
       "        vertical-align: top;\n",
       "    }\n",
       "\n",
       "    .dataframe thead th {\n",
       "        text-align: right;\n",
       "    }\n",
       "</style>\n",
       "<table border=\"1\" class=\"dataframe\">\n",
       "  <thead>\n",
       "    <tr style=\"text-align: right;\">\n",
       "      <th></th>\n",
       "      <th>Id</th>\n",
       "      <th>SepalLengthCm</th>\n",
       "      <th>SepalWidthCm</th>\n",
       "      <th>PetalLengthCm</th>\n",
       "      <th>PetalWidthCm</th>\n",
       "      <th>Species</th>\n",
       "    </tr>\n",
       "  </thead>\n",
       "  <tbody>\n",
       "    <tr>\n",
       "      <th>0</th>\n",
       "      <td>1</td>\n",
       "      <td>5.1</td>\n",
       "      <td>3.5</td>\n",
       "      <td>1.4</td>\n",
       "      <td>0.2</td>\n",
       "      <td>Iris-setosa</td>\n",
       "    </tr>\n",
       "    <tr>\n",
       "      <th>1</th>\n",
       "      <td>2</td>\n",
       "      <td>4.9</td>\n",
       "      <td>3.0</td>\n",
       "      <td>1.4</td>\n",
       "      <td>0.2</td>\n",
       "      <td>Iris-setosa</td>\n",
       "    </tr>\n",
       "    <tr>\n",
       "      <th>2</th>\n",
       "      <td>3</td>\n",
       "      <td>4.7</td>\n",
       "      <td>3.2</td>\n",
       "      <td>1.3</td>\n",
       "      <td>0.2</td>\n",
       "      <td>Iris-setosa</td>\n",
       "    </tr>\n",
       "    <tr>\n",
       "      <th>3</th>\n",
       "      <td>4</td>\n",
       "      <td>4.6</td>\n",
       "      <td>3.1</td>\n",
       "      <td>1.5</td>\n",
       "      <td>0.2</td>\n",
       "      <td>Iris-setosa</td>\n",
       "    </tr>\n",
       "    <tr>\n",
       "      <th>4</th>\n",
       "      <td>5</td>\n",
       "      <td>5.0</td>\n",
       "      <td>3.6</td>\n",
       "      <td>1.4</td>\n",
       "      <td>0.2</td>\n",
       "      <td>Iris-setosa</td>\n",
       "    </tr>\n",
       "    <tr>\n",
       "      <th>...</th>\n",
       "      <td>...</td>\n",
       "      <td>...</td>\n",
       "      <td>...</td>\n",
       "      <td>...</td>\n",
       "      <td>...</td>\n",
       "      <td>...</td>\n",
       "    </tr>\n",
       "    <tr>\n",
       "      <th>145</th>\n",
       "      <td>146</td>\n",
       "      <td>6.7</td>\n",
       "      <td>3.0</td>\n",
       "      <td>5.2</td>\n",
       "      <td>2.3</td>\n",
       "      <td>Iris-virginica</td>\n",
       "    </tr>\n",
       "    <tr>\n",
       "      <th>146</th>\n",
       "      <td>147</td>\n",
       "      <td>6.3</td>\n",
       "      <td>2.5</td>\n",
       "      <td>5.0</td>\n",
       "      <td>1.9</td>\n",
       "      <td>Iris-virginica</td>\n",
       "    </tr>\n",
       "    <tr>\n",
       "      <th>147</th>\n",
       "      <td>148</td>\n",
       "      <td>6.5</td>\n",
       "      <td>3.0</td>\n",
       "      <td>5.2</td>\n",
       "      <td>2.0</td>\n",
       "      <td>Iris-virginica</td>\n",
       "    </tr>\n",
       "    <tr>\n",
       "      <th>148</th>\n",
       "      <td>149</td>\n",
       "      <td>6.2</td>\n",
       "      <td>3.4</td>\n",
       "      <td>5.4</td>\n",
       "      <td>2.3</td>\n",
       "      <td>Iris-virginica</td>\n",
       "    </tr>\n",
       "    <tr>\n",
       "      <th>149</th>\n",
       "      <td>150</td>\n",
       "      <td>5.9</td>\n",
       "      <td>3.0</td>\n",
       "      <td>5.1</td>\n",
       "      <td>1.8</td>\n",
       "      <td>Iris-virginica</td>\n",
       "    </tr>\n",
       "  </tbody>\n",
       "</table>\n",
       "<p>150 rows × 6 columns</p>\n",
       "</div>"
      ],
      "text/plain": [
       "      Id  SepalLengthCm  SepalWidthCm  PetalLengthCm  PetalWidthCm  \\\n",
       "0      1            5.1           3.5            1.4           0.2   \n",
       "1      2            4.9           3.0            1.4           0.2   \n",
       "2      3            4.7           3.2            1.3           0.2   \n",
       "3      4            4.6           3.1            1.5           0.2   \n",
       "4      5            5.0           3.6            1.4           0.2   \n",
       "..   ...            ...           ...            ...           ...   \n",
       "145  146            6.7           3.0            5.2           2.3   \n",
       "146  147            6.3           2.5            5.0           1.9   \n",
       "147  148            6.5           3.0            5.2           2.0   \n",
       "148  149            6.2           3.4            5.4           2.3   \n",
       "149  150            5.9           3.0            5.1           1.8   \n",
       "\n",
       "            Species  \n",
       "0       Iris-setosa  \n",
       "1       Iris-setosa  \n",
       "2       Iris-setosa  \n",
       "3       Iris-setosa  \n",
       "4       Iris-setosa  \n",
       "..              ...  \n",
       "145  Iris-virginica  \n",
       "146  Iris-virginica  \n",
       "147  Iris-virginica  \n",
       "148  Iris-virginica  \n",
       "149  Iris-virginica  \n",
       "\n",
       "[150 rows x 6 columns]"
      ]
     },
     "execution_count": 2,
     "metadata": {},
     "output_type": "execute_result"
    }
   ],
   "source": [
    "data=pd.read_csv(r\"C:\\Users\\USER\\Downloads\\Iris (2) (1).csv\")\n",
    "data"
   ]
  },
  {
   "cell_type": "code",
   "execution_count": 3,
   "id": "2e4e1e9e-5d2b-4397-b59f-16df629f78c9",
   "metadata": {},
   "outputs": [
    {
     "data": {
      "text/plain": [
       "Index(['Id', 'SepalLengthCm', 'SepalWidthCm', 'PetalLengthCm', 'PetalWidthCm',\n",
       "       'Species'],\n",
       "      dtype='object')"
      ]
     },
     "execution_count": 3,
     "metadata": {},
     "output_type": "execute_result"
    }
   ],
   "source": [
    "data.columns"
   ]
  },
  {
   "cell_type": "code",
   "execution_count": 4,
   "id": "f64eeae9-511c-414c-843b-4526a511005c",
   "metadata": {},
   "outputs": [],
   "source": [
    "x=data[['SepalLengthCm','SepalWidthCm','PetalLengthCm',\t'PetalWidthCm']]\n",
    "y=data[ 'Species']"
   ]
  },
  {
   "cell_type": "code",
   "execution_count": 5,
   "id": "76f064e9-ee1b-4de0-acb6-b93b9f4e5389",
   "metadata": {},
   "outputs": [
    {
     "data": {
      "text/plain": [
       "<seaborn.axisgrid.PairGrid at 0x211575f4ec0>"
      ]
     },
     "execution_count": 5,
     "metadata": {},
     "output_type": "execute_result"
    },
    {
     "data": {
      "image/png": "[encoded data removed]",
      "text/plain": [
       "<Figure size 1000x1000 with 20 Axes>"
      ]
     },
     "metadata": {},
     "output_type": "display_data"
    }
   ],
   "source": [
    "sns.pairplot(x)"
   ]
  },
  {
   "cell_type": "markdown",
   "id": "c0291725-3ef5-40f2-9896-d110ddf6ab03",
   "metadata": {},
   "source": [
    "## Q2"
   ]
  },
  {
   "cell_type": "code",
   "execution_count": 102,
   "id": "3b815855-0ff3-4c9e-a0f0-99e29a71c313",
   "metadata": {
    "scrolled": true
   },
   "outputs": [
    {
     "data": {
      "image/png": "[encoded data removed]",
      "text/plain": [
       "<Figure size 640x480 with 1 Axes>"
      ]
     },
     "metadata": {},
     "output_type": "display_data"
    }
   ],
   "source": [
    "fx=sns.boxplot(x='Species',y='SepalLengthCm',data=data)\n",
    "plt.show()\n"
   ]
  },
  {
   "cell_type": "code",
   "execution_count": 100,
   "id": "b97eb8d3-4531-43c8-a0b6-0ca08d2f0ebc",
   "metadata": {},
   "outputs": [
    {
     "data": {
      "text/plain": [
       "<Axes: xlabel='Species', ylabel='PetalLengthCm'>"
      ]
     },
     "execution_count": 100,
     "metadata": {},
     "output_type": "execute_result"
    },
    {
     "data": {
      "image/png": "[encoded data removed]",
      "text/plain": [
       "<Figure size 640x480 with 1 Axes>"
      ]
     },
     "metadata": {},
     "output_type": "display_data"
    }
   ],
   "source": [
    "sns.boxplot(x='Species',y= 'PetalLengthCm',data=data)"
   ]
  },
  {
   "cell_type": "code",
   "execution_count": 103,
   "id": "80848f96-08ad-45e4-bec0-83fb2cddfef7",
   "metadata": {},
   "outputs": [
    {
     "data": {
      "text/plain": [
       "<Axes: xlabel='Species', ylabel='SepalWidthCm'>"
      ]
     },
     "execution_count": 103,
     "metadata": {},
     "output_type": "execute_result"
    },
    {
     "data": {
      "image/png": "[encoded data removed]",
      "text/plain": [
       "<Figure size 640x480 with 1 Axes>"
      ]
     },
     "metadata": {},
     "output_type": "display_data"
    }
   ],
   "source": [
    "sns.boxplot (x='Species',y='SepalWidthCm',data=data)\n"
   ]
  },
  {
   "cell_type": "code",
   "execution_count": 101,
   "id": "d044f843-2609-4f48-b9c9-556a9c6ee3e2",
   "metadata": {},
   "outputs": [
    {
     "data": {
      "text/plain": [
       "<Axes: xlabel='Species', ylabel='PetalWidthCm'>"
      ]
     },
     "execution_count": 101,
     "metadata": {},
     "output_type": "execute_result"
    },
    {
     "data": {
      "image/png": "[encoded data removed]",
      "text/plain": [
       "<Figure size 640x480 with 1 Axes>"
      ]
     },
     "metadata": {},
     "output_type": "display_data"
    }
   ],
   "source": [
    "sns.boxplot (x='Species',y='PetalWidthCm',data=data)"
   ]
  },
  {
   "cell_type": "markdown",
   "id": "32bf2bfe-f1a4-48fd-8bc3-e5f59376345a",
   "metadata": {},
   "source": [
    "## Practical 2"
   ]
  },
  {
   "cell_type": "code",
   "execution_count": 34,
   "id": "038994ae-d642-468d-8851-a4da799b641d",
   "metadata": {},
   "outputs": [
    {
     "data": {
      "text/html": [
       "<div>\n",
       "<style scoped>\n",
       "    .dataframe tbody tr th:only-of-type {\n",
       "        vertical-align: middle;\n",
       "    }\n",
       "\n",
       "    .dataframe tbody tr th {\n",
       "        vertical-align: top;\n",
       "    }\n",
       "\n",
       "    .dataframe thead th {\n",
       "        text-align: right;\n",
       "    }\n",
       "</style>\n",
       "<table border=\"1\" class=\"dataframe\">\n",
       "  <thead>\n",
       "    <tr style=\"text-align: right;\">\n",
       "      <th></th>\n",
       "      <th>Id</th>\n",
       "      <th>SepalLengthCm</th>\n",
       "      <th>SepalWidthCm</th>\n",
       "      <th>PetalLengthCm</th>\n",
       "      <th>PetalWidthCm</th>\n",
       "      <th>Species</th>\n",
       "    </tr>\n",
       "  </thead>\n",
       "  <tbody>\n",
       "    <tr>\n",
       "      <th>0</th>\n",
       "      <td>1</td>\n",
       "      <td>5.1</td>\n",
       "      <td>3.5</td>\n",
       "      <td>1.4</td>\n",
       "      <td>0.2</td>\n",
       "      <td>Iris-setosa</td>\n",
       "    </tr>\n",
       "    <tr>\n",
       "      <th>1</th>\n",
       "      <td>2</td>\n",
       "      <td>4.9</td>\n",
       "      <td>3.0</td>\n",
       "      <td>1.4</td>\n",
       "      <td>0.2</td>\n",
       "      <td>Iris-setosa</td>\n",
       "    </tr>\n",
       "    <tr>\n",
       "      <th>2</th>\n",
       "      <td>3</td>\n",
       "      <td>4.7</td>\n",
       "      <td>3.2</td>\n",
       "      <td>1.3</td>\n",
       "      <td>0.2</td>\n",
       "      <td>Iris-setosa</td>\n",
       "    </tr>\n",
       "    <tr>\n",
       "      <th>3</th>\n",
       "      <td>4</td>\n",
       "      <td>4.6</td>\n",
       "      <td>3.1</td>\n",
       "      <td>1.5</td>\n",
       "      <td>0.2</td>\n",
       "      <td>Iris-setosa</td>\n",
       "    </tr>\n",
       "    <tr>\n",
       "      <th>4</th>\n",
       "      <td>5</td>\n",
       "      <td>5.0</td>\n",
       "      <td>3.6</td>\n",
       "      <td>1.4</td>\n",
       "      <td>0.2</td>\n",
       "      <td>Iris-setosa</td>\n",
       "    </tr>\n",
       "    <tr>\n",
       "      <th>...</th>\n",
       "      <td>...</td>\n",
       "      <td>...</td>\n",
       "      <td>...</td>\n",
       "      <td>...</td>\n",
       "      <td>...</td>\n",
       "      <td>...</td>\n",
       "    </tr>\n",
       "    <tr>\n",
       "      <th>145</th>\n",
       "      <td>146</td>\n",
       "      <td>6.7</td>\n",
       "      <td>3.0</td>\n",
       "      <td>5.2</td>\n",
       "      <td>2.3</td>\n",
       "      <td>Iris-virginica</td>\n",
       "    </tr>\n",
       "    <tr>\n",
       "      <th>146</th>\n",
       "      <td>147</td>\n",
       "      <td>6.3</td>\n",
       "      <td>2.5</td>\n",
       "      <td>5.0</td>\n",
       "      <td>1.9</td>\n",
       "      <td>Iris-virginica</td>\n",
       "    </tr>\n",
       "    <tr>\n",
       "      <th>147</th>\n",
       "      <td>148</td>\n",
       "      <td>6.5</td>\n",
       "      <td>3.0</td>\n",
       "      <td>5.2</td>\n",
       "      <td>2.0</td>\n",
       "      <td>Iris-virginica</td>\n",
       "    </tr>\n",
       "    <tr>\n",
       "      <th>148</th>\n",
       "      <td>149</td>\n",
       "      <td>6.2</td>\n",
       "      <td>3.4</td>\n",
       "      <td>5.4</td>\n",
       "      <td>2.3</td>\n",
       "      <td>Iris-virginica</td>\n",
       "    </tr>\n",
       "    <tr>\n",
       "      <th>149</th>\n",
       "      <td>150</td>\n",
       "      <td>5.9</td>\n",
       "      <td>3.0</td>\n",
       "      <td>5.1</td>\n",
       "      <td>1.8</td>\n",
       "      <td>Iris-virginica</td>\n",
       "    </tr>\n",
       "  </tbody>\n",
       "</table>\n",
       "<p>150 rows × 6 columns</p>\n",
       "</div>"
      ],
      "text/plain": [
       "      Id  SepalLengthCm  SepalWidthCm  PetalLengthCm  PetalWidthCm  \\\n",
       "0      1            5.1           3.5            1.4           0.2   \n",
       "1      2            4.9           3.0            1.4           0.2   \n",
       "2      3            4.7           3.2            1.3           0.2   \n",
       "3      4            4.6           3.1            1.5           0.2   \n",
       "4      5            5.0           3.6            1.4           0.2   \n",
       "..   ...            ...           ...            ...           ...   \n",
       "145  146            6.7           3.0            5.2           2.3   \n",
       "146  147            6.3           2.5            5.0           1.9   \n",
       "147  148            6.5           3.0            5.2           2.0   \n",
       "148  149            6.2           3.4            5.4           2.3   \n",
       "149  150            5.9           3.0            5.1           1.8   \n",
       "\n",
       "            Species  \n",
       "0       Iris-setosa  \n",
       "1       Iris-setosa  \n",
       "2       Iris-setosa  \n",
       "3       Iris-setosa  \n",
       "4       Iris-setosa  \n",
       "..              ...  \n",
       "145  Iris-virginica  \n",
       "146  Iris-virginica  \n",
       "147  Iris-virginica  \n",
       "148  Iris-virginica  \n",
       "149  Iris-virginica  \n",
       "\n",
       "[150 rows x 6 columns]"
      ]
     },
     "execution_count": 34,
     "metadata": {},
     "output_type": "execute_result"
    }
   ],
   "source": [
    "import pandas as pd\n",
    "import matplotlib.pyplot as plt\n",
    "\n",
    "\n",
    "data = pd.read_csv(r\"C:\\Users\\USER\\Downloads\\Iris (2) (1).csv\")\n",
    "data"
   ]
  },
  {
   "cell_type": "code",
   "execution_count": 35,
   "id": "59a06bd7-f8f0-4f7f-b541-7a9f7cba492a",
   "metadata": {},
   "outputs": [
    {
     "data": {
      "text/plain": [
       "Index(['Id', 'SepalLengthCm', 'SepalWidthCm', 'PetalLengthCm', 'PetalWidthCm',\n",
       "       'Species'],\n",
       "      dtype='object')"
      ]
     },
     "execution_count": 35,
     "metadata": {},
     "output_type": "execute_result"
    }
   ],
   "source": [
    "data.columns"
   ]
  },
  {
   "cell_type": "code",
   "execution_count": 36,
   "id": "90bb9300-f010-476d-923c-848144f22176",
   "metadata": {},
   "outputs": [
    {
     "data": {
      "text/plain": [
       "Species\n",
       "Iris-setosa        50\n",
       "Iris-versicolor    50\n",
       "Iris-virginica     50\n",
       "Name: count, dtype: int64"
      ]
     },
     "execution_count": 36,
     "metadata": {},
     "output_type": "execute_result"
    }
   ],
   "source": [
    "data.describe()\n",
    "freq_dist=data[ 'Species'].value_counts()\n",
    "freq_dist"
   ]
  },
  {
   "cell_type": "code",
   "execution_count": 52,
   "id": "e038b5b0-aae3-49f8-9424-79850aa9732f",
   "metadata": {},
   "outputs": [
    {
     "data": {
      "text/plain": [
       "Text(0.5, 1.0, 'PetalWidth')"
      ]
     },
     "execution_count": 52,
     "metadata": {},
     "output_type": "execute_result"
    },
    {
     "data": {
      "image/png": "[encoded data removed]",
      "text/plain": [
       "<Figure size 1000x1000 with 4 Axes>"
      ]
     },
     "metadata": {},
     "output_type": "display_data"
    }
   ],
   "source": [
    "from scipy.stats import norm,lognorm,gamma,beta\n",
    "import numpy as np\n",
    "def fit_norm(data): \n",
    "     mu,std=norm.fit(data)\n",
    "     return mu,std\n",
    " \n",
    "def fit_lognorm(data):\n",
    "    shape,loc,scale=lognorm.fit(data)\n",
    "    return shape,loc,scale\n",
    "def fit_gamma(data):\n",
    "    shape,loc,scale=gamma.fit(data) \n",
    "    return shape,loc,scale\n",
    "def fit_beta(data):\n",
    "    a,b,loc,scale=beta.fit(data)\n",
    "    return a,b,loc,scale\n",
    "    \n",
    "sepal_length_mu,sepal_length_std=fit_norm(data['SepalLengthCm'])\n",
    "sepal_width_shape,sepal_width_loc,sepal_width_scale=fit_lognorm(data['SepalWidthCm']) \n",
    "petal_length_shape,petal_length_loc,petal_length_scale=fit_gamma(data['PetalLengthCm']) \n",
    "petal_width_a,petal_width_b,petal_width_loc,petal_width_scale=fit_beta(data['PetalWidthCm'])\n",
    "\n",
    "fig,axes=plt.subplots(2,2,figsize=(10,10)) \n",
    "axes[0,0].hist(data['SepalLengthCm'],bins=20,density=True,alpha=0.6,color='b') \n",
    "x=np.linspace(data['SepalLengthCm'].min(),data['SepalLengthCm'].max(),100)\n",
    "axes[0,0].plot(x,norm.pdf(x,sepal_length_mu,sepal_length_std),'r-',lw=3,alpha=0.6,label='normal')\n",
    "axes[0,0].set_title('SepalLength')\n",
    "\n",
    "axes[0,1].hist(data['SepalWidthCm'],bins=20,density=True,alpha=0.6,color='b') \n",
    "x=np.linspace(data['SepalWidthCm'].min(),data['SepalWidthCm'].max(),100) \n",
    "axes[0,1].plot(x,lognorm.pdf(x,sepal_width_shape,sepal_width_loc,sepal_width_scale),'r-',lw=3,alpha=0.6,label='lognormal')\n",
    "axes[0,1].set_title('SepalWidth')\n",
    "\n",
    "axes[1,0].hist(data['PetalLengthCm'],bins=20,density=True,alpha=0.6,color='b') \n",
    "x=np.linspace(data['PetalLengthCm'].min(),data['PetalLengthCm'].max(),100) \n",
    "axes[1,0].plot(x,gamma.pdf(x,petal_length_shape,petal_length_loc,petal_length_scale),'r-',lw=3,alpha=0.6,label='gamma')\n",
    "axes[1,0].set_title('PetalLength')\n",
    "\n",
    "axes[1,1].hist(data['PetalWidthCm'],bins=20,density=True,alpha=0.6,color='b') \n",
    "x=np.linspace(data['PetalWidthCm'].min(),data['PetalWidthCm'].max(),100) \n",
    "axes[1,1].plot(x,beta.pdf(x,petal_width_a,petal_width_b,petal_width_loc,petal_width_scale),'r-',lw=3,alpha=0.6,label='beta')\n",
    "axes[1,1].set_title('PetalWidth')\n",
    "\n",
    "\n"
   ]
  },
  {
   "cell_type": "markdown",
   "id": "295cb482-a9ae-452c-ac7b-18abb909686d",
   "metadata": {},
   "source": []
  },
  {
   "cell_type": "markdown",
   "id": "105933ad-fb12-427b-9139-c4eb6bb0a104",
   "metadata": {},
   "source": [
    "## `project data"
   ]
  },
  {
   "cell_type": "code",
   "execution_count": null,
   "id": "cd5f9698-321e-45d8-95a6-e1254ce6795d",
   "metadata": {},
   "outputs": [],
   "source": [
    "import pandas as pd\n",
    "data.corr(r\"C:\\Users\\USER\\Downloads\\Iris (2) (1).csv\")\n",
    "print(corr)"
   ]
  },
  {
   "cell_type": "code",
   "execution_count": null,
   "id": "0afa7f15-97bb-47e9-9036-62a583fa7cbc",
   "metadata": {},
   "outputs": [],
   "source": []
  },
  {
   "cell_type": "code",
   "execution_count": 54,
   "id": "8b6f2c8f-3885-488a-b5d6-5b395210f7bc",
   "metadata": {},
   "outputs": [
    {
     "data": {
      "text/html": [
       "<div>\n",
       "<style scoped>\n",
       "    .dataframe tbody tr th:only-of-type {\n",
       "        vertical-align: middle;\n",
       "    }\n",
       "\n",
       "    .dataframe tbody tr th {\n",
       "        vertical-align: top;\n",
       "    }\n",
       "\n",
       "    .dataframe thead th {\n",
       "        text-align: right;\n",
       "    }\n",
       "</style>\n",
       "<table border=\"1\" class=\"dataframe\">\n",
       "  <thead>\n",
       "    <tr style=\"text-align: right;\">\n",
       "      <th></th>\n",
       "      <th>Age :</th>\n",
       "      <th>Gender :</th>\n",
       "      <th>Class :</th>\n",
       "      <th>Height ()</th>\n",
       "      <th>Weight</th>\n",
       "      <th>Where do you live ?</th>\n",
       "      <th>Do you exercise</th>\n",
       "      <th>What kind of exercise  you do regularly ?</th>\n",
       "      <th>How often do you engage in physical exercise  ?</th>\n",
       "      <th>Do you have special diet plans ?</th>\n",
       "      <th>...</th>\n",
       "      <th>Daily use of mobile (hours)</th>\n",
       "      <th>\\nHow many hours do you sleep per day?</th>\n",
       "      <th>Have you ever experience stress, anxiety or depression.</th>\n",
       "      <th>How would you rate your overall mental well being ?</th>\n",
       "      <th>How to improve your mental well being ?</th>\n",
       "      <th>How you ever sought support or counselling for mental health issues?</th>\n",
       "      <th>Have you experienced a significant improvement in your mental health after engaging a physical activity?</th>\n",
       "      <th>How often do you feel positive about your life in a day?</th>\n",
       "      <th>Do you think regular exercise will be effected in long term mental health ?</th>\n",
       "      <th>How can institute better support students in incorporating exercise into their routine ?</th>\n",
       "    </tr>\n",
       "  </thead>\n",
       "  <tbody>\n",
       "    <tr>\n",
       "      <th>0</th>\n",
       "      <td>22</td>\n",
       "      <td>Male</td>\n",
       "      <td>M.Sc.-II</td>\n",
       "      <td>168</td>\n",
       "      <td>50.0</td>\n",
       "      <td>Rent Room</td>\n",
       "      <td>Yes</td>\n",
       "      <td>Walking</td>\n",
       "      <td>Daily</td>\n",
       "      <td>No</td>\n",
       "      <td>...</td>\n",
       "      <td>above 4</td>\n",
       "      <td>6 to 8</td>\n",
       "      <td>Yes</td>\n",
       "      <td>Average</td>\n",
       "      <td>Connect with other</td>\n",
       "      <td>Yes</td>\n",
       "      <td>Yes</td>\n",
       "      <td>About half time</td>\n",
       "      <td>Yes</td>\n",
       "      <td>Outdoor activities</td>\n",
       "    </tr>\n",
       "    <tr>\n",
       "      <th>1</th>\n",
       "      <td>21</td>\n",
       "      <td>Female</td>\n",
       "      <td>M.Sc.- I</td>\n",
       "      <td>154</td>\n",
       "      <td>40.0</td>\n",
       "      <td>Self Home</td>\n",
       "      <td>No</td>\n",
       "      <td>NaN</td>\n",
       "      <td>NaN</td>\n",
       "      <td>NaN</td>\n",
       "      <td>...</td>\n",
       "      <td>above 4</td>\n",
       "      <td>6 to 8</td>\n",
       "      <td>No</td>\n",
       "      <td>Good</td>\n",
       "      <td>Connect with other</td>\n",
       "      <td>No</td>\n",
       "      <td>No</td>\n",
       "      <td>Never</td>\n",
       "      <td>Yes</td>\n",
       "      <td>Activity breaks</td>\n",
       "    </tr>\n",
       "    <tr>\n",
       "      <th>2</th>\n",
       "      <td>22</td>\n",
       "      <td>Male</td>\n",
       "      <td>M.Sc.-II</td>\n",
       "      <td>170</td>\n",
       "      <td>50.0</td>\n",
       "      <td>Rent Room</td>\n",
       "      <td>Yes</td>\n",
       "      <td>Walking</td>\n",
       "      <td>Daily</td>\n",
       "      <td>No</td>\n",
       "      <td>...</td>\n",
       "      <td>2 to 3</td>\n",
       "      <td>6 to 8</td>\n",
       "      <td>Yes</td>\n",
       "      <td>Fair</td>\n",
       "      <td>Improve your sleep</td>\n",
       "      <td>Yes</td>\n",
       "      <td>Yes</td>\n",
       "      <td>One in while</td>\n",
       "      <td>Yes</td>\n",
       "      <td>Activity breaks</td>\n",
       "    </tr>\n",
       "    <tr>\n",
       "      <th>3</th>\n",
       "      <td>21</td>\n",
       "      <td>Female</td>\n",
       "      <td>M.Sc.- I</td>\n",
       "      <td>160</td>\n",
       "      <td>47.0</td>\n",
       "      <td>Hostel</td>\n",
       "      <td>No</td>\n",
       "      <td>NaN</td>\n",
       "      <td>NaN</td>\n",
       "      <td>NaN</td>\n",
       "      <td>...</td>\n",
       "      <td>1 to 2</td>\n",
       "      <td>6 to 8</td>\n",
       "      <td>Yes</td>\n",
       "      <td>Good</td>\n",
       "      <td>Spend time in nature</td>\n",
       "      <td>No</td>\n",
       "      <td>Yes</td>\n",
       "      <td>Most of the time</td>\n",
       "      <td>Yes</td>\n",
       "      <td>Outdoor activities</td>\n",
       "    </tr>\n",
       "    <tr>\n",
       "      <th>4</th>\n",
       "      <td>21</td>\n",
       "      <td>Male</td>\n",
       "      <td>M.Sc.- I</td>\n",
       "      <td>174</td>\n",
       "      <td>58.0</td>\n",
       "      <td>Self Home</td>\n",
       "      <td>Yes</td>\n",
       "      <td>Running</td>\n",
       "      <td>Daily</td>\n",
       "      <td>Yes</td>\n",
       "      <td>...</td>\n",
       "      <td>2 to 3</td>\n",
       "      <td>6 to 8</td>\n",
       "      <td>No</td>\n",
       "      <td>Average</td>\n",
       "      <td>Connect with other</td>\n",
       "      <td>No</td>\n",
       "      <td>Yes</td>\n",
       "      <td>Most of the time</td>\n",
       "      <td>Yes</td>\n",
       "      <td>Fitness challenges</td>\n",
       "    </tr>\n",
       "    <tr>\n",
       "      <th>...</th>\n",
       "      <td>...</td>\n",
       "      <td>...</td>\n",
       "      <td>...</td>\n",
       "      <td>...</td>\n",
       "      <td>...</td>\n",
       "      <td>...</td>\n",
       "      <td>...</td>\n",
       "      <td>...</td>\n",
       "      <td>...</td>\n",
       "      <td>...</td>\n",
       "      <td>...</td>\n",
       "      <td>...</td>\n",
       "      <td>...</td>\n",
       "      <td>...</td>\n",
       "      <td>...</td>\n",
       "      <td>...</td>\n",
       "      <td>...</td>\n",
       "      <td>...</td>\n",
       "      <td>...</td>\n",
       "      <td>...</td>\n",
       "      <td>...</td>\n",
       "    </tr>\n",
       "    <tr>\n",
       "      <th>134</th>\n",
       "      <td>22</td>\n",
       "      <td>Female</td>\n",
       "      <td>M.Sc.-II</td>\n",
       "      <td>146</td>\n",
       "      <td>48.0</td>\n",
       "      <td>Hostel</td>\n",
       "      <td>No</td>\n",
       "      <td>NaN</td>\n",
       "      <td>NaN</td>\n",
       "      <td>NaN</td>\n",
       "      <td>...</td>\n",
       "      <td>1 to 2</td>\n",
       "      <td>4 to 6</td>\n",
       "      <td>Yes</td>\n",
       "      <td>Good</td>\n",
       "      <td>Connect with other</td>\n",
       "      <td>No</td>\n",
       "      <td>Yes</td>\n",
       "      <td>Most of the time</td>\n",
       "      <td>Yes</td>\n",
       "      <td>Fitness challenges</td>\n",
       "    </tr>\n",
       "    <tr>\n",
       "      <th>135</th>\n",
       "      <td>23</td>\n",
       "      <td>Female</td>\n",
       "      <td>M.Sc.-II</td>\n",
       "      <td>165</td>\n",
       "      <td>40.0</td>\n",
       "      <td>Self Home</td>\n",
       "      <td>No</td>\n",
       "      <td>NaN</td>\n",
       "      <td>NaN</td>\n",
       "      <td>NaN</td>\n",
       "      <td>...</td>\n",
       "      <td>1 to 2</td>\n",
       "      <td>less than 4</td>\n",
       "      <td>Yes</td>\n",
       "      <td>Good</td>\n",
       "      <td>Try to  relax and reduce stress</td>\n",
       "      <td>Yes</td>\n",
       "      <td>Yes</td>\n",
       "      <td>Every time</td>\n",
       "      <td>Yes</td>\n",
       "      <td>Lesson plans</td>\n",
       "    </tr>\n",
       "    <tr>\n",
       "      <th>136</th>\n",
       "      <td>22</td>\n",
       "      <td>Female</td>\n",
       "      <td>M.Sc.-II</td>\n",
       "      <td>155</td>\n",
       "      <td>50.0</td>\n",
       "      <td>Hostel</td>\n",
       "      <td>Yes</td>\n",
       "      <td>Walking</td>\n",
       "      <td>Daily</td>\n",
       "      <td>Yes</td>\n",
       "      <td>...</td>\n",
       "      <td>above 4</td>\n",
       "      <td>6 to 8</td>\n",
       "      <td>No</td>\n",
       "      <td>Fair</td>\n",
       "      <td>Improve your sleep</td>\n",
       "      <td>No</td>\n",
       "      <td>No</td>\n",
       "      <td>Never</td>\n",
       "      <td>No</td>\n",
       "      <td>Fitness challenges</td>\n",
       "    </tr>\n",
       "    <tr>\n",
       "      <th>137</th>\n",
       "      <td>24</td>\n",
       "      <td>Female</td>\n",
       "      <td>M.Sc.-II</td>\n",
       "      <td>155</td>\n",
       "      <td>55.0</td>\n",
       "      <td>Hostel</td>\n",
       "      <td>Yes</td>\n",
       "      <td>Yoga</td>\n",
       "      <td>Daily</td>\n",
       "      <td>No</td>\n",
       "      <td>...</td>\n",
       "      <td>above 4</td>\n",
       "      <td>6 to 8</td>\n",
       "      <td>Yes</td>\n",
       "      <td>Average</td>\n",
       "      <td>Spend time in nature</td>\n",
       "      <td>No</td>\n",
       "      <td>No</td>\n",
       "      <td>Most of the time</td>\n",
       "      <td>Yes</td>\n",
       "      <td>Outdoor activities</td>\n",
       "    </tr>\n",
       "    <tr>\n",
       "      <th>138</th>\n",
       "      <td>23</td>\n",
       "      <td>Female</td>\n",
       "      <td>M.Sc.-II</td>\n",
       "      <td>162</td>\n",
       "      <td>69.0</td>\n",
       "      <td>Hostel</td>\n",
       "      <td>No</td>\n",
       "      <td>NaN</td>\n",
       "      <td>NaN</td>\n",
       "      <td>NaN</td>\n",
       "      <td>...</td>\n",
       "      <td>Less than1</td>\n",
       "      <td>6 to 8</td>\n",
       "      <td>Yes</td>\n",
       "      <td>Average</td>\n",
       "      <td>Spend time in nature</td>\n",
       "      <td>Yes</td>\n",
       "      <td>Yes</td>\n",
       "      <td>Most of the time</td>\n",
       "      <td>Yes</td>\n",
       "      <td>Lesson plans</td>\n",
       "    </tr>\n",
       "  </tbody>\n",
       "</table>\n",
       "<p>139 rows × 24 columns</p>\n",
       "</div>"
      ],
      "text/plain": [
       "     Age : Gender :   Class :  Height ()  Weight Where do you live ?  \\\n",
       "0       22     Male  M.Sc.-II        168    50.0           Rent Room   \n",
       "1       21   Female  M.Sc.- I        154    40.0           Self Home   \n",
       "2       22     Male  M.Sc.-II        170    50.0           Rent Room   \n",
       "3       21   Female  M.Sc.- I        160    47.0              Hostel   \n",
       "4       21     Male  M.Sc.- I        174    58.0           Self Home   \n",
       "..     ...      ...       ...        ...     ...                 ...   \n",
       "134     22   Female  M.Sc.-II        146    48.0              Hostel   \n",
       "135     23   Female  M.Sc.-II        165    40.0           Self Home   \n",
       "136     22   Female  M.Sc.-II        155    50.0              Hostel   \n",
       "137     24   Female  M.Sc.-II        155    55.0              Hostel   \n",
       "138     23   Female  M.Sc.-II        162    69.0              Hostel   \n",
       "\n",
       "    Do you exercise What kind of exercise  you do regularly ?   \\\n",
       "0               Yes                                    Walking   \n",
       "1                No                                        NaN   \n",
       "2               Yes                                    Walking   \n",
       "3                No                                        NaN   \n",
       "4               Yes                                    Running   \n",
       "..              ...                                        ...   \n",
       "134              No                                        NaN   \n",
       "135              No                                        NaN   \n",
       "136             Yes                                    Walking   \n",
       "137             Yes                                       Yoga   \n",
       "138              No                                        NaN   \n",
       "\n",
       "    How often do you engage in physical exercise  ?  \\\n",
       "0                                             Daily   \n",
       "1                                               NaN   \n",
       "2                                             Daily   \n",
       "3                                               NaN   \n",
       "4                                             Daily   \n",
       "..                                              ...   \n",
       "134                                             NaN   \n",
       "135                                             NaN   \n",
       "136                                           Daily   \n",
       "137                                           Daily   \n",
       "138                                             NaN   \n",
       "\n",
       "    Do you have special diet plans ?   ... Daily use of mobile (hours)  \\\n",
       "0                                  No  ...                     above 4   \n",
       "1                                 NaN  ...                     above 4   \n",
       "2                                  No  ...                      2 to 3   \n",
       "3                                 NaN  ...                      1 to 2   \n",
       "4                                 Yes  ...                      2 to 3   \n",
       "..                                ...  ...                         ...   \n",
       "134                               NaN  ...                      1 to 2   \n",
       "135                               NaN  ...                      1 to 2   \n",
       "136                               Yes  ...                     above 4   \n",
       "137                                No  ...                     above 4   \n",
       "138                               NaN  ...                  Less than1   \n",
       "\n",
       "    \\nHow many hours do you sleep per day?  \\\n",
       "0                                   6 to 8   \n",
       "1                                   6 to 8   \n",
       "2                                   6 to 8   \n",
       "3                                   6 to 8   \n",
       "4                                   6 to 8   \n",
       "..                                     ...   \n",
       "134                                 4 to 6   \n",
       "135                            less than 4   \n",
       "136                                 6 to 8   \n",
       "137                                 6 to 8   \n",
       "138                                 6 to 8   \n",
       "\n",
       "    Have you ever experience stress, anxiety or depression.  \\\n",
       "0                                                  Yes        \n",
       "1                                                   No        \n",
       "2                                                  Yes        \n",
       "3                                                  Yes        \n",
       "4                                                   No        \n",
       "..                                                 ...        \n",
       "134                                                Yes        \n",
       "135                                                Yes        \n",
       "136                                                 No        \n",
       "137                                                Yes        \n",
       "138                                                Yes        \n",
       "\n",
       "    How would you rate your overall mental well being ?  \\\n",
       "0                                              Average    \n",
       "1                                                 Good    \n",
       "2                                                 Fair    \n",
       "3                                                 Good    \n",
       "4                                              Average    \n",
       "..                                                 ...    \n",
       "134                                               Good    \n",
       "135                                               Good    \n",
       "136                                               Fair    \n",
       "137                                            Average    \n",
       "138                                            Average    \n",
       "\n",
       "    How to improve your mental well being ?  \\\n",
       "0                        Connect with other   \n",
       "1                        Connect with other   \n",
       "2                        Improve your sleep   \n",
       "3                      Spend time in nature   \n",
       "4                        Connect with other   \n",
       "..                                      ...   \n",
       "134                      Connect with other   \n",
       "135         Try to  relax and reduce stress   \n",
       "136                      Improve your sleep   \n",
       "137                    Spend time in nature   \n",
       "138                    Spend time in nature   \n",
       "\n",
       "    How you ever sought support or counselling for mental health issues?  \\\n",
       "0                                                  Yes                     \n",
       "1                                                   No                     \n",
       "2                                                  Yes                     \n",
       "3                                                   No                     \n",
       "4                                                   No                     \n",
       "..                                                 ...                     \n",
       "134                                                 No                     \n",
       "135                                                Yes                     \n",
       "136                                                 No                     \n",
       "137                                                 No                     \n",
       "138                                                Yes                     \n",
       "\n",
       "    Have you experienced a significant improvement in your mental health after engaging a physical activity?  \\\n",
       "0                                                  Yes                                                         \n",
       "1                                                   No                                                         \n",
       "2                                                  Yes                                                         \n",
       "3                                                  Yes                                                         \n",
       "4                                                  Yes                                                         \n",
       "..                                                 ...                                                         \n",
       "134                                                Yes                                                         \n",
       "135                                                Yes                                                         \n",
       "136                                                 No                                                         \n",
       "137                                                 No                                                         \n",
       "138                                                Yes                                                         \n",
       "\n",
       "    How often do you feel positive about your life in a day?  \\\n",
       "0                                      About half time         \n",
       "1                                                Never         \n",
       "2                                         One in while         \n",
       "3                                     Most of the time         \n",
       "4                                     Most of the time         \n",
       "..                                                 ...         \n",
       "134                                   Most of the time         \n",
       "135                                         Every time         \n",
       "136                                              Never         \n",
       "137                                   Most of the time         \n",
       "138                                   Most of the time         \n",
       "\n",
       "    Do you think regular exercise will be effected in long term mental health ?  \\\n",
       "0                                                  Yes                            \n",
       "1                                                  Yes                            \n",
       "2                                                  Yes                            \n",
       "3                                                  Yes                            \n",
       "4                                                  Yes                            \n",
       "..                                                 ...                            \n",
       "134                                                Yes                            \n",
       "135                                                Yes                            \n",
       "136                                                 No                            \n",
       "137                                                Yes                            \n",
       "138                                                Yes                            \n",
       "\n",
       "    How can institute better support students in incorporating exercise into their routine ?  \n",
       "0                                   Outdoor activities                                        \n",
       "1                                      Activity breaks                                        \n",
       "2                                      Activity breaks                                        \n",
       "3                                   Outdoor activities                                        \n",
       "4                                   Fitness challenges                                        \n",
       "..                                                 ...                                        \n",
       "134                                 Fitness challenges                                        \n",
       "135                                       Lesson plans                                        \n",
       "136                                 Fitness challenges                                        \n",
       "137                                 Outdoor activities                                        \n",
       "138                                       Lesson plans                                        \n",
       "\n",
       "[139 rows x 24 columns]"
      ]
     },
     "execution_count": 54,
     "metadata": {},
     "output_type": "execute_result"
    }
   ],
   "source": [
    "data=pd.read_csv(r\"C:\\Users\\USER\\Desktop\\Activity 2023-24\\To study the impact of exercise on student mental health.csv\\To study the impact of exercise on student mental health (Data).csv\")\n",
    "data"
   ]
  },
  {
   "cell_type": "code",
   "execution_count": 55,
   "id": "b5f3488f-3be9-4eed-917b-05a3d0a93c3d",
   "metadata": {},
   "outputs": [
    {
     "name": "stdout",
     "output_type": "stream",
     "text": [
      "Normal distribution:\n",
      "Mean: 9.98605533447437\n",
      "Standard deviation: 1.9728286241926223\n",
      "\n",
      "Lognormal distribution:\n",
      "Shape: 0.018388728997756357\n",
      "Location: -18.08812054985372\n",
      "Scale: 72.94115950905626\n",
      "\n",
      "Gamma distribution:\n",
      "Shape parameter (a): 124.18294804776593\n",
      "Location: -18.08812054985372\n",
      "Scale: 72.94115950905626\n",
      "\n",
      "Beta distribution:\n",
      "First shape parameter (a): 124.18294804776593\n",
      "Second shape parameter (b): 198.46137624525136\n",
      "Location: -18.08812054985372\n",
      "Scale: 72.94115950905626\n"
     ]
    }
   ],
   "source": [
    "import numpy as np\n",
    "from scipy.stats import norm, lognorm, gamma, beta\n",
    "from scipy.optimize import curve_fit\n",
    "\n",
    "# Sample data (replace this with your actual data)\n",
    "data = np.random.normal(loc=10, scale=2, size=1000)  # Example data\n",
    "\n",
    "# Fit normal distribution\n",
    "mu, std = norm.fit(data)\n",
    "\n",
    "# Fit lognormal distribution\n",
    "shape, loc, scale = lognorm.fit(data)\n",
    "\n",
    "# Fit gamma distribution\n",
    "a, loc, scale = gamma.fit(data)\n",
    "\n",
    "# Fit beta distribution\n",
    "a, b, loc, scale = beta.fit(data)\n",
    "\n",
    "# Print parameters\n",
    "print(\"Normal distribution:\")\n",
    "print(\"Mean:\", mu)\n",
    "print(\"Standard deviation:\", std)\n",
    "print()\n",
    "\n",
    "print(\"Lognormal distribution:\")\n",
    "print(\"Shape:\", shape)\n",
    "print(\"Location:\", loc)\n",
    "print(\"Scale:\", scale)\n",
    "print()\n",
    "\n",
    "print(\"Gamma distribution:\")\n",
    "print(\"Shape parameter (a):\", a)\n",
    "print(\"Location:\", loc)\n",
    "print(\"Scale:\", scale)\n",
    "print()\n",
    "\n",
    "print(\"Beta distribution:\")\n",
    "print(\"First shape parameter (a):\", a)\n",
    "print(\"Second shape parameter (b):\", b)\n",
    "print(\"Location:\", loc)\n",
    "print(\"Scale:\", scale)"
   ]
  },
  {
   "cell_type": "code",
   "execution_count": null,
   "id": "4f5f6dd9-48a3-4bb4-974e-158b8ec46d8c",
   "metadata": {},
   "outputs": [],
   "source": [
    "from scipy.stats import norm,lognorm,gamma,beta\n",
    "import numpy as np\n",
    "def fit_norm(data): \n",
    "     mu,std=norm.fit(data)\n",
    "     return mu,std\n",
    " \n",
    "def fit_lognorm(data):\n",
    "    shape,loc,scale=lognorm.fit(data)\n",
    "    return shape,loc,scale\n",
    "def fit_gamma(data):\n",
    "    shape,loc,scale=gamma.fit(data) \n",
    "    return shape,loc,scale\n",
    "def fit_beta(data):\n",
    "    a,b,loc,scale=beta.fit(data)\n",
    "    return a,b,loc,scale\n",
    "    \n",
    "_mu,sepal_length_std=fit_norm(data['SepalLengthCm'])"
   ]
  },
  {
   "cell_type": "markdown",
   "id": "bc52ae92-30f0-403f-8ade-12c9e37aaa33",
   "metadata": {},
   "source": [
    "## Practical 3\n",
    "Multivariate data Analysis"
   ]
  },
  {
   "cell_type": "code",
   "execution_count": 13,
   "id": "e2436dee-c373-4ce7-a35f-90116f436d4c",
   "metadata": {},
   "outputs": [],
   "source": [
    "import pandas as pd\n",
    "import seaborn as sns\n",
    "import matplotlib.pyplot as plt\n"
   ]
  },
  {
   "cell_type": "code",
   "execution_count": 14,
   "id": "4bb5c45b-61da-488b-ab81-8446e2f56865",
   "metadata": {},
   "outputs": [
    {
     "data": {
      "text/html": [
       "<div>\n",
       "<style scoped>\n",
       "    .dataframe tbody tr th:only-of-type {\n",
       "        vertical-align: middle;\n",
       "    }\n",
       "\n",
       "    .dataframe tbody tr th {\n",
       "        vertical-align: top;\n",
       "    }\n",
       "\n",
       "    .dataframe thead th {\n",
       "        text-align: right;\n",
       "    }\n",
       "</style>\n",
       "<table border=\"1\" class=\"dataframe\">\n",
       "  <thead>\n",
       "    <tr style=\"text-align: right;\">\n",
       "      <th></th>\n",
       "      <th>Id</th>\n",
       "      <th>SepalLengthCm</th>\n",
       "      <th>SepalWidthCm</th>\n",
       "      <th>PetalLengthCm</th>\n",
       "      <th>PetalWidthCm</th>\n",
       "      <th>Species</th>\n",
       "    </tr>\n",
       "  </thead>\n",
       "  <tbody>\n",
       "    <tr>\n",
       "      <th>0</th>\n",
       "      <td>1</td>\n",
       "      <td>5.1</td>\n",
       "      <td>3.5</td>\n",
       "      <td>1.4</td>\n",
       "      <td>0.2</td>\n",
       "      <td>Iris-setosa</td>\n",
       "    </tr>\n",
       "    <tr>\n",
       "      <th>1</th>\n",
       "      <td>2</td>\n",
       "      <td>4.9</td>\n",
       "      <td>3.0</td>\n",
       "      <td>1.4</td>\n",
       "      <td>0.2</td>\n",
       "      <td>Iris-setosa</td>\n",
       "    </tr>\n",
       "    <tr>\n",
       "      <th>2</th>\n",
       "      <td>3</td>\n",
       "      <td>4.7</td>\n",
       "      <td>3.2</td>\n",
       "      <td>1.3</td>\n",
       "      <td>0.2</td>\n",
       "      <td>Iris-setosa</td>\n",
       "    </tr>\n",
       "    <tr>\n",
       "      <th>3</th>\n",
       "      <td>4</td>\n",
       "      <td>4.6</td>\n",
       "      <td>3.1</td>\n",
       "      <td>1.5</td>\n",
       "      <td>0.2</td>\n",
       "      <td>Iris-setosa</td>\n",
       "    </tr>\n",
       "    <tr>\n",
       "      <th>4</th>\n",
       "      <td>5</td>\n",
       "      <td>5.0</td>\n",
       "      <td>3.6</td>\n",
       "      <td>1.4</td>\n",
       "      <td>0.2</td>\n",
       "      <td>Iris-setosa</td>\n",
       "    </tr>\n",
       "    <tr>\n",
       "      <th>...</th>\n",
       "      <td>...</td>\n",
       "      <td>...</td>\n",
       "      <td>...</td>\n",
       "      <td>...</td>\n",
       "      <td>...</td>\n",
       "      <td>...</td>\n",
       "    </tr>\n",
       "    <tr>\n",
       "      <th>145</th>\n",
       "      <td>146</td>\n",
       "      <td>6.7</td>\n",
       "      <td>3.0</td>\n",
       "      <td>5.2</td>\n",
       "      <td>2.3</td>\n",
       "      <td>Iris-virginica</td>\n",
       "    </tr>\n",
       "    <tr>\n",
       "      <th>146</th>\n",
       "      <td>147</td>\n",
       "      <td>6.3</td>\n",
       "      <td>2.5</td>\n",
       "      <td>5.0</td>\n",
       "      <td>1.9</td>\n",
       "      <td>Iris-virginica</td>\n",
       "    </tr>\n",
       "    <tr>\n",
       "      <th>147</th>\n",
       "      <td>148</td>\n",
       "      <td>6.5</td>\n",
       "      <td>3.0</td>\n",
       "      <td>5.2</td>\n",
       "      <td>2.0</td>\n",
       "      <td>Iris-virginica</td>\n",
       "    </tr>\n",
       "    <tr>\n",
       "      <th>148</th>\n",
       "      <td>149</td>\n",
       "      <td>6.2</td>\n",
       "      <td>3.4</td>\n",
       "      <td>5.4</td>\n",
       "      <td>2.3</td>\n",
       "      <td>Iris-virginica</td>\n",
       "    </tr>\n",
       "    <tr>\n",
       "      <th>149</th>\n",
       "      <td>150</td>\n",
       "      <td>5.9</td>\n",
       "      <td>3.0</td>\n",
       "      <td>5.1</td>\n",
       "      <td>1.8</td>\n",
       "      <td>Iris-virginica</td>\n",
       "    </tr>\n",
       "  </tbody>\n",
       "</table>\n",
       "<p>150 rows × 6 columns</p>\n",
       "</div>"
      ],
      "text/plain": [
       "      Id  SepalLengthCm  SepalWidthCm  PetalLengthCm  PetalWidthCm  \\\n",
       "0      1            5.1           3.5            1.4           0.2   \n",
       "1      2            4.9           3.0            1.4           0.2   \n",
       "2      3            4.7           3.2            1.3           0.2   \n",
       "3      4            4.6           3.1            1.5           0.2   \n",
       "4      5            5.0           3.6            1.4           0.2   \n",
       "..   ...            ...           ...            ...           ...   \n",
       "145  146            6.7           3.0            5.2           2.3   \n",
       "146  147            6.3           2.5            5.0           1.9   \n",
       "147  148            6.5           3.0            5.2           2.0   \n",
       "148  149            6.2           3.4            5.4           2.3   \n",
       "149  150            5.9           3.0            5.1           1.8   \n",
       "\n",
       "            Species  \n",
       "0       Iris-setosa  \n",
       "1       Iris-setosa  \n",
       "2       Iris-setosa  \n",
       "3       Iris-setosa  \n",
       "4       Iris-setosa  \n",
       "..              ...  \n",
       "145  Iris-virginica  \n",
       "146  Iris-virginica  \n",
       "147  Iris-virginica  \n",
       "148  Iris-virginica  \n",
       "149  Iris-virginica  \n",
       "\n",
       "[150 rows x 6 columns]"
      ]
     },
     "execution_count": 14,
     "metadata": {},
     "output_type": "execute_result"
    }
   ],
   "source": [
    "data=pd.read_csv(r\"C:\\Users\\USER\\Downloads\\Iris (1) (1).csv\")\n",
    "data"
   ]
  },
  {
   "cell_type": "code",
   "execution_count": 16,
   "id": "d2b23bdd-e275-43da-ab4c-f5cefab32401",
   "metadata": {},
   "outputs": [],
   "source": [
    "df = data.drop(['Species'], axis = 1)"
   ]
  },
  {
   "cell_type": "code",
   "execution_count": 17,
   "id": "74206b5c-1acc-4d6a-9c0a-3a01e1327aba",
   "metadata": {},
   "outputs": [
    {
     "data": {
      "text/html": [
       "<div>\n",
       "<style scoped>\n",
       "    .dataframe tbody tr th:only-of-type {\n",
       "        vertical-align: middle;\n",
       "    }\n",
       "\n",
       "    .dataframe tbody tr th {\n",
       "        vertical-align: top;\n",
       "    }\n",
       "\n",
       "    .dataframe thead th {\n",
       "        text-align: right;\n",
       "    }\n",
       "</style>\n",
       "<table border=\"1\" class=\"dataframe\">\n",
       "  <thead>\n",
       "    <tr style=\"text-align: right;\">\n",
       "      <th></th>\n",
       "      <th>Id</th>\n",
       "      <th>SepalLengthCm</th>\n",
       "      <th>SepalWidthCm</th>\n",
       "      <th>PetalLengthCm</th>\n",
       "      <th>PetalWidthCm</th>\n",
       "    </tr>\n",
       "  </thead>\n",
       "  <tbody>\n",
       "    <tr>\n",
       "      <th>Id</th>\n",
       "      <td>1.000000</td>\n",
       "      <td>0.716676</td>\n",
       "      <td>-0.397729</td>\n",
       "      <td>0.882747</td>\n",
       "      <td>0.899759</td>\n",
       "    </tr>\n",
       "    <tr>\n",
       "      <th>SepalLengthCm</th>\n",
       "      <td>0.716676</td>\n",
       "      <td>1.000000</td>\n",
       "      <td>-0.109369</td>\n",
       "      <td>0.871754</td>\n",
       "      <td>0.817954</td>\n",
       "    </tr>\n",
       "    <tr>\n",
       "      <th>SepalWidthCm</th>\n",
       "      <td>-0.397729</td>\n",
       "      <td>-0.109369</td>\n",
       "      <td>1.000000</td>\n",
       "      <td>-0.420516</td>\n",
       "      <td>-0.356544</td>\n",
       "    </tr>\n",
       "    <tr>\n",
       "      <th>PetalLengthCm</th>\n",
       "      <td>0.882747</td>\n",
       "      <td>0.871754</td>\n",
       "      <td>-0.420516</td>\n",
       "      <td>1.000000</td>\n",
       "      <td>0.962757</td>\n",
       "    </tr>\n",
       "    <tr>\n",
       "      <th>PetalWidthCm</th>\n",
       "      <td>0.899759</td>\n",
       "      <td>0.817954</td>\n",
       "      <td>-0.356544</td>\n",
       "      <td>0.962757</td>\n",
       "      <td>1.000000</td>\n",
       "    </tr>\n",
       "  </tbody>\n",
       "</table>\n",
       "</div>"
      ],
      "text/plain": [
       "                     Id  SepalLengthCm  SepalWidthCm  PetalLengthCm  \\\n",
       "Id             1.000000       0.716676     -0.397729       0.882747   \n",
       "SepalLengthCm  0.716676       1.000000     -0.109369       0.871754   \n",
       "SepalWidthCm  -0.397729      -0.109369      1.000000      -0.420516   \n",
       "PetalLengthCm  0.882747       0.871754     -0.420516       1.000000   \n",
       "PetalWidthCm   0.899759       0.817954     -0.356544       0.962757   \n",
       "\n",
       "               PetalWidthCm  \n",
       "Id                 0.899759  \n",
       "SepalLengthCm      0.817954  \n",
       "SepalWidthCm      -0.356544  \n",
       "PetalLengthCm      0.962757  \n",
       "PetalWidthCm       1.000000  "
      ]
     },
     "execution_count": 17,
     "metadata": {},
     "output_type": "execute_result"
    }
   ],
   "source": [
    "corr=df.corr()\n",
    "corr"
   ]
  },
  {
   "cell_type": "code",
   "execution_count": 19,
   "id": "9472aee8-c1c4-4989-a80f-350fc33a144e",
   "metadata": {},
   "outputs": [
    {
     "data": {
      "image/png": "[encoded data removed]",
      "text/plain": [
       "<Figure size 640x480 with 2 Axes>"
      ]
     },
     "metadata": {},
     "output_type": "display_data"
    }
   ],
   "source": [
    "sns.heatmap(corr, annot = True)\n",
    "plt.show()"
   ]
  },
  {
   "cell_type": "markdown",
   "id": "d697c884-60b6-4197-b615-e1565cea9c0c",
   "metadata": {},
   "source": [
    "# Practical 4"
   ]
  },
  {
   "cell_type": "markdown",
   "id": "c16f2da4-3763-43d4-a802-8b7b821c2595",
   "metadata": {},
   "source": [
    "# Q 1"
   ]
  },
  {
   "cell_type": "code",
   "execution_count": 1,
   "id": "66f3b949-03ef-4947-9e6a-d424814bc0cb",
   "metadata": {},
   "outputs": [
    {
     "name": "stdout",
     "output_type": "stream",
     "text": [
      "population= [1, 2, 3, 4, 5, 6, 7, 8, 9, 10, 11, 12, 13, 14, 15, 16, 17, 18, 19, 20, 21, 22, 23, 24, 25, 26, 27, 28, 29, 30, 31, 32, 33, 34, 35, 36, 37, 38, 39, 40, 41, 42, 43, 44, 45, 46, 47, 48, 49, 50, 51, 52, 53, 54, 55, 56, 57, 58, 59, 60, 61, 62, 63, 64, 65, 66, 67, 68, 69, 70, 71, 72, 73, 74, 75, 76, 77, 78, 79, 80, 81, 82, 83, 84, 85, 86, 87, 88, 89, 90, 91, 92, 93, 94, 95, 96, 97, 98, 99, 100]\n",
      "Simple Random Sampling: [64, 26, 9, 43, 53, 45, 54, 29, 38, 52]\n",
      "Stratified Sampling: [12, 3, 38, 30, 46, 57, 74, 70, 90, 86]\n",
      "Systematic Sampling: [1, 11, 21, 31, 41, 51, 61, 71, 81, 91]\n",
      "Cluster Sampling: [33, 31, 39, 34, 23, 32, 26, 35, 36, 30]\n"
     ]
    }
   ],
   "source": [
    "import numpy as np\n",
    "polpulation=np.arange(1,101)\n",
    "polpulation\n",
    "\n",
    "\n",
    "\n",
    "import numpy as np\n",
    "import random\n",
    "\n",
    "population = list(range(1, 101))\n",
    "print(\"population=\",population)\n",
    "ss=10\n",
    "\n",
    "# Simple Random Sampling\n",
    "simple_random_sample = random.sample(population, ss)\n",
    "print(\"Simple Random Sampling:\", simple_random_sample)\n",
    "\n",
    "# Stratified Sampling\n",
    "# divide the population into 5 strata\n",
    "strata_size = 20\n",
    "strata = [population[i:i+strata_size] for i in range(0, len(population), strata_size)]\n",
    "stratified_sample = [random.choice(stratum) for stratum in strata for _ in range(2)]\n",
    "print(\"Stratified Sampling:\", stratified_sample)\n",
    "\n",
    "# Systematic Sampling\n",
    "systematic_sample = [population[i] for i in range(0, len(population), len(population)//ss)]\n",
    "print(\"Systematic Sampling:\", systematic_sample)\n",
    "\n",
    "# Cluster Sampling\n",
    "cluster_size = 20\n",
    "clusters = [population[i:i+cluster_size] for i in range(0, len(population), cluster_size)]\n",
    "random_cluster = random.choice(clusters)\n",
    "cluster_sample = random.sample(random_cluster, ss)\n",
    "print(\"Cluster Sampling:\", cluster_sample)\n",
    "\n",
    "\n",
    "\n",
    "\n"
   ]
  },
  {
   "cell_type": "markdown",
   "id": "5cefecc8-65b8-48b8-bce8-bea8065a1478",
   "metadata": {},
   "source": [
    "# Q 2"
   ]
  },
  {
   "cell_type": "code",
   "execution_count": 22,
   "id": "5eee4d7f-e881-4dbf-891c-e7d47075d364",
   "metadata": {},
   "outputs": [
    {
     "name": "stdout",
     "output_type": "stream",
     "text": [
      "   Age  Gender  Income\n",
      "0   56  Female   97454\n",
      "1   69  Female  146522\n",
      "2   46    Male  138681\n",
      "3   32    Male  110600\n",
      "4   60    Male  142732\n",
      "\n",
      "Convenience Sampling:\n",
      "     Age  Gender  Income\n",
      "521   60  Female   84288\n",
      "737   27  Female   65893\n",
      "740   51    Male   81272\n",
      "660   22    Male  146768\n",
      "411   46  Female   70975\n",
      "\n",
      "Purposive Sampling:\n",
      "     Age  Gender  Income\n",
      "735   46    Male  126625\n",
      "728   68  Female  114588\n",
      "83    31  Female  115505\n",
      "552   19    Male  132360\n",
      "242   50  Female  132217\n",
      "\n",
      "Quota Sampling:\n",
      "     Age Gender  Income\n",
      "983   34   Male   24760\n",
      "82    52   Male   47788\n",
      "286   34   Male  131785\n",
      "162   50   Male  101470\n",
      "173   44   Male  102856\n",
      "\n",
      "Snowball Sampling:\n",
      "     Age  Gender  Income\n",
      "521   60  Female   84288\n",
      "737   27  Female   65893\n",
      "740   51    Male   81272\n",
      "660   22    Male  146768\n",
      "411   46  Female   70975\n"
     ]
    }
   ],
   "source": [
    "\n",
    "\n",
    "import numpy as np\n",
    "import pandas as pd\n",
    "\n",
    "# Set seed for reproducibility\n",
    "np.random.seed(42)\n",
    "\n",
    "# Number of individuals\n",
    "n = 1000\n",
    "\n",
    "# Generate random age (18 to 80 years)\n",
    "age = np.random.randint(18, 81, size=n)\n",
    "\n",
    "# Generate random gender (0 for female, 1 for male)\n",
    "gender = np.random.randint(0, 2, size=n)\n",
    "gender = np.where(gender == 0, 'Female', 'Male')\n",
    "\n",
    "# Generate random income (20000 to 150000)\n",
    "income = np.random.randint(20000, 150001, size=n)\n",
    "\n",
    "# Create DataFrame\n",
    "data = pd.DataFrame({'Age': age, 'Gender': gender, 'Income': income})\n",
    "\n",
    "# Display first few rows of the dataset\n",
    "print(data.head())\n",
    "# Convenience Sampling (Randomly select 100 individuals)\n",
    "convenience_sample = data.sample(n=100, random_state=42)\n",
    "\n",
    "# Display first few rows of convenience sample\n",
    "# Convenience Sampling (Randomly select 100 individuals)\n",
    "convenience_sample = data.sample(n=100, random_state=42)\n",
    "print(\"\\nConvenience Sampling:\")\n",
    "print(convenience_sample.head())\n",
    "\n",
    "\n",
    "# Display first few rows of purposive sample\n",
    "# Purposive Sampling (Select individuals with income > 100000)\n",
    "purposive_sample = data[data['Income'] > 100000].sample(n=100, random_state=42)\n",
    "\n",
    "# Display first few rows of purposive sample\n",
    "print(\"\\nPurposive Sampling:\")\n",
    "print(purposive_sample.head())\n",
    "# Display first few rows of quota sample\n",
    "# Quota Sampling (Select 50 male and 50 female)\n",
    "quota_sample_male = data[data['Gender'] == 'Male'].sample(n=50, random_state=42)\n",
    "quota_sample_female = data[data['Gender'] == 'Female'].sample(n=50, random_state=42)\n",
    "quota_sample = pd.concat([quota_sample_male, quota_sample_female])\n",
    "\n",
    "# Display first few rows of quota sample\n",
    "print(\"\\nQuota Sampling:\")\n",
    "print(quota_sample.head())\n",
    "\n",
    "\n",
    "## Snowball Sampling (Select 5 random individuals to start snowball)\n",
    "initial_sample = data.sample(n=5, random_state=42)\n",
    "\n",
    "# Add new samples based on referrals (randomly select 2 individuals referred by each initial participant)\n",
    "snowball_sample = initial_sample.copy()\n",
    "for index, row in initial_sample.iterrows():\n",
    "    referrals = data.sample(n=2, random_state=index)\n",
    "    snowball_sample = pd.concat([snowball_sample, referrals])\n",
    "\n",
    "# Display first few rows of snowball sample\n",
    "print(\"\\nSnowball Sampling:\")\n",
    "print(snowball_sample.head())\n",
    "\n"
   ]
  },
  {
   "cell_type": "markdown",
   "id": "6008f1ec-8fd1-418b-8312-d3ff53efead0",
   "metadata": {},
   "source": [
    "# Practical 5"
   ]
  },
  {
   "cell_type": "code",
   "execution_count": 2,
   "id": "4263c3cc-b093-4640-94c2-d1f639bf0700",
   "metadata": {},
   "outputs": [
    {
     "name": "stdout",
     "output_type": "stream",
     "text": [
      "Sample Mean: 5.846316070354229\n",
      "Theoretical Mean: 6.0\n",
      "The sample mean is not equal to the theoretical mean.\n"
     ]
    }
   ],
   "source": [
    "# Define the sample size & parameters of the uniform distribution\n",
    "n=10\n",
    "a = 2\n",
    "b = 10\n",
    "\n",
    "# Generate 10 random numbers from the uniform distribution\n",
    "x = np.random.uniform(a, b, n)\n",
    "\n",
    "# Compute the sample mean\n",
    "sample_mean = np.mean(x)\n",
    "\n",
    "# Calculate the theoretical mean of the uniform distribution\n",
    "theoretical_mean = (a + b) / 2\n",
    "\n",
    "# Print the sample mean and theoretical mean\n",
    "print(\"Sample Mean:\", sample_mean)\n",
    "print(\"Theoretical Mean:\", theoretical_mean)\n",
    "\n",
    "# Compare the sample mean with the theoretical mean\n",
    "if sample_mean == theoretical_mean:\n",
    "    print(\"The sample mean is equal to the theoretical mean.\")\n",
    "else:\n",
    "    print(\"The sample mean is not equal to the theoretical mean.\")"
   ]
  },
  {
   "cell_type": "markdown",
   "id": "f4b82ff6-eaf9-4706-b1fa-970d54d4e9da",
   "metadata": {},
   "source": [
    "# Q2"
   ]
  },
  {
   "cell_type": "code",
   "execution_count": 3,
   "id": "eb2f33fb-1255-4628-8e2a-bad513042c19",
   "metadata": {},
   "outputs": [
    {
     "name": "stdout",
     "output_type": "stream",
     "text": [
      "Sample Mean: 5.4\n",
      "Theoretical Mean: 5.0\n",
      "The sample mean is not equal to the theoretical mean.\n"
     ]
    }
   ],
   "source": [
    "# Define the sample size & parameters of the binomial distribution\n",
    "n=10\n",
    "p=0.5\n",
    "m=10\n",
    "\n",
    "# Generate 10 random numbers from the binomial distribution\n",
    "x = np.random.binomial(m,p,n)\n",
    "\n",
    "# Compute the sample mean\n",
    "sample_mean = np.mean(x)\n",
    "\n",
    "# Calculate the theoretical mean of the binomial distribution\n",
    "theoretical_mean = m*p\n",
    "\n",
    "# Print the sample mean and theoretical mean\n",
    "print(\"Sample Mean:\", sample_mean)\n",
    "print(\"Theoretical Mean:\", theoretical_mean)\n",
    "\n",
    "# Compare the sample mean with the theoretical mean\n",
    "if sample_mean == theoretical_mean:\n",
    "    print(\"The sample mean is equal to the theoretical mean.\")\n",
    "else:\n",
    "    print(\"The sample mean is not equal to the theoretical mean.\")"
   ]
  },
  {
   "cell_type": "markdown",
   "id": "9ae0c039-346e-4d6c-af9a-eef5068f2499",
   "metadata": {},
   "source": [
    "# Practical 6"
   ]
  },
  {
   "cell_type": "markdown",
   "id": "73204815-57f9-416e-9e83-531e5e42f126",
   "metadata": {},
   "source": [
    "# Q 1"
   ]
  },
  {
   "cell_type": "code",
   "execution_count": 7,
   "id": "6dbed7f1-0900-4baf-b02c-e29c19f7e98a",
   "metadata": {},
   "outputs": [],
   "source": [
    "import numpy as np\n",
    "from scipy.stats import *"
   ]
  },
  {
   "cell_type": "code",
   "execution_count": 8,
   "id": "bef189d8-f620-4729-875b-c8552e703b19",
   "metadata": {},
   "outputs": [
    {
     "name": "stdout",
     "output_type": "stream",
     "text": [
      "Sample mean: 5.4\n",
      "Sample standard deviation: 2\n",
      "Sample size: 100\n",
      "95% Confidence interval for the population mean: (5.0080072030919895, 5.791992796908011)\n"
     ]
    }
   ],
   "source": [
    "# Define the sample size & parameters of the normal distribution\n",
    "n=100\n",
    "mean=10\n",
    "std_dev=2\n",
    "\n",
    "# Generate 10 random numbers from the normal distribution\n",
    "x = np.random.normal(mean,std_dev,n)\n",
    "\n",
    "# Calculate the critical value (z)\n",
    "# For a 95% confidence interval, the critical value is approximately 1.96\n",
    "z = norm.ppf(0.975)  # For a two-tailed test, we use 1 - alpha/2\n",
    "\n",
    "# Calculate the margin of error\n",
    "margin_of_error = z * (std_dev / np.sqrt(n))\n",
    "\n",
    "# Calculate the confidence interval\n",
    "confidence_interval = (sample_mean - margin_of_error, sample_mean + margin_of_error)\n",
    "\n",
    "print(\"Sample mean:\", sample_mean)\n",
    "print(\"Sample standard deviation:\", std_dev)\n",
    "print(\"Sample size:\", n)\n",
    "print(\"95% Confidence interval for the population mean:\", confidence_interval)"
   ]
  },
  {
   "cell_type": "markdown",
   "id": "f722d90d-f13b-4bb7-bf91-03d490b35b4b",
   "metadata": {},
   "source": [
    " # Q 2"
   ]
  },
  {
   "cell_type": "code",
   "execution_count": 9,
   "id": "2384743f-7827-4c75-8e28-410a442ec9b8",
   "metadata": {},
   "outputs": [
    {
     "name": "stdout",
     "output_type": "stream",
     "text": [
      "Sample Variance: 3.69025611774764\n",
      "95% Confidence Interval for Population Variance: (2.8448037560781025, 4.979961509623782)\n"
     ]
    }
   ],
   "source": [
    "# Define the sample size & parameters of the normal distribution\n",
    "n=100\n",
    "mean=10\n",
    "std_dev=2\n",
    "\n",
    "# Generate 10 random numbers from the normal distribution\n",
    "x = np.random.normal(mean,std_dev,n)\n",
    "\n",
    "    \n",
    "# Calculate sample variance\n",
    "sample_var = np.var(x, ddof=1)  # ddof=1 for sample variance\n",
    "\n",
    "# Calculate chi-square critical values\n",
    "alpha = 0.05  # significance level (1 - confidence level)\n",
    "chi2_lower = chi2.ppf(alpha / 2, n - 1)\n",
    "chi2_upper = chi2.ppf(1 - alpha / 2, n - 1)\n",
    "\n",
    "# Calculate confidence interval for population variance\n",
    "confidence_interval = (\n",
    "    (n - 1) * sample_var / chi2_upper,\n",
    "    (n - 1) * sample_var / chi2_lower\n",
    ")\n",
    "\n",
    "print(\"Sample Variance:\", sample_var)\n",
    "print(\"95% Confidence Interval for Population Variance:\", confidence_interval)"
   ]
  },
  {
   "cell_type": "markdown",
   "id": "004d604b-5c08-411c-961b-27ee3898135a",
   "metadata": {},
   "source": [
    "# Practical 7"
   ]
  },
  {
   "cell_type": "markdown",
   "id": "b233ae38-9faa-47ea-bf62-f48a8df0a84d",
   "metadata": {},
   "source": [
    "# Q 1"
   ]
  },
  {
   "cell_type": "code",
   "execution_count": 10,
   "id": "ec1fd445-4154-4ca1-b64f-e4e6eac7187f",
   "metadata": {},
   "outputs": [
    {
     "name": "stdout",
     "output_type": "stream",
     "text": [
      "Accept null hypothesis\n"
     ]
    }
   ],
   "source": [
    "# Given data\n",
    "data = [88, 92, 94, 94, 96, 97, 97, 97, 99, 99, 105, 109, 109, 109, 110, 112, 112, 113, 114, 115]\n",
    "\n",
    "# Population mean for the null hypothesis\n",
    "population_mean = 100\n",
    "\n",
    "# Significance level\n",
    "alpha = 0.05\n",
    "\n",
    "# Sample statistics\n",
    "sample_mean = np.mean(data)\n",
    "std_dev = np.std(data, ddof=1)  # Use sample standard deviation with ddof=1\n",
    "\n",
    "# Sample size\n",
    "n = len(data)\n",
    "\n",
    "# Calculate the Z-statistic\n",
    "Z = (sample_mean - population_mean) / (std_dev / np.sqrt(n))\n",
    "\n",
    "# Calculate critical Z-value\n",
    "critical_Z = norm.ppf(1 - alpha/2)  # Two-tailed test\n",
    "\n",
    "# Perform the Z-test\n",
    "if np.abs(Z) > critical_Z:\n",
    "    print(\"Reject the null hypothesis\")\n",
    "else:\n",
    "    print(\"Accept null hypothesis\")"
   ]
  },
  {
   "cell_type": "code",
   "execution_count": 12,
   "id": "c15593e5-8656-4642-a1d4-551fa276939e",
   "metadata": {},
   "outputs": [
    {
     "name": "stdout",
     "output_type": "stream",
     "text": [
      "Accept Ho\n"
     ]
    }
   ],
   "source": [
    "#another method\n",
    "\n",
    "from statsmodels.stats.weightstats import *     #i.e.here,import ztest as ztest\n",
    "l=[88, 92, 94, 94, 96, 97, 97, 97, 99, 99, 105, 109, 109, 109, 110, 112, 112, 113, 114, 115]\n",
    "\n",
    "#onesample_ztest\n",
    "ztest,p_value=ztest(l,value=100)\n",
    "if p_value < 0.05:\n",
    "    print('Reject Ho')\n",
    "else:\n",
    "     print('Accept Ho')"
   ]
  },
  {
   "cell_type": "markdown",
   "id": "a3e40e20-4a70-4f0a-a2f0-3eede2a58a90",
   "metadata": {},
   "source": [
    "# Q2 "
   ]
  },
  {
   "cell_type": "code",
   "execution_count": 14,
   "id": "5db37c20-dceb-45df-b58e-143b71e4c3e6",
   "metadata": {},
   "outputs": [
    {
     "name": "stdout",
     "output_type": "stream",
     "text": [
      "Z-statistic: -5.0\n",
      "P-value: 0.001052825793366539\n",
      "Reject Ho\n"
     ]
    }
   ],
   "source": [
    "from scipy import stats\n",
    "import numpy as np\n",
    "Grp1=[11, 12, 13, 14, 15]\n",
    "Grp2=[16, 17, 18, 19, 20]\n",
    "\n",
    "#2sample_ztest\n",
    "z_stat, p_value = stats.ttest_ind(Grp1,Grp2)\n",
    "print(\"Z-statistic:\", z_stat)\n",
    "print(\"P-value:\", p_value)\n",
    "if p_value < 0.05:\n",
    "    print('Reject Ho')\n",
    "else:\n",
    "    ('Accept Ho')"
   ]
  },
  {
   "cell_type": "code",
   "execution_count": 15,
   "id": "95ef7042-08a8-434e-a6ca-df77153290ff",
   "metadata": {},
   "outputs": [
    {
     "name": "stdout",
     "output_type": "stream",
     "text": [
      "Z-statistic: -5.0\n",
      "P-value: 5.733031437583867e-07\n",
      "Reject Ho\n"
     ]
    }
   ],
   "source": [
    "# another method\n",
    "\n",
    "\n",
    "from statsmodels.stats.weightstats import ztest as ztest\n",
    "Grp1=[11, 12, 13, 14, 15]\n",
    "Grp2=[16, 17, 18, 19, 20]\n",
    "\n",
    "#2sample_ztest\n",
    "ztest, p_value = ztest(Grp1,Grp2)\n",
    "print(\"Z-statistic:\", ztest)\n",
    "print(\"P-value:\", p_value)\n",
    "if p_value < 0.05:\n",
    "    print('Reject Ho')\n",
    "else:\n",
    "    ('Accept Ho')"
   ]
  },
  {
   "cell_type": "markdown",
   "id": "731c999f-84d7-4cf0-bcf9-b03a1c6c435b",
   "metadata": {},
   "source": [
    "# Practical 8 "
   ]
  },
  {
   "cell_type": "markdown",
   "id": "525785f5-ed2c-4bf4-a18e-7bfcabcb05e3",
   "metadata": {},
   "source": [
    "# Q1"
   ]
  },
  {
   "cell_type": "code",
   "execution_count": 16,
   "id": "351df5db-bc09-4862-b21b-c01e16f7811d",
   "metadata": {},
   "outputs": [
    {
     "name": "stdout",
     "output_type": "stream",
     "text": [
      "T-statistic: 5.196152422706631\n",
      "P-value: 0.0005669643108945611\n",
      "Reject Ho\n"
     ]
    }
   ],
   "source": [
    "import numpy as np\n",
    "from scipy import stats\n",
    "\n",
    "# Define the data\n",
    "data = [12, 9, 10, 11, 8, 14, 13, 10, 12, 11]  # Sample data with size 10\n",
    "\n",
    "# Define the null hypothesis mean\n",
    "null_hypothesis_mean = 8  # The mean you want to test against\n",
    "\n",
    "# Perform the one-sample t-test\n",
    "t_statistic, p_value = stats.ttest_1samp(data, null_hypothesis_mean)\n",
    "\n",
    "# Print the results\n",
    "print(\"T-statistic:\", t_statistic)\n",
    "print(\"P-value:\", p_value)\n",
    "if p_value <0.05:\n",
    "    print('Reject Ho')\n",
    "else:\n",
    "    print('Accept Ho')"
   ]
  },
  {
   "cell_type": "markdown",
   "id": "edf3f39b-2041-4a39-ac3f-4e722038565d",
   "metadata": {},
   "source": [
    "# Practical  9"
   ]
  },
  {
   "cell_type": "code",
   "execution_count": 17,
   "id": "ff0c4320-7a23-4d75-9250-b202f2ac9de5",
   "metadata": {},
   "outputs": [
    {
     "name": "stdout",
     "output_type": "stream",
     "text": [
      "T-statistic: -1.7854191019308465\n",
      "P-value: 0.08936786617910616\n",
      "Accept Ho\n"
     ]
    }
   ],
   "source": [
    "from scipy import stats\n",
    "\n",
    "# Define the two samples\n",
    "sample1 = [12, 9, 10, 11, 8, 14, 13, 10, 12, 11]  \n",
    "sample2 = [14, 11, 12, 13, 9, 16, 15, 11, 14, 12, 13, 10]  \n",
    "# Perform the two-sample t-test\n",
    "t_statistic, p_value = stats.ttest_ind(sample1, sample2)\n",
    "\n",
    "# Print the results\n",
    "print(\"T-statistic:\", t_statistic)\n",
    "print(\"P-value:\", p_value)\n",
    "if p_value < 0.05:\n",
    "    print('Reject Ho')\n",
    "else:\n",
    "    print('Accept Ho')"
   ]
  },
  {
   "cell_type": "markdown",
   "id": "cbf00d78-19e1-41c4-b8fa-8c20dd52b80e",
   "metadata": {},
   "source": [
    "# Practical 10 "
   ]
  },
  {
   "cell_type": "code",
   "execution_count": 18,
   "id": "84467087-4a41-4677-8e88-6bf7e10800c2",
   "metadata": {},
   "outputs": [
    {
     "name": "stdout",
     "output_type": "stream",
     "text": [
      "T-statistic: 20.14641528363018\n",
      "P-value: 8.513719346911794e-09\n",
      "Reject Ho\n"
     ]
    }
   ],
   "source": [
    "from scipy import stats\n",
    "\n",
    "# Define the two samples\n",
    "before = [150, 155, 170, 165, 180, 175, 160, 170, 155, 165]  \n",
    "after = [140, 148, 160, 155, 170, 168, 152, 162, 146, 158]\n",
    "\n",
    "# Perform the paired t-test\n",
    "t_statistic, p_value = stats.ttest_rel(before, after)\n",
    "\n",
    "# Print the results\n",
    "print(\"T-statistic:\", t_statistic)\n",
    "print(\"P-value:\", p_value)\n",
    "if p_value < 0.05:\n",
    "    print('Reject Ho')\n",
    "else:\n",
    "    print('Accept Ho')"
   ]
  },
  {
   "cell_type": "markdown",
   "id": "8bfb0516-3f99-45a2-8d5e-12ac3da21c2f",
   "metadata": {},
   "source": [
    "# Practical 11 "
   ]
  },
  {
   "cell_type": "code",
   "execution_count": 13,
   "id": "d39b3ef3-472e-4393-9445-f3b1cad377fe",
   "metadata": {},
   "outputs": [
    {
     "data": {
      "text/html": [
       "<div>\n",
       "<style scoped>\n",
       "    .dataframe tbody tr th:only-of-type {\n",
       "        vertical-align: middle;\n",
       "    }\n",
       "\n",
       "    .dataframe tbody tr th {\n",
       "        vertical-align: top;\n",
       "    }\n",
       "\n",
       "    .dataframe thead th {\n",
       "        text-align: right;\n",
       "    }\n",
       "</style>\n",
       "<table border=\"1\" class=\"dataframe\">\n",
       "  <thead>\n",
       "    <tr style=\"text-align: right;\">\n",
       "      <th></th>\n",
       "      <th>Sr. No</th>\n",
       "      <th>Smoking</th>\n",
       "      <th>Lung Cancer</th>\n",
       "    </tr>\n",
       "  </thead>\n",
       "  <tbody>\n",
       "    <tr>\n",
       "      <th>0</th>\n",
       "      <td>1</td>\n",
       "      <td>Smoker</td>\n",
       "      <td>Yes</td>\n",
       "    </tr>\n",
       "    <tr>\n",
       "      <th>1</th>\n",
       "      <td>2</td>\n",
       "      <td>Smoker</td>\n",
       "      <td>Yes</td>\n",
       "    </tr>\n",
       "    <tr>\n",
       "      <th>2</th>\n",
       "      <td>3</td>\n",
       "      <td>Non -Smoker</td>\n",
       "      <td>Yes</td>\n",
       "    </tr>\n",
       "    <tr>\n",
       "      <th>3</th>\n",
       "      <td>4</td>\n",
       "      <td>Non -Smoker</td>\n",
       "      <td>No</td>\n",
       "    </tr>\n",
       "    <tr>\n",
       "      <th>4</th>\n",
       "      <td>5</td>\n",
       "      <td>Smoker</td>\n",
       "      <td>Yes</td>\n",
       "    </tr>\n",
       "    <tr>\n",
       "      <th>5</th>\n",
       "      <td>6</td>\n",
       "      <td>Smoker</td>\n",
       "      <td>Yes</td>\n",
       "    </tr>\n",
       "    <tr>\n",
       "      <th>6</th>\n",
       "      <td>7</td>\n",
       "      <td>Non -Smoker</td>\n",
       "      <td>No</td>\n",
       "    </tr>\n",
       "    <tr>\n",
       "      <th>7</th>\n",
       "      <td>8</td>\n",
       "      <td>Non -Smoker</td>\n",
       "      <td>No</td>\n",
       "    </tr>\n",
       "    <tr>\n",
       "      <th>8</th>\n",
       "      <td>9</td>\n",
       "      <td>Smoker</td>\n",
       "      <td>Yes</td>\n",
       "    </tr>\n",
       "    <tr>\n",
       "      <th>9</th>\n",
       "      <td>10</td>\n",
       "      <td>Non -Smoker</td>\n",
       "      <td>No</td>\n",
       "    </tr>\n",
       "    <tr>\n",
       "      <th>10</th>\n",
       "      <td>11</td>\n",
       "      <td>Smoker</td>\n",
       "      <td>Yes</td>\n",
       "    </tr>\n",
       "    <tr>\n",
       "      <th>11</th>\n",
       "      <td>12</td>\n",
       "      <td>Non -Smoker</td>\n",
       "      <td>No</td>\n",
       "    </tr>\n",
       "    <tr>\n",
       "      <th>12</th>\n",
       "      <td>13</td>\n",
       "      <td>Non -Smoker</td>\n",
       "      <td>No</td>\n",
       "    </tr>\n",
       "    <tr>\n",
       "      <th>13</th>\n",
       "      <td>14</td>\n",
       "      <td>Non -Smoker</td>\n",
       "      <td>No</td>\n",
       "    </tr>\n",
       "    <tr>\n",
       "      <th>14</th>\n",
       "      <td>15</td>\n",
       "      <td>Smoker</td>\n",
       "      <td>Yes</td>\n",
       "    </tr>\n",
       "    <tr>\n",
       "      <th>15</th>\n",
       "      <td>16</td>\n",
       "      <td>Non -Smoker</td>\n",
       "      <td>No</td>\n",
       "    </tr>\n",
       "    <tr>\n",
       "      <th>16</th>\n",
       "      <td>17</td>\n",
       "      <td>Non -Smoker</td>\n",
       "      <td>No</td>\n",
       "    </tr>\n",
       "    <tr>\n",
       "      <th>17</th>\n",
       "      <td>18</td>\n",
       "      <td>Smoker</td>\n",
       "      <td>Yes</td>\n",
       "    </tr>\n",
       "    <tr>\n",
       "      <th>18</th>\n",
       "      <td>19</td>\n",
       "      <td>Non -Smoker</td>\n",
       "      <td>No</td>\n",
       "    </tr>\n",
       "    <tr>\n",
       "      <th>19</th>\n",
       "      <td>20</td>\n",
       "      <td>Non -Smoker</td>\n",
       "      <td>No</td>\n",
       "    </tr>\n",
       "  </tbody>\n",
       "</table>\n",
       "</div>"
      ],
      "text/plain": [
       "    Sr. No       Smoking Lung Cancer \n",
       "0        1       Smoker           Yes\n",
       "1        2       Smoker           Yes\n",
       "2        3  Non -Smoker           Yes\n",
       "3        4  Non -Smoker           No \n",
       "4        5       Smoker           Yes\n",
       "5        6       Smoker           Yes\n",
       "6        7  Non -Smoker           No \n",
       "7        8  Non -Smoker           No \n",
       "8        9       Smoker           Yes\n",
       "9       10  Non -Smoker           No \n",
       "10      11       Smoker           Yes\n",
       "11      12  Non -Smoker           No \n",
       "12      13  Non -Smoker           No \n",
       "13      14  Non -Smoker           No \n",
       "14      15       Smoker           Yes\n",
       "15      16  Non -Smoker           No \n",
       "16      17  Non -Smoker           No \n",
       "17      18       Smoker           Yes\n",
       "18      19  Non -Smoker           No \n",
       "19      20  Non -Smoker           No "
      ]
     },
     "execution_count": 13,
     "metadata": {},
     "output_type": "execute_result"
    }
   ],
   "source": [
    "import pandas as pd\n",
    "from scipy.stats import chi2_contingency\n",
    "data_u=pd.read_csv(r\"C:\\Users\\USER\\Documents\\Python practical 11( dataset) sem 2.csv\")\n",
    "data_u"
   ]
  },
  {
   "cell_type": "code",
   "execution_count": 4,
   "id": "dd5ebc85-f285-4d3d-acb2-6b2cc9404f4b",
   "metadata": {},
   "outputs": [
    {
     "data": {
      "text/plain": [
       "Index(['Sr. No', 'Smoking', 'Lung Cancer '], dtype='object')"
      ]
     },
     "execution_count": 4,
     "metadata": {},
     "output_type": "execute_result"
    }
   ],
   "source": [
    "data_u.columns"
   ]
  },
  {
   "cell_type": "code",
   "execution_count": 14,
   "id": "39dbc3fa-6747-4235-b2bd-b71f1117259f",
   "metadata": {},
   "outputs": [
    {
     "name": "stdout",
     "output_type": "stream",
     "text": [
      "Contingenc Table:\n"
     ]
    },
    {
     "data": {
      "text/html": [
       "<div>\n",
       "<style scoped>\n",
       "    .dataframe tbody tr th:only-of-type {\n",
       "        vertical-align: middle;\n",
       "    }\n",
       "\n",
       "    .dataframe tbody tr th {\n",
       "        vertical-align: top;\n",
       "    }\n",
       "\n",
       "    .dataframe thead th {\n",
       "        text-align: right;\n",
       "    }\n",
       "</style>\n",
       "<table border=\"1\" class=\"dataframe\">\n",
       "  <thead>\n",
       "    <tr style=\"text-align: right;\">\n",
       "      <th>Lung Cancer</th>\n",
       "      <th>No</th>\n",
       "      <th>Yes</th>\n",
       "    </tr>\n",
       "    <tr>\n",
       "      <th>Smoking</th>\n",
       "      <th></th>\n",
       "      <th></th>\n",
       "    </tr>\n",
       "  </thead>\n",
       "  <tbody>\n",
       "    <tr>\n",
       "      <th>Non -Smoker</th>\n",
       "      <td>11</td>\n",
       "      <td>1</td>\n",
       "    </tr>\n",
       "    <tr>\n",
       "      <th>Smoker</th>\n",
       "      <td>0</td>\n",
       "      <td>8</td>\n",
       "    </tr>\n",
       "  </tbody>\n",
       "</table>\n",
       "</div>"
      ],
      "text/plain": [
       "Lung Cancer   No   Yes\n",
       "Smoking               \n",
       "Non -Smoker    11    1\n",
       "Smoker          0    8"
      ]
     },
     "execution_count": 14,
     "metadata": {},
     "output_type": "execute_result"
    }
   ],
   "source": [
    "contingency_table=pd.crosstab(data_u['Smoking'],data_u['Lung Cancer '])\n",
    "print(\"Contingenc Table:\")\n",
    "contingency_table"
   ]
  },
  {
   "cell_type": "code",
   "execution_count": 15,
   "id": "d8d44bae-a97a-4887-9c14-cb4f430f8346",
   "metadata": {},
   "outputs": [
    {
     "name": "stdout",
     "output_type": "stream",
     "text": [
      "Chisq statistics =  12.803030303030303\n",
      "P_value =  0.0003460583654328131\n",
      "Degrees_of_freedom =  1\n",
      "Expected_frequencies: [[6.6 5.4]\n",
      " [4.4 3.6]]\n",
      "There is significant association between smoking and lung cancer.\n"
     ]
    }
   ],
   "source": [
    "chi2_stat,p_value,dof,expected = chi2_contingency(contingency_table)\n",
    "print(\"Chisq statistics = \",chi2_stat)\n",
    "print(\"P_value = \",p_value)\n",
    "print(\"Degrees_of_freedom = \",dof)\n",
    "print(\"Expected_frequencies:\",expected)\n",
    "if p_value < 0.05:\n",
    "    print('There is significant association between smoking and lung cancer.')\n",
    "else :\n",
    "    print('There is no significant association between smoking and lung cancer.')"
   ]
  },
  {
   "cell_type": "markdown",
   "id": "9b41fc8a-d2e3-4581-a0aa-ada2fbcc9adf",
   "metadata": {},
   "source": [
    "# Q2"
   ]
  },
  {
   "cell_type": "code",
   "execution_count": 16,
   "id": "6cf29de3-969d-45d3-a620-6b2a623275ed",
   "metadata": {},
   "outputs": [
    {
     "name": "stdout",
     "output_type": "stream",
     "text": [
      "cal_chi2 =  68.52380952380952\n",
      "3\n",
      "tab_chi2 =  7.814727903251179\n",
      "Reject Ho i.e. There is significant difference between observed expected frequencies\n"
     ]
    }
   ],
   "source": [
    "#assuming that data is from exponential distribution\n",
    "from scipy.stats import chi2\n",
    "import numpy as np\n",
    "\n",
    "# given data\n",
    "Oi = np.array([34, 22, 18, 26])\n",
    "Ei = np.array([42, 10, 40, 8])\n",
    "\n",
    "#calculating chi^2 statistic\n",
    "cal_chi2 = np.sum((Oi-Ei)**2/Ei)\n",
    "print('cal_chi2 = ',cal_chi2)\n",
    "\n",
    "#alpha & d.f.\n",
    "alpha = 0.05\n",
    "dof = len(Ei)-1\n",
    "print(dof)\n",
    "\n",
    "#calculating tabulated / critical value\n",
    "tab_chi2= chi2.ppf(1-alpha,dof)\n",
    "print('tab_chi2 = ',tab_chi2)\n",
    "\n",
    "if cal_chi2 < tab_chi2:\n",
    "    print('Accept Ho i.e. There is no significant difference between observed expected frequencies')\n",
    "else:\n",
    "    print ('Reject Ho i.e. There is significant difference between observed expected frequencies')"
   ]
  },
  {
   "cell_type": "markdown",
   "id": "d4f236df-7210-4586-a285-ff250778085d",
   "metadata": {},
   "source": [
    "# Practical 12"
   ]
  },
  {
   "cell_type": "code",
   "execution_count": 3,
   "id": "d2adb89e-a94d-48a5-aad0-6cd19e792699",
   "metadata": {},
   "outputs": [
    {
     "name": "stdout",
     "output_type": "stream",
     "text": [
      "Levene test ststistic =  58.49505426055219\n",
      "p value =  8.669756005044013e-13\n",
      "Reject Ho\n"
     ]
    }
   ],
   "source": [
    "from scipy.stats import levene\n",
    "import numpy as np\n",
    "\n",
    "# generating random data\n",
    "\n",
    "mu1 = 10\n",
    "sd1 = 2\n",
    "x=np.random.normal(mu1,sd1,100)\n",
    "\n",
    "mu2 = 12\n",
    "sd2 = 5\n",
    "y=np.random.normal(mu2,sd2,100)\n",
    "\n",
    "alpha = 0.05\n",
    "test_stat, p_value = levene(x,y)\n",
    "print('Levene test ststistic = ',test_stat)\n",
    "print(\"p value = \",p_value)\n",
    "\n",
    "if p_value< 0.05:\n",
    "    print('Reject Ho')\n",
    "else:\n",
    "    print('Accept Ho')\n"
   ]
  },
  {
   "cell_type": "code",
   "execution_count": null,
   "id": "5e7c6c37-3ee1-494d-b39b-1cf0e0e7356f",
   "metadata": {},
   "outputs": [],
   "source": []
  },
  {
   "cell_type": "raw",
   "id": "06218213-e9d2-491d-a5d6-c88c4bab8895",
   "metadata": {},
   "source": [
    "from scipy.stats import levene\n",
    "import numpy as np\n",
    "\n",
    "# generating random data\n",
    "\n",
    "mu1 = 10\n",
    "sd1 = 2\n",
    "x=np.random.normal(mu1,sd1,100)\n",
    "\n",
    "mu2 = 12\n",
    "sd2 = 5\n",
    "y=np.random.normal(mu2,sd2,100)\n",
    "\n",
    "alpha = 0.05\n",
    "test_stat, p_value = levene(x,y)\n",
    "print('Levene test ststistic = ',test_stat)\n",
    "print(\"p value = \",p_value)\n",
    "\n",
    "if p_value < 0.05:\n",
    "    print('Reject Ho')\n",
    "else:\n",
    "    print('Accept Ho')\n",
    " "
   ]
  },
  {
   "cell_type": "markdown",
   "id": "2b4b695f-7ddc-431e-8f62-0c38e4627e8f",
   "metadata": {},
   "source": [
    "# Practical 13"
   ]
  },
  {
   "cell_type": "markdown",
   "id": "885105bc-af8c-4269-838c-a25c2f25b0a3",
   "metadata": {},
   "source": [
    "# Q1"
   ]
  },
  {
   "cell_type": "code",
   "execution_count": 20,
   "id": "3b5305fc-50bf-4563-90b3-35e089c3782e",
   "metadata": {},
   "outputs": [
    {
     "name": "stdout",
     "output_type": "stream",
     "text": [
      "1.21875\n",
      "Test Statistic =  3\n",
      "P-value =  1.21875\n",
      "Fail to reject the null hypothesis: The medians of the two samples are not significantly different.\n"
     ]
    }
   ],
   "source": [
    "from scipy.stats import binom\n",
    "\n",
    "# Given data (two samples)\n",
    "X = [10, 12, 8, 14, 13, 11, 9, 12]  # Sample 1\n",
    "Y = [19, 10, 17, 11, 12, 10, 18, 11]  # Sample 2\n",
    "\n",
    "# Calculate the differences between the samples\n",
    "diff = [x - y for x, y in zip(X, Y)]\n",
    "\n",
    "# Count the number of positive and negative differences\n",
    "positive_diff_count = sum(d > 0 for d in diff)\n",
    "negative_diff_count = sum(d < 0 for d in diff)\n",
    "\n",
    "# Calculate the test statistic (minimum of positive and negative differences)\n",
    "test_statistic = min(positive_diff_count, negative_diff_count)\n",
    "\n",
    "# Calculate the p-value using the binomial distribution\n",
    "n = len(diff)  # Number of paired observations\n",
    "p_value = binom.cdf(test_statistic, n, 0.5) + binom.sf(test_statistic - 1, n, 0.5)\n",
    "print(p_value)\n",
    "\n",
    "# Interpret the results\n",
    "alpha = 0.05\n",
    "print('Test Statistic = ',test_statistic)\n",
    "print('P-value = ',p_value)\n",
    "\n",
    "if p_value < alpha:\n",
    "    print(\"Reject the null hypothesis: The medians of the two samples are significantly different.\")\n",
    "else:\n",
    "    print(\"Fail to reject the null hypothesis: The medians of the two samples are not significantly different.\")"
   ]
  },
  {
   "cell_type": "markdown",
   "id": "576ecee1-2fa2-4548-952f-67e779341827",
   "metadata": {},
   "source": [
    "# Q 2"
   ]
  },
  {
   "cell_type": "code",
   "execution_count": 21,
   "id": "50c89cd1-7645-47de-b626-997f3382993b",
   "metadata": {},
   "outputs": [
    {
     "name": "stdout",
     "output_type": "stream",
     "text": [
      "Wilcoxon Test Statistic =  8.0\n",
      "p-value =  0.1953125\n",
      "Accept Ho : There is no difference between the two samples or the median difference between the paired observations is zero.\n"
     ]
    }
   ],
   "source": [
    "from scipy.stats import wilcoxon\n",
    "# given data\n",
    "Group1 = [10, 12, 8, 14, 13, 11, 9, 12]\n",
    "Group2 = [9, 10, 17, 11, 12, 10, 8, 11]\n",
    "\n",
    "# Perform Wilcoxon signed-rank test\n",
    "statistic, p_value = wilcoxon(Group1, Group2)\n",
    "\n",
    "# Results\n",
    "print(\"Wilcoxon Test Statistic = \", statistic)\n",
    "print(\"p-value = \", p_value)\n",
    "\n",
    "if p_value <0.05:\n",
    "    print('Reject Ho : There is difference between the two samples or the median difference between the paired observations is non-zero.')\n",
    "else:\n",
    "    print('Accept Ho : There is no difference between the two samples or the median difference between the paired observations is zero.')\n",
    " "
   ]
  },
  {
   "cell_type": "markdown",
   "id": "a3608249-b319-4994-ab57-5cdc9d10a423",
   "metadata": {},
   "source": [
    "# Practical 14"
   ]
  },
  {
   "cell_type": "markdown",
   "id": "33f92334-6c93-4962-a7b0-6477983d3bba",
   "metadata": {},
   "source": [
    "# Q1"
   ]
  },
  {
   "cell_type": "code",
   "execution_count": 22,
   "id": "c208555b-8353-4387-a8d7-9c226e0c5236",
   "metadata": {},
   "outputs": [
    {
     "name": "stdout",
     "output_type": "stream",
     "text": [
      "Statistic =  0.26666666666666666\n",
      "P-value =  0.6055766163353463\n",
      "Median =  11.0\n",
      "[[4 2]\n",
      " [4 6]]\n",
      "Accept Ho : There is no significant difference between the medians of the two groups\n"
     ]
    }
   ],
   "source": [
    "from scipy.stats import median_test\n",
    "\n",
    "#given data\n",
    "Group1 = [10, 12, 8, 14, 13, 11, 9, 12]\n",
    "Group2 = [9, 10, 17, 11, 12, 10, 8, 11]\n",
    "\n",
    "statistic, p_value, median, table = median_test(Group1, Group2)\n",
    "\n",
    "print('Statistic = ',statistic)\n",
    "print('P-value = ',p_value)\n",
    "print('Median = ',median)\n",
    "print(table)\n",
    "if p_value < 0.05 :\n",
    "    print('Reject Ho : There is significant difference between the medians of the two groups')\n",
    "else:\n",
    "    print('Accept Ho : There is no significant difference between the medians of the two groups')"
   ]
  },
  {
   "cell_type": "markdown",
   "id": "577bb83b-5ed3-4e95-a181-0fac8df7062c",
   "metadata": {},
   "source": [
    "# Q2"
   ]
  },
  {
   "cell_type": "code",
   "execution_count": 24,
   "id": "497c311c-75f6-4da0-8638-1068d2292e1a",
   "metadata": {},
   "outputs": [
    {
     "name": "stdout",
     "output_type": "stream",
     "text": [
      "Statistic =  37.0\n",
      "P-value =  0.6329805597163359\n",
      "Accept Ho: Both the samples are come from populations having same distribution\n"
     ]
    }
   ],
   "source": [
    "from scipy.stats import mannwhitneyu\n",
    "\n",
    "# given data\n",
    "Group1 = [10, 12, 8, 14, 13, 11, 9, 12]\n",
    "Group2 = [9, 10, 17, 11, 12, 10, 8, 11]\n",
    "\n",
    "statistic, p_value = mannwhitneyu(Group1, Group2)\n",
    "print('Statistic = ',statistic)\n",
    "print('P-value = ',p_value)\n",
    "\n",
    "if p_value < 0.05:\n",
    "    print('Reject Ho: Both the samples are not come from populations having same distribution')\n",
    "else:\n",
    "    print('Accept Ho: Both the samples are come from populations having same distribution')"
   ]
  },
  {
   "cell_type": "markdown",
   "id": "e9e04cce-42b5-4161-84a0-0a1ed22bd2d6",
   "metadata": {},
   "source": [
    "# Q3"
   ]
  },
  {
   "cell_type": "code",
   "execution_count": 25,
   "id": "ae2a0ca1-d4ae-4f08-8cbd-0a5a21ea6db8",
   "metadata": {},
   "outputs": [
    {
     "name": "stdout",
     "output_type": "stream",
     "text": [
      "Statistic =  13.199780701754394\n",
      "P-value =  0.0013605172088880042\n",
      "Rejet Ho: There are significant differences in the medians of the groups.\n"
     ]
    }
   ],
   "source": [
    "from scipy.stats import kruskal\n",
    "\n",
    "#given data\n",
    "Group1 = [10, 12, 8, 14, 13, 11, 9, 12]\n",
    "Group2 =  [9, 10, 17, 11, 12, 10, 8, 11]\n",
    "Group3 = [15, 17, 16, 18, 19, 15, 17, 16]\n",
    "\n",
    "#statistic\n",
    "statistic, p_value = kruskal(Group1, Group2, Group3)\n",
    "print('Statistic = ',statistic)\n",
    "print('P-value = ',p_value)\n",
    "\n",
    "if p_value < 0.05:\n",
    "    print('Rejet Ho: There are significant differences in the medians of the groups.')\n",
    "else:\n",
    "    print('Accept Ho: There are no significant differences in the medians of the groups.')\n",
    " "
   ]
  },
  {
   "cell_type": "markdown",
   "id": "b4b46af3-9d65-4c8e-aa30-06dacc6b22f3",
   "metadata": {},
   "source": [
    "# Practical 15"
   ]
  },
  {
   "cell_type": "code",
   "execution_count": 2,
   "id": "6ee9021e-55d4-4806-ae6f-4ea336b8eb7d",
   "metadata": {},
   "outputs": [
    {
     "data": {
      "text/html": [
       "<div>\n",
       "<style scoped>\n",
       "    .dataframe tbody tr th:only-of-type {\n",
       "        vertical-align: middle;\n",
       "    }\n",
       "\n",
       "    .dataframe tbody tr th {\n",
       "        vertical-align: top;\n",
       "    }\n",
       "\n",
       "    .dataframe thead th {\n",
       "        text-align: right;\n",
       "    }\n",
       "</style>\n",
       "<table border=\"1\" class=\"dataframe\">\n",
       "  <thead>\n",
       "    <tr style=\"text-align: right;\">\n",
       "      <th></th>\n",
       "      <th>Id</th>\n",
       "      <th>SepalLengthCm</th>\n",
       "      <th>SepalWidthCm</th>\n",
       "      <th>PetalLengthCm</th>\n",
       "      <th>PetalWidthCm</th>\n",
       "      <th>Species</th>\n",
       "    </tr>\n",
       "  </thead>\n",
       "  <tbody>\n",
       "    <tr>\n",
       "      <th>0</th>\n",
       "      <td>1</td>\n",
       "      <td>5.1</td>\n",
       "      <td>3.5</td>\n",
       "      <td>1.4</td>\n",
       "      <td>0.2</td>\n",
       "      <td>Iris-setosa</td>\n",
       "    </tr>\n",
       "    <tr>\n",
       "      <th>1</th>\n",
       "      <td>2</td>\n",
       "      <td>4.9</td>\n",
       "      <td>3.0</td>\n",
       "      <td>1.4</td>\n",
       "      <td>0.2</td>\n",
       "      <td>Iris-setosa</td>\n",
       "    </tr>\n",
       "    <tr>\n",
       "      <th>2</th>\n",
       "      <td>3</td>\n",
       "      <td>4.7</td>\n",
       "      <td>3.2</td>\n",
       "      <td>1.3</td>\n",
       "      <td>0.2</td>\n",
       "      <td>Iris-setosa</td>\n",
       "    </tr>\n",
       "    <tr>\n",
       "      <th>3</th>\n",
       "      <td>4</td>\n",
       "      <td>4.6</td>\n",
       "      <td>3.1</td>\n",
       "      <td>1.5</td>\n",
       "      <td>0.2</td>\n",
       "      <td>Iris-setosa</td>\n",
       "    </tr>\n",
       "    <tr>\n",
       "      <th>4</th>\n",
       "      <td>5</td>\n",
       "      <td>5.0</td>\n",
       "      <td>3.6</td>\n",
       "      <td>1.4</td>\n",
       "      <td>0.2</td>\n",
       "      <td>Iris-setosa</td>\n",
       "    </tr>\n",
       "    <tr>\n",
       "      <th>...</th>\n",
       "      <td>...</td>\n",
       "      <td>...</td>\n",
       "      <td>...</td>\n",
       "      <td>...</td>\n",
       "      <td>...</td>\n",
       "      <td>...</td>\n",
       "    </tr>\n",
       "    <tr>\n",
       "      <th>145</th>\n",
       "      <td>146</td>\n",
       "      <td>6.7</td>\n",
       "      <td>3.0</td>\n",
       "      <td>5.2</td>\n",
       "      <td>2.3</td>\n",
       "      <td>Iris-virginica</td>\n",
       "    </tr>\n",
       "    <tr>\n",
       "      <th>146</th>\n",
       "      <td>147</td>\n",
       "      <td>6.3</td>\n",
       "      <td>2.5</td>\n",
       "      <td>5.0</td>\n",
       "      <td>1.9</td>\n",
       "      <td>Iris-virginica</td>\n",
       "    </tr>\n",
       "    <tr>\n",
       "      <th>147</th>\n",
       "      <td>148</td>\n",
       "      <td>6.5</td>\n",
       "      <td>3.0</td>\n",
       "      <td>5.2</td>\n",
       "      <td>2.0</td>\n",
       "      <td>Iris-virginica</td>\n",
       "    </tr>\n",
       "    <tr>\n",
       "      <th>148</th>\n",
       "      <td>149</td>\n",
       "      <td>6.2</td>\n",
       "      <td>3.4</td>\n",
       "      <td>5.4</td>\n",
       "      <td>2.3</td>\n",
       "      <td>Iris-virginica</td>\n",
       "    </tr>\n",
       "    <tr>\n",
       "      <th>149</th>\n",
       "      <td>150</td>\n",
       "      <td>5.9</td>\n",
       "      <td>3.0</td>\n",
       "      <td>5.1</td>\n",
       "      <td>1.8</td>\n",
       "      <td>Iris-virginica</td>\n",
       "    </tr>\n",
       "  </tbody>\n",
       "</table>\n",
       "<p>150 rows × 6 columns</p>\n",
       "</div>"
      ],
      "text/plain": [
       "      Id  SepalLengthCm  SepalWidthCm  PetalLengthCm  PetalWidthCm  \\\n",
       "0      1            5.1           3.5            1.4           0.2   \n",
       "1      2            4.9           3.0            1.4           0.2   \n",
       "2      3            4.7           3.2            1.3           0.2   \n",
       "3      4            4.6           3.1            1.5           0.2   \n",
       "4      5            5.0           3.6            1.4           0.2   \n",
       "..   ...            ...           ...            ...           ...   \n",
       "145  146            6.7           3.0            5.2           2.3   \n",
       "146  147            6.3           2.5            5.0           1.9   \n",
       "147  148            6.5           3.0            5.2           2.0   \n",
       "148  149            6.2           3.4            5.4           2.3   \n",
       "149  150            5.9           3.0            5.1           1.8   \n",
       "\n",
       "            Species  \n",
       "0       Iris-setosa  \n",
       "1       Iris-setosa  \n",
       "2       Iris-setosa  \n",
       "3       Iris-setosa  \n",
       "4       Iris-setosa  \n",
       "..              ...  \n",
       "145  Iris-virginica  \n",
       "146  Iris-virginica  \n",
       "147  Iris-virginica  \n",
       "148  Iris-virginica  \n",
       "149  Iris-virginica  \n",
       "\n",
       "[150 rows x 6 columns]"
      ]
     },
     "execution_count": 2,
     "metadata": {},
     "output_type": "execute_result"
    }
   ],
   "source": [
    "import pandas as pd\n",
    "from scipy.stats import f_oneway\n",
    "data_1=pd.read_csv(r\"C:\\Users\\USER\\Downloads\\Iris (2) (1).csv\")\n",
    "data_1"
   ]
  },
  {
   "cell_type": "code",
   "execution_count": 6,
   "id": "440b0d7b-9faa-465a-b36a-946377084eb7",
   "metadata": {},
   "outputs": [
    {
     "data": {
      "text/plain": [
       "Index(['Id', 'SepalLengthCm', 'SepalWidthCm', 'PetalLengthCm', 'PetalWidthCm',\n",
       "       'Species'],\n",
       "      dtype='object')"
      ]
     },
     "execution_count": 6,
     "metadata": {},
     "output_type": "execute_result"
    }
   ],
   "source": [
    "data_1.columns"
   ]
  },
  {
   "cell_type": "markdown",
   "id": "b6283157-9569-44fd-b4a6-8080247e38c0",
   "metadata": {},
   "source": [
    "# Q1"
   ]
  },
  {
   "cell_type": "code",
   "execution_count": 10,
   "id": "57d116ce-1873-446e-8f74-5584fe4adcca",
   "metadata": {},
   "outputs": [
    {
     "name": "stdout",
     "output_type": "stream",
     "text": [
      "F-Statistic: 119.26450218450468\n",
      "P-Value: 1.669669190769383e-31\n",
      "The difference in sepal length among different species is statistically significant.\n"
     ]
    }
   ],
   "source": [
    "# Prepare the data\n",
    "sepal_length_by_species = []\n",
    "for species in data_1['Species'].unique():\n",
    "    sepal_length_by_species.append(data_1[data_1['Species'] == species]['SepalLengthCm'])\n",
    "\n",
    "# Perform ANOVA\n",
    "f_statistic, p_value = f_oneway(*sepal_length_by_species)\n",
    "\n",
    "# Interpret the results\n",
    "print(\"F-Statistic:\", f_statistic)\n",
    "print(\"P-Value:\", p_value)\n",
    "\n",
    "if p_value < 0.05:\n",
    "    print(\"The difference in sepal length among different species is statistically significant.\")\n",
    "else:\n",
    "    print(\"The difference in sepal length among different species is not statistically significant.\")"
   ]
  },
  {
   "cell_type": "code",
   "execution_count": 12,
   "id": "7eb04100-0d11-4a5a-bd5d-56d3be93ffc5",
   "metadata": {},
   "outputs": [
    {
     "name": "stdout",
     "output_type": "stream",
     "text": [
      "anova F-value 119.26450218450468\n",
      "anova p-value 1.669669190769383e-31\n",
      "The difference in sepal length among different species is statistically significant.\n"
     ]
    }
   ],
   "source": [
    "##Another \n",
    "\n",
    "anova=f_oneway(data_1[data_1['Species'] == 'Iris-setosa']['SepalLengthCm'],data_1[data_1['Species'] == 'Iris-versicolor']['SepalLengthCm'],data_1[data_1['Species'] == 'Iris-virginica']['SepalLengthCm'])\n",
    "print(\"anova F-value\",anova.statistic)\n",
    "print(\"anova p-value\",anova.pvalue)\n",
    "if  anova.pvalue < 0.05:\n",
    "    print(\"The difference in sepal length among different species is statistically significant.\")\n",
    "else:\n",
    "    print(\"The difference in sepal length among different species is not statistically significant.\")"
   ]
  },
  {
   "cell_type": "markdown",
   "id": "fd56dd06-739f-45c9-8211-7cb9c314fd10",
   "metadata": {},
   "source": [
    "# Q2"
   ]
  },
  {
   "cell_type": "code",
   "execution_count": 23,
   "id": "84b63f38-08c8-47a5-8757-ac11e173f6c6",
   "metadata": {},
   "outputs": [
    {
     "name": "stdout",
     "output_type": "stream",
     "text": [
      "F-Statistic: 1179.0343277002194\n",
      "P-Value: 3.051975801827782e-91\n",
      "The difference in petal length among different species is statistically significant.\n"
     ]
    }
   ],
   "source": [
    "petal_length_by_species = []\n",
    "for species in data_1['Species'].unique():\n",
    "    petal_length_by_species.append(data_1[data_1['Species'] == species]['PetalLengthCm'])\n",
    "\n",
    "# Perform ANOVA\n",
    "f_statistic, p_value = f_oneway(*petal_length_by_species)\n",
    "\n",
    "# Interpret the results\n",
    "print(\"F-Statistic:\", f_statistic)\n",
    "print(\"P-Value:\", p_value)\n",
    "\n",
    "if p_value < 0.05:\n",
    "    print(\"The difference in petal length among different species is statistically significant.\")\n",
    "else:\n",
    "    print(\"The difference in petal length among different species is not statistically significant.\")"
   ]
  },
  {
   "cell_type": "markdown",
   "id": "ca013c95-5a1b-4bc4-97de-a44776b6e7a4",
   "metadata": {},
   "source": [
    "# Q3"
   ]
  },
  {
   "cell_type": "code",
   "execution_count": 26,
   "id": "a025626b-7db8-4f57-874f-9bc4e65cc663",
   "metadata": {},
   "outputs": [
    {
     "name": "stdout",
     "output_type": "stream",
     "text": [
      "F-Statistic: 47.36446140299382\n",
      "P-Value: 1.3279165184572242e-16\n",
      "The difference in sepal width among different species is statistically significant.\n"
     ]
    }
   ],
   "source": [
    "# Prepare the data\n",
    "sepal_width_by_species = []\n",
    "for species in data_1['Species'].unique():\n",
    "    sepal_width_by_species.append(data_1[data_1['Species'] == species]['SepalWidthCm'])\n",
    "\n",
    "# Perform ANOVA\n",
    "f_statistic, p_value = f_oneway(*sepal_width_by_species)\n",
    "\n",
    "# Interpret the results\n",
    "print(\"F-Statistic:\", f_statistic)\n",
    "print(\"P-Value:\", p_value)\n",
    "\n",
    "if p_value < 0.05:\n",
    "    print(\"The difference in sepal width among different species is statistically significant.\")\n",
    "else:\n",
    "    print(\"The difference in sepal width among different species is not statistically significant.\")\n"
   ]
  },
  {
   "cell_type": "code",
   "execution_count": 15,
   "id": "7da241a5-fdb9-4cd9-9a17-c6e8c9a83936",
   "metadata": {},
   "outputs": [
    {
     "name": "stdout",
     "output_type": "stream",
     "text": [
      "anova F-value 47.36446140299382\n",
      "anova p-value 1.3279165184572242e-16\n",
      "The difference in sepal width among different species is statistically significant.\n"
     ]
    }
   ],
   "source": [
    "## Another\n",
    "anova=f_oneway(data_1[data_1['Species'] == 'Iris-setosa']['SepalWidthCm'],data_1[data_1['Species'] == 'Iris-versicolor']['SepalWidthCm'],data_1[data_1['Species'] == 'Iris-virginica']['SepalWidthCm'])\n",
    "print(\"anova F-value\",anova.statistic)\n",
    "print(\"anova p-value\",anova.pvalue)\n",
    "if anova.pvalue < 0.05:\n",
    "    print(\"The difference in sepal width among different species is statistically significant.\")\n",
    "else:\n",
    "    print(\"The difference in sepal width among different species is not statistically significant.\")\n",
    "\n"
   ]
  },
  {
   "cell_type": "markdown",
   "id": "de8691bd-0c00-4790-a34d-067485a62b1a",
   "metadata": {},
   "source": [
    "# Q4"
   ]
  },
  {
   "cell_type": "code",
   "execution_count": 27,
   "id": "038d68bc-963c-4bb2-82c4-381db2727a5c",
   "metadata": {},
   "outputs": [
    {
     "name": "stdout",
     "output_type": "stream",
     "text": [
      "F-Statistic: 959.3244057257613\n",
      "P-Value: 4.376956957488954e-85\n",
      "The difference in petal width among different species is statistically significant.\n"
     ]
    }
   ],
   "source": [
    "# Prepare the data\n",
    "petal_width_by_species = []\n",
    "for species in data_1['Species'].unique():\n",
    "    petal_width_by_species.append(data_1[data_1['Species'] == species]['PetalWidthCm'])\n",
    "\n",
    "# Perform ANOVA\n",
    "f_statistic, p_value = f_oneway(*petal_width_by_species)\n",
    "\n",
    "# Interpret the results\n",
    "print(\"F-Statistic:\", f_statistic)\n",
    "print(\"P-Value:\", p_value)\n",
    "\n",
    "if p_value < 0.05:\n",
    "    print(\"The difference in petal width among different species is statistically significant.\")\n",
    "else:\n",
    "    print(\"The difference in petal width among different species is not statistically significant.\")"
   ]
  },
  {
   "cell_type": "code",
   "execution_count": 17,
   "id": "bf8f14be-2f63-4812-b8a0-78d334c01664",
   "metadata": {},
   "outputs": [
    {
     "name": "stdout",
     "output_type": "stream",
     "text": [
      "anova F-value 959.3244057257613\n",
      "anova p-value 4.376956957488954e-85\n",
      "The difference in petal width among different species is statistically significant.\n"
     ]
    }
   ],
   "source": [
    "## Another\n",
    "anova=f_oneway(data_1[data_1['Species'] == 'Iris-setosa']['PetalWidthCm'],data_1[data_1['Species'] == 'Iris-versicolor']['PetalWidthCm'],data_1[data_1['Species'] == 'Iris-virginica']['PetalWidthCm'])\n",
    "print(\"anova F-value\",anova.statistic)\n",
    "print(\"anova p-value\",anova.pvalue)\n",
    "if anova.pvalue < 0.05:\n",
    "    print(\"The difference in petal width among different species is statistically significant.\")\n",
    "else:\n",
    "    print(\"The difference in petal width among different species is not statistically significant.\")\n"
   ]
  },
  {
   "cell_type": "code",
   "execution_count": 13,
   "id": "a4a25d29-18f1-4d2f-b497-e99670ac0476",
   "metadata": {},
   "outputs": [
    {
     "name": "stdout",
     "output_type": "stream",
     "text": [
      "anova F-value 1179.0343277002194\n",
      "anova p-value 3.051975801827782e-91\n",
      "The difference in petal length among different species is statistically significant.\n"
     ]
    }
   ],
   "source": [
    "##Q2 Another \n",
    "anova=f_oneway(data_1[data_1['Species'] == 'Iris-setosa']['PetalLengthCm'],data_1[data_1['Species'] == 'Iris-versicolor']['PetalLengthCm'],data_1[data_1['Species'] == 'Iris-virginica']['PetalLengthCm'])\n",
    "print(\"anova F-value\",anova.statistic)\n",
    "print(\"anova p-value\",anova.pvalue)\n",
    "if  anova.pvalue < 0.05:\n",
    "    print(\"The difference in petal length among different species is statistically significant.\")\n",
    "else:\n",
    "    print(\"The difference in petal length among different species is not statistically significant.\")\n"
   ]
  },
  {
   "cell_type": "code",
   "execution_count": null,
   "id": "ad3de7d3-4356-4893-9267-8c9841d69b4f",
   "metadata": {},
   "outputs": [],
   "source": []
  }
 ],
 "metadata": {
  "kernelspec": {
   "display_name": "Python 3 (ipykernel)",
   "language": "python",
   "name": "python3"
  },
  "language_info": {
   "codemirror_mode": {
    "name": "ipython",
    "version": 3
   },
   "file_extension": ".py",
   "mimetype": "text/x-python",
   "name": "python",
   "nbconvert_exporter": "python",
   "pygments_lexer": "ipython3",
   "version": "3.12.0"
  },
  "widgets": {
   "application/vnd.jupyter.widget-state+json": {
    "state": {},
    "version_major": 2,
    "version_minor": 0
   }
  }
 },
 "nbformat": 4,
 "nbformat_minor": 5
}
