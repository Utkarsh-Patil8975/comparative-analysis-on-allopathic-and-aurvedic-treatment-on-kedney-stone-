{
 "cells": [
  {
   "cell_type": "code",
   "execution_count": 1,
   "id": "177d2aab-ff87-447d-8e12-f841612c7636",
   "metadata": {},
   "outputs": [],
   "source": [
    "# project analysis\n",
    "\n",
    "import pandas as pd\n",
    "from scipy import stats\n",
    "from scipy.stats import chi2_contingency\n",
    "import scipy.stats as stats\n",
    "import numpy as np\n",
    "from scipy.stats import kruskal\n",
    "import matplotlib.pyplot as plt\n",
    "from scipy.stats import mannwhitneyu\n",
    "from scipy.stats import wilcoxon"
   ]
  },
  {
   "cell_type": "code",
   "execution_count": null,
   "id": "7a2064e3-136d-4718-ac30-621b5ccd8ec5",
   "metadata": {},
   "outputs": [],
   "source": []
  },
  {
   "cell_type": "code",
   "execution_count": 2,
   "id": "e439dc22-f371-4c86-b405-c0912af2163d",
   "metadata": {},
   "outputs": [
    {
     "data": {
      "text/html": [
       "<div>\n",
       "<style scoped>\n",
       "    .dataframe tbody tr th:only-of-type {\n",
       "        vertical-align: middle;\n",
       "    }\n",
       "\n",
       "    .dataframe tbody tr th {\n",
       "        vertical-align: top;\n",
       "    }\n",
       "\n",
       "    .dataframe thead th {\n",
       "        text-align: right;\n",
       "    }\n",
       "</style>\n",
       "<table border=\"1\" class=\"dataframe\">\n",
       "  <thead>\n",
       "    <tr style=\"text-align: right;\">\n",
       "      <th></th>\n",
       "      <th>Gender</th>\n",
       "      <th>Age</th>\n",
       "      <th>Occupation</th>\n",
       "      <th>Duration of treatment</th>\n",
       "      <th>Any side effect of treatment</th>\n",
       "      <th>Have you received ayurvedic treatment for kidney stones?</th>\n",
       "      <th>How effective was the treatment in alleviating your symptoms?</th>\n",
       "      <th>How satisfied are you with the overall treatment?</th>\n",
       "      <th>Are you satisfied with the time it took for the treatment to show results?</th>\n",
       "      <th>Did the treatment successfully eliminate your kidney stones?</th>\n",
       "      <th>Do you follow a specific diet or lifestyle recommended by your treatment provider?</th>\n",
       "      <th>How would you rate your overall well-being before the treatment?</th>\n",
       "      <th>How would you rate your overall well-being after the treatment?</th>\n",
       "      <th>What measures did you take to manage the pain during a kidney stone ?</th>\n",
       "      <th>How much did you cost in treatment</th>\n",
       "      <th>Any symptoms</th>\n",
       "      <th>How would you describe the intensity of the pain caused by kidney stones?</th>\n",
       "      <th>Would you recommend your chosen treatment to others?</th>\n",
       "      <th>Where did you gather information about the available treatments?</th>\n",
       "    </tr>\n",
       "  </thead>\n",
       "  <tbody>\n",
       "    <tr>\n",
       "      <th>0</th>\n",
       "      <td>Male</td>\n",
       "      <td>18-30</td>\n",
       "      <td>Student</td>\n",
       "      <td>1 month</td>\n",
       "      <td>No</td>\n",
       "      <td>No</td>\n",
       "      <td>Very effective</td>\n",
       "      <td>Satisfied</td>\n",
       "      <td>Yes</td>\n",
       "      <td>Yes</td>\n",
       "      <td>Yes</td>\n",
       "      <td>2</td>\n",
       "      <td>5</td>\n",
       "      <td>Medications</td>\n",
       "      <td>200-500</td>\n",
       "      <td>Lower abdominal pain</td>\n",
       "      <td>Moderate</td>\n",
       "      <td>Yes</td>\n",
       "      <td>Others</td>\n",
       "    </tr>\n",
       "    <tr>\n",
       "      <th>1</th>\n",
       "      <td>Male</td>\n",
       "      <td>18-30</td>\n",
       "      <td>Service/job</td>\n",
       "      <td>2-3 months</td>\n",
       "      <td>Yes</td>\n",
       "      <td>No</td>\n",
       "      <td>Somewhat effective</td>\n",
       "      <td>Satisfied</td>\n",
       "      <td>No</td>\n",
       "      <td>Yes</td>\n",
       "      <td>Yes</td>\n",
       "      <td>2</td>\n",
       "      <td>4</td>\n",
       "      <td>Drinking water</td>\n",
       "      <td>Above 1500</td>\n",
       "      <td>Back pain, Frequent urination, Nausea or vomiting</td>\n",
       "      <td>Moderate</td>\n",
       "      <td>Yes</td>\n",
       "      <td>Family</td>\n",
       "    </tr>\n",
       "    <tr>\n",
       "      <th>2</th>\n",
       "      <td>Female</td>\n",
       "      <td>18-30</td>\n",
       "      <td>Business</td>\n",
       "      <td>1 month</td>\n",
       "      <td>No</td>\n",
       "      <td>No</td>\n",
       "      <td>Somewhat effective</td>\n",
       "      <td>Neutral</td>\n",
       "      <td>Yes</td>\n",
       "      <td>No</td>\n",
       "      <td>No</td>\n",
       "      <td>4</td>\n",
       "      <td>4</td>\n",
       "      <td>Medications</td>\n",
       "      <td>Above 1500</td>\n",
       "      <td>Lower abdominal pain</td>\n",
       "      <td>Severe</td>\n",
       "      <td>Yes</td>\n",
       "      <td>Helthcare provider</td>\n",
       "    </tr>\n",
       "    <tr>\n",
       "      <th>3</th>\n",
       "      <td>Male</td>\n",
       "      <td>45-60</td>\n",
       "      <td>Farmer</td>\n",
       "      <td>6 months above</td>\n",
       "      <td>No</td>\n",
       "      <td>Yes</td>\n",
       "      <td>Somewhat effective</td>\n",
       "      <td>Satisfied</td>\n",
       "      <td>No</td>\n",
       "      <td>Yes</td>\n",
       "      <td>No</td>\n",
       "      <td>3</td>\n",
       "      <td>4</td>\n",
       "      <td>Medications</td>\n",
       "      <td>Above 1500</td>\n",
       "      <td>Lower abdominal pain, Side (flank) pain</td>\n",
       "      <td>Moderate</td>\n",
       "      <td>Yes</td>\n",
       "      <td>Others</td>\n",
       "    </tr>\n",
       "    <tr>\n",
       "      <th>4</th>\n",
       "      <td>Female</td>\n",
       "      <td>45-60</td>\n",
       "      <td>Farmer</td>\n",
       "      <td>2-3 months</td>\n",
       "      <td>No</td>\n",
       "      <td>Yes</td>\n",
       "      <td>Very effective</td>\n",
       "      <td>Satisfied</td>\n",
       "      <td>Yes</td>\n",
       "      <td>Yes</td>\n",
       "      <td>Yes</td>\n",
       "      <td>1</td>\n",
       "      <td>5</td>\n",
       "      <td>Medications, Drinking water, Cold compress, Rest</td>\n",
       "      <td>Above 1500</td>\n",
       "      <td>Back pain, Lower abdominal pain, Side (flank) ...</td>\n",
       "      <td>Severe</td>\n",
       "      <td>Yes</td>\n",
       "      <td>Internet</td>\n",
       "    </tr>\n",
       "  </tbody>\n",
       "</table>\n",
       "</div>"
      ],
      "text/plain": [
       "   Gender    Age  Occupation   Duration of treatment  \\\n",
       "0    Male   18-30     Student                1 month   \n",
       "1    Male   18-30  Service/job            2-3 months   \n",
       "2  Female   18-30     Business               1 month   \n",
       "3    Male   45-60      Farmer         6 months above   \n",
       "4  Female   45-60      Farmer             2-3 months   \n",
       "\n",
       "  Any side effect of treatment  \\\n",
       "0                           No   \n",
       "1                          Yes   \n",
       "2                           No   \n",
       "3                           No   \n",
       "4                           No   \n",
       "\n",
       "  Have you received ayurvedic treatment for kidney stones?  \\\n",
       "0                                                 No         \n",
       "1                                                 No         \n",
       "2                                                 No         \n",
       "3                                                Yes         \n",
       "4                                                Yes         \n",
       "\n",
       "  How effective was the treatment in alleviating your symptoms?  \\\n",
       "0                                     Very effective              \n",
       "1                                 Somewhat effective              \n",
       "2                                 Somewhat effective              \n",
       "3                                 Somewhat effective              \n",
       "4                                     Very effective              \n",
       "\n",
       "  How satisfied are you with the overall treatment?  \\\n",
       "0                                         Satisfied   \n",
       "1                                         Satisfied   \n",
       "2                                           Neutral   \n",
       "3                                         Satisfied   \n",
       "4                                         Satisfied   \n",
       "\n",
       "  Are you satisfied with the time it took for the treatment to show results?  \\\n",
       "0                                                Yes                           \n",
       "1                                                 No                           \n",
       "2                                                Yes                           \n",
       "3                                                 No                           \n",
       "4                                                Yes                           \n",
       "\n",
       "  Did the treatment successfully eliminate your kidney stones?  \\\n",
       "0                                                Yes             \n",
       "1                                                Yes             \n",
       "2                                                 No             \n",
       "3                                                Yes             \n",
       "4                                                Yes             \n",
       "\n",
       "  Do you follow a specific diet or lifestyle recommended by your treatment provider?  \\\n",
       "0                                                Yes                                   \n",
       "1                                                Yes                                   \n",
       "2                                                 No                                   \n",
       "3                                                 No                                   \n",
       "4                                                Yes                                   \n",
       "\n",
       "   How would you rate your overall well-being before the treatment?  \\\n",
       "0                                                  2                  \n",
       "1                                                  2                  \n",
       "2                                                  4                  \n",
       "3                                                  3                  \n",
       "4                                                  1                  \n",
       "\n",
       "   How would you rate your overall well-being after the treatment?  \\\n",
       "0                                                  5                 \n",
       "1                                                  4                 \n",
       "2                                                  4                 \n",
       "3                                                  4                 \n",
       "4                                                  5                 \n",
       "\n",
       "  What measures did you take to manage the pain during a kidney stone ?  \\\n",
       "0                                        Medications                      \n",
       "1                                     Drinking water                      \n",
       "2                                        Medications                      \n",
       "3                                        Medications                      \n",
       "4   Medications, Drinking water, Cold compress, Rest                      \n",
       "\n",
       "  How much did you cost in treatment   \\\n",
       "0                             200-500   \n",
       "1                          Above 1500   \n",
       "2                          Above 1500   \n",
       "3                          Above 1500   \n",
       "4                          Above 1500   \n",
       "\n",
       "                                        Any symptoms  \\\n",
       "0                               Lower abdominal pain   \n",
       "1  Back pain, Frequent urination, Nausea or vomiting   \n",
       "2                               Lower abdominal pain   \n",
       "3            Lower abdominal pain, Side (flank) pain   \n",
       "4  Back pain, Lower abdominal pain, Side (flank) ...   \n",
       "\n",
       "  How would you describe the intensity of the pain caused by kidney stones?  \\\n",
       "0                                           Moderate                          \n",
       "1                                           Moderate                          \n",
       "2                                             Severe                          \n",
       "3                                           Moderate                          \n",
       "4                                             Severe                          \n",
       "\n",
       "  Would you recommend your chosen treatment to others?  \\\n",
       "0                                                Yes     \n",
       "1                                                Yes     \n",
       "2                                                Yes     \n",
       "3                                                Yes     \n",
       "4                                                Yes     \n",
       "\n",
       "  Where did you gather information about the available treatments?  \n",
       "0                                             Others                \n",
       "1                                             Family                \n",
       "2                                 Helthcare provider                \n",
       "3                                             Others                \n",
       "4                                           Internet                "
      ]
     },
     "execution_count": 2,
     "metadata": {},
     "output_type": "execute_result"
    }
   ],
   "source": [
    "data=pd.read_csv(r\"C:\\Users\\USER\\Desktop\\Activity 2023-24\\Research Methodology (project)\\Statistical Analysis of Allopathic treatment on kidney stone (Responses) - Form Responses 1 (1).csv\")\n",
    "data.head()"
   ]
  },
  {
   "cell_type": "code",
   "execution_count": 3,
   "id": "9619cf6b-a4a0-473c-a88a-81a32ad2f491",
   "metadata": {},
   "outputs": [
    {
     "data": {
      "text/plain": [
       "Index(['Gender ', 'Age ', 'Occupation  ', 'Duration of treatment',\n",
       "       'Any side effect of treatment',\n",
       "       'Have you received ayurvedic treatment for kidney stones?',\n",
       "       'How effective was the treatment in alleviating your symptoms?',\n",
       "       'How satisfied are you with the overall treatment?',\n",
       "       'Are you satisfied with the time it took for the treatment to show results?',\n",
       "       'Did the treatment successfully eliminate your kidney stones?',\n",
       "       'Do you follow a specific diet or lifestyle recommended by your treatment provider?',\n",
       "       'How would you rate your overall well-being before the treatment?',\n",
       "       'How would you rate your overall well-being after the treatment?',\n",
       "       'What measures did you take to manage the pain during a kidney stone ?',\n",
       "       'How much did you cost in treatment ', 'Any symptoms',\n",
       "       'How would you describe the intensity of the pain caused by kidney stones?',\n",
       "       'Would you recommend your chosen treatment to others?',\n",
       "       'Where did you gather information about the available treatments?'],\n",
       "      dtype='object')"
      ]
     },
     "execution_count": 3,
     "metadata": {},
     "output_type": "execute_result"
    }
   ],
   "source": [
    "data.columns"
   ]
  },
  {
   "cell_type": "markdown",
   "id": "f22de343-c73c-4333-9aaa-a60bd3988c54",
   "metadata": {},
   "source": [
    "## Analysis"
   ]
  },
  {
   "cell_type": "markdown",
   "id": "79f693bc-08fa-4c48-9c8f-101499b956f2",
   "metadata": {},
   "source": [
    "# Mann whitney U test"
   ]
  },
  {
   "cell_type": "code",
   "execution_count": 4,
   "id": "4bbc9199-9425-40be-90ff-b695dee8b6b4",
   "metadata": {
    "jp-MarkdownHeadingCollapsed": true
   },
   "outputs": [
    {
     "name": "stdout",
     "output_type": "stream",
     "text": [
      "Mann-Whitney U statistic: 2718.0\n",
      "P-value: 1.00469488898034e-45\n",
      "Reject the null hypothesis. There is a significant difference between the two samples.\n"
     ]
    }
   ],
   "source": [
    "sample1 = data['How would you rate your overall well-being before the treatment?']\n",
    "sample2 = data['How would you rate your overall well-being after the treatment?']\n",
    "\n",
    "u_statistic, p_value = mannwhitneyu(sample1, sample2)\n",
    "\n",
    "# Print the results\n",
    "print(\"Mann-Whitney U statistic:\", u_statistic)\n",
    "print(\"P-value:\", p_value)\n",
    "\n",
    "# Interpret the results\n",
    "alpha = 0.05  # significance level\n",
    "if p_value < alpha:\n",
    "    print(\"Reject the null hypothesis. There is a significant difference between the two samples.\")\n",
    "else:\n",
    "    print(\"Fail to reject the null hypothesis. There is no significant difference between the two samples.\")"
   ]
  },
  {
   "cell_type": "code",
   "execution_count": 5,
   "id": "1af3a288-bb1a-40eb-a285-7902e3c0f704",
   "metadata": {
    "jp-MarkdownHeadingCollapsed": true
   },
   "outputs": [
    {
     "name": "stdout",
     "output_type": "stream",
     "text": [
      "Test Statistic: 0.0\n",
      "p-value: 5.150025305666905e-30\n"
     ]
    }
   ],
   "source": [
    "before= data['How would you rate your overall well-being before the treatment?']\n",
    "after= data['How would you rate your overall well-being after the treatment?']\n",
    "statistic, p_value = wilcoxon(before, after)\n",
    "\n",
    "# Print the test statistic and p-value\n",
    "print(\"Test Statistic:\", statistic)\n",
    "print(\"p-value:\", p_value)"
   ]
  },
  {
   "cell_type": "code",
   "execution_count": 6,
   "id": "1e6bf93d-f20c-41b4-9695-e4e1e70b3399",
   "metadata": {},
   "outputs": [
    {
     "data": {
      "text/html": [
       "<div>\n",
       "<style scoped>\n",
       "    .dataframe tbody tr th:only-of-type {\n",
       "        vertical-align: middle;\n",
       "    }\n",
       "\n",
       "    .dataframe tbody tr th {\n",
       "        vertical-align: top;\n",
       "    }\n",
       "\n",
       "    .dataframe thead th {\n",
       "        text-align: right;\n",
       "    }\n",
       "</style>\n",
       "<table border=\"1\" class=\"dataframe\">\n",
       "  <thead>\n",
       "    <tr style=\"text-align: right;\">\n",
       "      <th>How would you rate your overall well-being after the treatment?</th>\n",
       "      <th>2</th>\n",
       "      <th>3</th>\n",
       "      <th>4</th>\n",
       "      <th>5</th>\n",
       "    </tr>\n",
       "    <tr>\n",
       "      <th>Duration of treatment</th>\n",
       "      <th></th>\n",
       "      <th></th>\n",
       "      <th></th>\n",
       "      <th></th>\n",
       "    </tr>\n",
       "  </thead>\n",
       "  <tbody>\n",
       "    <tr>\n",
       "      <th>1 month</th>\n",
       "      <td>2</td>\n",
       "      <td>2</td>\n",
       "      <td>3</td>\n",
       "      <td>14</td>\n",
       "    </tr>\n",
       "    <tr>\n",
       "      <th>2-3 months</th>\n",
       "      <td>0</td>\n",
       "      <td>11</td>\n",
       "      <td>23</td>\n",
       "      <td>32</td>\n",
       "    </tr>\n",
       "    <tr>\n",
       "      <th>4-6 months</th>\n",
       "      <td>1</td>\n",
       "      <td>16</td>\n",
       "      <td>23</td>\n",
       "      <td>17</td>\n",
       "    </tr>\n",
       "    <tr>\n",
       "      <th>6 months above</th>\n",
       "      <td>0</td>\n",
       "      <td>5</td>\n",
       "      <td>16</td>\n",
       "      <td>18</td>\n",
       "    </tr>\n",
       "  </tbody>\n",
       "</table>\n",
       "</div>"
      ],
      "text/plain": [
       "How would you rate your overall well-being after the treatment?  2   3   4   5\n",
       "Duration of treatment                                                         \n",
       "1 month                                                          2   2   3  14\n",
       "2-3 months                                                       0  11  23  32\n",
       "4-6 months                                                       1  16  23  17\n",
       "6 months above                                                   0   5  16  18"
      ]
     },
     "execution_count": 6,
     "metadata": {},
     "output_type": "execute_result"
    }
   ],
   "source": [
    "contingency_table=pd.crosstab(data['Duration of treatment'],data['How would you rate your overall well-being after the treatment?'])\n",
    "contingency_table\n"
   ]
  },
  {
   "cell_type": "code",
   "execution_count": 7,
   "id": "a34b09d4-c656-47ba-9805-9dd81ae5ebbc",
   "metadata": {
    "jp-MarkdownHeadingCollapsed": true
   },
   "outputs": [
    {
     "data": {
      "text/html": [
       "<div>\n",
       "<style scoped>\n",
       "    .dataframe tbody tr th:only-of-type {\n",
       "        vertical-align: middle;\n",
       "    }\n",
       "\n",
       "    .dataframe tbody tr th {\n",
       "        vertical-align: top;\n",
       "    }\n",
       "\n",
       "    .dataframe thead th {\n",
       "        text-align: right;\n",
       "    }\n",
       "</style>\n",
       "<table border=\"1\" class=\"dataframe\">\n",
       "  <thead>\n",
       "    <tr style=\"text-align: right;\">\n",
       "      <th>Any side effect of treatment</th>\n",
       "      <th>No</th>\n",
       "      <th>Yes</th>\n",
       "    </tr>\n",
       "    <tr>\n",
       "      <th>Gender</th>\n",
       "      <th></th>\n",
       "      <th></th>\n",
       "    </tr>\n",
       "  </thead>\n",
       "  <tbody>\n",
       "    <tr>\n",
       "      <th>Female</th>\n",
       "      <td>36</td>\n",
       "      <td>17</td>\n",
       "    </tr>\n",
       "    <tr>\n",
       "      <th>Male</th>\n",
       "      <td>115</td>\n",
       "      <td>15</td>\n",
       "    </tr>\n",
       "  </tbody>\n",
       "</table>\n",
       "</div>"
      ],
      "text/plain": [
       "Any side effect of treatment   No  Yes\n",
       "Gender                                \n",
       "Female                         36   17\n",
       "Male                          115   15"
      ]
     },
     "execution_count": 7,
     "metadata": {},
     "output_type": "execute_result"
    }
   ],
   "source": [
    "## Chi square test\n",
    "contingency_table=pd.crosstab(data['Gender '],data['Any side effect of treatment'])\n",
    "contingency_table"
   ]
  },
  {
   "cell_type": "code",
   "execution_count": 8,
   "id": "f212e667-43a9-4705-95bf-c338cdcb8bb6",
   "metadata": {},
   "outputs": [
    {
     "name": "stdout",
     "output_type": "stream",
     "text": [
      "Chi2 Stat: 9.628371384468805\n",
      "P-value: 0.0019159442632393734\n",
      "Degrees of freedom: 1\n",
      "Expected frequencies table:\n",
      "[[ 43.73224044   9.26775956]\n",
      " [107.26775956  22.73224044]]\n"
     ]
    }
   ],
   "source": [
    "chi2_stat,p_value,dof,expected= chi2_contingency(contingency_table)\n",
    "print(f\"Chi2 Stat: {chi2_stat}\")\n",
    "print(f\"P-value: {p_value}\")\n",
    "print(f\"Degrees of freedom: {dof}\")\n",
    "print(f\"Expected frequencies table:\")\n",
    "print(expected)"
   ]
  },
  {
   "cell_type": "code",
   "execution_count": 9,
   "id": "32c9b12f-5f29-4b48-90a8-7ecfdcb154ef",
   "metadata": {},
   "outputs": [
    {
     "data": {
      "text/html": [
       "<div>\n",
       "<style scoped>\n",
       "    .dataframe tbody tr th:only-of-type {\n",
       "        vertical-align: middle;\n",
       "    }\n",
       "\n",
       "    .dataframe tbody tr th {\n",
       "        vertical-align: top;\n",
       "    }\n",
       "\n",
       "    .dataframe thead th {\n",
       "        text-align: right;\n",
       "    }\n",
       "</style>\n",
       "<table border=\"1\" class=\"dataframe\">\n",
       "  <thead>\n",
       "    <tr style=\"text-align: right;\">\n",
       "      <th>Any symptoms</th>\n",
       "      <th>Back pain, Blood in urine, Painful urination, Nausea or vomiting, Fever and chills</th>\n",
       "      <th>Back pain, Frequent urination, Nausea or vomiting</th>\n",
       "      <th>Back pain, Frequent urination, Nausea or vomiting, Fever and chills</th>\n",
       "      <th>Back pain, Frequent urination, Painful urination</th>\n",
       "      <th>Back pain, Groin pain, Blood in urine, Frequent urination</th>\n",
       "      <th>Back pain, Groin pain, Frequent urination</th>\n",
       "      <th>Back pain, Groin pain, Frequent urination, Nausea or vomiting</th>\n",
       "      <th>Back pain, Groin pain, Frequent urination, Painful urination</th>\n",
       "      <th>Back pain, Groin pain, Painful urination</th>\n",
       "      <th>Back pain, Lower abdominal pain, Blood in urine, Frequent urination</th>\n",
       "      <th>...</th>\n",
       "      <th>Lower abdominal pain, Groin pain, Frequent urination, Nausea or vomiting</th>\n",
       "      <th>Lower abdominal pain, Groin pain, Painful urination</th>\n",
       "      <th>Lower abdominal pain, Groin pain, Painful urination, Nausea or vomiting</th>\n",
       "      <th>Lower abdominal pain, Painful urination, Nausea or vomiting</th>\n",
       "      <th>Lower abdominal pain, Side (flank) pain</th>\n",
       "      <th>Lower abdominal pain, Side (flank) pain, Blood in urine, Frequent urination, Nausea or vomiting</th>\n",
       "      <th>Lower abdominal pain, Side (flank) pain, Frequent urination, Painful urination</th>\n",
       "      <th>Painful urination</th>\n",
       "      <th>Side (flank) pain</th>\n",
       "      <th>Side (flank) pain, Groin pain, Frequent urination, Painful urination</th>\n",
       "    </tr>\n",
       "    <tr>\n",
       "      <th>Gender</th>\n",
       "      <th></th>\n",
       "      <th></th>\n",
       "      <th></th>\n",
       "      <th></th>\n",
       "      <th></th>\n",
       "      <th></th>\n",
       "      <th></th>\n",
       "      <th></th>\n",
       "      <th></th>\n",
       "      <th></th>\n",
       "      <th></th>\n",
       "      <th></th>\n",
       "      <th></th>\n",
       "      <th></th>\n",
       "      <th></th>\n",
       "      <th></th>\n",
       "      <th></th>\n",
       "      <th></th>\n",
       "      <th></th>\n",
       "      <th></th>\n",
       "      <th></th>\n",
       "    </tr>\n",
       "  </thead>\n",
       "  <tbody>\n",
       "    <tr>\n",
       "      <th>Female</th>\n",
       "      <td>7</td>\n",
       "      <td>0</td>\n",
       "      <td>0</td>\n",
       "      <td>0</td>\n",
       "      <td>0</td>\n",
       "      <td>1</td>\n",
       "      <td>0</td>\n",
       "      <td>0</td>\n",
       "      <td>1</td>\n",
       "      <td>0</td>\n",
       "      <td>...</td>\n",
       "      <td>0</td>\n",
       "      <td>0</td>\n",
       "      <td>2</td>\n",
       "      <td>0</td>\n",
       "      <td>0</td>\n",
       "      <td>0</td>\n",
       "      <td>0</td>\n",
       "      <td>0</td>\n",
       "      <td>0</td>\n",
       "      <td>0</td>\n",
       "    </tr>\n",
       "    <tr>\n",
       "      <th>Male</th>\n",
       "      <td>0</td>\n",
       "      <td>2</td>\n",
       "      <td>10</td>\n",
       "      <td>4</td>\n",
       "      <td>1</td>\n",
       "      <td>7</td>\n",
       "      <td>1</td>\n",
       "      <td>10</td>\n",
       "      <td>0</td>\n",
       "      <td>1</td>\n",
       "      <td>...</td>\n",
       "      <td>4</td>\n",
       "      <td>7</td>\n",
       "      <td>0</td>\n",
       "      <td>1</td>\n",
       "      <td>5</td>\n",
       "      <td>2</td>\n",
       "      <td>2</td>\n",
       "      <td>4</td>\n",
       "      <td>2</td>\n",
       "      <td>1</td>\n",
       "    </tr>\n",
       "  </tbody>\n",
       "</table>\n",
       "<p>2 rows × 43 columns</p>\n",
       "</div>"
      ],
      "text/plain": [
       "Any symptoms  Back pain, Blood in urine, Painful urination, Nausea or vomiting, Fever and chills  \\\n",
       "Gender                                                                                             \n",
       "Female                                                        7                                    \n",
       "Male                                                          0                                    \n",
       "\n",
       "Any symptoms  Back pain, Frequent urination, Nausea or vomiting  \\\n",
       "Gender                                                            \n",
       "Female                                                        0   \n",
       "Male                                                          2   \n",
       "\n",
       "Any symptoms  Back pain, Frequent urination, Nausea or vomiting, Fever and chills  \\\n",
       "Gender                                                                              \n",
       "Female                                                        0                     \n",
       "Male                                                         10                     \n",
       "\n",
       "Any symptoms  Back pain, Frequent urination, Painful urination  \\\n",
       "Gender                                                           \n",
       "Female                                                       0   \n",
       "Male                                                         4   \n",
       "\n",
       "Any symptoms  Back pain, Groin pain, Blood in urine, Frequent urination  \\\n",
       "Gender                                                                    \n",
       "Female                                                        0           \n",
       "Male                                                          1           \n",
       "\n",
       "Any symptoms  Back pain, Groin pain, Frequent urination  \\\n",
       "Gender                                                    \n",
       "Female                                                1   \n",
       "Male                                                  7   \n",
       "\n",
       "Any symptoms  Back pain, Groin pain, Frequent urination, Nausea or vomiting  \\\n",
       "Gender                                                                        \n",
       "Female                                                        0               \n",
       "Male                                                          1               \n",
       "\n",
       "Any symptoms  Back pain, Groin pain, Frequent urination, Painful urination  \\\n",
       "Gender                                                                       \n",
       "Female                                                        0              \n",
       "Male                                                         10              \n",
       "\n",
       "Any symptoms  Back pain, Groin pain, Painful urination  \\\n",
       "Gender                                                   \n",
       "Female                                               1   \n",
       "Male                                                 0   \n",
       "\n",
       "Any symptoms  Back pain, Lower abdominal pain, Blood in urine, Frequent urination  \\\n",
       "Gender                                                                              \n",
       "Female                                                        0                     \n",
       "Male                                                          1                     \n",
       "\n",
       "Any symptoms  ...  \\\n",
       "Gender        ...   \n",
       "Female        ...   \n",
       "Male          ...   \n",
       "\n",
       "Any symptoms  Lower abdominal pain, Groin pain, Frequent urination, Nausea or vomiting  \\\n",
       "Gender                                                                                   \n",
       "Female                                                        0                          \n",
       "Male                                                          4                          \n",
       "\n",
       "Any symptoms  Lower abdominal pain, Groin pain, Painful urination  \\\n",
       "Gender                                                              \n",
       "Female                                                        0     \n",
       "Male                                                          7     \n",
       "\n",
       "Any symptoms  Lower abdominal pain, Groin pain, Painful urination, Nausea or vomiting  \\\n",
       "Gender                                                                                  \n",
       "Female                                                        2                         \n",
       "Male                                                          0                         \n",
       "\n",
       "Any symptoms  Lower abdominal pain, Painful urination, Nausea or vomiting  \\\n",
       "Gender                                                                      \n",
       "Female                                                        0             \n",
       "Male                                                          1             \n",
       "\n",
       "Any symptoms  Lower abdominal pain, Side (flank) pain  \\\n",
       "Gender                                                  \n",
       "Female                                              0   \n",
       "Male                                                5   \n",
       "\n",
       "Any symptoms  Lower abdominal pain, Side (flank) pain, Blood in urine, Frequent urination, Nausea or vomiting  \\\n",
       "Gender                                                                                                          \n",
       "Female                                                        0                                                 \n",
       "Male                                                          2                                                 \n",
       "\n",
       "Any symptoms  Lower abdominal pain, Side (flank) pain, Frequent urination, Painful urination  \\\n",
       "Gender                                                                                         \n",
       "Female                                                        0                                \n",
       "Male                                                          2                                \n",
       "\n",
       "Any symptoms  Painful urination  Side (flank) pain  \\\n",
       "Gender                                               \n",
       "Female                        0                  0   \n",
       "Male                          4                  2   \n",
       "\n",
       "Any symptoms  Side (flank) pain, Groin pain, Frequent urination, Painful urination  \n",
       "Gender                                                                              \n",
       "Female                                                        0                     \n",
       "Male                                                          1                     \n",
       "\n",
       "[2 rows x 43 columns]"
      ]
     },
     "execution_count": 9,
     "metadata": {},
     "output_type": "execute_result"
    }
   ],
   "source": [
    "contingency_table=pd.crosstab(data['Gender '],data['Any symptoms'])\n",
    "contingency_table"
   ]
  },
  {
   "cell_type": "code",
   "execution_count": 10,
   "id": "118f2ab3-890a-4624-aaca-6857ef78bb35",
   "metadata": {
    "jp-MarkdownHeadingCollapsed": true
   },
   "outputs": [
    {
     "name": "stdout",
     "output_type": "stream",
     "text": [
      "Chi-square statistic: 99.37421001312741\n",
      "p-value: 5.730851714144923e-18\n",
      "Degrees of freedom: 8\n",
      "Expected frequencies: [[115.67577548 177.71418021 116.32200886  87.88774003  31.01920236\n",
      "   96.288774    51.69867061  98.87370753  99.51994092]\n",
      " [ 63.32422452  97.28581979  63.67799114  48.11225997  16.98079764\n",
      "   52.711226    28.30132939  54.12629247  54.48005908]]\n"
     ]
    }
   ],
   "source": [
    "# Adjusted contingency table with the same number of symptoms for both male and female\n",
    "\n",
    "## Check relation between Gender and deases Symptoms\n",
    "contingency_table = [\n",
    "    [107,178,134,107,9,87,39,125,89],  # Male\n",
    "    [72,97,46,29,39,62,41,28,65]  # Female\n",
    "]\n",
    "\n",
    "# Perform chi-square test\n",
    "chi2, p, dof, expected = chi2_contingency(contingency_table)\n",
    "\n",
    "# Print the results\n",
    "print(\"Chi-square statistic:\", chi2)\n",
    "print(\"p-value:\", p)\n",
    "print(\"Degrees of freedom:\", dof)\n",
    "print(\"Expected frequencies:\", expected)"
   ]
  },
  {
   "cell_type": "code",
   "execution_count": 11,
   "id": "ed6a13f5-b3a5-4737-9620-fc8b866bf2bb",
   "metadata": {
    "jp-MarkdownHeadingCollapsed": true
   },
   "outputs": [
    {
     "name": "stdout",
     "output_type": "stream",
     "text": [
      "Chi-square statistic: 4.199275362318841\n",
      "p-value: 0.04044125701332068\n",
      "Degrees of freedom: 1\n",
      "Expected frequencies: [[114.  69.]\n",
      " [114.  69.]]\n"
     ]
    }
   ],
   "source": [
    "## relation between tretments and stone succefully eliminate\n",
    "contingency_table = [\n",
    "    [104,79],  #Allopathic\n",
    "    [124,59]  # Ayurvedic\n",
    "]\n",
    "\n",
    "# Perform chi-square test\n",
    "chi2, p, dof, expected = chi2_contingency(contingency_table)\n",
    "\n",
    "# Print the results\n",
    "print(\"Chi-square statistic:\", chi2)\n",
    "print(\"p-value:\", p)\n",
    "print(\"Degrees of freedom:\", dof)\n",
    "print(\"Expected frequencies:\", expected)\n"
   ]
  },
  {
   "cell_type": "code",
   "execution_count": null,
   "id": "cba1ac9d-66e3-4c36-ac80-88be6c1bab61",
   "metadata": {},
   "outputs": [],
   "source": []
  },
  {
   "cell_type": "code",
   "execution_count": null,
   "id": "a9b442cc-5df1-4649-909b-545267839bdf",
   "metadata": {},
   "outputs": [],
   "source": []
  },
  {
   "cell_type": "markdown",
   "id": "d1cc2cd8-f473-4d67-b505-ed6563765456",
   "metadata": {},
   "source": [
    "count_result=data['How satisfied are you with the overall treatment?'].value_counts()\n",
    "print(count_result)"
   ]
  },
  {
   "cell_type": "markdown",
   "id": "f1cbe51c-ee79-4efa-bb5b-f9ca71ca101a",
   "metadata": {},
   "source": [
    "## Kruskal walis test "
   ]
  },
  {
   "cell_type": "code",
   "execution_count": 12,
   "id": "1c171d47-225a-43a0-b5ef-6e83fb8f8539",
   "metadata": {
    "jp-MarkdownHeadingCollapsed": true
   },
   "outputs": [
    {
     "name": "stdout",
     "output_type": "stream",
     "text": [
      "H-Statistic: 8.005558845701744\n",
      "P-Value: 0.04589696069732465\n",
      "Reject null hypothesis: There is significant evidence that at least one group median is different.\n"
     ]
    }
   ],
   "source": [
    "# K W test\n",
    "groups = [data[data['Duration of treatment'] == group]['How satisfied are you with the overall treatment?'] for group in data['Duration of treatment'].unique()]\n",
    "\n",
    "# Performing Kruskal-Wallis test\n",
    "h_statistic, p_value = stats.kruskal(*groups)\n",
    "\n",
    "# Printing the results\n",
    "print(\"H-Statistic:\", h_statistic)\n",
    "print(\"P-Value:\", p_value)\n",
    "\n",
    "# Checking significance\n",
    "alpha = 0.05\n",
    "if p_value < alpha:\n",
    "    print(\"Reject null hypothesis: There is significant evidence that at least one group median is different.\")\n",
    "else:\n",
    "    print(\"Fail to reject null hypothesis: There is no significant evidence that the group medians are different.\")"
   ]
  },
  {
   "cell_type": "code",
   "execution_count": 13,
   "id": "d36313c0-c7e4-4a25-86d3-7f32a0bd43aa",
   "metadata": {
    "jp-MarkdownHeadingCollapsed": true
   },
   "outputs": [
    {
     "name": "stdout",
     "output_type": "stream",
     "text": [
      "H-Statistic: 8.789380224515353\n",
      "P-Value: 0.032226306295564056\n",
      "Reject null hypothesis: There is significant evidence that at least one group median is different.\n"
     ]
    }
   ],
   "source": [
    "# K W test\n",
    "groups = [data[data['Duration of treatment'] == group][ 'How would you rate your overall well-being after the treatment?'] for group in data['Duration of treatment'].unique()]\n",
    "\n",
    "# Performing Kruskal-Wallis test\n",
    "h_statistic, p_value = stats.kruskal(*groups)\n",
    "\n",
    "# Printing the results\n",
    "print(\"H-Statistic:\", h_statistic)\n",
    "print(\"P-Value:\", p_value)\n",
    "\n",
    "# Checking significance\n",
    "alpha = 0.05\n",
    "if p_value < alpha:\n",
    "    print(\"Reject null hypothesis: There is significant evidence that at least one group median is different.\")\n",
    "else:\n",
    "    print(\"Fail to reject null hypothesis: There is no significant evidence that the group medians are different.\")"
   ]
  },
  {
   "cell_type": "code",
   "execution_count": 14,
   "id": "08a054f8-4a53-4177-8efd-bb7d011d9a3d",
   "metadata": {
    "jp-MarkdownHeadingCollapsed": true
   },
   "outputs": [],
   "source": [
    "## Graphical representation "
   ]
  },
  {
   "cell_type": "code",
   "execution_count": 15,
   "id": "8275ddfd-caaa-4a98-9db4-ae6cc98ceae9",
   "metadata": {},
   "outputs": [
    {
     "data": {
      "text/plain": [
       "How much did you cost in treatment \n",
       "Above 1500    98\n",
       "500-1500      60\n",
       "200-500       15\n",
       "Below 200     10\n",
       "Name: count, dtype: int64"
      ]
     },
     "execution_count": 15,
     "metadata": {},
     "output_type": "execute_result"
    }
   ],
   "source": [
    "count_result = data['How much did you cost in treatment '].value_counts()\n",
    "count_result"
   ]
  },
  {
   "cell_type": "code",
   "execution_count": 16,
   "id": "7055e80d-5177-421d-861d-5c58d0351b67",
   "metadata": {},
   "outputs": [
    {
     "data": {
      "image/png": "[encoded data removed]",
      "text/plain": [
       "<Figure size 640x480 with 1 Axes>"
      ]
     },
     "metadata": {},
     "output_type": "display_data"
    }
   ],
   "source": [
    "lab=[\"Above 1500 \",\"500-1500\",\"200-500  \",\"Below 200\"]\n",
    "plt.pie(count_result,labels=lab,autopct=\"%1.1f%%\")\n",
    "plt.legend(loc=\"upper right\")\n",
    "plt.title('pie chart')\n",
    "plt.show()"
   ]
  },
  {
   "cell_type": "code",
   "execution_count": 17,
   "id": "19974c71-e767-4f34-8b7d-a8fb6740653f",
   "metadata": {},
   "outputs": [
    {
     "data": {
      "text/plain": [
       "What measures did you take to manage the pain during a kidney stone ?\n",
       "Medications, Cold compress, Rest                     38\n",
       "Medications, Drinking water, Rest                    37\n",
       "Medications, Drinking water, Cold compress, Rest     20\n",
       "Medications, Hot compress, Rest                      13\n",
       "Medications                                          11\n",
       "Drinking water, Rest                                 10\n",
       "Medications, Drinking water, Hot compress             9\n",
       "Medications, Rest                                     9\n",
       "Drinking water, Hot compress, Rest                    8\n",
       "Medications, Hot compress, Cold compress, Rest        7\n",
       "Medications, Drinking water, Hot compress, Rest       6\n",
       "Drinking water                                        4\n",
       "Medications, Drinking water, Cold compress            4\n",
       "Medications, Drinking water                           4\n",
       "Drinking water, Cold compress, Rest                   1\n",
       "Drinking water, Hot compress, Cold compress, Rest     1\n",
       "Medications, Hot compress, Cold compress              1\n",
       "Name: count, dtype: int64"
      ]
     },
     "execution_count": 17,
     "metadata": {},
     "output_type": "execute_result"
    }
   ],
   "source": [
    "count_result = data['What measures did you take to manage the pain during a kidney stone ?'].value_counts()\n",
    "count_result "
   ]
  },
  {
   "cell_type": "code",
   "execution_count": 18,
   "id": "ca76b4d6-d661-4fe3-a7a3-e3fe3a0ac405",
   "metadata": {
    "jp-MarkdownHeadingCollapsed": true
   },
   "outputs": [
    {
     "name": "stdout",
     "output_type": "stream",
     "text": [
      "Cold compress      72\n",
      "Drinking water    104\n",
      "Hot compress       45\n",
      "Medications       159\n",
      "Rest              150\n",
      "dtype: int64\n"
     ]
    },
    {
     "data": {
      "image/png": "[encoded data removed]",
      "text/plain": [
       "<Figure size 640x480 with 1 Axes>"
      ]
     },
     "metadata": {},
     "output_type": "display_data"
    }
   ],
   "source": [
    "measures = data['What measures did you take to manage the pain during a kidney stone ?'].str.get_dummies(sep=', ')\n",
    "\n",
    "# Add the binary columns to the original DataFrame\n",
    "data = pd.concat([data, measures], axis=1)\n",
    "\n",
    "# Calculate the frequency of each measure\n",
    "measure_freq = measures.sum()\n",
    "print(measure_freq)\n",
    "\n",
    "# Visualize the frequency of each measure\n",
    "import matplotlib.pyplot as plt\n",
    "\n",
    "plt.bar(measure_freq.index, measure_freq.values)\n",
    "plt.xlabel('Measures to Manage Pain')\n",
    "plt.ylabel('Frequency')\n",
    "plt.title('Frequency of Measures to Manage Pain')\n",
    "plt.xticks(rotation=45)\n",
    "plt.show()"
   ]
  },
  {
   "cell_type": "code",
   "execution_count": 19,
   "id": "89ef0b61-dff1-47db-9962-341ac0f39fed",
   "metadata": {},
   "outputs": [
    {
     "data": {
      "image/png": "[encoded data removed]",
      "text/plain": [
       "<Figure size 600x700 with 1 Axes>"
      ]
     },
     "metadata": {},
     "output_type": "display_data"
    }
   ],
   "source": [
    "options = data['What measures did you take to manage the pain during a kidney stone ?'].str.split(', ', expand=True)\n",
    "option_counts = options.apply(pd.Series.value_counts).sum(axis=1)\n",
    "plt.figure(figsize=(6, 7))\n",
    "plt.pie(option_counts, labels=option_counts.index, autopct='%1.1f%%', startangle=80)\n",
    "plt.title('Measures to Manage Pain during Kidney Stones')\n",
    "plt.legend(loc=\"upper right\")\n",
    "plt.axis('equal')  \n",
    "plt.show()"
   ]
  },
  {
   "cell_type": "code",
   "execution_count": 20,
   "id": "3d68ca80-d783-4720-8983-33162e825141",
   "metadata": {},
   "outputs": [
    {
     "data": {
      "text/plain": [
       "Did the treatment successfully eliminate your kidney stones?\n",
       "Yes    104\n",
       "No      79\n",
       "Name: count, dtype: int64"
      ]
     },
     "execution_count": 20,
     "metadata": {},
     "output_type": "execute_result"
    }
   ],
   "source": [
    "count_result = data['Did the treatment successfully eliminate your kidney stones?'].value_counts()\n",
    "count_result "
   ]
  },
  {
   "cell_type": "code",
   "execution_count": 21,
   "id": "caa97422-3111-4e41-814e-0d780327c53b",
   "metadata": {},
   "outputs": [
    {
     "data": {
      "image/png": "[encoded data removed]",
      "text/plain": [
       "<Figure size 640x480 with 1 Axes>"
      ]
     },
     "metadata": {},
     "output_type": "display_data"
    }
   ],
   "source": [
    " \n",
    "categories = ['YES', 'No']\n",
    "values = [104, 79]\n",
    "plt.bar(categories, values)\n",
    "plt.xlabel('Categories')\n",
    "plt.ylabel('Values')\n",
    "plt.title('Bar Chart')\n",
    "plt.show()"
   ]
  },
  {
   "cell_type": "code",
   "execution_count": 22,
   "id": "907b8276-b50c-450d-9aab-1d6adc795403",
   "metadata": {
    "jp-MarkdownHeadingCollapsed": true
   },
   "outputs": [],
   "source": [
    "### Both treatment combine a data for stacked barplot"
   ]
  },
  {
   "cell_type": "code",
   "execution_count": 23,
   "id": "a95016dc-64d0-401b-b54a-5f35720f4808",
   "metadata": {},
   "outputs": [
    {
     "data": {
      "text/html": [
       "<div>\n",
       "<style scoped>\n",
       "    .dataframe tbody tr th:only-of-type {\n",
       "        vertical-align: middle;\n",
       "    }\n",
       "\n",
       "    .dataframe tbody tr th {\n",
       "        vertical-align: top;\n",
       "    }\n",
       "\n",
       "    .dataframe thead th {\n",
       "        text-align: right;\n",
       "    }\n",
       "</style>\n",
       "<table border=\"1\" class=\"dataframe\">\n",
       "  <thead>\n",
       "    <tr style=\"text-align: right;\">\n",
       "      <th></th>\n",
       "      <th>Did the treatment successfully eliminate your kidney stones? (Ayurvedic)</th>\n",
       "      <th>Did the treatment successfully eliminate your kidney stones?(Allopathic)</th>\n",
       "    </tr>\n",
       "  </thead>\n",
       "  <tbody>\n",
       "    <tr>\n",
       "      <th>0</th>\n",
       "      <td>Yes</td>\n",
       "      <td>Yes</td>\n",
       "    </tr>\n",
       "    <tr>\n",
       "      <th>1</th>\n",
       "      <td>Yes</td>\n",
       "      <td>Yes</td>\n",
       "    </tr>\n",
       "    <tr>\n",
       "      <th>2</th>\n",
       "      <td>Yes</td>\n",
       "      <td>No</td>\n",
       "    </tr>\n",
       "    <tr>\n",
       "      <th>3</th>\n",
       "      <td>Yes</td>\n",
       "      <td>Yes</td>\n",
       "    </tr>\n",
       "    <tr>\n",
       "      <th>4</th>\n",
       "      <td>Yes</td>\n",
       "      <td>Yes</td>\n",
       "    </tr>\n",
       "    <tr>\n",
       "      <th>...</th>\n",
       "      <td>...</td>\n",
       "      <td>...</td>\n",
       "    </tr>\n",
       "    <tr>\n",
       "      <th>178</th>\n",
       "      <td>Yes</td>\n",
       "      <td>Yes</td>\n",
       "    </tr>\n",
       "    <tr>\n",
       "      <th>179</th>\n",
       "      <td>No</td>\n",
       "      <td>No</td>\n",
       "    </tr>\n",
       "    <tr>\n",
       "      <th>180</th>\n",
       "      <td>Yes</td>\n",
       "      <td>No</td>\n",
       "    </tr>\n",
       "    <tr>\n",
       "      <th>181</th>\n",
       "      <td>Yes</td>\n",
       "      <td>Yes</td>\n",
       "    </tr>\n",
       "    <tr>\n",
       "      <th>182</th>\n",
       "      <td>Yes</td>\n",
       "      <td>Yes</td>\n",
       "    </tr>\n",
       "  </tbody>\n",
       "</table>\n",
       "<p>183 rows × 2 columns</p>\n",
       "</div>"
      ],
      "text/plain": [
       "    Did the treatment successfully eliminate your kidney stones? (Ayurvedic)  \\\n",
       "0                                                  Yes                         \n",
       "1                                                  Yes                         \n",
       "2                                                  Yes                         \n",
       "3                                                  Yes                         \n",
       "4                                                  Yes                         \n",
       "..                                                 ...                         \n",
       "178                                                Yes                         \n",
       "179                                                 No                         \n",
       "180                                                Yes                         \n",
       "181                                                Yes                         \n",
       "182                                                Yes                         \n",
       "\n",
       "    Did the treatment successfully eliminate your kidney stones?(Allopathic)  \n",
       "0                                                  Yes                        \n",
       "1                                                  Yes                        \n",
       "2                                                   No                        \n",
       "3                                                  Yes                        \n",
       "4                                                  Yes                        \n",
       "..                                                 ...                        \n",
       "178                                                Yes                        \n",
       "179                                                 No                        \n",
       "180                                                 No                        \n",
       "181                                                Yes                        \n",
       "182                                                Yes                        \n",
       "\n",
       "[183 rows x 2 columns]"
      ]
     },
     "execution_count": 23,
     "metadata": {},
     "output_type": "execute_result"
    }
   ],
   "source": [
    "data_1=pd.read_excel(r\"C:\\Users\\USER\\Desktop\\Activity 2023-24\\Research Methodology (project)\\RM project Stacked bar data.xlsx\")\n",
    "data_1"
   ]
  },
  {
   "cell_type": "code",
   "execution_count": 24,
   "id": "e919acfc-b82b-4995-a727-67ce99246b7d",
   "metadata": {},
   "outputs": [
    {
     "data": {
      "text/plain": [
       "Index(['Did the treatment successfully eliminate your kidney stones? (Ayurvedic)', 'Did the treatment successfully eliminate your kidney stones?(Allopathic)'], dtype='object')"
      ]
     },
     "execution_count": 24,
     "metadata": {},
     "output_type": "execute_result"
    }
   ],
   "source": [
    "data_1.columns"
   ]
  },
  {
   "cell_type": "code",
   "execution_count": 25,
   "id": "425290fc-b8b1-4bee-a337-cd0a819ff804",
   "metadata": {},
   "outputs": [
    {
     "data": {
      "text/plain": [
       "Did the treatment successfully eliminate your kidney stones? (Ayurvedic)\n",
       "Yes    124\n",
       "No      59\n",
       "Name: count, dtype: int64"
      ]
     },
     "execution_count": 25,
     "metadata": {},
     "output_type": "execute_result"
    }
   ],
   "source": [
    "count_result = data_1['Did the treatment successfully eliminate your kidney stones? (Ayurvedic)'].value_counts()\n",
    "count_result"
   ]
  },
  {
   "cell_type": "code",
   "execution_count": 26,
   "id": "307a2e4a-e2fc-4e06-80f3-853e42e121ea",
   "metadata": {},
   "outputs": [
    {
     "data": {
      "text/plain": [
       "Did the treatment successfully eliminate your kidney stones?(Allopathic)\n",
       "Yes    104\n",
       "No      79\n",
       "Name: count, dtype: int64"
      ]
     },
     "execution_count": 26,
     "metadata": {},
     "output_type": "execute_result"
    }
   ],
   "source": [
    "count_result = data_1['Did the treatment successfully eliminate your kidney stones?(Allopathic)'].value_counts()\n",
    "count_result"
   ]
  },
  {
   "cell_type": "code",
   "execution_count": 27,
   "id": "18091a53-17a0-4751-958f-514869f26739",
   "metadata": {},
   "outputs": [
    {
     "data": {
      "image/png": "[encoded data removed]",
      "text/plain": [
       "<Figure size 640x480 with 1 Axes>"
      ]
     },
     "metadata": {},
     "output_type": "display_data"
    }
   ],
   "source": [
    "categories = np.array(['Ayurvedic', 'Allopathic'])\n",
    "percentages = np.array([[67.75,56.83],[32.24,43.16]])\n",
    "categories = categories.tolist()\n",
    "percentages = percentages.tolist()\n",
    "plt.bar(categories, percentages[0], color='blue', label='Yes')\n",
    "plt.bar(categories, percentages[1], color='orange', bottom=percentages[0], label='No')\n",
    "plt.xlabel('Treatment')\n",
    "plt.ylabel('Percentage')\n",
    "plt.title('Stacked Bar Percentage')\n",
    "plt.legend()\n",
    "plt.show()"
   ]
  },
  {
   "cell_type": "code",
   "execution_count": null,
   "id": "4174e828-20e7-4807-9153-6c4687c09b4e",
   "metadata": {},
   "outputs": [],
   "source": []
  },
  {
   "cell_type": "markdown",
   "id": "d61e4cf8-cdbb-464d-94f9-f65025b08f6a",
   "metadata": {},
   "source": [
    "## Logistic regression"
   ]
  },
  {
   "cell_type": "code",
   "execution_count": 28,
   "id": "0e6be997-8ef7-4b60-bd0d-52e9388effb9",
   "metadata": {},
   "outputs": [],
   "source": [
    "from statsmodels import *"
   ]
  },
  {
   "cell_type": "code",
   "execution_count": 29,
   "id": "2dbc1a1d-9e21-4c15-b59a-30dd6ee9178f",
   "metadata": {},
   "outputs": [
    {
     "name": "stdout",
     "output_type": "stream",
     "text": [
      "['How would you rate your overall well-being before the treatment?'\n",
      " 'How would you rate your overall well-being after the treatment?'\n",
      " 'Cold compress' 'Drinking water' 'Hot compress' 'Medications' 'Rest']\n",
      "['Gender ' 'Age ' 'Occupation  ' 'Duration of treatment'\n",
      " 'Any side effect of treatment'\n",
      " 'Have you received ayurvedic treatment for kidney stones?'\n",
      " 'How effective was the treatment in alleviating your symptoms?'\n",
      " 'How satisfied are you with the overall treatment?'\n",
      " 'Are you satisfied with the time it took for the treatment to show results?'\n",
      " 'Did the treatment successfully eliminate your kidney stones?'\n",
      " 'Do you follow a specific diet or lifestyle recommended by your treatment provider?'\n",
      " 'What measures did you take to manage the pain during a kidney stone ?'\n",
      " 'How much did you cost in treatment ' 'Any symptoms'\n",
      " 'How would you describe the intensity of the pain caused by kidney stones?'\n",
      " 'Would you recommend your chosen treatment to others?'\n",
      " 'Where did you gather information about the available treatments?']\n"
     ]
    }
   ],
   "source": [
    "numeric_features = data.select_dtypes(include=['float64', 'int64']).columns.values\n",
    "print(numeric_features)\n",
    "category_features = data.select_dtypes(include=['object', 'bool']).columns.values\n",
    "#category_features = category_features[category_features != 'y']\n",
    "print(category_features)"
   ]
  },
  {
   "cell_type": "code",
   "execution_count": 44,
   "id": "6deb699d-c367-4362-a414-45f3481401e9",
   "metadata": {},
   "outputs": [],
   "source": [
    "# Import necessary libraries\n",
    "import pandas as pd\n",
    "from sklearn.model_selection import train_test_split\n",
    "from sklearn.linear_model import LogisticRegression\n",
    "from sklearn.metrics import accuracy_score, classification_report, confusion_matrix, roc_auc_score,f1_score,precision_score,recall_score"
   ]
  },
  {
   "cell_type": "code",
   "execution_count": 45,
   "id": "f2a93474-672c-4693-bf80-d39c0e64b089",
   "metadata": {},
   "outputs": [],
   "source": [
    "# Assuming you have a DataFrame 'df' with your data\n",
    "# Example data preparation (replace with your actual column names)\n",
    "X = data[['Gender ' ,'Age ' ,'Occupation  ','Duration of treatment','Any side effect of treatment']]\n",
    "y = data[ 'Did the treatment successfully eliminate your kidney stones?']\n",
    "\n",
    "##Create dummy variables for categorical variable 'Gender'\n",
    "X = pd.get_dummies(X, columns=['Gender ' ,'Age ' ,'Occupation  ','Duration of treatment','Any side effect of treatment'], drop_first=True)\n"
   ]
  },
  {
   "cell_type": "code",
   "execution_count": 46,
   "id": "9f4ac435-e19c-4b13-b0b0-086a03633296",
   "metadata": {},
   "outputs": [
    {
     "name": "stdout",
     "output_type": "stream",
     "text": [
      "['No' 'Yes' 'Yes' 'No' 'Yes' 'Yes' 'Yes' 'Yes' 'Yes' 'No' 'Yes' 'Yes'\n",
      " 'Yes' 'No' 'Yes' 'Yes' 'Yes' 'No' 'Yes' 'Yes' 'Yes' 'No' 'Yes' 'Yes'\n",
      " 'Yes' 'Yes' 'No' 'No' 'Yes' 'Yes' 'Yes' 'Yes' 'Yes' 'Yes' 'Yes' 'Yes'\n",
      " 'Yes' 'Yes' 'Yes' 'Yes' 'Yes' 'Yes' 'No' 'Yes' 'No' 'Yes' 'Yes' 'Yes'\n",
      " 'Yes' 'Yes' 'No' 'Yes' 'Yes' 'Yes' 'Yes' 'Yes' 'Yes' 'Yes' 'No' 'No'\n",
      " 'Yes' 'No' 'Yes' 'Yes' 'No' 'Yes' 'No' 'No' 'Yes' 'Yes' 'No' 'Yes' 'Yes'\n",
      " 'Yes' 'No' 'No' 'Yes' 'No' 'Yes' 'Yes' 'Yes' 'Yes' 'No' 'No' 'Yes' 'No'\n",
      " 'Yes' 'No' 'Yes' 'Yes' 'No' 'No' 'No' 'No' 'Yes' 'Yes' 'No' 'Yes' 'Yes'\n",
      " 'Yes' 'Yes' 'Yes' 'Yes' 'No' 'Yes' 'No' 'No' 'No' 'Yes' 'Yes' 'No' 'Yes'\n",
      " 'Yes' 'No' 'Yes' 'No' 'Yes' 'Yes' 'Yes' 'Yes' 'Yes' 'Yes' 'No' 'Yes' 'No'\n",
      " 'Yes' 'Yes' 'No' 'Yes' 'Yes' 'Yes' 'Yes' 'No' 'Yes' 'No' 'Yes' 'Yes'\n",
      " 'Yes' 'Yes' 'Yes' 'Yes' 'Yes' 'Yes' 'Yes' 'Yes' 'No']\n",
      "Accuracy: 0.7945205479452054\n",
      "Classification Report:\n",
      "               precision    recall  f1-score   support\n",
      "\n",
      "          No       0.86      0.61      0.71        61\n",
      "         Yes       0.77      0.93      0.84        85\n",
      "\n",
      "    accuracy                           0.79       146\n",
      "   macro avg       0.81      0.77      0.78       146\n",
      "weighted avg       0.81      0.79      0.79       146\n",
      "\n",
      "Confusion Matrix:\n",
      " [[37 24]\n",
      " [ 6 79]]\n",
      "ROC AUC Score: 0.8070175438596492\n"
     ]
    }
   ],
   "source": [
    "# Split the data into training and testing sets\n",
    "X_train, X_test, y_train, y_test = train_test_split(X, y, test_size=0.2, random_state=42)\n",
    "\n",
    "# Create and fit the logistic regression model\n",
    "model = LogisticRegression()\n",
    "model.fit(X_train, y_train)\n",
    "\n",
    "# Make predictions on the test set\n",
    "y_pred = model.predict(X_train)\n",
    "print(y_pred)\n",
    "# Evaluate performance\n",
    "print(\"Accuracy:\", accuracy_score(y_train, y_pred))\n",
    "print(\"Classification Report:\\n\", classification_report(y_train, y_pred))\n",
    "print(\"Confusion Matrix:\\n\", confusion_matrix(y_train, y_pred))\n",
    "print(\"ROC AUC Score:\", roc_auc_score(y_test, model.predict_proba(X_test)[:, 1]))"
   ]
  },
  {
   "cell_type": "code",
   "execution_count": 50,
   "id": "e846c315-46ff-43f7-b908-8bbe4c6b0c41",
   "metadata": {},
   "outputs": [
    {
     "name": "stdout",
     "output_type": "stream",
     "text": [
      "0.6756756756756757\n",
      "              precision    recall  f1-score   support\n",
      "\n",
      "          No       0.80      0.44      0.57        18\n",
      "         Yes       0.63      0.89      0.74        19\n",
      "\n",
      "    accuracy                           0.68        37\n",
      "   macro avg       0.71      0.67      0.66        37\n",
      "weighted avg       0.71      0.68      0.66        37\n",
      "\n",
      "[[ 8 10]\n",
      " [ 2 17]]\n"
     ]
    }
   ],
   "source": [
    "y_predtest = model.predict(X_test) \n",
    "acctest = accuracy_score(y_test, y_predtest)\n",
    "classtest = classification_report(y_test, y_predtest)\n",
    "contst = confusion_matrix(y_test, y_predtest)\n",
    "print(acctest)\n",
    "print(classtest)\n",
    "print(contst)"
   ]
  },
  {
   "cell_type": "code",
   "execution_count": null,
   "id": "295f31dd-0de0-4755-9f02-5a5f93bfdcc6",
   "metadata": {},
   "outputs": [],
   "source": []
  },
  {
   "cell_type": "code",
   "execution_count": 49,
   "id": "419deda0-198f-4364-b8bb-957d29f97b01",
   "metadata": {},
   "outputs": [
    {
     "name": "stdout",
     "output_type": "stream",
     "text": [
      "10-fold cross validation average accuracy: 0.783\n"
     ]
    }
   ],
   "source": [
    "#Cross validation \n",
    "from sklearn import model_selection\n",
    "from sklearn.model_selection import cross_val_score\n",
    "kfold = model_selection.KFold(n_splits=10, random_state=7,shuffle=True)\n",
    "modelCV = LogisticRegression()\n",
    "scoring = 'accuracy'\n",
    "results = model_selection.cross_val_score(modelCV, X_train, y_train, cv=kfold, scoring=scoring)\n",
    "print(\"10-fold cross validation average accuracy: %.3f\" % (results.mean()))"
   ]
  },
  {
   "cell_type": "code",
   "execution_count": 35,
   "id": "2260e8ac-0e04-417c-b64d-bbfd0cbccb1c",
   "metadata": {},
   "outputs": [
    {
     "data": {
      "image/png": "[encoded data removed]",
      "text/plain": [
       "<Figure size 800x600 with 1 Axes>"
      ]
     },
     "metadata": {},
     "output_type": "display_data"
    },
    {
     "name": "stdout",
     "output_type": "stream",
     "text": [
      "Odds Ratios:\n",
      "[[0.82884804 2.10739489 1.24354206 3.05108883 0.7363835  1.45348363\n",
      "  0.24209364 0.94446566 1.15553247 0.59334626 2.3929767  0.1258913 ]]\n",
      "Odds Ratio for Gender _Male : 0.8288480405682996\n",
      "Odds Ratio for Age _31-45: 2.107394892643625\n",
      "Odds Ratio for Age _45-60: 1.2435420637859527\n",
      "Odds Ratio for Age _above 60: 3.0510888269252585\n",
      "Odds Ratio for Age _below 18: 0.7363834984384605\n",
      "Odds Ratio for Occupation  _Farmer : 1.4534836341334803\n",
      "Odds Ratio for Occupation  _Service/job: 0.24209364238911266\n",
      "Odds Ratio for Occupation  _Student : 0.9444656556687265\n",
      "Odds Ratio for Duration of treatment_2-3 months: 1.1555324724568836\n",
      "Odds Ratio for Duration of treatment_4-6 months: 0.5933462582845261\n",
      "Odds Ratio for Duration of treatment_6 months above: 2.3929767002089823\n",
      "Odds Ratio for Any side effect of treatment_Yes: 0.12589129792358536\n"
     ]
    }
   ],
   "source": [
    "from sklearn.metrics import roc_auc_score, roc_curve\n",
    "import matplotlib.pyplot as plt\n",
    "import numpy as np\n",
    "from sklearn.preprocessing import LabelEncoder\n",
    "\n",
    "\n",
    "# Assuming you already have the model trained (replace 'model' with your actual model)\n",
    "# model = LogisticRegression()\n",
    "# model.fit(X_train, y_train)\n",
    "# Convert 'No' to 0 and 'Yes' to 1 in the target variable\n",
    "le = LabelEncoder()\n",
    "y_test_numeric = le.fit_transform(y_test)\n",
    "\n",
    "# Calculate ROC AUC score using predicted probabilities\n",
    "logit_roc_auc = roc_auc_score(y_test_numeric, model.predict_proba(X_test)[:, 1])\n",
    "fpr, tpr, thresholds = roc_curve(y_test_numeric, model.predict_proba(X_test)[:, 1])\n",
    "# Plot the ROC curve\n",
    "plt.figure(figsize=(8, 6))\n",
    "plt.plot(fpr, tpr, label='Logistic Regression (AUC = %0.2f)' % logit_roc_auc)\n",
    "plt.plot([0, 1], [0, 1], 'r--')\n",
    "plt.xlim([0.0, 1.0])\n",
    "plt.ylim([0.0, 1.05])\n",
    "plt.xlabel('False Positive Rate')\n",
    "plt.ylabel('True Positive Rate')\n",
    "plt.title('Receiver Operating Characteristic (ROC) Curve')\n",
    "plt.legend(loc='lower right')\n",
    "plt.show()\n",
    "\n",
    "coefficients=model.coef_\n",
    "intercept=model.intercept_\n",
    "#Get the odds ratios\n",
    "odds_ratios = np.exp(coefficients)\n",
    "print(\"Odds Ratios:\")\n",
    "print(odds_ratios)\n",
    "coefficients = model.coef_[0]\n",
    "intercept = model.intercept_[0]\n",
    "\n",
    "# Calculate odds ratios\n",
    "odds_ratios = np.exp(coefficients)\n",
    "\n",
    "#Print the odds ratios with corresponding feature names\n",
    "for feature, odds_ratio in zip(X, odds_ratios):\n",
    "    print(f\"Odds Ratio for {feature}: {odds_ratio}\")"
   ]
  },
  {
   "cell_type": "code",
   "execution_count": null,
   "id": "1fe07db7-075e-4a3a-9187-b3c0abde4345",
   "metadata": {},
   "outputs": [],
   "source": []
  },
  {
   "cell_type": "code",
   "execution_count": 36,
   "id": "1a32e955-4627-49b5-addc-be6a00e7aaf4",
   "metadata": {},
   "outputs": [
    {
     "data": {
      "text/plain": [
       "array([0.89771023])"
      ]
     },
     "execution_count": 36,
     "metadata": {},
     "output_type": "execute_result"
    }
   ],
   "source": [
    "model.intercept_"
   ]
  },
  {
   "cell_type": "code",
   "execution_count": 37,
   "id": "1758f3af-3e1c-4e90-9ecd-b61b6418d10a",
   "metadata": {},
   "outputs": [
    {
     "data": {
      "text/plain": [
       "array([[-0.18771845,  0.74545254,  0.21796381,  1.11549852, -0.30600424,\n",
       "         0.37396318, -1.41843068, -0.05713596,  0.14456125, -0.52197714,\n",
       "         0.87253807, -2.07233646]])"
      ]
     },
     "execution_count": 37,
     "metadata": {},
     "output_type": "execute_result"
    }
   ],
   "source": [
    "model.coef_"
   ]
  },
  {
   "cell_type": "code",
   "execution_count": 38,
   "id": "56d5a35f-9c22-478f-9e93-1e0644353194",
   "metadata": {},
   "outputs": [],
   "source": [
    "import statsmodels.api as sm\n",
    "\n",
    "\n",
    "\n",
    "\n",
    "\n",
    "X_train, X_test, y_train, y_test = train_test_split(X, y, test_size=0.2, random_state=42)\n",
    "y_train = y_train.replace({\"Yes\": 1, \"No\": 0})\n",
    "\n",
    "# Convert 'y_train' to numeric data type\n",
    "y_train = pd.to_numeric(y_train)\n",
    "# Convert 'X_train' to numeric data type\n",
    "X_train = X_train.astype(float)\n",
    "\n",
    "# Convert 'y_train' to numeric data type if it's not already\n",
    "####if y_train.dtype == 'object':\n",
    "y_train = pd.to_numeric(y_train)"
   ]
  },
  {
   "cell_type": "code",
   "execution_count": 39,
   "id": "20047332-3e27-4c90-bebd-9febe0971f2d",
   "metadata": {},
   "outputs": [
    {
     "name": "stdout",
     "output_type": "stream",
     "text": [
      "Warning: Maximum number of iterations has been exceeded.\n",
      "         Current function value: 0.452588\n",
      "         Iterations: 35\n"
     ]
    },
    {
     "name": "stderr",
     "output_type": "stream",
     "text": [
      "C:\\Users\\USER\\AppData\\Local\\Programs\\Python\\Python312\\Lib\\site-packages\\statsmodels\\base\\model.py:607: ConvergenceWarning: Maximum Likelihood optimization failed to converge. Check mle_retvals\n",
      "  warnings.warn(\"Maximum Likelihood optimization failed to \"\n",
      "C:\\Users\\USER\\AppData\\Local\\Programs\\Python\\Python312\\Lib\\site-packages\\pandas\\core\\internals\\blocks.py:366: RuntimeWarning: overflow encountered in exp\n",
      "  result = func(self.values, **kwargs)\n"
     ]
    },
    {
     "name": "stdout",
     "output_type": "stream",
     "text": [
      "Warning: Maximum number of iterations has been exceeded.\n",
      "         Current function value: 0.452588\n",
      "         Iterations: 35\n",
      "Odds Ratios:\n",
      "Gender _Male                            6.375127e-01\n",
      "Age _31-45                              7.838728e+00\n",
      "Age _45-60                              4.174616e+00\n",
      "Age _above 60                           4.147069e+10\n",
      "Age _below 18                           4.803772e-01\n",
      "Occupation  _Farmer                     1.656384e+00\n",
      "Occupation  _Service/job                2.295160e-01\n",
      "Occupation  _Student                    2.973363e+00\n",
      "Duration of treatment_2-3 months        1.902531e+00\n",
      "Duration of treatment_4-6 months        4.741431e-01\n",
      "Duration of treatment_6 months above    3.417295e+00\n",
      "Any side effect of treatment_Yes        3.319103e-02\n",
      "dtype: float64\n",
      "\n",
      "Confidence Intervals:\n",
      "                                             0          1\n",
      "Gender _Male                          0.215497   1.885980\n",
      "Age _31-45                            1.614101  38.068034\n",
      "Age _45-60                            0.583614  29.861183\n",
      "Age _above 60                         0.000000        inf\n",
      "Age _below 18                         0.121229   1.903527\n",
      "Occupation  _Farmer                   0.293972   9.332882\n",
      "Occupation  _Service/job              0.056505   0.932272\n",
      "Occupation  _Student                  0.694499  12.729877\n",
      "Duration of treatment_2-3 months      0.555150   6.520083\n",
      "Duration of treatment_4-6 months      0.092948   2.418688\n",
      "Duration of treatment_6 months above  0.513205  22.754843\n",
      "Any side effect of treatment_Yes      0.005499   0.200342\n",
      "                                                Logit Regression Results                                                \n",
      "========================================================================================================================\n",
      "Dep. Variable:     Did the treatment successfully eliminate your kidney stones?   No. Observations:                  146\n",
      "Model:                                                                    Logit   Df Residuals:                      134\n",
      "Method:                                                                     MLE   Df Model:                           11\n",
      "Date:                                                          Fri, 17 May 2024   Pseudo R-squ.:                  0.3340\n",
      "Time:                                                                  21:39:35   Log-Likelihood:                -66.078\n",
      "converged:                                                                False   LL-Null:                       -99.218\n",
      "Covariance Type:                                                      nonrobust   LLR p-value:                 6.185e-10\n",
      "========================================================================================================\n",
      "                                           coef    std err          z      P>|z|      [0.025      0.975]\n",
      "--------------------------------------------------------------------------------------------------------\n",
      "Gender _Male                            -0.4502      0.553     -0.813      0.416      -1.535       0.634\n",
      "Age _31-45                               2.0591      0.806      2.554      0.011       0.479       3.639\n",
      "Age _45-60                               1.4290      1.004      1.424      0.155      -0.539       3.397\n",
      "Age _above 60                           24.4483   4.76e+04      0.001      1.000   -9.34e+04    9.34e+04\n",
      "Age _below 18                           -0.7332      0.703     -1.044      0.297      -2.110       0.644\n",
      "Occupation  _Farmer                      0.5046      0.882      0.572      0.567      -1.224       2.234\n",
      "Occupation  _Service/job                -1.4718      0.715     -2.058      0.040      -2.873      -0.070\n",
      "Occupation  _Student                     1.0897      0.742      1.469      0.142      -0.365       2.544\n",
      "Duration of treatment_2-3 months         0.6432      0.628      1.023      0.306      -0.589       1.875\n",
      "Duration of treatment_4-6 months        -0.7462      0.831     -0.898      0.369      -2.376       0.883\n",
      "Duration of treatment_6 months above     1.2288      0.967      1.270      0.204      -0.667       3.125\n",
      "Any side effect of treatment_Yes        -3.4055      0.917     -3.713      0.000      -5.203      -1.608\n",
      "========================================================================================================\n",
      "                                                Logit Regression Results                                                \n",
      "========================================================================================================================\n",
      "Dep. Variable:     Did the treatment successfully eliminate your kidney stones?   No. Observations:                  146\n",
      "Model:                                                                    Logit   Df Residuals:                      134\n",
      "Method:                                                                     MLE   Df Model:                           11\n",
      "Date:                                                          Fri, 17 May 2024   Pseudo R-squ.:                  0.3340\n",
      "Time:                                                                  21:39:35   Log-Likelihood:                -66.078\n",
      "converged:                                                                False   LL-Null:                       -99.218\n",
      "Covariance Type:                                                      nonrobust   LLR p-value:                 6.185e-10\n",
      "========================================================================================================\n",
      "                                           coef    std err          z      P>|z|      [0.025      0.975]\n",
      "--------------------------------------------------------------------------------------------------------\n",
      "Gender _Male                            -0.4502      0.553     -0.813      0.416      -1.535       0.634\n",
      "Age _31-45                               2.0591      0.806      2.554      0.011       0.479       3.639\n",
      "Age _45-60                               1.4290      1.004      1.424      0.155      -0.539       3.397\n",
      "Age _above 60                           24.4483   4.76e+04      0.001      1.000   -9.34e+04    9.34e+04\n",
      "Age _below 18                           -0.7332      0.703     -1.044      0.297      -2.110       0.644\n",
      "Occupation  _Farmer                      0.5046      0.882      0.572      0.567      -1.224       2.234\n",
      "Occupation  _Service/job                -1.4718      0.715     -2.058      0.040      -2.873      -0.070\n",
      "Occupation  _Student                     1.0897      0.742      1.469      0.142      -0.365       2.544\n",
      "Duration of treatment_2-3 months         0.6432      0.628      1.023      0.306      -0.589       1.875\n",
      "Duration of treatment_4-6 months        -0.7462      0.831     -0.898      0.369      -2.376       0.883\n",
      "Duration of treatment_6 months above     1.2288      0.967      1.270      0.204      -0.667       3.125\n",
      "Any side effect of treatment_Yes        -3.4055      0.917     -3.713      0.000      -5.203      -1.608\n",
      "========================================================================================================\n"
     ]
    },
    {
     "name": "stderr",
     "output_type": "stream",
     "text": [
      "C:\\Users\\USER\\AppData\\Local\\Programs\\Python\\Python312\\Lib\\site-packages\\statsmodels\\base\\model.py:607: ConvergenceWarning: Maximum Likelihood optimization failed to converge. Check mle_retvals\n",
      "  warnings.warn(\"Maximum Likelihood optimization failed to \"\n",
      "C:\\Users\\USER\\AppData\\Local\\Programs\\Python\\Python312\\Lib\\site-packages\\pandas\\core\\internals\\blocks.py:366: RuntimeWarning: overflow encountered in exp\n",
      "  result = func(self.values, **kwargs)\n"
     ]
    }
   ],
   "source": [
    "#X_train_with_intercept = sm.add_constant(X_train)\n",
    "\n",
    "# Fit logistic regression model with intercept\n",
    "log_reg = sm.Logit(y_train,X_train).fit()\n",
    "odds_ratios = np.exp(log_reg.params)\n",
    "conf_int = np.exp(log_reg.conf_int())\n",
    "\n",
    "log_reg = sm.Logit(y_train, X_train).fit()\n",
    "odds_ratios = np.exp(log_reg.params)\n",
    "conf_int = np.exp(log_reg.conf_int())\n",
    "\n",
    "print(\"Odds Ratios:\")\n",
    "print(odds_ratios)\n",
    "print(\"\\nConfidence Intervals:\")\n",
    "print(conf_int)\n",
    "\n",
    "# Print summary\n",
    "print(log_reg.summary())\n",
    "\n",
    "# Print summary\n",
    "print(log_reg.summary())"
   ]
  },
  {
   "cell_type": "code",
   "execution_count": 40,
   "id": "ce61030c-7380-4b2b-9445-712100464258",
   "metadata": {},
   "outputs": [
    {
     "name": "stdout",
     "output_type": "stream",
     "text": [
      "Optimization terminated successfully.\n",
      "         Current function value: 0.450039\n",
      "         Iterations 34\n"
     ]
    },
    {
     "ename": "LinAlgError",
     "evalue": "Singular matrix",
     "output_type": "error",
     "traceback": [
      "\u001b[1;31m---------------------------------------------------------------------------\u001b[0m",
      "\u001b[1;31mLinAlgError\u001b[0m                               Traceback (most recent call last)",
      "Cell \u001b[1;32mIn[40], line 4\u001b[0m\n\u001b[0;32m      1\u001b[0m X_train_with_intercept \u001b[38;5;241m=\u001b[39m sm\u001b[38;5;241m.\u001b[39madd_constant(X_train)\n\u001b[0;32m      3\u001b[0m \u001b[38;5;66;03m# Fit logistic regression model with intercept\\\u001b[39;00m\n\u001b[1;32m----> 4\u001b[0m log_reg \u001b[38;5;241m=\u001b[39m \u001b[43msm\u001b[49m\u001b[38;5;241;43m.\u001b[39;49m\u001b[43mLogit\u001b[49m\u001b[43m(\u001b[49m\u001b[43my_train\u001b[49m\u001b[43m,\u001b[49m\u001b[43m \u001b[49m\u001b[43mX_train_with_intercept\u001b[49m\u001b[43m)\u001b[49m\u001b[38;5;241;43m.\u001b[39;49m\u001b[43mfit\u001b[49m\u001b[43m(\u001b[49m\u001b[43m)\u001b[49m\n\u001b[0;32m      6\u001b[0m odds_ratios \u001b[38;5;241m=\u001b[39m np\u001b[38;5;241m.\u001b[39mexp(log_reg\u001b[38;5;241m.\u001b[39mparams)\n\u001b[0;32m      7\u001b[0m conf_int \u001b[38;5;241m=\u001b[39m np\u001b[38;5;241m.\u001b[39mexp(log_reg\u001b[38;5;241m.\u001b[39mconf_int())\n",
      "File \u001b[1;32m~\\AppData\\Local\\Programs\\Python\\Python312\\Lib\\site-packages\\statsmodels\\discrete\\discrete_model.py:2601\u001b[0m, in \u001b[0;36mLogit.fit\u001b[1;34m(self, start_params, method, maxiter, full_output, disp, callback, **kwargs)\u001b[0m\n\u001b[0;32m   2598\u001b[0m \u001b[38;5;129m@Appender\u001b[39m(DiscreteModel\u001b[38;5;241m.\u001b[39mfit\u001b[38;5;241m.\u001b[39m\u001b[38;5;18m__doc__\u001b[39m)\n\u001b[0;32m   2599\u001b[0m \u001b[38;5;28;01mdef\u001b[39;00m \u001b[38;5;21mfit\u001b[39m(\u001b[38;5;28mself\u001b[39m, start_params\u001b[38;5;241m=\u001b[39m\u001b[38;5;28;01mNone\u001b[39;00m, method\u001b[38;5;241m=\u001b[39m\u001b[38;5;124m'\u001b[39m\u001b[38;5;124mnewton\u001b[39m\u001b[38;5;124m'\u001b[39m, maxiter\u001b[38;5;241m=\u001b[39m\u001b[38;5;241m35\u001b[39m,\n\u001b[0;32m   2600\u001b[0m         full_output\u001b[38;5;241m=\u001b[39m\u001b[38;5;241m1\u001b[39m, disp\u001b[38;5;241m=\u001b[39m\u001b[38;5;241m1\u001b[39m, callback\u001b[38;5;241m=\u001b[39m\u001b[38;5;28;01mNone\u001b[39;00m, \u001b[38;5;241m*\u001b[39m\u001b[38;5;241m*\u001b[39mkwargs):\n\u001b[1;32m-> 2601\u001b[0m     bnryfit \u001b[38;5;241m=\u001b[39m \u001b[38;5;28;43msuper\u001b[39;49m\u001b[43m(\u001b[49m\u001b[43m)\u001b[49m\u001b[38;5;241;43m.\u001b[39;49m\u001b[43mfit\u001b[49m\u001b[43m(\u001b[49m\u001b[43mstart_params\u001b[49m\u001b[38;5;241;43m=\u001b[39;49m\u001b[43mstart_params\u001b[49m\u001b[43m,\u001b[49m\n\u001b[0;32m   2602\u001b[0m \u001b[43m                          \u001b[49m\u001b[43mmethod\u001b[49m\u001b[38;5;241;43m=\u001b[39;49m\u001b[43mmethod\u001b[49m\u001b[43m,\u001b[49m\n\u001b[0;32m   2603\u001b[0m \u001b[43m                          \u001b[49m\u001b[43mmaxiter\u001b[49m\u001b[38;5;241;43m=\u001b[39;49m\u001b[43mmaxiter\u001b[49m\u001b[43m,\u001b[49m\n\u001b[0;32m   2604\u001b[0m \u001b[43m                          \u001b[49m\u001b[43mfull_output\u001b[49m\u001b[38;5;241;43m=\u001b[39;49m\u001b[43mfull_output\u001b[49m\u001b[43m,\u001b[49m\n\u001b[0;32m   2605\u001b[0m \u001b[43m                          \u001b[49m\u001b[43mdisp\u001b[49m\u001b[38;5;241;43m=\u001b[39;49m\u001b[43mdisp\u001b[49m\u001b[43m,\u001b[49m\n\u001b[0;32m   2606\u001b[0m \u001b[43m                          \u001b[49m\u001b[43mcallback\u001b[49m\u001b[38;5;241;43m=\u001b[39;49m\u001b[43mcallback\u001b[49m\u001b[43m,\u001b[49m\n\u001b[0;32m   2607\u001b[0m \u001b[43m                          \u001b[49m\u001b[38;5;241;43m*\u001b[39;49m\u001b[38;5;241;43m*\u001b[39;49m\u001b[43mkwargs\u001b[49m\u001b[43m)\u001b[49m\n\u001b[0;32m   2609\u001b[0m     discretefit \u001b[38;5;241m=\u001b[39m LogitResults(\u001b[38;5;28mself\u001b[39m, bnryfit)\n\u001b[0;32m   2610\u001b[0m     \u001b[38;5;28;01mreturn\u001b[39;00m BinaryResultsWrapper(discretefit)\n",
      "File \u001b[1;32m~\\AppData\\Local\\Programs\\Python\\Python312\\Lib\\site-packages\\statsmodels\\discrete\\discrete_model.py:243\u001b[0m, in \u001b[0;36mDiscreteModel.fit\u001b[1;34m(self, start_params, method, maxiter, full_output, disp, callback, **kwargs)\u001b[0m\n\u001b[0;32m    240\u001b[0m \u001b[38;5;28;01melse\u001b[39;00m:\n\u001b[0;32m    241\u001b[0m     \u001b[38;5;28;01mpass\u001b[39;00m  \u001b[38;5;66;03m# TODO: make a function factory to have multiple call-backs\u001b[39;00m\n\u001b[1;32m--> 243\u001b[0m mlefit \u001b[38;5;241m=\u001b[39m \u001b[38;5;28;43msuper\u001b[39;49m\u001b[43m(\u001b[49m\u001b[43m)\u001b[49m\u001b[38;5;241;43m.\u001b[39;49m\u001b[43mfit\u001b[49m\u001b[43m(\u001b[49m\u001b[43mstart_params\u001b[49m\u001b[38;5;241;43m=\u001b[39;49m\u001b[43mstart_params\u001b[49m\u001b[43m,\u001b[49m\n\u001b[0;32m    244\u001b[0m \u001b[43m                     \u001b[49m\u001b[43mmethod\u001b[49m\u001b[38;5;241;43m=\u001b[39;49m\u001b[43mmethod\u001b[49m\u001b[43m,\u001b[49m\n\u001b[0;32m    245\u001b[0m \u001b[43m                     \u001b[49m\u001b[43mmaxiter\u001b[49m\u001b[38;5;241;43m=\u001b[39;49m\u001b[43mmaxiter\u001b[49m\u001b[43m,\u001b[49m\n\u001b[0;32m    246\u001b[0m \u001b[43m                     \u001b[49m\u001b[43mfull_output\u001b[49m\u001b[38;5;241;43m=\u001b[39;49m\u001b[43mfull_output\u001b[49m\u001b[43m,\u001b[49m\n\u001b[0;32m    247\u001b[0m \u001b[43m                     \u001b[49m\u001b[43mdisp\u001b[49m\u001b[38;5;241;43m=\u001b[39;49m\u001b[43mdisp\u001b[49m\u001b[43m,\u001b[49m\n\u001b[0;32m    248\u001b[0m \u001b[43m                     \u001b[49m\u001b[43mcallback\u001b[49m\u001b[38;5;241;43m=\u001b[39;49m\u001b[43mcallback\u001b[49m\u001b[43m,\u001b[49m\n\u001b[0;32m    249\u001b[0m \u001b[43m                     \u001b[49m\u001b[38;5;241;43m*\u001b[39;49m\u001b[38;5;241;43m*\u001b[39;49m\u001b[43mkwargs\u001b[49m\u001b[43m)\u001b[49m\n\u001b[0;32m    251\u001b[0m \u001b[38;5;28;01mreturn\u001b[39;00m mlefit\n",
      "File \u001b[1;32m~\\AppData\\Local\\Programs\\Python\\Python312\\Lib\\site-packages\\statsmodels\\base\\model.py:582\u001b[0m, in \u001b[0;36mLikelihoodModel.fit\u001b[1;34m(self, start_params, method, maxiter, full_output, disp, fargs, callback, retall, skip_hessian, **kwargs)\u001b[0m\n\u001b[0;32m    580\u001b[0m     Hinv \u001b[38;5;241m=\u001b[39m cov_params_func(\u001b[38;5;28mself\u001b[39m, xopt, retvals)\n\u001b[0;32m    581\u001b[0m \u001b[38;5;28;01melif\u001b[39;00m method \u001b[38;5;241m==\u001b[39m \u001b[38;5;124m'\u001b[39m\u001b[38;5;124mnewton\u001b[39m\u001b[38;5;124m'\u001b[39m \u001b[38;5;129;01mand\u001b[39;00m full_output:\n\u001b[1;32m--> 582\u001b[0m     Hinv \u001b[38;5;241m=\u001b[39m \u001b[43mnp\u001b[49m\u001b[38;5;241;43m.\u001b[39;49m\u001b[43mlinalg\u001b[49m\u001b[38;5;241;43m.\u001b[39;49m\u001b[43minv\u001b[49m\u001b[43m(\u001b[49m\u001b[38;5;241;43m-\u001b[39;49m\u001b[43mretvals\u001b[49m\u001b[43m[\u001b[49m\u001b[38;5;124;43m'\u001b[39;49m\u001b[38;5;124;43mHessian\u001b[39;49m\u001b[38;5;124;43m'\u001b[39;49m\u001b[43m]\u001b[49m\u001b[43m)\u001b[49m \u001b[38;5;241m/\u001b[39m nobs\n\u001b[0;32m    583\u001b[0m \u001b[38;5;28;01melif\u001b[39;00m \u001b[38;5;129;01mnot\u001b[39;00m skip_hessian:\n\u001b[0;32m    584\u001b[0m     H \u001b[38;5;241m=\u001b[39m \u001b[38;5;241m-\u001b[39m\u001b[38;5;241m1\u001b[39m \u001b[38;5;241m*\u001b[39m \u001b[38;5;28mself\u001b[39m\u001b[38;5;241m.\u001b[39mhessian(xopt)\n",
      "File \u001b[1;32m~\\AppData\\Local\\Programs\\Python\\Python312\\Lib\\site-packages\\numpy\\linalg\\linalg.py:561\u001b[0m, in \u001b[0;36minv\u001b[1;34m(a)\u001b[0m\n\u001b[0;32m    559\u001b[0m signature \u001b[38;5;241m=\u001b[39m \u001b[38;5;124m'\u001b[39m\u001b[38;5;124mD->D\u001b[39m\u001b[38;5;124m'\u001b[39m \u001b[38;5;28;01mif\u001b[39;00m isComplexType(t) \u001b[38;5;28;01melse\u001b[39;00m \u001b[38;5;124m'\u001b[39m\u001b[38;5;124md->d\u001b[39m\u001b[38;5;124m'\u001b[39m\n\u001b[0;32m    560\u001b[0m extobj \u001b[38;5;241m=\u001b[39m get_linalg_error_extobj(_raise_linalgerror_singular)\n\u001b[1;32m--> 561\u001b[0m ainv \u001b[38;5;241m=\u001b[39m \u001b[43m_umath_linalg\u001b[49m\u001b[38;5;241;43m.\u001b[39;49m\u001b[43minv\u001b[49m\u001b[43m(\u001b[49m\u001b[43ma\u001b[49m\u001b[43m,\u001b[49m\u001b[43m \u001b[49m\u001b[43msignature\u001b[49m\u001b[38;5;241;43m=\u001b[39;49m\u001b[43msignature\u001b[49m\u001b[43m,\u001b[49m\u001b[43m \u001b[49m\u001b[43mextobj\u001b[49m\u001b[38;5;241;43m=\u001b[39;49m\u001b[43mextobj\u001b[49m\u001b[43m)\u001b[49m\n\u001b[0;32m    562\u001b[0m \u001b[38;5;28;01mreturn\u001b[39;00m wrap(ainv\u001b[38;5;241m.\u001b[39mastype(result_t, copy\u001b[38;5;241m=\u001b[39m\u001b[38;5;28;01mFalse\u001b[39;00m))\n",
      "File \u001b[1;32m~\\AppData\\Local\\Programs\\Python\\Python312\\Lib\\site-packages\\numpy\\linalg\\linalg.py:112\u001b[0m, in \u001b[0;36m_raise_linalgerror_singular\u001b[1;34m(err, flag)\u001b[0m\n\u001b[0;32m    111\u001b[0m \u001b[38;5;28;01mdef\u001b[39;00m \u001b[38;5;21m_raise_linalgerror_singular\u001b[39m(err, flag):\n\u001b[1;32m--> 112\u001b[0m     \u001b[38;5;28;01mraise\u001b[39;00m LinAlgError(\u001b[38;5;124m\"\u001b[39m\u001b[38;5;124mSingular matrix\u001b[39m\u001b[38;5;124m\"\u001b[39m)\n",
      "\u001b[1;31mLinAlgError\u001b[0m: Singular matrix"
     ]
    }
   ],
   "source": [
    "X_train_with_intercept = sm.add_constant(X_train)\n",
    "\n",
    "# Fit logistic regression model with intercept\\\n",
    "log_reg = sm.Logit(y_train, X_train_with_intercept).fit()\n",
    "\n",
    "odds_ratios = np.exp(log_reg.params)\n",
    "conf_int = np.exp(log_reg.conf_int())\n",
    "\n",
    "print(\"Odds Ratios:\")\n",
    "print(odds_ratios)\n",
    "print(\"\\nConfidence Intervals:\")\n",
    "print(conf_int)\n",
    "# Print summary\n",
    "print(log_reg.summary())"
   ]
  },
  {
   "cell_type": "code",
   "execution_count": null,
   "id": "dd0ad778-8684-4705-9601-424febe23a3b",
   "metadata": {},
   "outputs": [],
   "source": [
    "print(log_reg.summary())"
   ]
  },
  {
   "cell_type": "code",
   "execution_count": null,
   "id": "96e8e4d9-b757-46ed-b79f-2f8b9a3991f1",
   "metadata": {},
   "outputs": [],
   "source": [
    "log_reg.params"
   ]
  },
  {
   "cell_type": "code",
   "execution_count": null,
   "id": "476f4df4-bf20-4182-a73b-83db74df7e8f",
   "metadata": {},
   "outputs": [],
   "source": []
  },
  {
   "cell_type": "code",
   "execution_count": null,
   "id": "a2680dbe-2eb1-4092-a546-b5011d604d13",
   "metadata": {},
   "outputs": [],
   "source": []
  },
  {
   "cell_type": "markdown",
   "id": "d2405745-23c3-4423-adc3-47ebb53dec87",
   "metadata": {},
   "source": [
    "###logistic"
   ]
  },
  {
   "cell_type": "code",
   "execution_count": null,
   "id": "56b2f080-5d07-47b0-a99d-54f4557d3f9b",
   "metadata": {},
   "outputs": [],
   "source": [
    "data1=pd.read_csv(r\"C:\\Users\\USER\\Desktop\\Activity 2023-24\\Research Methodology (project)\\Statistical Analysis of Allopathic treatment on kidney stone (Responses) - Form Responses 1 (1).csv\")\n",
    "data1"
   ]
  },
  {
   "cell_type": "code",
   "execution_count": null,
   "id": "f92b4f2c-72f9-49af-aba5-5d05f4716677",
   "metadata": {},
   "outputs": [],
   "source": [
    "data1.columns"
   ]
  },
  {
   "cell_type": "code",
   "execution_count": null,
   "id": "39e5ece0-4a1f-404a-b221-cc756c37d8ec",
   "metadata": {},
   "outputs": [],
   "source": [
    "from statsmodels import *"
   ]
  },
  {
   "cell_type": "code",
   "execution_count": null,
   "id": "5db8b1f6-12bb-44e9-adf3-853b61ece341",
   "metadata": {},
   "outputs": [],
   "source": [
    "numeric_features = data.select_dtypes(include=['float64', 'int64']).columns.values\n",
    "print(numeric_features)\n",
    "category_features = data.select_dtypes(include=['object', 'bool']).columns.values\n",
    "#category_features = category_features[category_features != 'y']\n",
    "print(category_features)"
   ]
  },
  {
   "cell_type": "code",
   "execution_count": null,
   "id": "7eaf7d40-d203-4631-9ee8-9da3bca2f7e5",
   "metadata": {},
   "outputs": [],
   "source": [
    "# Import necessary libraries\n",
    "import pandas as pd\n",
    "from sklearn.model_selection import train_test_split\n",
    "from sklearn.linear_model import LogisticRegression\n",
    "from sklearn.metrics import accuracy_score, classification_report, confusion_matrix, roc_auc_score"
   ]
  },
  {
   "cell_type": "code",
   "execution_count": null,
   "id": "bf11bc75-7544-4e81-b17b-e8d2e6b609cc",
   "metadata": {},
   "outputs": [],
   "source": [
    "# Assuming you have a DataFrame 'df' with your data\n",
    "# Example data preparation (replace with your actual column names)\n",
    "X =data[['Gender ','Age ' ,'Occupation  ','Duration of treatment','Any side effect of treatment']]\n",
    "y =data[ 'Did the treatment successfully eliminate your kidney stones?']\n",
    "\n",
    "##Create dummy variables for categorical variable 'Gender'\n",
    "X = pd.get_dummies(X, columns=['Gender ','Age ' ,'Occupation  ','Duration of treatment','Any side effect of treatment'], drop_first=True)\n"
   ]
  },
  {
   "cell_type": "code",
   "execution_count": null,
   "id": "9e8ed943-b30f-442a-842d-3fcdba4aa6b8",
   "metadata": {},
   "outputs": [],
   "source": [
    "# Split the data into training and testing sets\n",
    "X_train, X_test, y_train, y_test = train_test_split(X, y, test_size=0.2, random_state=42)\n",
    "\n",
    "# Create and fit the logistic regression model\n",
    "model = LogisticRegression()\n",
    "model.fit(X_train, y_train)\n",
    "\n",
    "# Make predictions on the test set\n",
    "y_pred = model.predict(X_train)\n",
    "print(y_pred)\n",
    "# Evaluate performance\n",
    "print(\"Accuracy:\", accuracy_score(y_train, y_pred))\n",
    "print(\"Classification Report:\\n\", classification_report(y_train, y_pred))\n",
    "print(\"Confusion Matrix:\\n\", confusion_matrix(y_train, y_pred))\n",
    "print(\"ROC AUC Score:\", roc_auc_score(y_test, model.predict_proba(X_test)[:, 1]))"
   ]
  },
  {
   "cell_type": "code",
   "execution_count": null,
   "id": "832ca0e3-df57-4ef6-9983-9ad0314ff7a7",
   "metadata": {},
   "outputs": [],
   "source": [
    "from sklearn.linear_model import LogisticRegression\n",
    "from sklearn import metrics\n",
    "logreg = LogisticRegression()\n",
    "logreg.fit(X_train, y_train)"
   ]
  },
  {
   "cell_type": "code",
   "execution_count": null,
   "id": "9ac24840-a4b9-4467-852b-8cf071dbffb8",
   "metadata": {},
   "outputs": [],
   "source": [
    "y_pred = logreg.predict(X_test)\n",
    "print('Accuracy of logistic regression classifier on test set: {:.2f}'.format(logreg.score(X_test, y_test)))"
   ]
  },
  {
   "cell_type": "code",
   "execution_count": null,
   "id": "9cab6745-594f-4130-b509-440fe247dd1a",
   "metadata": {},
   "outputs": [],
   "source": [
    "#Cross validation \n",
    "from sklearn import model_selection\n",
    "from sklearn.model_selection import cross_val_score\n",
    "kfold = model_selection.KFold(n_splits=10, random_state=7,shuffle=True)\n",
    "modelCV = LogisticRegression()\n",
    "scoring = 'accuracy'\n",
    "results = model_selection.cross_val_score(modelCV, X_train, y_train, cv=kfold, scoring=scoring)\n",
    "print(\"10-fold cross validation average accuracy: %.3f\" % (results.mean()))"
   ]
  },
  {
   "cell_type": "code",
   "execution_count": null,
   "id": "1d67edbd-aaf7-4b41-aeeb-9a6c099adb80",
   "metadata": {},
   "outputs": [],
   "source": [
    "from sklearn.metrics import roc_auc_score, roc_curve\n",
    "import matplotlib.pyplot as plt\n",
    "import numpy as np\n",
    "from sklearn.preprocessing import LabelEncoder\n",
    "\n",
    "\n",
    "# Assuming you already have the model trained (replace 'model' with your actual model)\n",
    "# model = LogisticRegression()\n",
    "# model.fit(X_train, y_train)\n",
    "# Convert 'No' to 0 and 'Yes' to 1 in the target variable\n",
    "le = LabelEncoder()\n",
    "y_test_numeric = le.fit_transform(y_test)\n",
    "\n",
    "# Calculate ROC AUC score using predicted probabilities\n",
    "logit_roc_auc = roc_auc_score(y_test_numeric, model.predict_proba(X_test)[:, 1])\n",
    "fpr, tpr, thresholds = roc_curve(y_test_numeric, model.predict_proba(X_test)[:, 1])\n",
    "# Plot the ROC curve\n",
    "plt.figure(figsize=(8, 6))\n",
    "plt.plot(fpr, tpr, label='Logistic Regression (AUC = %0.2f)' % logit_roc_auc)\n",
    "plt.plot([0, 1], [0, 1], 'r--')\n",
    "plt.xlim([0.0, 1.0])\n",
    "plt.ylim([0.0, 1.05])\n",
    "plt.xlabel('False Positive Rate')\n",
    "plt.ylabel('True Positive Rate')\n",
    "plt.title('Receiver Operating Characteristic (ROC) Curve')\n",
    "plt.legend(loc='lower right')\n",
    "plt.show()"
   ]
  },
  {
   "cell_type": "code",
   "execution_count": null,
   "id": "78783ed9-c6e2-4c4a-9e09-5fe02acf13c1",
   "metadata": {},
   "outputs": [],
   "source": [
    "import statsmodels.api as sm"
   ]
  },
  {
   "cell_type": "code",
   "execution_count": null,
   "id": "eb4d5c13-cf8c-4bc6-a707-2c297c543acb",
   "metadata": {},
   "outputs": [],
   "source": [
    "y_train = y_train.replace({\"Yes\": 1, \"No\": 0})\n",
    "\n",
    "# Convert 'y_train' to numeric data type\n",
    "y_train = pd.to_numeric(y_train)"
   ]
  },
  {
   "cell_type": "code",
   "execution_count": null,
   "id": "03481884-054c-4efc-9770-832bde9db1b8",
   "metadata": {},
   "outputs": [],
   "source": [
    "####import pandas as pd\n",
    "\n",
    "# Convert 'X_train' to numeric data type\n",
    "X_train = X_train.astype(float)\n",
    "\n",
    "# Convert 'y_train' to numeric data type if it's not already\n",
    "####if y_train.dtype == 'object':\n",
    "y_train = pd.to_numeric(y_train)"
   ]
  },
  {
   "cell_type": "code",
   "execution_count": null,
   "id": "22104a0c-62d2-4051-9c49-a6d8cb16aa1b",
   "metadata": {},
   "outputs": [],
   "source": [
    "X_train_with_intercept = sm.add_constant(X_train)\n",
    "print(X.columns)\n",
    "\n",
    "print(X.columns)\n",
    "\n",
    "\n",
    "# Fit logistic regression model with intercept\n",
    "log_reg = sm.Logit(y_train, X_train).fit()\n",
    "\n",
    "odds_ratios = np.exp(log_reg.params)\n",
    "conf_int = np.exp(log_reg.conf_int())\n",
    "\n",
    "print(\"Odds Ratios:\")\n",
    "print(odds_ratios)\n",
    "print(\"\\nConfidence Intervals:\")\n",
    "print(conf_int)\n",
    "# Print summary\n",
    "print(log_reg.summary())"
   ]
  },
  {
   "cell_type": "code",
   "execution_count": null,
   "id": "ad3ab92e-23d1-4708-b341-c3716abc122d",
   "metadata": {},
   "outputs": [],
   "source": []
  },
  {
   "cell_type": "code",
   "execution_count": null,
   "id": "94441246-c950-4efe-a63e-83b5a892e6ec",
   "metadata": {},
   "outputs": [],
   "source": []
  },
  {
   "cell_type": "code",
   "execution_count": null,
   "id": "10a0ef86-927f-41fa-ab59-f3355a3ba95a",
   "metadata": {},
   "outputs": [],
   "source": []
  },
  {
   "cell_type": "code",
   "execution_count": null,
   "id": "f5677795-af33-4a60-83fb-e4b711100b48",
   "metadata": {},
   "outputs": [],
   "source": []
  },
  {
   "cell_type": "code",
   "execution_count": null,
   "id": "3f1503d5-02dc-4f21-b9ab-9df78909ef6d",
   "metadata": {},
   "outputs": [],
   "source": []
  },
  {
   "cell_type": "code",
   "execution_count": null,
   "id": "d960794a-3355-4bc8-8e96-5a93ae38f4fe",
   "metadata": {},
   "outputs": [],
   "source": []
  },
  {
   "cell_type": "code",
   "execution_count": null,
   "id": "12115828-733d-4f56-98ad-94724cefd19d",
   "metadata": {},
   "outputs": [],
   "source": []
  },
  {
   "cell_type": "code",
   "execution_count": null,
   "id": "b0f5eb7a-cd27-4f03-a55e-b89262ec84b0",
   "metadata": {},
   "outputs": [],
   "source": [
    "categories = np.array(['Yes', 'No'])\n",
    "percentages = np.array([[50.94,66.67],[49.06,33.33]])\n",
    "categories = categories.tolist()\n",
    "percentages = percentages.tolist()\n",
    "plt.bar(categories, percentages[0], color='blue', label='female')\n",
    "plt.bar(categories, percentages[1], color='orange', bottom=percentages[0], label='male')\n",
    "plt.xlabel('Categories')\n",
    "plt.ylabel('Percentage')\n",
    "plt.title('Stacked Bar Percentage')\n",
    "plt.legend()\n",
    "plt.show()"
   ]
  },
  {
   "cell_type": "code",
   "execution_count": null,
   "id": "2c999e95-ae86-41aa-87fe-1b25da2aa1ab",
   "metadata": {},
   "outputs": [],
   "source": [
    "## Check normality \n",
    "from scipy import stats\n",
    "\n",
    "column_data = data['How would you rate your overall well-being before the treatment?']\n",
    "stat, p_value = stats.shapiro(column_data)\n",
    "print(f'Statistic: {stat}, p-value: {p_value}')\n",
    "alpha = 0.05\n",
    "if p_value < alpha:\n",
    "    print(\"Reject the null hypothesis (not normal)\")\n",
    "else:\n",
    "    print(\"Fail to reject the null hypothesis (normal)\")\n"
   ]
  },
  {
   "cell_type": "code",
   "execution_count": null,
   "id": "58725e48-5e25-49a3-9e16-9d250a5ff245",
   "metadata": {},
   "outputs": [],
   "source": [
    "difference=data['How would you rate your overall well-being after the treatment?']\n",
    "shapiro_statistic, shapiro_p_value = stats.shapiro(difference)\n",
    "\n",
    "# Print results\n",
    "print(\"Shapiro-Wilk test results:\")\n",
    "print(\"Test Statistic:\", shapiro_statistic)\n",
    "print(\"P-value:\", shapiro_p_value)"
   ]
  },
  {
   "cell_type": "code",
   "execution_count": null,
   "id": "5b7971b3-398e-479e-8f3c-aa0f9fc6cd05",
   "metadata": {},
   "outputs": [],
   "source": [
    "## t- test\n",
    "group_1=data['How would you rate your overall well-being before the treatment?']\n",
    "group_2=data['How would you rate your overall well-being after the treatment?']"
   ]
  },
  {
   "cell_type": "code",
   "execution_count": null,
   "id": "e194e1dc-f774-4721-a342-7e4a09381686",
   "metadata": {},
   "outputs": [],
   "source": [
    "print(np.var(group_1),np.var(group_2))"
   ]
  },
  {
   "cell_type": "code",
   "execution_count": null,
   "id": "c7fec26e-791f-426b-8661-a94a7286df40",
   "metadata": {},
   "outputs": [],
   "source": [
    "t_statistic, p_value = stats.ttest_ind(group_1, group_2)\n",
    "\n",
    "# Print results\n",
    "print(\"Independent Samples t-test results:\")\n",
    "print(\"T-statistic:\", t_statistic)\n",
    "print(\"P-value:\", p_value)"
   ]
  },
  {
   "cell_type": "markdown",
   "id": "609231ab-298b-4277-adc6-78959c650917",
   "metadata": {},
   "source": [
    "### logestic regression"
   ]
  },
  {
   "cell_type": "code",
   "execution_count": null,
   "id": "20208f3f-dd09-4b7b-91cd-47c968f858e4",
   "metadata": {},
   "outputs": [],
   "source": [
    "count_result=data['Did the treatment successfully eliminate your kidney stones?'].value_counts()\n",
    "print(count_result)"
   ]
  },
  {
   "cell_type": "markdown",
   "id": "b5c32411-3f7b-48ca-b398-771c1bb2d51d",
   "metadata": {},
   "source": [
    "dummies = pd.get_dummies(data['Gender '])\r\n",
    "\r\n",
    "print(dummies)"
   ]
  },
  {
   "cell_type": "code",
   "execution_count": null,
   "id": "9948bb01-1d31-4fce-8ea1-0b5edf2a2db3",
   "metadata": {},
   "outputs": [],
   "source": [
    "data.isnull().sum()"
   ]
  },
  {
   "cell_type": "code",
   "execution_count": null,
   "id": "d411b25b-db13-408c-8d26-3c0cb9e536ab",
   "metadata": {},
   "outputs": [],
   "source": [
    "numeric_features = data.select_dtypes(include=['float64', 'int64']).columns.values\n",
    "print(numeric_features)\n",
    "category_features = data.select_dtypes(include=['object', 'bool']).columns.values\n",
    "#category_features = category_features[category_features != 'y']\n",
    "print(category_features)"
   ]
  },
  {
   "cell_type": "code",
   "execution_count": null,
   "id": "7eea745b-0cbe-42ac-9dbb-f7af1d5a5359",
   "metadata": {},
   "outputs": [],
   "source": [
    "category_features = data.select_dtypes(include=['object', 'bool']).columns.values\n",
    "for col in category_features:\n",
    "    print(col, \"(\", len(data[col].unique()) , \"values):\\n\", np.sort(data[col].unique()))"
   ]
  },
  {
   "cell_type": "code",
   "execution_count": null,
   "id": "57a176a3-6209-484a-b360-e49d683f8254",
   "metadata": {},
   "outputs": [],
   "source": [
    "for col in category_features:\n",
    "    print(f\"{col} \\n{20 * '-'}\")    \n",
    "    print(data[col].value_counts(), \"\\n\")\n",
    "    \n",
    "print(data.nunique(axis=1))"
   ]
  },
  {
   "cell_type": "code",
   "execution_count": null,
   "id": "20798d98-addf-4a70-b0b4-6f738926fef5",
   "metadata": {},
   "outputs": [],
   "source": [
    "df = pd.get_dummies(data['Gender '])\n",
    "df"
   ]
  },
  {
   "cell_type": "code",
   "execution_count": null,
   "id": "867070ec-24e1-466a-a36d-25b79d98b581",
   "metadata": {},
   "outputs": [],
   "source": [
    "Age1=pd.get_dummies(data[ 'Age '])\n",
    "Age1.head(5)"
   ]
  },
  {
   "cell_type": "code",
   "execution_count": null,
   "id": "9f7e760c-aab4-441a-94e0-1472d2c73849",
   "metadata": {},
   "outputs": [],
   "source": [
    "Occupation=pd.get_dummies(data['Occupation  '])\n",
    "df.head()"
   ]
  },
  {
   "cell_type": "code",
   "execution_count": null,
   "id": "e6c77e24-23f8-4941-bfc7-848b9c767e64",
   "metadata": {},
   "outputs": [],
   "source": [
    "df = pd.get_dummies(data['Duration of treatment'])\n",
    "df.head()"
   ]
  },
  {
   "cell_type": "code",
   "execution_count": null,
   "id": "ace1f8a6-e228-423f-bddc-75a90c1a94f9",
   "metadata": {},
   "outputs": [],
   "source": [
    "Occupation=pd.get_dummies(data['Occupation  '],drop_first=True)\n",
    "Occupation.head(5)"
   ]
  },
  {
   "cell_type": "code",
   "execution_count": null,
   "id": "42b0aa68-4cbd-4fa1-8f30-f5ba8d245205",
   "metadata": {},
   "outputs": [],
   "source": [
    "data1=pd.concat([Age1, Occupation],axis=1)\n",
    "data1.head()"
   ]
  },
  {
   "cell_type": "code",
   "execution_count": null,
   "id": "20e51f45-7e7a-44c9-a0c3-9260fb02e751",
   "metadata": {},
   "outputs": [],
   "source": [
    "data2 = pd.concat([data,data1],axis = 1)\n",
    "data2.head()"
   ]
  },
  {
   "cell_type": "code",
   "execution_count": null,
   "id": "b3443a27-d57d-4e2e-99cb-a3af922493fb",
   "metadata": {},
   "outputs": [],
   "source": [
    "data2.columns\n"
   ]
  },
  {
   "cell_type": "code",
   "execution_count": null,
   "id": "e56cd22c-458f-4c69-9bf0-6cf34e32a96e",
   "metadata": {},
   "outputs": [],
   "source": [
    "from sklearn.linear_model import LogisticRegression\n",
    "from sklearn.model_selection import train_test_split\n",
    "from sklearn.preprocessing import OrdinalEncoder\n",
    "from sklearn.preprocessing import OneHotEncoder\n",
    "from sklearn.preprocessing import LabelEncoder\n",
    "from sklearn.compose import ColumnTransformer\n",
    "from sklearn.pipeline import Pipeline\n",
    "from sklearn.impute import SimpleImputer\n",
    "from collections import Counter\n",
    "\n",
    "from sklearn.metrics import accuracy_score, confusion_matrix, classification_report\n",
    "from sklearn.metrics import accuracy_score, confusion_matrix, classification_report"
   ]
  },
  {
   "cell_type": "code",
   "execution_count": null,
   "id": "b20411e9-8f1b-4332-bf32-58d9b2f47889",
   "metadata": {},
   "outputs": [],
   "source": [
    "X=data2.drop(['Did the treatment successfully eliminate your kidney stones?'],axis=1)\n",
    "y=data2['Did the treatment successfully eliminate your kidney stones?']"
   ]
  },
  {
   "cell_type": "code",
   "execution_count": null,
   "id": "598a25d3-06d7-4bf1-ae94-9a8a2e0c2aca",
   "metadata": {},
   "outputs": [],
   "source": [
    "X_train, X_test, y_train, y_test= train_test_split(X,y, test_size=0.2, random_state=42)"
   ]
  },
  {
   "cell_type": "code",
   "execution_count": null,
   "id": "c9037b90-c6b5-46a9-b551-a3ac87a725fc",
   "metadata": {},
   "outputs": [],
   "source": [
    "print(X_train.shape)\n",
    "print(X_test.shape)"
   ]
  },
  {
   "cell_type": "code",
   "execution_count": null,
   "id": "5e8ade1b-d084-4b1f-90fd-573bbb8d99d2",
   "metadata": {},
   "outputs": [],
   "source": [
    "df_encoded = pd.get_dummies(df, columns=['Gender'])"
   ]
  },
  {
   "cell_type": "code",
   "execution_count": null,
   "id": "ea05171c-4f35-44f6-99ea-dcfdef48a222",
   "metadata": {},
   "outputs": [],
   "source": [
    "from sklearn.linear_model import LogisticRegression\n",
    "from sklearn import metrics\n",
    "logreg = LogisticRegression()\n",
    "logreg.fit(X_train, y_train)"
   ]
  },
  {
   "cell_type": "code",
   "execution_count": null,
   "id": "79a299ac-44bc-4f75-b7d6-192499ae9500",
   "metadata": {},
   "outputs": [],
   "source": []
  },
  {
   "cell_type": "code",
   "execution_count": null,
   "id": "e7c576df-f3be-440b-b993-f88521641f6e",
   "metadata": {},
   "outputs": [],
   "source": []
  },
  {
   "cell_type": "code",
   "execution_count": null,
   "id": "1aaa2330-0b05-4f29-a145-049279020525",
   "metadata": {},
   "outputs": [],
   "source": []
  },
  {
   "cell_type": "code",
   "execution_count": null,
   "id": "c733eb3b-639f-4361-88ef-29fbe436072e",
   "metadata": {},
   "outputs": [],
   "source": []
  },
  {
   "cell_type": "code",
   "execution_count": null,
   "id": "999de813-096c-4dce-81a5-fe770ee1dde4",
   "metadata": {},
   "outputs": [],
   "source": []
  },
  {
   "cell_type": "code",
   "execution_count": null,
   "id": "14a0daf5-7d31-40fc-8c24-93b5ef5dc778",
   "metadata": {},
   "outputs": [],
   "source": []
  },
  {
   "cell_type": "code",
   "execution_count": null,
   "id": "c3a0738d-d474-4ba4-9629-aa13af0bfacb",
   "metadata": {},
   "outputs": [],
   "source": [
    "log_reg.params"
   ]
  },
  {
   "cell_type": "code",
   "execution_count": null,
   "id": "81467190-645f-4b15-a678-a324b73628b2",
   "metadata": {},
   "outputs": [],
   "source": []
  },
  {
   "cell_type": "code",
   "execution_count": null,
   "id": "a05169f6-1372-4e42-a675-a00ed831e888",
   "metadata": {},
   "outputs": [],
   "source": []
  },
  {
   "cell_type": "code",
   "execution_count": null,
   "id": "e8b8b237-8ee6-40c1-bffd-d1ec8d897528",
   "metadata": {},
   "outputs": [],
   "source": []
  },
  {
   "cell_type": "code",
   "execution_count": null,
   "id": "aa15eeb9-cfff-47a0-b2a8-f9bbbd11c71d",
   "metadata": {},
   "outputs": [],
   "source": []
  },
  {
   "cell_type": "code",
   "execution_count": null,
   "id": "fdfeb397-3532-4830-9e25-19d4664ac429",
   "metadata": {},
   "outputs": [],
   "source": []
  },
  {
   "cell_type": "code",
   "execution_count": null,
   "id": "2bfcaafc-82d6-46dd-89a9-45ae5abde683",
   "metadata": {},
   "outputs": [],
   "source": []
  },
  {
   "cell_type": "code",
   "execution_count": null,
   "id": "34f97a9c-ee42-482b-883d-60097637c937",
   "metadata": {},
   "outputs": [],
   "source": []
  },
  {
   "cell_type": "code",
   "execution_count": null,
   "id": "a7461769-a4e2-4f52-86aa-fec83f6ba5ab",
   "metadata": {},
   "outputs": [],
   "source": []
  }
 ],
 "metadata": {
  "kernelspec": {
   "display_name": "Python 3 (ipykernel)",
   "language": "python",
   "name": "python3"
  },
  "language_info": {
   "codemirror_mode": {
    "name": "ipython",
    "version": 3
   },
   "file_extension": ".py",
   "mimetype": "text/x-python",
   "name": "python",
   "nbconvert_exporter": "python",
   "pygments_lexer": "ipython3",
   "version": "3.12.0"
  },
  "widgets": {
   "application/vnd.jupyter.widget-state+json": {
    "state": {},
    "version_major": 2,
    "version_minor": 0
   }
  }
 },
 "nbformat": 4,
 "nbformat_minor": 5
}
